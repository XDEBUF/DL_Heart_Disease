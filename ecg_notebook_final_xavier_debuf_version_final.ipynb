{
 "cells": [
  {
   "cell_type": "markdown",
   "metadata": {
    "colab_type": "text",
    "id": "view-in-github"
   },
   "source": [
    "<a href=\"https://colab.research.google.com/github/XavierDebuf/DL_Heart_Disease/blob/main/ecg_notebook_final_xavier_debuf_version_final.ipynb\" target=\"_parent\"><img src=\"https://colab.research.google.com/assets/colab-badge.svg\" alt=\"Open In Colab\"/></a>"
   ]
  },
  {
   "cell_type": "code",
   "execution_count": 1,
   "metadata": {
    "id": "3sFCsq40xrgC",
    "ExecuteTime": {
     "end_time": "2024-03-14T20:03:21.873936Z",
     "start_time": "2024-03-14T20:03:19.352196Z"
    }
   },
   "outputs": [],
   "source": [
    "import pandas as pd\n",
    "from scipy import signal\n",
    "import numpy as np\n",
    "from sklearn.metrics import classification_report\n",
    "from imblearn.over_sampling import SMOTE\n",
    "from imblearn.metrics import classification_report_imbalanced, geometric_mean_score"
   ]
  },
  {
   "cell_type": "code",
   "execution_count": 2,
   "metadata": {
    "id": "rv_KlIzj59Ez",
    "ExecuteTime": {
     "end_time": "2024-03-14T20:03:27.302646Z",
     "start_time": "2024-03-14T20:03:21.882484Z"
    }
   },
   "outputs": [],
   "source": [
    "ptbdb_normal = pd.read_csv('./ecg/ptbdb_normal.csv',header=None)\n",
    "ptbdb_abnormal = pd.read_csv('./ecg/ptbdb_abnormal.csv',header=None)\n",
    "mitbih_test = pd.read_csv('./ecg/mitbih_test.csv',header=None)\n",
    "mitbih_train = pd.read_csv('./ecg/mitbih_train.csv',header=None)"
   ]
  },
  {
   "cell_type": "code",
   "execution_count": 3,
   "metadata": {
    "ExecuteTime": {
     "end_time": "2024-03-14T20:03:27.330461Z",
     "start_time": "2024-03-14T20:03:27.305064Z"
    }
   },
   "outputs": [
    {
     "data": {
      "text/plain": "0"
     },
     "execution_count": 3,
     "metadata": {},
     "output_type": "execute_result"
    }
   ],
   "source": [
    "import matplotlib.pyplot as plt\n",
    "import seaborn as sns\n",
    "\n",
    "df1=ptbdb_normal\n",
    "df2=ptbdb_abnormal\n",
    "\n",
    "\n",
    "df_i=pd.concat([df1,df2],ignore_index=True,sort=False)\n",
    "df_i.isnull().sum().sum()"
   ]
  },
  {
   "cell_type": "code",
   "execution_count": 4,
   "metadata": {
    "ExecuteTime": {
     "end_time": "2024-03-14T20:03:27.433221Z",
     "start_time": "2024-03-14T20:03:27.332070Z"
    }
   },
   "outputs": [
    {
     "data": {
      "text/plain": "0"
     },
     "execution_count": 4,
     "metadata": {},
     "output_type": "execute_result"
    }
   ],
   "source": [
    "import matplotlib.pyplot as plt\n",
    "import seaborn as sns\n",
    "\n",
    "df1=mitbih_test\n",
    "df2=mitbih_train\n",
    "\n",
    "\n",
    "df_a=pd.concat([df1,df2],ignore_index=True,sort=False)\n",
    "df_a.isnull().sum().sum()"
   ]
  },
  {
   "cell_type": "markdown",
   "metadata": {
    "id": "OAsShN1txx51"
   },
   "source": [
    "# MACHINE LEARNING"
   ]
  },
  {
   "cell_type": "code",
   "execution_count": 5,
   "metadata": {
    "id": "zMO_Wj087Rpa",
    "ExecuteTime": {
     "end_time": "2024-03-14T20:03:27.441887Z",
     "start_time": "2024-03-14T20:03:27.435121Z"
    }
   },
   "outputs": [],
   "source": [
    "X=df_a.iloc[:,:-1]\n",
    "y=df_a.iloc[:,-1]\n",
    "from sklearn.model_selection import train_test_split,cross_val_score\n",
    "from sklearn.linear_model import LogisticRegression\n",
    "from sklearn.ensemble import RandomForestClassifier\n",
    "from sklearn.svm import SVC\n",
    "from sklearn.metrics import classification_report,accuracy_score,confusion_matrix"
   ]
  },
  {
   "cell_type": "code",
   "execution_count": 6,
   "metadata": {
    "ExecuteTime": {
     "end_time": "2024-03-14T20:03:33.448124Z",
     "start_time": "2024-03-14T20:03:27.443405Z"
    }
   },
   "outputs": [
    {
     "data": {
      "text/plain": "187\n0.0    90589\n1.0    90589\n2.0    90589\n3.0    90589\n4.0    90589\nName: count, dtype: int64"
     },
     "execution_count": 6,
     "metadata": {},
     "output_type": "execute_result"
    }
   ],
   "source": [
    "import imblearn\n",
    "from imblearn.over_sampling import SMOTE\n",
    "\n",
    "# oversampling\n",
    "smote=SMOTE()\n",
    "X_oversampled,y_oversampled=smote.fit_resample(X,y)\n",
    "y_oversampled.value_counts()"
   ]
  },
  {
   "cell_type": "code",
   "execution_count": 7,
   "metadata": {
    "ExecuteTime": {
     "end_time": "2024-03-14T20:03:34.859157Z",
     "start_time": "2024-03-14T20:03:33.452377Z"
    }
   },
   "outputs": [],
   "source": [
    "\n",
    "X_train, X_test, y_train, y_test = train_test_split(X_oversampled, y_oversampled, test_size=0.25, random_state=28)"
   ]
  },
  {
   "cell_type": "markdown",
   "metadata": {
    "id": "prvcf-sXx1xu"
   },
   "source": [
    "# regression logistique"
   ]
  },
  {
   "cell_type": "markdown",
   "metadata": {
    "id": "Olz7BSTw9a6N"
   },
   "source": [
    "## Anomalie cardiaque"
   ]
  },
  {
   "cell_type": "code",
   "execution_count": 8,
   "metadata": {
    "colab": {
     "base_uri": "https://localhost:8080/"
    },
    "id": "_waPNsk5yDCv",
    "outputId": "4fad257c-2873-4cf0-dfb9-58a39c084b67",
    "ExecuteTime": {
     "end_time": "2024-03-14T20:04:19.333645Z",
     "start_time": "2024-03-14T20:03:34.860694Z"
    }
   },
   "outputs": [
    {
     "name": "stderr",
     "output_type": "stream",
     "text": [
      "/home/blackswan/anaconda3/lib/python3.11/site-packages/sklearn/linear_model/_logistic.py:458: ConvergenceWarning: lbfgs failed to converge (status=1):\n",
      "STOP: TOTAL NO. of ITERATIONS REACHED LIMIT.\n",
      "\n",
      "Increase the number of iterations (max_iter) or scale the data as shown in:\n",
      "    https://scikit-learn.org/stable/modules/preprocessing.html\n",
      "Please also refer to the documentation for alternative solver options:\n",
      "    https://scikit-learn.org/stable/modules/linear_model.html#logistic-regression\n",
      "  n_iter_i = _check_optimize_result(\n"
     ]
    },
    {
     "data": {
      "text/plain": "LogisticRegression()",
      "text/html": "<style>#sk-container-id-1 {color: black;background-color: white;}#sk-container-id-1 pre{padding: 0;}#sk-container-id-1 div.sk-toggleable {background-color: white;}#sk-container-id-1 label.sk-toggleable__label {cursor: pointer;display: block;width: 100%;margin-bottom: 0;padding: 0.3em;box-sizing: border-box;text-align: center;}#sk-container-id-1 label.sk-toggleable__label-arrow:before {content: \"▸\";float: left;margin-right: 0.25em;color: #696969;}#sk-container-id-1 label.sk-toggleable__label-arrow:hover:before {color: black;}#sk-container-id-1 div.sk-estimator:hover label.sk-toggleable__label-arrow:before {color: black;}#sk-container-id-1 div.sk-toggleable__content {max-height: 0;max-width: 0;overflow: hidden;text-align: left;background-color: #f0f8ff;}#sk-container-id-1 div.sk-toggleable__content pre {margin: 0.2em;color: black;border-radius: 0.25em;background-color: #f0f8ff;}#sk-container-id-1 input.sk-toggleable__control:checked~div.sk-toggleable__content {max-height: 200px;max-width: 100%;overflow: auto;}#sk-container-id-1 input.sk-toggleable__control:checked~label.sk-toggleable__label-arrow:before {content: \"▾\";}#sk-container-id-1 div.sk-estimator input.sk-toggleable__control:checked~label.sk-toggleable__label {background-color: #d4ebff;}#sk-container-id-1 div.sk-label input.sk-toggleable__control:checked~label.sk-toggleable__label {background-color: #d4ebff;}#sk-container-id-1 input.sk-hidden--visually {border: 0;clip: rect(1px 1px 1px 1px);clip: rect(1px, 1px, 1px, 1px);height: 1px;margin: -1px;overflow: hidden;padding: 0;position: absolute;width: 1px;}#sk-container-id-1 div.sk-estimator {font-family: monospace;background-color: #f0f8ff;border: 1px dotted black;border-radius: 0.25em;box-sizing: border-box;margin-bottom: 0.5em;}#sk-container-id-1 div.sk-estimator:hover {background-color: #d4ebff;}#sk-container-id-1 div.sk-parallel-item::after {content: \"\";width: 100%;border-bottom: 1px solid gray;flex-grow: 1;}#sk-container-id-1 div.sk-label:hover label.sk-toggleable__label {background-color: #d4ebff;}#sk-container-id-1 div.sk-serial::before {content: \"\";position: absolute;border-left: 1px solid gray;box-sizing: border-box;top: 0;bottom: 0;left: 50%;z-index: 0;}#sk-container-id-1 div.sk-serial {display: flex;flex-direction: column;align-items: center;background-color: white;padding-right: 0.2em;padding-left: 0.2em;position: relative;}#sk-container-id-1 div.sk-item {position: relative;z-index: 1;}#sk-container-id-1 div.sk-parallel {display: flex;align-items: stretch;justify-content: center;background-color: white;position: relative;}#sk-container-id-1 div.sk-item::before, #sk-container-id-1 div.sk-parallel-item::before {content: \"\";position: absolute;border-left: 1px solid gray;box-sizing: border-box;top: 0;bottom: 0;left: 50%;z-index: -1;}#sk-container-id-1 div.sk-parallel-item {display: flex;flex-direction: column;z-index: 1;position: relative;background-color: white;}#sk-container-id-1 div.sk-parallel-item:first-child::after {align-self: flex-end;width: 50%;}#sk-container-id-1 div.sk-parallel-item:last-child::after {align-self: flex-start;width: 50%;}#sk-container-id-1 div.sk-parallel-item:only-child::after {width: 0;}#sk-container-id-1 div.sk-dashed-wrapped {border: 1px dashed gray;margin: 0 0.4em 0.5em 0.4em;box-sizing: border-box;padding-bottom: 0.4em;background-color: white;}#sk-container-id-1 div.sk-label label {font-family: monospace;font-weight: bold;display: inline-block;line-height: 1.2em;}#sk-container-id-1 div.sk-label-container {text-align: center;}#sk-container-id-1 div.sk-container {/* jupyter's `normalize.less` sets `[hidden] { display: none; }` but bootstrap.min.css set `[hidden] { display: none !important; }` so we also need the `!important` here to be able to override the default hidden behavior on the sphinx rendered scikit-learn.org. See: https://github.com/scikit-learn/scikit-learn/issues/21755 */display: inline-block !important;position: relative;}#sk-container-id-1 div.sk-text-repr-fallback {display: none;}</style><div id=\"sk-container-id-1\" class=\"sk-top-container\"><div class=\"sk-text-repr-fallback\"><pre>LogisticRegression()</pre><b>In a Jupyter environment, please rerun this cell to show the HTML representation or trust the notebook. <br />On GitHub, the HTML representation is unable to render, please try loading this page with nbviewer.org.</b></div><div class=\"sk-container\" hidden><div class=\"sk-item\"><div class=\"sk-estimator sk-toggleable\"><input class=\"sk-toggleable__control sk-hidden--visually\" id=\"sk-estimator-id-1\" type=\"checkbox\" checked><label for=\"sk-estimator-id-1\" class=\"sk-toggleable__label sk-toggleable__label-arrow\">LogisticRegression</label><div class=\"sk-toggleable__content\"><pre>LogisticRegression()</pre></div></div></div></div></div>"
     },
     "execution_count": 8,
     "metadata": {},
     "output_type": "execute_result"
    }
   ],
   "source": [
    "lr=LogisticRegression()\n",
    "lr.fit(X_train, y_train)"
   ]
  },
  {
   "cell_type": "code",
   "execution_count": 9,
   "metadata": {
    "id": "fyadeHIH7kwm",
    "ExecuteTime": {
     "end_time": "2024-03-14T20:04:19.587433Z",
     "start_time": "2024-03-14T20:04:19.337827Z"
    }
   },
   "outputs": [],
   "source": [
    "y_pred=lr.predict(X_test)"
   ]
  },
  {
   "cell_type": "code",
   "execution_count": 10,
   "metadata": {
    "colab": {
     "base_uri": "https://localhost:8080/"
    },
    "id": "QRHxJnDM7ocp",
    "outputId": "614eef38-7388-4dd4-dc69-87d91cbbb5ac",
    "ExecuteTime": {
     "end_time": "2024-03-14T20:04:19.791194Z",
     "start_time": "2024-03-14T20:04:19.592404Z"
    }
   },
   "outputs": [
    {
     "data": {
      "text/plain": "0.7819970504340454"
     },
     "execution_count": 10,
     "metadata": {},
     "output_type": "execute_result"
    }
   ],
   "source": [
    "lr.score(X_test,y_test)"
   ]
  },
  {
   "cell_type": "code",
   "execution_count": 11,
   "metadata": {
    "colab": {
     "base_uri": "https://localhost:8080/"
    },
    "id": "NP9pMcKr7t3T",
    "outputId": "afe3f067-3dd1-414d-f269-bc724d39c116",
    "ExecuteTime": {
     "end_time": "2024-03-14T20:04:20.179301Z",
     "start_time": "2024-03-14T20:04:19.794273Z"
    }
   },
   "outputs": [
    {
     "name": "stdout",
     "output_type": "stream",
     "text": [
      "              precision    recall  f1-score   support\n",
      "\n",
      "         0.0       0.62      0.63      0.62     22797\n",
      "         1.0       0.81      0.72      0.76     22746\n",
      "         2.0       0.73      0.77      0.75     22554\n",
      "         3.0       0.83      0.87      0.85     22418\n",
      "         4.0       0.93      0.92      0.92     22722\n",
      "\n",
      "    accuracy                           0.78    113237\n",
      "   macro avg       0.78      0.78      0.78    113237\n",
      "weighted avg       0.78      0.78      0.78    113237\n"
     ]
    }
   ],
   "source": [
    "print(classification_report(y_test, y_pred))"
   ]
  },
  {
   "cell_type": "code",
   "execution_count": 11,
   "metadata": {
    "colab": {
     "base_uri": "https://localhost:8080/"
    },
    "id": "mcsj0upg7w_D",
    "outputId": "4997e796-6822-4ed2-9768-388474179791",
    "ExecuteTime": {
     "end_time": "2024-03-14T20:04:20.187152Z",
     "start_time": "2024-03-14T20:04:20.183002Z"
    }
   },
   "outputs": [],
   "source": []
  },
  {
   "cell_type": "markdown",
   "metadata": {
    "id": "8Fo2MXVE8MJ5"
   },
   "source": [
    "### Infarctus du myocarde"
   ]
  },
  {
   "cell_type": "code",
   "execution_count": 12,
   "metadata": {
    "id": "6Cl33jQ58lKa",
    "ExecuteTime": {
     "end_time": "2024-03-14T20:04:20.209929Z",
     "start_time": "2024-03-14T20:04:20.189888Z"
    }
   },
   "outputs": [],
   "source": [
    "X=df_i.iloc[:,:-1]\n",
    "y=df_i.iloc[:,-1]\n",
    "from sklearn.model_selection import train_test_split,cross_val_score\n",
    "from sklearn.linear_model import LogisticRegression\n",
    "from sklearn.ensemble import RandomForestClassifier\n",
    "from sklearn.svm import SVC\n",
    "from sklearn.metrics import classification_report,accuracy_score,confusion_matrix"
   ]
  },
  {
   "cell_type": "code",
   "execution_count": 13,
   "metadata": {
    "id": "vhecABmblCQ7",
    "ExecuteTime": {
     "end_time": "2024-03-14T20:04:20.787068Z",
     "start_time": "2024-03-14T20:04:20.214064Z"
    }
   },
   "outputs": [
    {
     "data": {
      "text/plain": "187\n0.0    10506\n1.0    10506\nName: count, dtype: int64"
     },
     "execution_count": 13,
     "metadata": {},
     "output_type": "execute_result"
    }
   ],
   "source": [
    "import imblearn\n",
    "from imblearn.over_sampling import SMOTE\n",
    "\n",
    "# oversampling\n",
    "smote=SMOTE()\n",
    "X_oversampled,y_oversampled=smote.fit_resample(X,y)\n",
    "y_oversampled.value_counts()"
   ]
  },
  {
   "cell_type": "code",
   "execution_count": 14,
   "metadata": {
    "ExecuteTime": {
     "end_time": "2024-03-14T20:04:20.931669Z",
     "start_time": "2024-03-14T20:04:20.790842Z"
    }
   },
   "outputs": [],
   "source": [
    "X_train, X_test, y_train, y_test = train_test_split(X_oversampled, y_oversampled, test_size=0.25, random_state=28)"
   ]
  },
  {
   "cell_type": "code",
   "execution_count": 15,
   "metadata": {
    "id": "tZtZgCZF8oEL",
    "ExecuteTime": {
     "end_time": "2024-03-14T20:04:22.334237Z",
     "start_time": "2024-03-14T20:04:20.935692Z"
    }
   },
   "outputs": [
    {
     "name": "stderr",
     "output_type": "stream",
     "text": [
      "/home/blackswan/anaconda3/lib/python3.11/site-packages/sklearn/linear_model/_logistic.py:458: ConvergenceWarning: lbfgs failed to converge (status=1):\n",
      "STOP: TOTAL NO. of ITERATIONS REACHED LIMIT.\n",
      "\n",
      "Increase the number of iterations (max_iter) or scale the data as shown in:\n",
      "    https://scikit-learn.org/stable/modules/preprocessing.html\n",
      "Please also refer to the documentation for alternative solver options:\n",
      "    https://scikit-learn.org/stable/modules/linear_model.html#logistic-regression\n",
      "  n_iter_i = _check_optimize_result(\n"
     ]
    },
    {
     "data": {
      "text/plain": "LogisticRegression()",
      "text/html": "<style>#sk-container-id-2 {color: black;background-color: white;}#sk-container-id-2 pre{padding: 0;}#sk-container-id-2 div.sk-toggleable {background-color: white;}#sk-container-id-2 label.sk-toggleable__label {cursor: pointer;display: block;width: 100%;margin-bottom: 0;padding: 0.3em;box-sizing: border-box;text-align: center;}#sk-container-id-2 label.sk-toggleable__label-arrow:before {content: \"▸\";float: left;margin-right: 0.25em;color: #696969;}#sk-container-id-2 label.sk-toggleable__label-arrow:hover:before {color: black;}#sk-container-id-2 div.sk-estimator:hover label.sk-toggleable__label-arrow:before {color: black;}#sk-container-id-2 div.sk-toggleable__content {max-height: 0;max-width: 0;overflow: hidden;text-align: left;background-color: #f0f8ff;}#sk-container-id-2 div.sk-toggleable__content pre {margin: 0.2em;color: black;border-radius: 0.25em;background-color: #f0f8ff;}#sk-container-id-2 input.sk-toggleable__control:checked~div.sk-toggleable__content {max-height: 200px;max-width: 100%;overflow: auto;}#sk-container-id-2 input.sk-toggleable__control:checked~label.sk-toggleable__label-arrow:before {content: \"▾\";}#sk-container-id-2 div.sk-estimator input.sk-toggleable__control:checked~label.sk-toggleable__label {background-color: #d4ebff;}#sk-container-id-2 div.sk-label input.sk-toggleable__control:checked~label.sk-toggleable__label {background-color: #d4ebff;}#sk-container-id-2 input.sk-hidden--visually {border: 0;clip: rect(1px 1px 1px 1px);clip: rect(1px, 1px, 1px, 1px);height: 1px;margin: -1px;overflow: hidden;padding: 0;position: absolute;width: 1px;}#sk-container-id-2 div.sk-estimator {font-family: monospace;background-color: #f0f8ff;border: 1px dotted black;border-radius: 0.25em;box-sizing: border-box;margin-bottom: 0.5em;}#sk-container-id-2 div.sk-estimator:hover {background-color: #d4ebff;}#sk-container-id-2 div.sk-parallel-item::after {content: \"\";width: 100%;border-bottom: 1px solid gray;flex-grow: 1;}#sk-container-id-2 div.sk-label:hover label.sk-toggleable__label {background-color: #d4ebff;}#sk-container-id-2 div.sk-serial::before {content: \"\";position: absolute;border-left: 1px solid gray;box-sizing: border-box;top: 0;bottom: 0;left: 50%;z-index: 0;}#sk-container-id-2 div.sk-serial {display: flex;flex-direction: column;align-items: center;background-color: white;padding-right: 0.2em;padding-left: 0.2em;position: relative;}#sk-container-id-2 div.sk-item {position: relative;z-index: 1;}#sk-container-id-2 div.sk-parallel {display: flex;align-items: stretch;justify-content: center;background-color: white;position: relative;}#sk-container-id-2 div.sk-item::before, #sk-container-id-2 div.sk-parallel-item::before {content: \"\";position: absolute;border-left: 1px solid gray;box-sizing: border-box;top: 0;bottom: 0;left: 50%;z-index: -1;}#sk-container-id-2 div.sk-parallel-item {display: flex;flex-direction: column;z-index: 1;position: relative;background-color: white;}#sk-container-id-2 div.sk-parallel-item:first-child::after {align-self: flex-end;width: 50%;}#sk-container-id-2 div.sk-parallel-item:last-child::after {align-self: flex-start;width: 50%;}#sk-container-id-2 div.sk-parallel-item:only-child::after {width: 0;}#sk-container-id-2 div.sk-dashed-wrapped {border: 1px dashed gray;margin: 0 0.4em 0.5em 0.4em;box-sizing: border-box;padding-bottom: 0.4em;background-color: white;}#sk-container-id-2 div.sk-label label {font-family: monospace;font-weight: bold;display: inline-block;line-height: 1.2em;}#sk-container-id-2 div.sk-label-container {text-align: center;}#sk-container-id-2 div.sk-container {/* jupyter's `normalize.less` sets `[hidden] { display: none; }` but bootstrap.min.css set `[hidden] { display: none !important; }` so we also need the `!important` here to be able to override the default hidden behavior on the sphinx rendered scikit-learn.org. See: https://github.com/scikit-learn/scikit-learn/issues/21755 */display: inline-block !important;position: relative;}#sk-container-id-2 div.sk-text-repr-fallback {display: none;}</style><div id=\"sk-container-id-2\" class=\"sk-top-container\"><div class=\"sk-text-repr-fallback\"><pre>LogisticRegression()</pre><b>In a Jupyter environment, please rerun this cell to show the HTML representation or trust the notebook. <br />On GitHub, the HTML representation is unable to render, please try loading this page with nbviewer.org.</b></div><div class=\"sk-container\" hidden><div class=\"sk-item\"><div class=\"sk-estimator sk-toggleable\"><input class=\"sk-toggleable__control sk-hidden--visually\" id=\"sk-estimator-id-2\" type=\"checkbox\" checked><label for=\"sk-estimator-id-2\" class=\"sk-toggleable__label sk-toggleable__label-arrow\">LogisticRegression</label><div class=\"sk-toggleable__content\"><pre>LogisticRegression()</pre></div></div></div></div></div>"
     },
     "execution_count": 15,
     "metadata": {},
     "output_type": "execute_result"
    }
   ],
   "source": [
    "lr=LogisticRegression()\n",
    "lr.fit(X_train, y_train)"
   ]
  },
  {
   "cell_type": "code",
   "execution_count": 16,
   "metadata": {
    "id": "kIwfYMWG8sa6",
    "ExecuteTime": {
     "end_time": "2024-03-14T20:04:22.416644Z",
     "start_time": "2024-03-14T20:04:22.340556Z"
    }
   },
   "outputs": [],
   "source": [
    "y_pred=lr.predict(X_test)"
   ]
  },
  {
   "cell_type": "code",
   "execution_count": 17,
   "metadata": {
    "id": "4jaMvgb_8wMq",
    "ExecuteTime": {
     "end_time": "2024-03-14T20:04:22.487251Z",
     "start_time": "2024-03-14T20:04:22.421642Z"
    }
   },
   "outputs": [
    {
     "data": {
      "text/plain": "0.8151532457643251"
     },
     "execution_count": 17,
     "metadata": {},
     "output_type": "execute_result"
    }
   ],
   "source": [
    "lr.score(X_test,y_test)"
   ]
  },
  {
   "cell_type": "code",
   "execution_count": 18,
   "metadata": {
    "id": "l1wjugau80Xy",
    "ExecuteTime": {
     "end_time": "2024-03-14T20:04:22.574037Z",
     "start_time": "2024-03-14T20:04:22.492157Z"
    }
   },
   "outputs": [
    {
     "name": "stdout",
     "output_type": "stream",
     "text": [
      "              precision    recall  f1-score   support\n",
      "\n",
      "         0.0       0.79      0.86      0.82      2604\n",
      "         1.0       0.85      0.77      0.81      2649\n",
      "\n",
      "    accuracy                           0.82      5253\n",
      "   macro avg       0.82      0.82      0.81      5253\n",
      "weighted avg       0.82      0.82      0.81      5253\n"
     ]
    }
   ],
   "source": [
    "print(classification_report(y_test, y_pred))"
   ]
  },
  {
   "cell_type": "markdown",
   "metadata": {
    "id": "lhUoBPudyGS5"
   },
   "source": [
    "# SVM\n"
   ]
  },
  {
   "cell_type": "markdown",
   "metadata": {
    "id": "1VZMs_FH9k6c"
   },
   "source": [
    "## Anomalie cardiaque"
   ]
  },
  {
   "cell_type": "code",
   "execution_count": 19,
   "metadata": {
    "id": "iC5xpoIL9IJZ",
    "ExecuteTime": {
     "end_time": "2024-03-14T20:04:22.584078Z",
     "start_time": "2024-03-14T20:04:22.576619Z"
    }
   },
   "outputs": [],
   "source": [
    "X=df_a.iloc[:,:-1]\n",
    "y=df_a.iloc[:,-1]\n",
    "from sklearn.model_selection import train_test_split,cross_val_score\n",
    "from sklearn.linear_model import LogisticRegression\n",
    "from sklearn.ensemble import RandomForestClassifier\n",
    "from sklearn.svm import SVC\n",
    "from sklearn.metrics import classification_report,accuracy_score,confusion_matrix"
   ]
  },
  {
   "cell_type": "code",
   "execution_count": 20,
   "metadata": {
    "ExecuteTime": {
     "end_time": "2024-03-14T20:04:29.104184Z",
     "start_time": "2024-03-14T20:04:22.586961Z"
    }
   },
   "outputs": [
    {
     "data": {
      "text/plain": "187\n0.0    90589\n1.0    90589\n2.0    90589\n3.0    90589\n4.0    90589\nName: count, dtype: int64"
     },
     "execution_count": 20,
     "metadata": {},
     "output_type": "execute_result"
    }
   ],
   "source": [
    "import imblearn\n",
    "from imblearn.over_sampling import SMOTE\n",
    "\n",
    "# oversampling\n",
    "smote=SMOTE()\n",
    "X_oversampled,y_oversampled=smote.fit_resample(X,y)\n",
    "y_oversampled.value_counts()"
   ]
  },
  {
   "cell_type": "code",
   "execution_count": 21,
   "metadata": {
    "ExecuteTime": {
     "end_time": "2024-03-14T20:04:31.055243Z",
     "start_time": "2024-03-14T20:04:29.120816Z"
    }
   },
   "outputs": [],
   "source": [
    "X_train, X_test, y_train, y_test = train_test_split(X_oversampled, y_oversampled, test_size=0.25, random_state=28)"
   ]
  },
  {
   "cell_type": "code",
   "execution_count": 22,
   "metadata": {
    "id": "8N68l2gQ9Nba",
    "ExecuteTime": {
     "end_time": "2024-03-14T20:04:31.060510Z",
     "start_time": "2024-03-14T20:04:31.057049Z"
    }
   },
   "outputs": [],
   "source": [
    "svc = SVC()"
   ]
  },
  {
   "cell_type": "code",
   "execution_count": 23,
   "metadata": {
    "colab": {
     "base_uri": "https://localhost:8080/"
    },
    "id": "adp_U_9c9PqK",
    "outputId": "8ac5e23c-0a6d-4af8-fd0f-469d50ef6d79",
    "ExecuteTime": {
     "end_time": "2024-03-14T21:18:30.360290Z",
     "start_time": "2024-03-14T20:04:31.062280Z"
    }
   },
   "outputs": [
    {
     "data": {
      "text/plain": "SVC()",
      "text/html": "<style>#sk-container-id-3 {color: black;background-color: white;}#sk-container-id-3 pre{padding: 0;}#sk-container-id-3 div.sk-toggleable {background-color: white;}#sk-container-id-3 label.sk-toggleable__label {cursor: pointer;display: block;width: 100%;margin-bottom: 0;padding: 0.3em;box-sizing: border-box;text-align: center;}#sk-container-id-3 label.sk-toggleable__label-arrow:before {content: \"▸\";float: left;margin-right: 0.25em;color: #696969;}#sk-container-id-3 label.sk-toggleable__label-arrow:hover:before {color: black;}#sk-container-id-3 div.sk-estimator:hover label.sk-toggleable__label-arrow:before {color: black;}#sk-container-id-3 div.sk-toggleable__content {max-height: 0;max-width: 0;overflow: hidden;text-align: left;background-color: #f0f8ff;}#sk-container-id-3 div.sk-toggleable__content pre {margin: 0.2em;color: black;border-radius: 0.25em;background-color: #f0f8ff;}#sk-container-id-3 input.sk-toggleable__control:checked~div.sk-toggleable__content {max-height: 200px;max-width: 100%;overflow: auto;}#sk-container-id-3 input.sk-toggleable__control:checked~label.sk-toggleable__label-arrow:before {content: \"▾\";}#sk-container-id-3 div.sk-estimator input.sk-toggleable__control:checked~label.sk-toggleable__label {background-color: #d4ebff;}#sk-container-id-3 div.sk-label input.sk-toggleable__control:checked~label.sk-toggleable__label {background-color: #d4ebff;}#sk-container-id-3 input.sk-hidden--visually {border: 0;clip: rect(1px 1px 1px 1px);clip: rect(1px, 1px, 1px, 1px);height: 1px;margin: -1px;overflow: hidden;padding: 0;position: absolute;width: 1px;}#sk-container-id-3 div.sk-estimator {font-family: monospace;background-color: #f0f8ff;border: 1px dotted black;border-radius: 0.25em;box-sizing: border-box;margin-bottom: 0.5em;}#sk-container-id-3 div.sk-estimator:hover {background-color: #d4ebff;}#sk-container-id-3 div.sk-parallel-item::after {content: \"\";width: 100%;border-bottom: 1px solid gray;flex-grow: 1;}#sk-container-id-3 div.sk-label:hover label.sk-toggleable__label {background-color: #d4ebff;}#sk-container-id-3 div.sk-serial::before {content: \"\";position: absolute;border-left: 1px solid gray;box-sizing: border-box;top: 0;bottom: 0;left: 50%;z-index: 0;}#sk-container-id-3 div.sk-serial {display: flex;flex-direction: column;align-items: center;background-color: white;padding-right: 0.2em;padding-left: 0.2em;position: relative;}#sk-container-id-3 div.sk-item {position: relative;z-index: 1;}#sk-container-id-3 div.sk-parallel {display: flex;align-items: stretch;justify-content: center;background-color: white;position: relative;}#sk-container-id-3 div.sk-item::before, #sk-container-id-3 div.sk-parallel-item::before {content: \"\";position: absolute;border-left: 1px solid gray;box-sizing: border-box;top: 0;bottom: 0;left: 50%;z-index: -1;}#sk-container-id-3 div.sk-parallel-item {display: flex;flex-direction: column;z-index: 1;position: relative;background-color: white;}#sk-container-id-3 div.sk-parallel-item:first-child::after {align-self: flex-end;width: 50%;}#sk-container-id-3 div.sk-parallel-item:last-child::after {align-self: flex-start;width: 50%;}#sk-container-id-3 div.sk-parallel-item:only-child::after {width: 0;}#sk-container-id-3 div.sk-dashed-wrapped {border: 1px dashed gray;margin: 0 0.4em 0.5em 0.4em;box-sizing: border-box;padding-bottom: 0.4em;background-color: white;}#sk-container-id-3 div.sk-label label {font-family: monospace;font-weight: bold;display: inline-block;line-height: 1.2em;}#sk-container-id-3 div.sk-label-container {text-align: center;}#sk-container-id-3 div.sk-container {/* jupyter's `normalize.less` sets `[hidden] { display: none; }` but bootstrap.min.css set `[hidden] { display: none !important; }` so we also need the `!important` here to be able to override the default hidden behavior on the sphinx rendered scikit-learn.org. See: https://github.com/scikit-learn/scikit-learn/issues/21755 */display: inline-block !important;position: relative;}#sk-container-id-3 div.sk-text-repr-fallback {display: none;}</style><div id=\"sk-container-id-3\" class=\"sk-top-container\"><div class=\"sk-text-repr-fallback\"><pre>SVC()</pre><b>In a Jupyter environment, please rerun this cell to show the HTML representation or trust the notebook. <br />On GitHub, the HTML representation is unable to render, please try loading this page with nbviewer.org.</b></div><div class=\"sk-container\" hidden><div class=\"sk-item\"><div class=\"sk-estimator sk-toggleable\"><input class=\"sk-toggleable__control sk-hidden--visually\" id=\"sk-estimator-id-3\" type=\"checkbox\" checked><label for=\"sk-estimator-id-3\" class=\"sk-toggleable__label sk-toggleable__label-arrow\">SVC</label><div class=\"sk-toggleable__content\"><pre>SVC()</pre></div></div></div></div></div>"
     },
     "execution_count": 23,
     "metadata": {},
     "output_type": "execute_result"
    }
   ],
   "source": [
    "svc.fit(X_train, y_train)"
   ]
  },
  {
   "cell_type": "code",
   "execution_count": 24,
   "metadata": {
    "id": "puiYK0T39R7S",
    "ExecuteTime": {
     "end_time": "2024-03-14T21:50:13.973302Z",
     "start_time": "2024-03-14T21:18:30.362738Z"
    }
   },
   "outputs": [],
   "source": [
    "y_pred_svc = svc.predict(X_test)"
   ]
  },
  {
   "cell_type": "code",
   "execution_count": 25,
   "metadata": {
    "colab": {
     "base_uri": "https://localhost:8080/"
    },
    "id": "PJ-e-G9T9Uqz",
    "outputId": "334811c0-8d6b-4796-b699-d511bef2a1a2",
    "ExecuteTime": {
     "end_time": "2024-03-14T22:27:45.690610Z",
     "start_time": "2024-03-14T21:50:13.978919Z"
    }
   },
   "outputs": [
    {
     "data": {
      "text/plain": "0.9688794298683293"
     },
     "execution_count": 25,
     "metadata": {},
     "output_type": "execute_result"
    }
   ],
   "source": [
    "svc.score(X_test,y_test)"
   ]
  },
  {
   "cell_type": "code",
   "execution_count": 26,
   "metadata": {
    "colab": {
     "base_uri": "https://localhost:8080/"
    },
    "id": "Bi7u-pZ_9Xp6",
    "outputId": "2b54ce33-6373-461e-f544-4517e34ec374",
    "ExecuteTime": {
     "end_time": "2024-03-14T22:27:46.059471Z",
     "start_time": "2024-03-14T22:27:45.694219Z"
    }
   },
   "outputs": [
    {
     "name": "stdout",
     "output_type": "stream",
     "text": [
      "              precision    recall  f1-score   support\n",
      "\n",
      "         0.0       0.95      0.93      0.94     22797\n",
      "         1.0       0.96      0.96      0.96     22746\n",
      "         2.0       0.99      0.97      0.98     22554\n",
      "         3.0       0.95      1.00      0.97     22418\n",
      "         4.0       0.99      0.99      0.99     22722\n",
      "\n",
      "    accuracy                           0.97    113237\n",
      "   macro avg       0.97      0.97      0.97    113237\n",
      "weighted avg       0.97      0.97      0.97    113237\n"
     ]
    }
   ],
   "source": [
    "print(classification_report(y_test, y_pred_svc))"
   ]
  },
  {
   "cell_type": "markdown",
   "metadata": {
    "id": "Kjf1XxU89qaD"
   },
   "source": [
    "### Infarctus du myocarde"
   ]
  },
  {
   "cell_type": "code",
   "execution_count": 27,
   "metadata": {
    "ExecuteTime": {
     "end_time": "2024-03-14T22:27:46.077443Z",
     "start_time": "2024-03-14T22:27:46.063774Z"
    }
   },
   "outputs": [],
   "source": [
    "X=df_i.iloc[:,:-1]\n",
    "y=df_i.iloc[:,-1]"
   ]
  },
  {
   "cell_type": "code",
   "execution_count": 28,
   "metadata": {
    "ExecuteTime": {
     "end_time": "2024-03-14T22:27:46.759505Z",
     "start_time": "2024-03-14T22:27:46.084569Z"
    }
   },
   "outputs": [
    {
     "data": {
      "text/plain": "187\n0.0    10506\n1.0    10506\nName: count, dtype: int64"
     },
     "execution_count": 28,
     "metadata": {},
     "output_type": "execute_result"
    }
   ],
   "source": [
    "import imblearn\n",
    "from imblearn.over_sampling import SMOTE\n",
    "# oversampling\n",
    "smote=SMOTE()\n",
    "X_oversampled,y_oversampled=smote.fit_resample(X,y)\n",
    "y_oversampled.value_counts()"
   ]
  },
  {
   "cell_type": "code",
   "execution_count": 29,
   "metadata": {
    "ExecuteTime": {
     "end_time": "2024-03-14T22:27:46.889705Z",
     "start_time": "2024-03-14T22:27:46.763762Z"
    }
   },
   "outputs": [],
   "source": [
    "X_train, X_test, y_train, y_test = train_test_split(X_oversampled, y_oversampled, test_size=0.25, random_state=28)"
   ]
  },
  {
   "cell_type": "code",
   "execution_count": 30,
   "metadata": {
    "id": "K25vXrXH-KP6",
    "ExecuteTime": {
     "end_time": "2024-03-14T22:27:46.897866Z",
     "start_time": "2024-03-14T22:27:46.892182Z"
    }
   },
   "outputs": [],
   "source": [
    "svc = SVC()"
   ]
  },
  {
   "cell_type": "code",
   "execution_count": 31,
   "metadata": {
    "colab": {
     "base_uri": "https://localhost:8080/"
    },
    "id": "v-sq3aOF-Trq",
    "outputId": "e491667a-0c6c-449b-bc28-603ae7163db6",
    "ExecuteTime": {
     "end_time": "2024-03-14T22:28:16.628463Z",
     "start_time": "2024-03-14T22:27:46.899025Z"
    }
   },
   "outputs": [
    {
     "data": {
      "text/plain": "SVC()",
      "text/html": "<style>#sk-container-id-4 {color: black;background-color: white;}#sk-container-id-4 pre{padding: 0;}#sk-container-id-4 div.sk-toggleable {background-color: white;}#sk-container-id-4 label.sk-toggleable__label {cursor: pointer;display: block;width: 100%;margin-bottom: 0;padding: 0.3em;box-sizing: border-box;text-align: center;}#sk-container-id-4 label.sk-toggleable__label-arrow:before {content: \"▸\";float: left;margin-right: 0.25em;color: #696969;}#sk-container-id-4 label.sk-toggleable__label-arrow:hover:before {color: black;}#sk-container-id-4 div.sk-estimator:hover label.sk-toggleable__label-arrow:before {color: black;}#sk-container-id-4 div.sk-toggleable__content {max-height: 0;max-width: 0;overflow: hidden;text-align: left;background-color: #f0f8ff;}#sk-container-id-4 div.sk-toggleable__content pre {margin: 0.2em;color: black;border-radius: 0.25em;background-color: #f0f8ff;}#sk-container-id-4 input.sk-toggleable__control:checked~div.sk-toggleable__content {max-height: 200px;max-width: 100%;overflow: auto;}#sk-container-id-4 input.sk-toggleable__control:checked~label.sk-toggleable__label-arrow:before {content: \"▾\";}#sk-container-id-4 div.sk-estimator input.sk-toggleable__control:checked~label.sk-toggleable__label {background-color: #d4ebff;}#sk-container-id-4 div.sk-label input.sk-toggleable__control:checked~label.sk-toggleable__label {background-color: #d4ebff;}#sk-container-id-4 input.sk-hidden--visually {border: 0;clip: rect(1px 1px 1px 1px);clip: rect(1px, 1px, 1px, 1px);height: 1px;margin: -1px;overflow: hidden;padding: 0;position: absolute;width: 1px;}#sk-container-id-4 div.sk-estimator {font-family: monospace;background-color: #f0f8ff;border: 1px dotted black;border-radius: 0.25em;box-sizing: border-box;margin-bottom: 0.5em;}#sk-container-id-4 div.sk-estimator:hover {background-color: #d4ebff;}#sk-container-id-4 div.sk-parallel-item::after {content: \"\";width: 100%;border-bottom: 1px solid gray;flex-grow: 1;}#sk-container-id-4 div.sk-label:hover label.sk-toggleable__label {background-color: #d4ebff;}#sk-container-id-4 div.sk-serial::before {content: \"\";position: absolute;border-left: 1px solid gray;box-sizing: border-box;top: 0;bottom: 0;left: 50%;z-index: 0;}#sk-container-id-4 div.sk-serial {display: flex;flex-direction: column;align-items: center;background-color: white;padding-right: 0.2em;padding-left: 0.2em;position: relative;}#sk-container-id-4 div.sk-item {position: relative;z-index: 1;}#sk-container-id-4 div.sk-parallel {display: flex;align-items: stretch;justify-content: center;background-color: white;position: relative;}#sk-container-id-4 div.sk-item::before, #sk-container-id-4 div.sk-parallel-item::before {content: \"\";position: absolute;border-left: 1px solid gray;box-sizing: border-box;top: 0;bottom: 0;left: 50%;z-index: -1;}#sk-container-id-4 div.sk-parallel-item {display: flex;flex-direction: column;z-index: 1;position: relative;background-color: white;}#sk-container-id-4 div.sk-parallel-item:first-child::after {align-self: flex-end;width: 50%;}#sk-container-id-4 div.sk-parallel-item:last-child::after {align-self: flex-start;width: 50%;}#sk-container-id-4 div.sk-parallel-item:only-child::after {width: 0;}#sk-container-id-4 div.sk-dashed-wrapped {border: 1px dashed gray;margin: 0 0.4em 0.5em 0.4em;box-sizing: border-box;padding-bottom: 0.4em;background-color: white;}#sk-container-id-4 div.sk-label label {font-family: monospace;font-weight: bold;display: inline-block;line-height: 1.2em;}#sk-container-id-4 div.sk-label-container {text-align: center;}#sk-container-id-4 div.sk-container {/* jupyter's `normalize.less` sets `[hidden] { display: none; }` but bootstrap.min.css set `[hidden] { display: none !important; }` so we also need the `!important` here to be able to override the default hidden behavior on the sphinx rendered scikit-learn.org. See: https://github.com/scikit-learn/scikit-learn/issues/21755 */display: inline-block !important;position: relative;}#sk-container-id-4 div.sk-text-repr-fallback {display: none;}</style><div id=\"sk-container-id-4\" class=\"sk-top-container\"><div class=\"sk-text-repr-fallback\"><pre>SVC()</pre><b>In a Jupyter environment, please rerun this cell to show the HTML representation or trust the notebook. <br />On GitHub, the HTML representation is unable to render, please try loading this page with nbviewer.org.</b></div><div class=\"sk-container\" hidden><div class=\"sk-item\"><div class=\"sk-estimator sk-toggleable\"><input class=\"sk-toggleable__control sk-hidden--visually\" id=\"sk-estimator-id-4\" type=\"checkbox\" checked><label for=\"sk-estimator-id-4\" class=\"sk-toggleable__label sk-toggleable__label-arrow\">SVC</label><div class=\"sk-toggleable__content\"><pre>SVC()</pre></div></div></div></div></div>"
     },
     "execution_count": 31,
     "metadata": {},
     "output_type": "execute_result"
    }
   ],
   "source": [
    "svc.fit(X_train, y_train)"
   ]
  },
  {
   "cell_type": "code",
   "execution_count": 32,
   "metadata": {
    "id": "WXGN8T7Y-Woq",
    "ExecuteTime": {
     "end_time": "2024-03-14T22:28:24.699702Z",
     "start_time": "2024-03-14T22:28:16.630810Z"
    }
   },
   "outputs": [],
   "source": [
    "y_pred_svc = svc.predict(X_test)"
   ]
  },
  {
   "cell_type": "code",
   "execution_count": 33,
   "metadata": {
    "colab": {
     "base_uri": "https://localhost:8080/"
    },
    "id": "TOsIwWj9-Zg6",
    "outputId": "e2a57b9d-b152-4e1b-cd1b-55b165bd61c5",
    "ExecuteTime": {
     "end_time": "2024-03-14T22:28:24.737264Z",
     "start_time": "2024-03-14T22:28:24.705659Z"
    }
   },
   "outputs": [
    {
     "name": "stdout",
     "output_type": "stream",
     "text": [
      "              precision    recall  f1-score   support\n",
      "\n",
      "         0.0       0.89      0.96      0.92      2604\n",
      "         1.0       0.95      0.89      0.92      2649\n",
      "\n",
      "    accuracy                           0.92      5253\n",
      "   macro avg       0.92      0.92      0.92      5253\n",
      "weighted avg       0.92      0.92      0.92      5253\n"
     ]
    }
   ],
   "source": [
    "print(classification_report(y_test, y_pred_svc))"
   ]
  },
  {
   "cell_type": "markdown",
   "metadata": {
    "id": "Cg-xxJJyyLT6"
   },
   "source": [
    "# DEEP LEARNING"
   ]
  },
  {
   "cell_type": "markdown",
   "metadata": {
    "id": "WRl1oMbSyVHS"
   },
   "source": [
    "# Réseau de neurones dense"
   ]
  },
  {
   "cell_type": "markdown",
   "metadata": {
    "id": "F177lcKmyd_E"
   },
   "source": [
    "## appliqués au dataset mitibih"
   ]
  },
  {
   "cell_type": "code",
   "execution_count": 34,
   "metadata": {
    "id": "OgJZhDi9yqnd",
    "ExecuteTime": {
     "end_time": "2024-03-14T22:28:24.742677Z",
     "start_time": "2024-03-14T22:28:24.738471Z"
    }
   },
   "outputs": [],
   "source": [
    "import pandas as pd\n",
    "import numpy as np\n",
    "from scipy.signal import find_peaks\n",
    "from sklearn.metrics import classification_report\n",
    "from imblearn.over_sampling import SMOTE\n",
    "from imblearn.metrics import classification_report_imbalanced, geometric_mean_score"
   ]
  },
  {
   "cell_type": "code",
   "execution_count": 34,
   "metadata": {},
   "outputs": [],
   "source": []
  },
  {
   "cell_type": "code",
   "execution_count": 56,
   "metadata": {
    "id": "DtN05DjR-vJJ",
    "ExecuteTime": {
     "end_time": "2024-03-15T05:55:24.323216Z",
     "start_time": "2024-03-15T05:55:24.310047Z"
    }
   },
   "outputs": [],
   "source": [
    "X=df_a.iloc[:,:-1]\n",
    "y=df_a.iloc[:,-1]\n",
    "from sklearn.model_selection import train_test_split,cross_val_score\n",
    "from sklearn.linear_model import LogisticRegression\n",
    "from sklearn.ensemble import RandomForestClassifier\n",
    "from sklearn.svm import SVC\n",
    "from sklearn.preprocessing import StandardScaler\n",
    "from sklearn.metrics import confusion_matrix\n",
    "from sklearn.metrics import classification_report,accuracy_score,confusion_matrix"
   ]
  },
  {
   "cell_type": "code",
   "execution_count": 57,
   "metadata": {
    "ExecuteTime": {
     "end_time": "2024-03-15T05:55:34.370094Z",
     "start_time": "2024-03-15T05:55:25.834761Z"
    }
   },
   "outputs": [],
   "source": [
    "smote = SMOTE()\n",
    "X_sm, y_sm = smote.fit_resample(X, y)\n",
    "X_train, X_test, y_train, y_test = train_test_split(X_sm, y_sm, test_size=0.25, random_state=28)"
   ]
  },
  {
   "cell_type": "code",
   "execution_count": 57,
   "metadata": {
    "ExecuteTime": {
     "end_time": "2024-03-15T05:55:37.281529Z",
     "start_time": "2024-03-15T05:55:37.275635Z"
    }
   },
   "outputs": [],
   "source": []
  },
  {
   "cell_type": "code",
   "execution_count": 58,
   "metadata": {
    "id": "eMMntnCd-xXZ",
    "ExecuteTime": {
     "end_time": "2024-03-15T05:55:38.736496Z",
     "start_time": "2024-03-15T05:55:38.731781Z"
    }
   },
   "outputs": [],
   "source": [
    "\n",
    "from tensorflow.keras.layers import Input, Dense, Dropout, Flatten, Conv1D, MaxPooling1D, GlobalAveragePooling1D, BatchNormalization, SpatialDropout1D, Reshape\n",
    "from tensorflow.keras.models import Model, Sequential\n",
    "from tensorflow.keras.utils import to_categorical\n",
    "from tensorflow.keras.callbacks import EarlyStopping, ReduceLROnPlateau\n",
    "\n",
    "\n"
   ]
  },
  {
   "cell_type": "code",
   "execution_count": 59,
   "metadata": {
    "id": "C9SZJIwUhRII",
    "ExecuteTime": {
     "end_time": "2024-03-15T05:55:42.522450Z",
     "start_time": "2024-03-15T05:55:40.639022Z"
    }
   },
   "outputs": [],
   "source": [
    "scaler = StandardScaler()\n",
    "X_train =scaler.fit_transform(X_train)\n",
    "X_test = scaler.transform(X_test)"
   ]
  },
  {
   "cell_type": "code",
   "execution_count": 60,
   "metadata": {
    "id": "lKeNntBw-9Cq",
    "ExecuteTime": {
     "end_time": "2024-03-15T05:55:43.917554Z",
     "start_time": "2024-03-15T05:55:43.902677Z"
    }
   },
   "outputs": [],
   "source": [
    "early_stopping = EarlyStopping(monitor = 'val_loss',\n",
    "                    min_delta = 0.01,\n",
    "                    patience = 5,\n",
    "                    verbose = 1,\n",
    "                    mode = 'min',\n",
    "                    restore_best_weights = True)\n",
    "\n",
    "reduce_learning_rate = ReduceLROnPlateau(monitor = 'val_loss',\n",
    "                        min_delta = 0.01,\n",
    "                        patience = 3,\n",
    "                        factor = 0.1,\n",
    "                        cooldown = 4,\n",
    "                        verbose = 1)"
   ]
  },
  {
   "cell_type": "code",
   "execution_count": 64,
   "metadata": {
    "colab": {
     "base_uri": "https://localhost:8080/"
    },
    "id": "P7AdnkPX_FiZ",
    "outputId": "51c87cfa-463b-49f8-fb00-10bf595fca2b",
    "ExecuteTime": {
     "end_time": "2024-03-15T05:58:26.422037Z",
     "start_time": "2024-03-15T05:58:25.994548Z"
    }
   },
   "outputs": [
    {
     "name": "stderr",
     "output_type": "stream",
     "text": [
      "2024-03-15 06:58:26.333023: E external/local_xla/xla/stream_executor/cuda/cuda_driver.cc:282] failed call to cuInit: CUDA_ERROR_INVALID_DEVICE: invalid device ordinal\n",
      "2024-03-15 06:58:26.333126: I external/local_xla/xla/stream_executor/cuda/cuda_diagnostics.cc:134] retrieving CUDA diagnostic information for host: data\n",
      "2024-03-15 06:58:26.333141: I external/local_xla/xla/stream_executor/cuda/cuda_diagnostics.cc:141] hostname: data\n",
      "2024-03-15 06:58:26.333402: I external/local_xla/xla/stream_executor/cuda/cuda_diagnostics.cc:165] libcuda reported version is: 340.108.0\n",
      "2024-03-15 06:58:26.333463: I external/local_xla/xla/stream_executor/cuda/cuda_diagnostics.cc:169] kernel reported version is: 340.108.0\n",
      "2024-03-15 06:58:26.333476: I external/local_xla/xla/stream_executor/cuda/cuda_diagnostics.cc:248] kernel version seems to match DSO: 340.108.0\n"
     ]
    },
    {
     "data": {
      "text/plain": "\u001B[1mModel: \"functional_1\"\u001B[0m\n",
      "text/html": "<pre style=\"white-space:pre;overflow-x:auto;line-height:normal;font-family:Menlo,'DejaVu Sans Mono',consolas,'Courier New',monospace\"><span style=\"font-weight: bold\">Model: \"functional_1\"</span>\n</pre>\n"
     },
     "metadata": {},
     "output_type": "display_data"
    },
    {
     "data": {
      "text/plain": "┏━━━━━━━━━━━━━━━━━━━━━━━━━━━━━━━━━┳━━━━━━━━━━━━━━━━━━━━━━━━┳━━━━━━━━━━━━━━━┓\n┃\u001B[1m \u001B[0m\u001B[1mLayer (type)                   \u001B[0m\u001B[1m \u001B[0m┃\u001B[1m \u001B[0m\u001B[1mOutput Shape          \u001B[0m\u001B[1m \u001B[0m┃\u001B[1m \u001B[0m\u001B[1m      Param #\u001B[0m\u001B[1m \u001B[0m┃\n┡━━━━━━━━━━━━━━━━━━━━━━━━━━━━━━━━━╇━━━━━━━━━━━━━━━━━━━━━━━━╇━━━━━━━━━━━━━━━┩\n│ Input (\u001B[38;5;33mInputLayer\u001B[0m)              │ (\u001B[38;5;45mNone\u001B[0m, \u001B[38;5;34m187\u001B[0m)            │             \u001B[38;5;34m0\u001B[0m │\n├─────────────────────────────────┼────────────────────────┼───────────────┤\n│ dense1 (\u001B[38;5;33mDense\u001B[0m)                  │ (\u001B[38;5;45mNone\u001B[0m, \u001B[38;5;34m10\u001B[0m)             │         \u001B[38;5;34m1,880\u001B[0m │\n├─────────────────────────────────┼────────────────────────┼───────────────┤\n│ dense2 (\u001B[38;5;33mDense\u001B[0m)                  │ (\u001B[38;5;45mNone\u001B[0m, \u001B[38;5;34m8\u001B[0m)              │            \u001B[38;5;34m88\u001B[0m │\n├─────────────────────────────────┼────────────────────────┼───────────────┤\n│ dense3 (\u001B[38;5;33mDense\u001B[0m)                  │ (\u001B[38;5;45mNone\u001B[0m, \u001B[38;5;34m6\u001B[0m)              │            \u001B[38;5;34m54\u001B[0m │\n├─────────────────────────────────┼────────────────────────┼───────────────┤\n│ dense4 (\u001B[38;5;33mDense\u001B[0m)                  │ (\u001B[38;5;45mNone\u001B[0m, \u001B[38;5;34m5\u001B[0m)              │            \u001B[38;5;34m35\u001B[0m │\n└─────────────────────────────────┴────────────────────────┴───────────────┘\n",
      "text/html": "<pre style=\"white-space:pre;overflow-x:auto;line-height:normal;font-family:Menlo,'DejaVu Sans Mono',consolas,'Courier New',monospace\">┏━━━━━━━━━━━━━━━━━━━━━━━━━━━━━━━━━┳━━━━━━━━━━━━━━━━━━━━━━━━┳━━━━━━━━━━━━━━━┓\n┃<span style=\"font-weight: bold\"> Layer (type)                    </span>┃<span style=\"font-weight: bold\"> Output Shape           </span>┃<span style=\"font-weight: bold\">       Param # </span>┃\n┡━━━━━━━━━━━━━━━━━━━━━━━━━━━━━━━━━╇━━━━━━━━━━━━━━━━━━━━━━━━╇━━━━━━━━━━━━━━━┩\n│ Input (<span style=\"color: #0087ff; text-decoration-color: #0087ff\">InputLayer</span>)              │ (<span style=\"color: #00d7ff; text-decoration-color: #00d7ff\">None</span>, <span style=\"color: #00af00; text-decoration-color: #00af00\">187</span>)            │             <span style=\"color: #00af00; text-decoration-color: #00af00\">0</span> │\n├─────────────────────────────────┼────────────────────────┼───────────────┤\n│ dense1 (<span style=\"color: #0087ff; text-decoration-color: #0087ff\">Dense</span>)                  │ (<span style=\"color: #00d7ff; text-decoration-color: #00d7ff\">None</span>, <span style=\"color: #00af00; text-decoration-color: #00af00\">10</span>)             │         <span style=\"color: #00af00; text-decoration-color: #00af00\">1,880</span> │\n├─────────────────────────────────┼────────────────────────┼───────────────┤\n│ dense2 (<span style=\"color: #0087ff; text-decoration-color: #0087ff\">Dense</span>)                  │ (<span style=\"color: #00d7ff; text-decoration-color: #00d7ff\">None</span>, <span style=\"color: #00af00; text-decoration-color: #00af00\">8</span>)              │            <span style=\"color: #00af00; text-decoration-color: #00af00\">88</span> │\n├─────────────────────────────────┼────────────────────────┼───────────────┤\n│ dense3 (<span style=\"color: #0087ff; text-decoration-color: #0087ff\">Dense</span>)                  │ (<span style=\"color: #00d7ff; text-decoration-color: #00d7ff\">None</span>, <span style=\"color: #00af00; text-decoration-color: #00af00\">6</span>)              │            <span style=\"color: #00af00; text-decoration-color: #00af00\">54</span> │\n├─────────────────────────────────┼────────────────────────┼───────────────┤\n│ dense4 (<span style=\"color: #0087ff; text-decoration-color: #0087ff\">Dense</span>)                  │ (<span style=\"color: #00d7ff; text-decoration-color: #00d7ff\">None</span>, <span style=\"color: #00af00; text-decoration-color: #00af00\">5</span>)              │            <span style=\"color: #00af00; text-decoration-color: #00af00\">35</span> │\n└─────────────────────────────────┴────────────────────────┴───────────────┘\n</pre>\n"
     },
     "metadata": {},
     "output_type": "display_data"
    },
    {
     "data": {
      "text/plain": "\u001B[1m Total params: \u001B[0m\u001B[38;5;34m2,057\u001B[0m (8.04 KB)\n",
      "text/html": "<pre style=\"white-space:pre;overflow-x:auto;line-height:normal;font-family:Menlo,'DejaVu Sans Mono',consolas,'Courier New',monospace\"><span style=\"font-weight: bold\"> Total params: </span><span style=\"color: #00af00; text-decoration-color: #00af00\">2,057</span> (8.04 KB)\n</pre>\n"
     },
     "metadata": {},
     "output_type": "display_data"
    },
    {
     "data": {
      "text/plain": "\u001B[1m Trainable params: \u001B[0m\u001B[38;5;34m2,057\u001B[0m (8.04 KB)\n",
      "text/html": "<pre style=\"white-space:pre;overflow-x:auto;line-height:normal;font-family:Menlo,'DejaVu Sans Mono',consolas,'Courier New',monospace\"><span style=\"font-weight: bold\"> Trainable params: </span><span style=\"color: #00af00; text-decoration-color: #00af00\">2,057</span> (8.04 KB)\n</pre>\n"
     },
     "metadata": {},
     "output_type": "display_data"
    },
    {
     "data": {
      "text/plain": "\u001B[1m Non-trainable params: \u001B[0m\u001B[38;5;34m0\u001B[0m (0.00 B)\n",
      "text/html": "<pre style=\"white-space:pre;overflow-x:auto;line-height:normal;font-family:Menlo,'DejaVu Sans Mono',consolas,'Courier New',monospace\"><span style=\"font-weight: bold\"> Non-trainable params: </span><span style=\"color: #00af00; text-decoration-color: #00af00\">0</span> (0.00 B)\n</pre>\n"
     },
     "metadata": {},
     "output_type": "display_data"
    }
   ],
   "source": [
    "batch_size = 32\n",
    "epochs = 30\n",
    "inputs = Input(shape = (X_sm.shape[1],), name = \"Input\")\n",
    "dense1 = Dense(units = 10, activation = \"tanh\", name = \"dense1\", kernel_initializer=\"normal\")\n",
    "dense2 = Dense(units = 8, activation = \"tanh\", name = \"dense2\", kernel_initializer=\"normal\")\n",
    "dense3 = Dense(units = 6, activation = \"tanh\", name = \"dense3\", kernel_initializer=\"normal\")\n",
    "dense4 = Dense(units = 5, activation = \"softmax\", name = \"dense4\", kernel_initializer=\"normal\")\n",
    "\n",
    "x = dense1(inputs)\n",
    "x = dense2(x)\n",
    "x = dense3(x)\n",
    "outputs = dense4(x)\n",
    "\n",
    "model_d = Model(inputs = inputs, outputs = outputs)\n",
    "model_d.summary()"
   ]
  },
  {
   "cell_type": "code",
   "execution_count": 71,
   "metadata": {
    "id": "ZGo5aC7y_Kz5",
    "ExecuteTime": {
     "end_time": "2024-03-15T06:02:39.655976Z",
     "start_time": "2024-03-15T06:02:39.640765Z"
    }
   },
   "outputs": [],
   "source": [
    "model_d.compile(optimizer='adam', loss='sparse_categorical_crossentropy', metrics=['accuracy'])"
   ]
  },
  {
   "cell_type": "code",
   "execution_count": 71,
   "metadata": {
    "id": "v8QiaU6Dumdb",
    "ExecuteTime": {
     "end_time": "2024-03-15T06:02:42.068793Z",
     "start_time": "2024-03-15T06:02:42.065781Z"
    }
   },
   "outputs": [],
   "source": []
  },
  {
   "cell_type": "code",
   "execution_count": 72,
   "metadata": {
    "colab": {
     "base_uri": "https://localhost:8080/"
    },
    "id": "FMZ4N_l7_OQy",
    "outputId": "bde7d403-3225-4f73-c13a-45b211679539",
    "ExecuteTime": {
     "end_time": "2024-03-15T06:10:24.129894Z",
     "start_time": "2024-03-15T06:02:43.730621Z"
    }
   },
   "outputs": [
    {
     "name": "stdout",
     "output_type": "stream",
     "text": [
      "Epoch 1/30\n",
      "\u001B[1m8493/8493\u001B[0m \u001B[32m━━━━━━━━━━━━━━━━━━━━\u001B[0m\u001B[37m\u001B[0m \u001B[1m28s\u001B[0m 3ms/step - accuracy: 0.6766 - loss: 0.8008 - val_accuracy: 0.8762 - val_loss: 0.3867 - learning_rate: 0.0010\n",
      "Epoch 2/30\n",
      "\u001B[1m8493/8493\u001B[0m \u001B[32m━━━━━━━━━━━━━━━━━━━━\u001B[0m\u001B[37m\u001B[0m \u001B[1m27s\u001B[0m 3ms/step - accuracy: 0.8824 - loss: 0.3563 - val_accuracy: 0.8897 - val_loss: 0.3321 - learning_rate: 0.0010\n",
      "Epoch 3/30\n",
      "\u001B[1m8493/8493\u001B[0m \u001B[32m━━━━━━━━━━━━━━━━━━━━\u001B[0m\u001B[37m\u001B[0m \u001B[1m22s\u001B[0m 3ms/step - accuracy: 0.8945 - loss: 0.3167 - val_accuracy: 0.8965 - val_loss: 0.3098 - learning_rate: 0.0010\n",
      "Epoch 4/30\n",
      "\u001B[1m8493/8493\u001B[0m \u001B[32m━━━━━━━━━━━━━━━━━━━━\u001B[0m\u001B[37m\u001B[0m \u001B[1m25s\u001B[0m 3ms/step - accuracy: 0.8991 - loss: 0.2999 - val_accuracy: 0.9038 - val_loss: 0.2910 - learning_rate: 0.0010\n",
      "Epoch 5/30\n",
      "\u001B[1m8493/8493\u001B[0m \u001B[32m━━━━━━━━━━━━━━━━━━━━\u001B[0m\u001B[37m\u001B[0m \u001B[1m28s\u001B[0m 3ms/step - accuracy: 0.9040 - loss: 0.2872 - val_accuracy: 0.9036 - val_loss: 0.2905 - learning_rate: 0.0010\n",
      "Epoch 6/30\n",
      "\u001B[1m8493/8493\u001B[0m \u001B[32m━━━━━━━━━━━━━━━━━━━━\u001B[0m\u001B[37m\u001B[0m \u001B[1m26s\u001B[0m 3ms/step - accuracy: 0.9062 - loss: 0.2796 - val_accuracy: 0.9105 - val_loss: 0.2732 - learning_rate: 0.0010\n",
      "Epoch 7/30\n",
      "\u001B[1m8493/8493\u001B[0m \u001B[32m━━━━━━━━━━━━━━━━━━━━\u001B[0m\u001B[37m\u001B[0m \u001B[1m26s\u001B[0m 3ms/step - accuracy: 0.9097 - loss: 0.2693 - val_accuracy: 0.9012 - val_loss: 0.3021 - learning_rate: 0.0010\n",
      "Epoch 8/30\n",
      "\u001B[1m8493/8493\u001B[0m \u001B[32m━━━━━━━━━━━━━━━━━━━━\u001B[0m\u001B[37m\u001B[0m \u001B[1m25s\u001B[0m 3ms/step - accuracy: 0.9119 - loss: 0.2639 - val_accuracy: 0.9124 - val_loss: 0.2659 - learning_rate: 0.0010\n",
      "Epoch 9/30\n",
      "\u001B[1m8493/8493\u001B[0m \u001B[32m━━━━━━━━━━━━━━━━━━━━\u001B[0m\u001B[37m\u001B[0m \u001B[1m24s\u001B[0m 3ms/step - accuracy: 0.9146 - loss: 0.2577 - val_accuracy: 0.9139 - val_loss: 0.2624 - learning_rate: 0.0010\n",
      "Epoch 10/30\n",
      "\u001B[1m8493/8493\u001B[0m \u001B[32m━━━━━━━━━━━━━━━━━━━━\u001B[0m\u001B[37m\u001B[0m \u001B[1m25s\u001B[0m 3ms/step - accuracy: 0.9170 - loss: 0.2515 - val_accuracy: 0.9144 - val_loss: 0.2600 - learning_rate: 0.0010\n",
      "Epoch 11/30\n",
      "\u001B[1m8493/8493\u001B[0m \u001B[32m━━━━━━━━━━━━━━━━━━━━\u001B[0m\u001B[37m\u001B[0m \u001B[1m26s\u001B[0m 3ms/step - accuracy: 0.9183 - loss: 0.2486 - val_accuracy: 0.9153 - val_loss: 0.2586 - learning_rate: 0.0010\n",
      "Epoch 12/30\n",
      "\u001B[1m8490/8493\u001B[0m \u001B[32m━━━━━━━━━━━━━━━━━━━\u001B[0m\u001B[37m━\u001B[0m \u001B[1m0s\u001B[0m 3ms/step - accuracy: 0.9188 - loss: 0.2470\n",
      "Epoch 12: ReduceLROnPlateau reducing learning rate to 0.00010000000474974513.\n",
      "\u001B[1m8493/8493\u001B[0m \u001B[32m━━━━━━━━━━━━━━━━━━━━\u001B[0m\u001B[37m\u001B[0m \u001B[1m28s\u001B[0m 3ms/step - accuracy: 0.9188 - loss: 0.2470 - val_accuracy: 0.9179 - val_loss: 0.2531 - learning_rate: 0.0010\n",
      "Epoch 13/30\n",
      "\u001B[1m8493/8493\u001B[0m \u001B[32m━━━━━━━━━━━━━━━━━━━━\u001B[0m\u001B[37m\u001B[0m \u001B[1m26s\u001B[0m 3ms/step - accuracy: 0.9269 - loss: 0.2292 - val_accuracy: 0.9233 - val_loss: 0.2383 - learning_rate: 1.0000e-04\n",
      "Epoch 14/30\n",
      "\u001B[1m8493/8493\u001B[0m \u001B[32m━━━━━━━━━━━━━━━━━━━━\u001B[0m\u001B[37m\u001B[0m \u001B[1m28s\u001B[0m 3ms/step - accuracy: 0.9282 - loss: 0.2232 - val_accuracy: 0.9236 - val_loss: 0.2370 - learning_rate: 1.0000e-04\n",
      "Epoch 15/30\n",
      "\u001B[1m8493/8493\u001B[0m \u001B[32m━━━━━━━━━━━━━━━━━━━━\u001B[0m\u001B[37m\u001B[0m \u001B[1m21s\u001B[0m 2ms/step - accuracy: 0.9282 - loss: 0.2223 - val_accuracy: 0.9241 - val_loss: 0.2366 - learning_rate: 1.0000e-04\n",
      "Epoch 16/30\n",
      "\u001B[1m8493/8493\u001B[0m \u001B[32m━━━━━━━━━━━━━━━━━━━━\u001B[0m\u001B[37m\u001B[0m \u001B[1m25s\u001B[0m 3ms/step - accuracy: 0.9291 - loss: 0.2235 - val_accuracy: 0.9242 - val_loss: 0.2368 - learning_rate: 1.0000e-04\n",
      "Epoch 17/30\n",
      "\u001B[1m8493/8493\u001B[0m \u001B[32m━━━━━━━━━━━━━━━━━━━━\u001B[0m\u001B[37m\u001B[0m \u001B[1m26s\u001B[0m 3ms/step - accuracy: 0.9292 - loss: 0.2212 - val_accuracy: 0.9245 - val_loss: 0.2344 - learning_rate: 1.0000e-04\n",
      "Epoch 18/30\n",
      "\u001B[1m8474/8493\u001B[0m \u001B[32m━━━━━━━━━━━━━━━━━━━\u001B[0m\u001B[37m━\u001B[0m \u001B[1m0s\u001B[0m 2ms/step - accuracy: 0.9297 - loss: 0.2200\n",
      "Epoch 18: ReduceLROnPlateau reducing learning rate to 1.0000000474974514e-05.\n",
      "\u001B[1m8493/8493\u001B[0m \u001B[32m━━━━━━━━━━━━━━━━━━━━\u001B[0m\u001B[37m\u001B[0m \u001B[1m23s\u001B[0m 3ms/step - accuracy: 0.9297 - loss: 0.2200 - val_accuracy: 0.9237 - val_loss: 0.2349 - learning_rate: 1.0000e-04\n",
      "Epoch 18: early stopping\n",
      "Restoring model weights from the end of the best epoch: 13.\n"
     ]
    }
   ],
   "source": [
    "history = model_d.fit(X_train, y_train, epochs=epochs, validation_split = 0.2,callbacks=[early_stopping, reduce_learning_rate], batch_size=batch_size)"
   ]
  },
  {
   "cell_type": "code",
   "execution_count": 73,
   "metadata": {
    "id": "1DpIxq0buqVJ",
    "ExecuteTime": {
     "end_time": "2024-03-15T06:10:24.161050Z",
     "start_time": "2024-03-15T06:10:24.132497Z"
    }
   },
   "outputs": [
    {
     "name": "stderr",
     "output_type": "stream",
     "text": [
      "WARNING:absl:You are saving your model as an HDF5 file via `model.save()` or `keras.saving.save_model(model)`. This file format is considered legacy. We recommend using instead the native Keras format, e.g. `model.save('my_model.keras')` or `keras.saving.save_model(model, 'my_model.keras')`. \n"
     ]
    }
   ],
   "source": [
    "\n",
    "model_d.save('./model_dense_mitbih.h5')"
   ]
  },
  {
   "cell_type": "code",
   "execution_count": 73,
   "metadata": {
    "id": "uK-aKODdxHVh",
    "ExecuteTime": {
     "end_time": "2024-03-15T06:10:24.165188Z",
     "start_time": "2024-03-15T06:10:24.162434Z"
    }
   },
   "outputs": [],
   "source": []
  },
  {
   "cell_type": "code",
   "execution_count": 74,
   "metadata": {
    "colab": {
     "base_uri": "https://localhost:8080/"
    },
    "id": "REPKBwsl_SAp",
    "outputId": "7d2ba58d-7fc0-4508-8dd0-ec3c70c82b83",
    "ExecuteTime": {
     "end_time": "2024-03-15T06:10:31.006226Z",
     "start_time": "2024-03-15T06:10:24.167387Z"
    }
   },
   "outputs": [
    {
     "name": "stdout",
     "output_type": "stream",
     "text": [
      "\u001B[1m3539/3539\u001B[0m \u001B[32m━━━━━━━━━━━━━━━━━━━━\u001B[0m\u001B[37m\u001B[0m \u001B[1m7s\u001B[0m 2ms/step - accuracy: 0.9263 - loss: 0.2350\n"
     ]
    }
   ],
   "source": [
    "_ , accuracy= model_d.evaluate(X_test, y_test, batch_size=batch_size, verbose=1)"
   ]
  },
  {
   "cell_type": "code",
   "execution_count": 75,
   "metadata": {
    "colab": {
     "base_uri": "https://localhost:8080/"
    },
    "id": "N3WUXwcO_Vq7",
    "outputId": "5cacef7b-bc5e-4a52-c4f5-891d7676398f",
    "ExecuteTime": {
     "end_time": "2024-03-15T06:10:31.018666Z",
     "start_time": "2024-03-15T06:10:31.010142Z"
    }
   },
   "outputs": [
    {
     "name": "stdout",
     "output_type": "stream",
     "text": [
      "accuracy 0.926057755947113\n"
     ]
    }
   ],
   "source": [
    "print('accuracy', accuracy)"
   ]
  },
  {
   "cell_type": "code",
   "execution_count": 76,
   "metadata": {
    "colab": {
     "base_uri": "https://localhost:8080/",
     "height": 256
    },
    "id": "ejbdXs-0_ZF7",
    "outputId": "a1865793-2d16-4fa3-9c71-fe987d53fdf3",
    "ExecuteTime": {
     "end_time": "2024-03-15T06:10:42.757590Z",
     "start_time": "2024-03-15T06:10:31.022466Z"
    }
   },
   "outputs": [
    {
     "name": "stdout",
     "output_type": "stream",
     "text": [
      "\u001B[1m3539/3539\u001B[0m \u001B[32m━━━━━━━━━━━━━━━━━━━━\u001B[0m\u001B[37m\u001B[0m \u001B[1m8s\u001B[0m 2ms/step\n"
     ]
    },
    {
     "data": {
      "text/plain": "predict      0      1      2      3      4\nreel                                      \n0.0      19879   1558    631    520    209\n1.0       1741  20665    163     91     86\n2.0        797    212  20770    616    159\n3.0        370    134    387  21519      8\n4.0        293    113    275     10  22031",
      "text/html": "<div>\n<style scoped>\n    .dataframe tbody tr th:only-of-type {\n        vertical-align: middle;\n    }\n\n    .dataframe tbody tr th {\n        vertical-align: top;\n    }\n\n    .dataframe thead th {\n        text-align: right;\n    }\n</style>\n<table border=\"1\" class=\"dataframe\">\n  <thead>\n    <tr style=\"text-align: right;\">\n      <th>predict</th>\n      <th>0</th>\n      <th>1</th>\n      <th>2</th>\n      <th>3</th>\n      <th>4</th>\n    </tr>\n    <tr>\n      <th>reel</th>\n      <th></th>\n      <th></th>\n      <th></th>\n      <th></th>\n      <th></th>\n    </tr>\n  </thead>\n  <tbody>\n    <tr>\n      <th>0.0</th>\n      <td>19879</td>\n      <td>1558</td>\n      <td>631</td>\n      <td>520</td>\n      <td>209</td>\n    </tr>\n    <tr>\n      <th>1.0</th>\n      <td>1741</td>\n      <td>20665</td>\n      <td>163</td>\n      <td>91</td>\n      <td>86</td>\n    </tr>\n    <tr>\n      <th>2.0</th>\n      <td>797</td>\n      <td>212</td>\n      <td>20770</td>\n      <td>616</td>\n      <td>159</td>\n    </tr>\n    <tr>\n      <th>3.0</th>\n      <td>370</td>\n      <td>134</td>\n      <td>387</td>\n      <td>21519</td>\n      <td>8</td>\n    </tr>\n    <tr>\n      <th>4.0</th>\n      <td>293</td>\n      <td>113</td>\n      <td>275</td>\n      <td>10</td>\n      <td>22031</td>\n    </tr>\n  </tbody>\n</table>\n</div>"
     },
     "execution_count": 76,
     "metadata": {},
     "output_type": "execute_result"
    }
   ],
   "source": [
    "test_pred_class = model_d.predict(X_test).argmax(axis = 1)\n",
    "pd.crosstab(y_test, test_pred_class, rownames = [\"reel\"], colnames = [\"predict\"])"
   ]
  },
  {
   "cell_type": "code",
   "execution_count": 77,
   "metadata": {
    "colab": {
     "base_uri": "https://localhost:8080/",
     "height": 889
    },
    "id": "_QsmZnE4_cL5",
    "outputId": "0ded750c-8e65-4779-c9f5-971983acb65c",
    "ExecuteTime": {
     "end_time": "2024-03-15T06:10:43.480218Z",
     "start_time": "2024-03-15T06:10:42.759110Z"
    }
   },
   "outputs": [
    {
     "name": "stdout",
     "output_type": "stream",
     "text": [
      "dict_keys(['accuracy', 'loss', 'val_accuracy', 'val_loss', 'learning_rate'])\n"
     ]
    },
    {
     "data": {
      "text/plain": "<Figure size 640x480 with 1 Axes>",
      "image/png": "[encoded data removed]"
     },
     "metadata": {},
     "output_type": "display_data"
    },
    {
     "data": {
      "text/plain": "<Figure size 640x480 with 1 Axes>",
      "image/png": "[encoded data removed]"
     },
     "metadata": {},
     "output_type": "display_data"
    }
   ],
   "source": [
    "print(history.history.keys())\n",
    "# summarize history for accuracy\n",
    "plt.plot(history.history['accuracy'])\n",
    "plt.plot(history.history['val_accuracy'])\n",
    "plt.title('model accuracy')\n",
    "plt.ylabel('accuracy')\n",
    "plt.xlabel('epoch')\n",
    "plt.legend(['train', 'test'], loc='upper left')\n",
    "plt.show()\n",
    "# summarize history for loss\n",
    "plt.plot(history.history['loss'])\n",
    "plt.plot(history.history['val_loss'])\n",
    "plt.title('model loss')\n",
    "plt.ylabel('loss')\n",
    "plt.xlabel('epoch')\n",
    "plt.legend(['train', 'test'], loc='upper left')\n",
    "plt.show()"
   ]
  },
  {
   "cell_type": "markdown",
   "metadata": {
    "id": "r01TOX5zywd5"
   },
   "source": [
    "## appliqués au dataset ptbdb"
   ]
  },
  {
   "cell_type": "code",
   "execution_count": 77,
   "metadata": {
    "colab": {
     "base_uri": "https://localhost:8080/"
    },
    "id": "MHaxeF1cyz2V",
    "outputId": "c3f31f7a-3d1e-412e-aedb-4747188e3e44",
    "ExecuteTime": {
     "end_time": "2024-03-15T06:10:43.484627Z",
     "start_time": "2024-03-15T06:10:43.482153Z"
    }
   },
   "outputs": [],
   "source": []
  },
  {
   "cell_type": "code",
   "execution_count": 78,
   "metadata": {
    "colab": {
     "base_uri": "https://localhost:8080/",
     "height": 243
    },
    "id": "_atSRv40P6m5",
    "outputId": "483c7fb0-a217-4571-ff11-0c8587f6ce9e",
    "ExecuteTime": {
     "end_time": "2024-03-15T06:10:43.490083Z",
     "start_time": "2024-03-15T06:10:43.485935Z"
    }
   },
   "outputs": [],
   "source": [
    "early_stopping = EarlyStopping(monitor = 'val_loss',\n",
    "                    min_delta = 0.01,\n",
    "                    patience = 5,\n",
    "                    verbose = 1,\n",
    "                    mode = 'min',\n",
    "                    restore_best_weights = True)\n",
    "\n",
    "reduce_learning_rate = ReduceLROnPlateau(monitor = 'val_loss',\n",
    "                        min_delta = 0.01,\n",
    "                        patience = 3,\n",
    "                        factor = 0.1,\n",
    "                        cooldown = 4,\n",
    "                        verbose = 1)"
   ]
  },
  {
   "cell_type": "code",
   "execution_count": 79,
   "metadata": {
    "id": "qhRBd41V_zwR",
    "ExecuteTime": {
     "end_time": "2024-03-15T06:10:43.498212Z",
     "start_time": "2024-03-15T06:10:43.493527Z"
    }
   },
   "outputs": [],
   "source": [
    "X=df_i.iloc[:,:-1]\n",
    "y=df_i.iloc[:,-1]\n",
    "from sklearn.model_selection import train_test_split,cross_val_score\n",
    "from sklearn.linear_model import LogisticRegression\n",
    "from sklearn.ensemble import RandomForestClassifier\n",
    "from sklearn.svm import SVC\n",
    "from sklearn.metrics import classification_report,accuracy_score,confusion_matrix"
   ]
  },
  {
   "cell_type": "code",
   "execution_count": 91,
   "metadata": {
    "ExecuteTime": {
     "end_time": "2024-03-15T06:16:39.312590Z",
     "start_time": "2024-03-15T06:16:38.418375Z"
    }
   },
   "outputs": [],
   "source": [
    "smote = SMOTE()\n",
    "X_sm, y_sm = smote.fit_resample(X, y)\n",
    "X_train, X_test, y_train, y_test = train_test_split(X_sm, y_sm, test_size=0.25, random_state=28)"
   ]
  },
  {
   "cell_type": "code",
   "execution_count": 92,
   "metadata": {
    "id": "ffN7N3HC_8H5",
    "ExecuteTime": {
     "end_time": "2024-03-15T06:16:42.271590Z",
     "start_time": "2024-03-15T06:16:42.259082Z"
    }
   },
   "outputs": [],
   "source": [
    "from tensorflow.keras.layers import Input, Dense, Dropout, Flatten, Conv1D, MaxPooling1D, GlobalAveragePooling1D\n",
    "from tensorflow.keras.models import Model, Sequential\n",
    "from tensorflow.keras.utils import to_categorical\n",
    "from tensorflow.keras.callbacks import EarlyStopping, ReduceLROnPlateau"
   ]
  },
  {
   "cell_type": "code",
   "execution_count": 97,
   "metadata": {
    "id": "GMRvQq5gSbKu",
    "ExecuteTime": {
     "end_time": "2024-03-15T06:20:26.252288Z",
     "start_time": "2024-03-15T06:20:26.246544Z"
    }
   },
   "outputs": [],
   "source": [
    "batch_size = 32\n",
    "epochs = 30"
   ]
  },
  {
   "cell_type": "code",
   "outputs": [],
   "source": [
    "scaler = StandardScaler()\n",
    "X_train =scaler.fit_transform(X_train)\n",
    "X_test = scaler.transform(X_test)"
   ],
   "metadata": {
    "collapsed": false,
    "ExecuteTime": {
     "end_time": "2024-03-15T06:20:30.345597Z",
     "start_time": "2024-03-15T06:20:30.251096Z"
    }
   },
   "execution_count": 98
  },
  {
   "cell_type": "code",
   "outputs": [],
   "source": [
    "y_train = to_categorical(y_train)\n",
    "y_test = to_categorical(y_test)"
   ],
   "metadata": {
    "collapsed": false,
    "ExecuteTime": {
     "end_time": "2024-03-15T06:20:31.442662Z",
     "start_time": "2024-03-15T06:20:31.432966Z"
    }
   },
   "execution_count": 99
  },
  {
   "cell_type": "code",
   "execution_count": 100,
   "metadata": {
    "colab": {
     "base_uri": "https://localhost:8080/"
    },
    "id": "Jlf37U4BACEp",
    "outputId": "b0a00b94-665e-4528-d5c8-1b0eccdbd13f",
    "ExecuteTime": {
     "end_time": "2024-03-15T06:20:33.147786Z",
     "start_time": "2024-03-15T06:20:33.011861Z"
    }
   },
   "outputs": [
    {
     "data": {
      "text/plain": "\u001B[1mModel: \"functional_7\"\u001B[0m\n",
      "text/html": "<pre style=\"white-space:pre;overflow-x:auto;line-height:normal;font-family:Menlo,'DejaVu Sans Mono',consolas,'Courier New',monospace\"><span style=\"font-weight: bold\">Model: \"functional_7\"</span>\n</pre>\n"
     },
     "metadata": {},
     "output_type": "display_data"
    },
    {
     "data": {
      "text/plain": "┏━━━━━━━━━━━━━━━━━━━━━━━━━━━━━━━━━┳━━━━━━━━━━━━━━━━━━━━━━━━┳━━━━━━━━━━━━━━━┓\n┃\u001B[1m \u001B[0m\u001B[1mLayer (type)                   \u001B[0m\u001B[1m \u001B[0m┃\u001B[1m \u001B[0m\u001B[1mOutput Shape          \u001B[0m\u001B[1m \u001B[0m┃\u001B[1m \u001B[0m\u001B[1m      Param #\u001B[0m\u001B[1m \u001B[0m┃\n┡━━━━━━━━━━━━━━━━━━━━━━━━━━━━━━━━━╇━━━━━━━━━━━━━━━━━━━━━━━━╇━━━━━━━━━━━━━━━┩\n│ Input (\u001B[38;5;33mInputLayer\u001B[0m)              │ (\u001B[38;5;45mNone\u001B[0m, \u001B[38;5;34m187\u001B[0m)            │             \u001B[38;5;34m0\u001B[0m │\n├─────────────────────────────────┼────────────────────────┼───────────────┤\n│ dense1 (\u001B[38;5;33mDense\u001B[0m)                  │ (\u001B[38;5;45mNone\u001B[0m, \u001B[38;5;34m10\u001B[0m)             │         \u001B[38;5;34m1,880\u001B[0m │\n├─────────────────────────────────┼────────────────────────┼───────────────┤\n│ dense2 (\u001B[38;5;33mDense\u001B[0m)                  │ (\u001B[38;5;45mNone\u001B[0m, \u001B[38;5;34m8\u001B[0m)              │            \u001B[38;5;34m88\u001B[0m │\n├─────────────────────────────────┼────────────────────────┼───────────────┤\n│ dense3 (\u001B[38;5;33mDense\u001B[0m)                  │ (\u001B[38;5;45mNone\u001B[0m, \u001B[38;5;34m6\u001B[0m)              │            \u001B[38;5;34m54\u001B[0m │\n├─────────────────────────────────┼────────────────────────┼───────────────┤\n│ dense4 (\u001B[38;5;33mDense\u001B[0m)                  │ (\u001B[38;5;45mNone\u001B[0m, \u001B[38;5;34m2\u001B[0m)              │            \u001B[38;5;34m14\u001B[0m │\n└─────────────────────────────────┴────────────────────────┴───────────────┘\n",
      "text/html": "<pre style=\"white-space:pre;overflow-x:auto;line-height:normal;font-family:Menlo,'DejaVu Sans Mono',consolas,'Courier New',monospace\">┏━━━━━━━━━━━━━━━━━━━━━━━━━━━━━━━━━┳━━━━━━━━━━━━━━━━━━━━━━━━┳━━━━━━━━━━━━━━━┓\n┃<span style=\"font-weight: bold\"> Layer (type)                    </span>┃<span style=\"font-weight: bold\"> Output Shape           </span>┃<span style=\"font-weight: bold\">       Param # </span>┃\n┡━━━━━━━━━━━━━━━━━━━━━━━━━━━━━━━━━╇━━━━━━━━━━━━━━━━━━━━━━━━╇━━━━━━━━━━━━━━━┩\n│ Input (<span style=\"color: #0087ff; text-decoration-color: #0087ff\">InputLayer</span>)              │ (<span style=\"color: #00d7ff; text-decoration-color: #00d7ff\">None</span>, <span style=\"color: #00af00; text-decoration-color: #00af00\">187</span>)            │             <span style=\"color: #00af00; text-decoration-color: #00af00\">0</span> │\n├─────────────────────────────────┼────────────────────────┼───────────────┤\n│ dense1 (<span style=\"color: #0087ff; text-decoration-color: #0087ff\">Dense</span>)                  │ (<span style=\"color: #00d7ff; text-decoration-color: #00d7ff\">None</span>, <span style=\"color: #00af00; text-decoration-color: #00af00\">10</span>)             │         <span style=\"color: #00af00; text-decoration-color: #00af00\">1,880</span> │\n├─────────────────────────────────┼────────────────────────┼───────────────┤\n│ dense2 (<span style=\"color: #0087ff; text-decoration-color: #0087ff\">Dense</span>)                  │ (<span style=\"color: #00d7ff; text-decoration-color: #00d7ff\">None</span>, <span style=\"color: #00af00; text-decoration-color: #00af00\">8</span>)              │            <span style=\"color: #00af00; text-decoration-color: #00af00\">88</span> │\n├─────────────────────────────────┼────────────────────────┼───────────────┤\n│ dense3 (<span style=\"color: #0087ff; text-decoration-color: #0087ff\">Dense</span>)                  │ (<span style=\"color: #00d7ff; text-decoration-color: #00d7ff\">None</span>, <span style=\"color: #00af00; text-decoration-color: #00af00\">6</span>)              │            <span style=\"color: #00af00; text-decoration-color: #00af00\">54</span> │\n├─────────────────────────────────┼────────────────────────┼───────────────┤\n│ dense4 (<span style=\"color: #0087ff; text-decoration-color: #0087ff\">Dense</span>)                  │ (<span style=\"color: #00d7ff; text-decoration-color: #00d7ff\">None</span>, <span style=\"color: #00af00; text-decoration-color: #00af00\">2</span>)              │            <span style=\"color: #00af00; text-decoration-color: #00af00\">14</span> │\n└─────────────────────────────────┴────────────────────────┴───────────────┘\n</pre>\n"
     },
     "metadata": {},
     "output_type": "display_data"
    },
    {
     "data": {
      "text/plain": "\u001B[1m Total params: \u001B[0m\u001B[38;5;34m2,036\u001B[0m (7.95 KB)\n",
      "text/html": "<pre style=\"white-space:pre;overflow-x:auto;line-height:normal;font-family:Menlo,'DejaVu Sans Mono',consolas,'Courier New',monospace\"><span style=\"font-weight: bold\"> Total params: </span><span style=\"color: #00af00; text-decoration-color: #00af00\">2,036</span> (7.95 KB)\n</pre>\n"
     },
     "metadata": {},
     "output_type": "display_data"
    },
    {
     "data": {
      "text/plain": "\u001B[1m Trainable params: \u001B[0m\u001B[38;5;34m2,036\u001B[0m (7.95 KB)\n",
      "text/html": "<pre style=\"white-space:pre;overflow-x:auto;line-height:normal;font-family:Menlo,'DejaVu Sans Mono',consolas,'Courier New',monospace\"><span style=\"font-weight: bold\"> Trainable params: </span><span style=\"color: #00af00; text-decoration-color: #00af00\">2,036</span> (7.95 KB)\n</pre>\n"
     },
     "metadata": {},
     "output_type": "display_data"
    },
    {
     "data": {
      "text/plain": "\u001B[1m Non-trainable params: \u001B[0m\u001B[38;5;34m0\u001B[0m (0.00 B)\n",
      "text/html": "<pre style=\"white-space:pre;overflow-x:auto;line-height:normal;font-family:Menlo,'DejaVu Sans Mono',consolas,'Courier New',monospace\"><span style=\"font-weight: bold\"> Non-trainable params: </span><span style=\"color: #00af00; text-decoration-color: #00af00\">0</span> (0.00 B)\n</pre>\n"
     },
     "metadata": {},
     "output_type": "display_data"
    }
   ],
   "source": [
    "inputs = Input(shape = (X_train.shape[1],), name = \"Input\")\n",
    "dense1 = Dense(units = 10, activation = \"tanh\", name = \"dense1\", kernel_initializer=\"normal\")\n",
    "dense2 = Dense(units = 8, activation = \"tanh\", name = \"dense2\", kernel_initializer=\"normal\")\n",
    "dense3 = Dense(units = 6, activation = \"tanh\", name = \"dense3\", kernel_initializer=\"normal\")\n",
    "dense4 = Dense(units = 2, activation = \"softmax\", name = \"dense4\", kernel_initializer=\"normal\")\n",
    "\n",
    "x = dense1(inputs)\n",
    "x = dense2(x)\n",
    "x = dense3(x)\n",
    "outputs = dense4(x)\n",
    "\n",
    "model_b = Model(inputs = inputs, outputs = outputs)\n",
    "model_b.summary()"
   ]
  },
  {
   "cell_type": "code",
   "execution_count": 101,
   "metadata": {
    "id": "HYG-bNjXAEoh",
    "ExecuteTime": {
     "end_time": "2024-03-15T06:20:35.678006Z",
     "start_time": "2024-03-15T06:20:35.659077Z"
    }
   },
   "outputs": [],
   "source": [
    "model_b.compile(optimizer='adam', loss='binary_crossentropy', metrics=['accuracy'])"
   ]
  },
  {
   "cell_type": "code",
   "execution_count": 102,
   "metadata": {
    "colab": {
     "base_uri": "https://localhost:8080/"
    },
    "id": "1XtJnjCnAHF4",
    "outputId": "ec703efa-e792-4320-a54a-d44c2132687e",
    "ExecuteTime": {
     "end_time": "2024-03-15T06:21:04.597345Z",
     "start_time": "2024-03-15T06:20:36.965659Z"
    }
   },
   "outputs": [
    {
     "name": "stdout",
     "output_type": "stream",
     "text": [
      "Epoch 1/30\n",
      "\u001B[1m394/394\u001B[0m \u001B[32m━━━━━━━━━━━━━━━━━━━━\u001B[0m\u001B[37m\u001B[0m \u001B[1m4s\u001B[0m 5ms/step - accuracy: 0.7174 - loss: 0.5970 - val_accuracy: 0.8344 - val_loss: 0.4331 - learning_rate: 0.0010\n",
      "Epoch 2/30\n",
      "\u001B[1m394/394\u001B[0m \u001B[32m━━━━━━━━━━━━━━━━━━━━\u001B[0m\u001B[37m\u001B[0m \u001B[1m2s\u001B[0m 4ms/step - accuracy: 0.8433 - loss: 0.4179 - val_accuracy: 0.8652 - val_loss: 0.3766 - learning_rate: 0.0010\n",
      "Epoch 3/30\n",
      "\u001B[1m394/394\u001B[0m \u001B[32m━━━━━━━━━━━━━━━━━━━━\u001B[0m\u001B[37m\u001B[0m \u001B[1m1s\u001B[0m 3ms/step - accuracy: 0.8681 - loss: 0.3705 - val_accuracy: 0.8782 - val_loss: 0.3395 - learning_rate: 0.0010\n",
      "Epoch 4/30\n",
      "\u001B[1m394/394\u001B[0m \u001B[32m━━━━━━━━━━━━━━━━━━━━\u001B[0m\u001B[37m\u001B[0m \u001B[1m1s\u001B[0m 3ms/step - accuracy: 0.8865 - loss: 0.3245 - val_accuracy: 0.8826 - val_loss: 0.3119 - learning_rate: 0.0010\n",
      "Epoch 5/30\n",
      "\u001B[1m394/394\u001B[0m \u001B[32m━━━━━━━━━━━━━━━━━━━━\u001B[0m\u001B[37m\u001B[0m \u001B[1m1s\u001B[0m 3ms/step - accuracy: 0.8965 - loss: 0.2933 - val_accuracy: 0.8839 - val_loss: 0.3024 - learning_rate: 0.0010\n",
      "Epoch 6/30\n",
      "\u001B[1m394/394\u001B[0m \u001B[32m━━━━━━━━━━━━━━━━━━━━\u001B[0m\u001B[37m\u001B[0m \u001B[1m1s\u001B[0m 2ms/step - accuracy: 0.9026 - loss: 0.2773 - val_accuracy: 0.8896 - val_loss: 0.2933 - learning_rate: 0.0010\n",
      "Epoch 7/30\n",
      "\u001B[1m394/394\u001B[0m \u001B[32m━━━━━━━━━━━━━━━━━━━━\u001B[0m\u001B[37m\u001B[0m \u001B[1m1s\u001B[0m 4ms/step - accuracy: 0.9098 - loss: 0.2584 - val_accuracy: 0.8988 - val_loss: 0.2761 - learning_rate: 0.0010\n",
      "Epoch 8/30\n",
      "\u001B[1m394/394\u001B[0m \u001B[32m━━━━━━━━━━━━━━━━━━━━\u001B[0m\u001B[37m\u001B[0m \u001B[1m2s\u001B[0m 4ms/step - accuracy: 0.9155 - loss: 0.2399 - val_accuracy: 0.9048 - val_loss: 0.2597 - learning_rate: 0.0010\n",
      "Epoch 9/30\n",
      "\u001B[1m394/394\u001B[0m \u001B[32m━━━━━━━━━━━━━━━━━━━━\u001B[0m\u001B[37m\u001B[0m \u001B[1m2s\u001B[0m 4ms/step - accuracy: 0.9270 - loss: 0.2205 - val_accuracy: 0.9118 - val_loss: 0.2565 - learning_rate: 0.0010\n",
      "Epoch 10/30\n",
      "\u001B[1m394/394\u001B[0m \u001B[32m━━━━━━━━━━━━━━━━━━━━\u001B[0m\u001B[37m\u001B[0m \u001B[1m1s\u001B[0m 2ms/step - accuracy: 0.9248 - loss: 0.2274 - val_accuracy: 0.9134 - val_loss: 0.2483 - learning_rate: 0.0010\n",
      "Epoch 11/30\n",
      "\u001B[1m394/394\u001B[0m \u001B[32m━━━━━━━━━━━━━━━━━━━━\u001B[0m\u001B[37m\u001B[0m \u001B[1m1s\u001B[0m 3ms/step - accuracy: 0.9265 - loss: 0.2258 - val_accuracy: 0.9172 - val_loss: 0.2409 - learning_rate: 0.0010\n",
      "Epoch 12/30\n",
      "\u001B[1m394/394\u001B[0m \u001B[32m━━━━━━━━━━━━━━━━━━━━\u001B[0m\u001B[37m\u001B[0m \u001B[1m2s\u001B[0m 4ms/step - accuracy: 0.9347 - loss: 0.2058 - val_accuracy: 0.9191 - val_loss: 0.2396 - learning_rate: 0.0010\n",
      "Epoch 13/30\n",
      "\u001B[1m394/394\u001B[0m \u001B[32m━━━━━━━━━━━━━━━━━━━━\u001B[0m\u001B[37m\u001B[0m \u001B[1m2s\u001B[0m 4ms/step - accuracy: 0.9350 - loss: 0.2064 - val_accuracy: 0.9204 - val_loss: 0.2341 - learning_rate: 0.0010\n",
      "Epoch 14/30\n",
      "\u001B[1m394/394\u001B[0m \u001B[32m━━━━━━━━━━━━━━━━━━━━\u001B[0m\u001B[37m\u001B[0m \u001B[1m2s\u001B[0m 4ms/step - accuracy: 0.9349 - loss: 0.2008 - val_accuracy: 0.9191 - val_loss: 0.2368 - learning_rate: 0.0010\n",
      "Epoch 15/30\n",
      "\u001B[1m394/394\u001B[0m \u001B[32m━━━━━━━━━━━━━━━━━━━━\u001B[0m\u001B[37m\u001B[0m \u001B[1m1s\u001B[0m 3ms/step - accuracy: 0.9355 - loss: 0.2048 - val_accuracy: 0.9166 - val_loss: 0.2428 - learning_rate: 0.0010\n",
      "Epoch 16/30\n",
      "\u001B[1m391/394\u001B[0m \u001B[32m━━━━━━━━━━━━━━━━━━━\u001B[0m\u001B[37m━\u001B[0m \u001B[1m0s\u001B[0m 3ms/step - accuracy: 0.9371 - loss: 0.1972\n",
      "Epoch 16: ReduceLROnPlateau reducing learning rate to 0.00010000000474974513.\n",
      "\u001B[1m394/394\u001B[0m \u001B[32m━━━━━━━━━━━━━━━━━━━━\u001B[0m\u001B[37m\u001B[0m \u001B[1m2s\u001B[0m 4ms/step - accuracy: 0.9371 - loss: 0.1972 - val_accuracy: 0.9178 - val_loss: 0.2371 - learning_rate: 0.0010\n",
      "Epoch 17/30\n",
      "\u001B[1m394/394\u001B[0m \u001B[32m━━━━━━━━━━━━━━━━━━━━\u001B[0m\u001B[37m\u001B[0m \u001B[1m1s\u001B[0m 3ms/step - accuracy: 0.9438 - loss: 0.1851 - val_accuracy: 0.9286 - val_loss: 0.2244 - learning_rate: 1.0000e-04\n",
      "Epoch 18/30\n",
      "\u001B[1m394/394\u001B[0m \u001B[32m━━━━━━━━━━━━━━━━━━━━\u001B[0m\u001B[37m\u001B[0m \u001B[1m1s\u001B[0m 3ms/step - accuracy: 0.9492 - loss: 0.1785 - val_accuracy: 0.9280 - val_loss: 0.2243 - learning_rate: 1.0000e-04\n",
      "Epoch 18: early stopping\n",
      "Restoring model weights from the end of the best epoch: 13.\n"
     ]
    }
   ],
   "source": [
    "histo_dense = model_b.fit(X_train, y_train, epochs=epochs, validation_split = 0.2,callbacks=[early_stopping, reduce_learning_rate], batch_size=batch_size)"
   ]
  },
  {
   "cell_type": "code",
   "outputs": [],
   "source": [],
   "metadata": {
    "collapsed": false,
    "ExecuteTime": {
     "end_time": "2024-03-15T06:21:12.834654Z",
     "start_time": "2024-03-15T06:21:12.826206Z"
    }
   },
   "execution_count": 102
  },
  {
   "cell_type": "code",
   "execution_count": 103,
   "metadata": {
    "id": "65XE-IIYxa0a",
    "ExecuteTime": {
     "end_time": "2024-03-15T06:21:14.735898Z",
     "start_time": "2024-03-15T06:21:14.650602Z"
    }
   },
   "outputs": [
    {
     "name": "stderr",
     "output_type": "stream",
     "text": [
      "WARNING:absl:You are saving your model as an HDF5 file via `model.save()` or `keras.saving.save_model(model)`. This file format is considered legacy. We recommend using instead the native Keras format, e.g. `model.save('my_model.keras')` or `keras.saving.save_model(model, 'my_model.keras')`. \n"
     ]
    }
   ],
   "source": [
    "model_b.save('./model_dense_ptbdb.h5')"
   ]
  },
  {
   "cell_type": "code",
   "execution_count": 104,
   "metadata": {
    "colab": {
     "base_uri": "https://localhost:8080/",
     "height": 162
    },
    "id": "Jmo42f72x-RH",
    "outputId": "018c4808-1140-4618-f6c6-5841c984d1e2",
    "ExecuteTime": {
     "end_time": "2024-03-15T06:21:17.174984Z",
     "start_time": "2024-03-15T06:21:16.198166Z"
    }
   },
   "outputs": [
    {
     "name": "stdout",
     "output_type": "stream",
     "text": [
      "\u001B[1m165/165\u001B[0m \u001B[32m━━━━━━━━━━━━━━━━━━━━\u001B[0m\u001B[37m\u001B[0m \u001B[1m0s\u001B[0m 2ms/step\n"
     ]
    },
    {
     "data": {
      "text/plain": "predict     0     1\nreel               \n0        2481   123\n1         287  2362",
      "text/html": "<div>\n<style scoped>\n    .dataframe tbody tr th:only-of-type {\n        vertical-align: middle;\n    }\n\n    .dataframe tbody tr th {\n        vertical-align: top;\n    }\n\n    .dataframe thead th {\n        text-align: right;\n    }\n</style>\n<table border=\"1\" class=\"dataframe\">\n  <thead>\n    <tr style=\"text-align: right;\">\n      <th>predict</th>\n      <th>0</th>\n      <th>1</th>\n    </tr>\n    <tr>\n      <th>reel</th>\n      <th></th>\n      <th></th>\n    </tr>\n  </thead>\n  <tbody>\n    <tr>\n      <th>0</th>\n      <td>2481</td>\n      <td>123</td>\n    </tr>\n    <tr>\n      <th>1</th>\n      <td>287</td>\n      <td>2362</td>\n    </tr>\n  </tbody>\n</table>\n</div>"
     },
     "execution_count": 104,
     "metadata": {},
     "output_type": "execute_result"
    }
   ],
   "source": [
    "test_pred_class = model_b.predict(X_test).argmax(axis = 1)\n",
    "rounded_labels_b=np.argmax(y_test, axis=1)\n",
    "pd.crosstab(rounded_labels_b, test_pred_class, rownames = [\"reel\"], colnames = [\"predict\"])"
   ]
  },
  {
   "cell_type": "markdown",
   "metadata": {
    "id": "xVzIWjcry1Aw"
   },
   "source": [
    "# CONV_Net"
   ]
  },
  {
   "cell_type": "markdown",
   "metadata": {
    "id": "pRKqqNIpy6dh"
   },
   "source": [
    "## conv net apppliqué aux dataset mitbih"
   ]
  },
  {
   "cell_type": "code",
   "execution_count": 105,
   "metadata": {
    "id": "s-C0p77eAZRZ",
    "ExecuteTime": {
     "end_time": "2024-03-15T06:21:28.564245Z",
     "start_time": "2024-03-15T06:21:28.551773Z"
    }
   },
   "outputs": [],
   "source": [
    "X=df_a.iloc[:,:-1]\n",
    "y=df_a.iloc[:,-1]\n",
    "from sklearn.model_selection import train_test_split,cross_val_score\n",
    "from sklearn.linear_model import LogisticRegression\n",
    "from sklearn.ensemble import RandomForestClassifier\n",
    "from sklearn.svm import SVC\n",
    "from sklearn.preprocessing import StandardScaler\n",
    "from sklearn.metrics import confusion_matrix\n",
    "from sklearn.metrics import classification_report,accuracy_score,confusion_matrix"
   ]
  },
  {
   "cell_type": "code",
   "execution_count": 106,
   "metadata": {
    "ExecuteTime": {
     "end_time": "2024-03-15T06:21:37.295861Z",
     "start_time": "2024-03-15T06:21:30.293287Z"
    }
   },
   "outputs": [],
   "source": [
    "smote = SMOTE()\n",
    "X_sm, y_sm = smote.fit_resample(X, y)\n",
    "X_train, X_test, y_train, y_test = train_test_split(X_sm, y_sm, test_size=0.25, random_state=28)"
   ]
  },
  {
   "cell_type": "code",
   "execution_count": 107,
   "metadata": {
    "id": "BPRQH2K9AfZ0",
    "ExecuteTime": {
     "end_time": "2024-03-15T06:21:37.303560Z",
     "start_time": "2024-03-15T06:21:37.298463Z"
    }
   },
   "outputs": [],
   "source": [
    "from tensorflow.keras.layers import Input, Dense, Dropout, Flatten, Conv1D, MaxPooling1D, GlobalAveragePooling1D, BatchNormalization, SpatialDropout1D, Reshape\n",
    "from tensorflow.keras.models import Model, Sequential\n",
    "from tensorflow.keras.utils import to_categorical\n",
    "from tensorflow.keras.callbacks import EarlyStopping, ReduceLROnPlateau\n"
   ]
  },
  {
   "cell_type": "code",
   "execution_count": 108,
   "metadata": {
    "id": "lc47XbYoAomT",
    "ExecuteTime": {
     "end_time": "2024-03-15T06:21:39.807053Z",
     "start_time": "2024-03-15T06:21:37.305661Z"
    }
   },
   "outputs": [],
   "source": [
    "scaler = StandardScaler()\n",
    "X_train =scaler.fit_transform(X_train)\n",
    "X_test = scaler.transform(X_test)"
   ]
  },
  {
   "cell_type": "code",
   "execution_count": 109,
   "metadata": {
    "id": "q2W7d-5-As-p",
    "ExecuteTime": {
     "end_time": "2024-03-15T06:21:39.836216Z",
     "start_time": "2024-03-15T06:21:39.809220Z"
    }
   },
   "outputs": [],
   "source": [
    "\n",
    "y_train = to_categorical(y_train)\n",
    "y_test = to_categorical(y_test)"
   ]
  },
  {
   "cell_type": "code",
   "execution_count": 110,
   "metadata": {
    "id": "w4JbxxRsAu_c",
    "ExecuteTime": {
     "end_time": "2024-03-15T06:21:40.058204Z",
     "start_time": "2024-03-15T06:21:39.837901Z"
    }
   },
   "outputs": [],
   "source": [
    "X_train_cnn = np.reshape(X_sm, (X_sm.shape[0], X_sm.shape[1], 1))\n",
    "X_test_cnn = np.reshape(X_test, (X_test.shape[0], X_test.shape[1], 1))"
   ]
  },
  {
   "cell_type": "code",
   "execution_count": 116,
   "metadata": {
    "colab": {
     "base_uri": "https://localhost:8080/"
    },
    "id": "4Wsikn-SAywj",
    "outputId": "14be34d8-88b3-4ae5-82b0-057928a0c3f1",
    "ExecuteTime": {
     "end_time": "2024-03-15T06:22:30.837226Z",
     "start_time": "2024-03-15T06:22:30.826512Z"
    }
   },
   "outputs": [
    {
     "name": "stdout",
     "output_type": "stream",
     "text": [
      "(452945, 187, 1) (339708, 5) (113237, 187, 1) (113237, 5)\n"
     ]
    }
   ],
   "source": [
    "print(X_train_cnn.shape, y_train.shape, X_test_cnn.shape, y_test.shape)\n"
   ]
  },
  {
   "cell_type": "code",
   "execution_count": 112,
   "metadata": {
    "id": "0IiDEOLUA2vi",
    "ExecuteTime": {
     "end_time": "2024-03-15T06:21:40.932638Z",
     "start_time": "2024-03-15T06:21:40.922241Z"
    }
   },
   "outputs": [],
   "source": [
    "early_stopping = EarlyStopping(monitor = 'val_loss',\n",
    "                    min_delta = 0.01,\n",
    "                    patience = 5,\n",
    "                    verbose = 1,\n",
    "                    mode = 'min',\n",
    "                    restore_best_weights = True)\n",
    "\n",
    "reduce_learning_rate = ReduceLROnPlateau(monitor = 'val_loss',\n",
    "                        min_delta = 0.01,\n",
    "                        patience = 3,\n",
    "                        factor = 0.1,\n",
    "                        cooldown = 4,\n",
    "                        verbose = 1)"
   ]
  },
  {
   "cell_type": "code",
   "execution_count": 113,
   "metadata": {
    "id": "Ka3wqijXA7BR",
    "ExecuteTime": {
     "end_time": "2024-03-15T06:21:42.578299Z",
     "start_time": "2024-03-15T06:21:42.569549Z"
    }
   },
   "outputs": [],
   "source": [
    "batch_size=32\n",
    "verbose=1\n",
    "epochs = 50"
   ]
  },
  {
   "cell_type": "code",
   "execution_count": 119,
   "metadata": {
    "colab": {
     "base_uri": "https://localhost:8080/"
    },
    "id": "pECHDV3zA_Hx",
    "outputId": "20b014a5-70cb-40a3-e298-fdfd454e7314",
    "ExecuteTime": {
     "end_time": "2024-03-15T06:42:50.972248Z",
     "start_time": "2024-03-15T06:24:20.693516Z"
    }
   },
   "outputs": [
    {
     "name": "stdout",
     "output_type": "stream",
     "text": [
      "Epoch 1/50\n",
      "\u001B[1m8493/8493\u001B[0m \u001B[32m━━━━━━━━━━━━━━━━━━━━\u001B[0m\u001B[37m\u001B[0m \u001B[1m108s\u001B[0m 12ms/step - accuracy: 0.8851 - loss: 0.3157 - val_accuracy: 0.9758 - val_loss: 0.0747 - learning_rate: 0.0010\n",
      "Epoch 2/50\n",
      "\u001B[1m8493/8493\u001B[0m \u001B[32m━━━━━━━━━━━━━━━━━━━━\u001B[0m\u001B[37m\u001B[0m \u001B[1m102s\u001B[0m 12ms/step - accuracy: 0.9702 - loss: 0.0866 - val_accuracy: 0.9851 - val_loss: 0.0459 - learning_rate: 0.0010\n",
      "Epoch 3/50\n",
      "\u001B[1m8493/8493\u001B[0m \u001B[32m━━━━━━━━━━━━━━━━━━━━\u001B[0m\u001B[37m\u001B[0m \u001B[1m108s\u001B[0m 13ms/step - accuracy: 0.9790 - loss: 0.0600 - val_accuracy: 0.9875 - val_loss: 0.0390 - learning_rate: 0.0010\n",
      "Epoch 4/50\n",
      "\u001B[1m8493/8493\u001B[0m \u001B[32m━━━━━━━━━━━━━━━━━━━━\u001B[0m\u001B[37m\u001B[0m \u001B[1m104s\u001B[0m 12ms/step - accuracy: 0.9840 - loss: 0.0469 - val_accuracy: 0.9891 - val_loss: 0.0343 - learning_rate: 0.0010\n",
      "Epoch 5/50\n",
      "\u001B[1m8493/8493\u001B[0m \u001B[32m━━━━━━━━━━━━━━━━━━━━\u001B[0m\u001B[37m\u001B[0m \u001B[1m90s\u001B[0m 11ms/step - accuracy: 0.9864 - loss: 0.0408 - val_accuracy: 0.9910 - val_loss: 0.0312 - learning_rate: 0.0010\n",
      "Epoch 6/50\n",
      "\u001B[1m8493/8493\u001B[0m \u001B[32m━━━━━━━━━━━━━━━━━━━━\u001B[0m\u001B[37m\u001B[0m \u001B[1m91s\u001B[0m 11ms/step - accuracy: 0.9874 - loss: 0.0363 - val_accuracy: 0.9931 - val_loss: 0.0235 - learning_rate: 0.0010\n",
      "Epoch 7/50\n",
      "\u001B[1m8493/8493\u001B[0m \u001B[32m━━━━━━━━━━━━━━━━━━━━\u001B[0m\u001B[37m\u001B[0m \u001B[1m98s\u001B[0m 12ms/step - accuracy: 0.9889 - loss: 0.0322 - val_accuracy: 0.9912 - val_loss: 0.0268 - learning_rate: 0.0010\n",
      "Epoch 8/50\n",
      "\u001B[1m8493/8493\u001B[0m \u001B[32m━━━━━━━━━━━━━━━━━━━━\u001B[0m\u001B[37m\u001B[0m \u001B[1m99s\u001B[0m 12ms/step - accuracy: 0.9895 - loss: 0.0308 - val_accuracy: 0.9928 - val_loss: 0.0255 - learning_rate: 0.0010\n",
      "Epoch 9/50\n",
      "\u001B[1m8492/8493\u001B[0m \u001B[32m━━━━━━━━━━━━━━━━━━━\u001B[0m\u001B[37m━\u001B[0m \u001B[1m0s\u001B[0m 10ms/step - accuracy: 0.9908 - loss: 0.0278\n",
      "Epoch 9: ReduceLROnPlateau reducing learning rate to 0.00010000000474974513.\n",
      "\u001B[1m8493/8493\u001B[0m \u001B[32m━━━━━━━━━━━━━━━━━━━━\u001B[0m\u001B[37m\u001B[0m \u001B[1m98s\u001B[0m 12ms/step - accuracy: 0.9908 - loss: 0.0278 - val_accuracy: 0.9924 - val_loss: 0.0261 - learning_rate: 0.0010\n",
      "Epoch 10/50\n",
      "\u001B[1m8493/8493\u001B[0m \u001B[32m━━━━━━━━━━━━━━━━━━━━\u001B[0m\u001B[37m\u001B[0m \u001B[1m97s\u001B[0m 11ms/step - accuracy: 0.9938 - loss: 0.0182 - val_accuracy: 0.9960 - val_loss: 0.0152 - learning_rate: 1.0000e-04\n",
      "Epoch 11/50\n",
      "\u001B[1m8493/8493\u001B[0m \u001B[32m━━━━━━━━━━━━━━━━━━━━\u001B[0m\u001B[37m\u001B[0m \u001B[1m96s\u001B[0m 11ms/step - accuracy: 0.9951 - loss: 0.0149 - val_accuracy: 0.9959 - val_loss: 0.0151 - learning_rate: 1.0000e-04\n",
      "Epoch 11: early stopping\n",
      "Restoring model weights from the end of the best epoch: 6.\n",
      "\u001B[1m3539/3539\u001B[0m \u001B[32m━━━━━━━━━━━━━━━━━━━━\u001B[0m\u001B[37m\u001B[0m \u001B[1m18s\u001B[0m 5ms/step - accuracy: 0.9929 - loss: 0.0241\n"
     ]
    }
   ],
   "source": [
    "inputs = Input(shape = (X_sm.shape[1],1), name = \"Input\")\n",
    "conv1_lenet = Conv1D(filters = 32, kernel_size = 5, padding = \"valid\", activation = \"relu\")\n",
    "pool1_lenet = MaxPooling1D(pool_size = 2)\n",
    "conv2_lenet = Conv1D(filters = 16, kernel_size = 3, padding = \"valid\", activation = \"relu\")\n",
    "pool2_lenet = MaxPooling1D(pool_size = 2)\n",
    "dropout_lenet = Dropout(rate=0.2)\n",
    "flatten_lenet = Flatten()\n",
    "dense1_lenet = Dense(units = 128, activation=\"relu\")\n",
    "dense2_lenet = Dense(units = 5, activation=\"softmax\")\n",
    "\n",
    "x = conv1_lenet(inputs)\n",
    "x = pool1_lenet(x)\n",
    "x = conv2_lenet(x)\n",
    "x = pool2_lenet(x)\n",
    "x = dropout_lenet(x)\n",
    "x = flatten_lenet(x)\n",
    "x = dense1_lenet(x)\n",
    "outputs = dense2_lenet(x)\n",
    "\n",
    "\n",
    "model_lenet = Model(inputs = inputs, outputs = outputs)\n",
    "model_lenet.compile(loss='categorical_crossentropy', optimizer='adam', metrics=['accuracy'])\n",
    "history_1 = model_lenet.fit(X_train, y_train, epochs=epochs,callbacks=[early_stopping, reduce_learning_rate], batch_size=32,validation_split = 0.2, verbose=1)\n",
    "_, accuracy = model_lenet.evaluate(X_test, y_test, batch_size=batch_size, verbose=1)"
   ]
  },
  {
   "cell_type": "code",
   "execution_count": 120,
   "metadata": {
    "colab": {
     "base_uri": "https://localhost:8080/"
    },
    "id": "CrwcB5hbBCYB",
    "outputId": "a9941be4-7fdf-4038-ed2d-9fc9e68c84a8",
    "ExecuteTime": {
     "end_time": "2024-03-15T06:47:34.635064Z",
     "start_time": "2024-03-15T06:47:34.622709Z"
    }
   },
   "outputs": [
    {
     "data": {
      "text/plain": "0.9927232265472412"
     },
     "execution_count": 120,
     "metadata": {},
     "output_type": "execute_result"
    }
   ],
   "source": [
    "accuracy\n"
   ]
  },
  {
   "cell_type": "code",
   "execution_count": 121,
   "metadata": {
    "colab": {
     "base_uri": "https://localhost:8080/"
    },
    "id": "-IuM0iREGLUI",
    "outputId": "3a31a0f0-b6be-4698-99e0-3f9b1d2d3760",
    "ExecuteTime": {
     "end_time": "2024-03-15T06:48:00.816253Z",
     "start_time": "2024-03-15T06:47:37.253272Z"
    }
   },
   "outputs": [
    {
     "name": "stdout",
     "output_type": "stream",
     "text": [
      "\u001B[1m3539/3539\u001B[0m \u001B[32m━━━━━━━━━━━━━━━━━━━━\u001B[0m\u001B[37m\u001B[0m \u001B[1m18s\u001B[0m 5ms/step\n",
      "predict      0      1      2      3      4\n",
      "reel                                      \n",
      "0        22349    213     64    130     41\n",
      "1          117  22615      1     12      1\n",
      "2           65      5  22349    114     21\n",
      "3           20      0      8  22390      0\n",
      "4            7      2      2      1  22710\n",
      "                   pre       rec       spe        f1       geo       iba       sup\n",
      "\n",
      "          0       0.99      0.98      1.00      0.99      0.99      0.98     22797\n",
      "          1       0.99      0.99      1.00      0.99      1.00      0.99     22746\n",
      "          2       1.00      0.99      1.00      0.99      1.00      0.99     22554\n",
      "          3       0.99      1.00      1.00      0.99      1.00      1.00     22418\n",
      "          4       1.00      1.00      1.00      1.00      1.00      1.00     22722\n",
      "\n",
      "avg / total       0.99      0.99      1.00      0.99      1.00      0.99    113237\n"
     ]
    }
   ],
   "source": [
    "pred_class_1 = model_lenet.predict(X_test).argmax(axis = 1)\n",
    "rounded_labels_1=np.argmax(y_test, axis=1)\n",
    "print(pd.crosstab(rounded_labels_1, pred_class_1, rownames = [\"reel\"], colnames = [\"predict\"]))\n",
    "print(classification_report_imbalanced(rounded_labels_1, pred_class_1))"
   ]
  },
  {
   "cell_type": "code",
   "execution_count": 121,
   "metadata": {
    "id": "qyORxaHIGLR0",
    "ExecuteTime": {
     "end_time": "2024-03-15T06:48:33.182853Z",
     "start_time": "2024-03-15T06:48:33.171152Z"
    }
   },
   "outputs": [],
   "source": []
  },
  {
   "cell_type": "code",
   "execution_count": 122,
   "metadata": {
    "colab": {
     "base_uri": "https://localhost:8080/",
     "height": 591
    },
    "id": "B-3M-kMFBEga",
    "outputId": "a02200ee-071e-4339-9894-7323e3dc9163",
    "ExecuteTime": {
     "end_time": "2024-03-15T06:48:36.061915Z",
     "start_time": "2024-03-15T06:48:35.005819Z"
    }
   },
   "outputs": [
    {
     "name": "stdout",
     "output_type": "stream",
     "text": [
      "dict_keys(['accuracy', 'loss', 'val_accuracy', 'val_loss', 'learning_rate'])\n"
     ]
    },
    {
     "data": {
      "text/plain": "<Figure size 640x480 with 1 Axes>",
      "image/png": "[encoded data removed]"
     },
     "metadata": {},
     "output_type": "display_data"
    },
    {
     "data": {
      "text/plain": "<Figure size 640x480 with 1 Axes>",
      "image/png": "[encoded data removed]"
     },
     "metadata": {},
     "output_type": "display_data"
    }
   ],
   "source": [
    "print(history_1.history.keys())\n",
    "# summarize history for accuracy\n",
    "plt.plot(history_1.history['accuracy'])\n",
    "plt.plot(history_1.history['val_accuracy'])\n",
    "plt.title('model accuracy')\n",
    "plt.ylabel('accuracy')\n",
    "plt.xlabel('epoch')\n",
    "plt.legend(['train', 'test'], loc='upper left')\n",
    "plt.show()\n",
    "# summarize history for loss\n",
    "plt.plot(history_1.history['loss'])\n",
    "plt.plot(history_1.history['val_loss'])\n",
    "plt.title('model loss')\n",
    "plt.ylabel('loss')\n",
    "plt.xlabel('epoch')\n",
    "plt.legend(['train', 'test'], loc='upper left')\n",
    "plt.show()"
   ]
  },
  {
   "cell_type": "markdown",
   "metadata": {
    "id": "TKJRQPuwzG2B"
   },
   "source": [
    "## conv net apppliqué aux dataset ptbdb"
   ]
  },
  {
   "cell_type": "code",
   "execution_count": 123,
   "metadata": {
    "id": "2TeXeJg7F9kU",
    "ExecuteTime": {
     "end_time": "2024-03-15T06:48:40.868693Z",
     "start_time": "2024-03-15T06:48:40.861650Z"
    }
   },
   "outputs": [],
   "source": [
    "import pandas as pd\n",
    "import numpy as np\n",
    "from scipy.signal import find_peaks\n",
    "from sklearn.metrics import classification_report\n",
    "from imblearn.over_sampling import SMOTE\n",
    "from imblearn.metrics import classification_report_imbalanced, geometric_mean_score"
   ]
  },
  {
   "cell_type": "code",
   "execution_count": 144,
   "metadata": {
    "id": "OBNetPSl8MxL",
    "ExecuteTime": {
     "end_time": "2024-03-15T06:53:00.723246Z",
     "start_time": "2024-03-15T06:53:00.711161Z"
    }
   },
   "outputs": [],
   "source": [
    "X=df_i.iloc[:,:-1]\n",
    "y=df_i.iloc[:,-1]\n",
    "from sklearn.model_selection import train_test_split,cross_val_score\n",
    "from sklearn.linear_model import LogisticRegression\n",
    "from sklearn.ensemble import RandomForestClassifier\n",
    "from sklearn.svm import SVC\n",
    "from sklearn.metrics import classification_report,accuracy_score,confusion_matrix"
   ]
  },
  {
   "cell_type": "code",
   "execution_count": 145,
   "metadata": {
    "ExecuteTime": {
     "end_time": "2024-03-15T06:53:02.547121Z",
     "start_time": "2024-03-15T06:53:02.034742Z"
    }
   },
   "outputs": [],
   "source": [
    "smote = SMOTE()\n",
    "X_sm, y_sm = smote.fit_resample(X, y)\n",
    "X_train, X_test, y_train, y_test = train_test_split(X_sm, y_sm, test_size=0.25, random_state=28)"
   ]
  },
  {
   "cell_type": "code",
   "execution_count": 146,
   "metadata": {
    "id": "L_5qEwMH8Mr7",
    "ExecuteTime": {
     "end_time": "2024-03-15T06:53:03.622317Z",
     "start_time": "2024-03-15T06:53:03.614719Z"
    }
   },
   "outputs": [],
   "source": [
    "from sklearn.preprocessing import StandardScaler\n",
    "from sklearn.metrics import confusion_matrix"
   ]
  },
  {
   "cell_type": "code",
   "execution_count": 147,
   "metadata": {
    "id": "2lph8p3K8Mo6",
    "ExecuteTime": {
     "end_time": "2024-03-15T06:53:04.851825Z",
     "start_time": "2024-03-15T06:53:04.744526Z"
    }
   },
   "outputs": [],
   "source": [
    "scaler = StandardScaler()\n",
    "X_train =scaler.fit_transform(X_train)\n",
    "X_test = scaler.transform(X_test)"
   ]
  },
  {
   "cell_type": "code",
   "execution_count": 148,
   "metadata": {
    "id": "wZuWgV328Mlx",
    "ExecuteTime": {
     "end_time": "2024-03-15T06:53:07.232901Z",
     "start_time": "2024-03-15T06:53:07.223161Z"
    }
   },
   "outputs": [],
   "source": [
    "y_train = to_categorical(y_train)"
   ]
  },
  {
   "cell_type": "code",
   "execution_count": 149,
   "metadata": {
    "id": "43qtVJO28Mix",
    "ExecuteTime": {
     "end_time": "2024-03-15T06:53:18.907078Z",
     "start_time": "2024-03-15T06:53:18.890762Z"
    }
   },
   "outputs": [],
   "source": [
    "y_test = to_categorical(y_test)"
   ]
  },
  {
   "cell_type": "code",
   "execution_count": 150,
   "metadata": {
    "id": "P5-Q9se18Mfa",
    "ExecuteTime": {
     "end_time": "2024-03-15T06:53:20.917212Z",
     "start_time": "2024-03-15T06:53:20.907361Z"
    }
   },
   "outputs": [],
   "source": [
    "X_train_cnn = np.reshape(X_train, (X_train.shape[0], X_sm.shape[1], 1))\n",
    "X_test_cnn = np.reshape(X_test, (X_test.shape[0], X_test.shape[1], 1))"
   ]
  },
  {
   "cell_type": "code",
   "execution_count": 151,
   "metadata": {
    "id": "UWGJgRav8MZi",
    "ExecuteTime": {
     "end_time": "2024-03-15T06:53:22.131268Z",
     "start_time": "2024-03-15T06:53:22.124959Z"
    }
   },
   "outputs": [],
   "source": [
    "early_stopping = EarlyStopping(monitor = 'val_loss',\n",
    "                    min_delta = 0.01,\n",
    "                    patience = 5,\n",
    "                    verbose = 1,\n",
    "                    mode = 'min',\n",
    "                    restore_best_weights = True)\n",
    "\n",
    "reduce_learning_rate = ReduceLROnPlateau(monitor = 'val_loss',\n",
    "                        min_delta = 0.01,\n",
    "                        patience = 3,\n",
    "                        factor = 0.1,\n",
    "                        cooldown = 4,\n",
    "                        verbose = 1)"
   ]
  },
  {
   "cell_type": "code",
   "execution_count": 152,
   "metadata": {
    "colab": {
     "base_uri": "https://localhost:8080/"
    },
    "id": "ympgt9Nl8MSK",
    "outputId": "f40d5381-2766-45c4-9f5b-73de2a35355a",
    "ExecuteTime": {
     "end_time": "2024-03-15T06:54:38.449029Z",
     "start_time": "2024-03-15T06:53:23.772916Z"
    }
   },
   "outputs": [
    {
     "name": "stdout",
     "output_type": "stream",
     "text": [
      "Epoch 1/50\n",
      "\u001B[1m394/394\u001B[0m \u001B[32m━━━━━━━━━━━━━━━━━━━━\u001B[0m\u001B[37m\u001B[0m \u001B[1m8s\u001B[0m 11ms/step - accuracy: 0.7815 - loss: 0.4627 - val_accuracy: 0.8959 - val_loss: 0.2588 - learning_rate: 0.0010\n",
      "Epoch 2/50\n",
      "\u001B[1m394/394\u001B[0m \u001B[32m━━━━━━━━━━━━━━━━━━━━\u001B[0m\u001B[37m\u001B[0m \u001B[1m4s\u001B[0m 9ms/step - accuracy: 0.8930 - loss: 0.2685 - val_accuracy: 0.9470 - val_loss: 0.1674 - learning_rate: 0.0010\n",
      "Epoch 3/50\n",
      "\u001B[1m394/394\u001B[0m \u001B[32m━━━━━━━━━━━━━━━━━━━━\u001B[0m\u001B[37m\u001B[0m \u001B[1m5s\u001B[0m 12ms/step - accuracy: 0.9328 - loss: 0.1763 - val_accuracy: 0.9553 - val_loss: 0.1289 - learning_rate: 0.0010\n",
      "Epoch 4/50\n",
      "\u001B[1m394/394\u001B[0m \u001B[32m━━━━━━━━━━━━━━━━━━━━\u001B[0m\u001B[37m\u001B[0m \u001B[1m5s\u001B[0m 12ms/step - accuracy: 0.9509 - loss: 0.1328 - val_accuracy: 0.9740 - val_loss: 0.0894 - learning_rate: 0.0010\n",
      "Epoch 5/50\n",
      "\u001B[1m394/394\u001B[0m \u001B[32m━━━━━━━━━━━━━━━━━━━━\u001B[0m\u001B[37m\u001B[0m \u001B[1m4s\u001B[0m 10ms/step - accuracy: 0.9584 - loss: 0.1122 - val_accuracy: 0.9772 - val_loss: 0.0774 - learning_rate: 0.0010\n",
      "Epoch 6/50\n",
      "\u001B[1m394/394\u001B[0m \u001B[32m━━━━━━━━━━━━━━━━━━━━\u001B[0m\u001B[37m\u001B[0m \u001B[1m5s\u001B[0m 12ms/step - accuracy: 0.9686 - loss: 0.0880 - val_accuracy: 0.9813 - val_loss: 0.0625 - learning_rate: 0.0010\n",
      "Epoch 7/50\n",
      "\u001B[1m394/394\u001B[0m \u001B[32m━━━━━━━━━━━━━━━━━━━━\u001B[0m\u001B[37m\u001B[0m \u001B[1m5s\u001B[0m 12ms/step - accuracy: 0.9738 - loss: 0.0736 - val_accuracy: 0.9803 - val_loss: 0.0644 - learning_rate: 0.0010\n",
      "Epoch 8/50\n",
      "\u001B[1m394/394\u001B[0m \u001B[32m━━━━━━━━━━━━━━━━━━━━\u001B[0m\u001B[37m\u001B[0m \u001B[1m4s\u001B[0m 10ms/step - accuracy: 0.9756 - loss: 0.0660 - val_accuracy: 0.9870 - val_loss: 0.0448 - learning_rate: 0.0010\n",
      "Epoch 9/50\n",
      "\u001B[1m394/394\u001B[0m \u001B[32m━━━━━━━━━━━━━━━━━━━━\u001B[0m\u001B[37m\u001B[0m \u001B[1m4s\u001B[0m 9ms/step - accuracy: 0.9822 - loss: 0.0501 - val_accuracy: 0.9870 - val_loss: 0.0420 - learning_rate: 0.0010\n",
      "Epoch 10/50\n",
      "\u001B[1m394/394\u001B[0m \u001B[32m━━━━━━━━━━━━━━━━━━━━\u001B[0m\u001B[37m\u001B[0m \u001B[1m4s\u001B[0m 10ms/step - accuracy: 0.9835 - loss: 0.0470 - val_accuracy: 0.9838 - val_loss: 0.0468 - learning_rate: 0.0010\n",
      "Epoch 11/50\n",
      "\u001B[1m391/394\u001B[0m \u001B[32m━━━━━━━━━━━━━━━━━━━\u001B[0m\u001B[37m━\u001B[0m \u001B[1m0s\u001B[0m 10ms/step - accuracy: 0.9833 - loss: 0.0439\n",
      "Epoch 11: ReduceLROnPlateau reducing learning rate to 0.00010000000474974513.\n",
      "\u001B[1m394/394\u001B[0m \u001B[32m━━━━━━━━━━━━━━━━━━━━\u001B[0m\u001B[37m\u001B[0m \u001B[1m4s\u001B[0m 11ms/step - accuracy: 0.9833 - loss: 0.0439 - val_accuracy: 0.9886 - val_loss: 0.0359 - learning_rate: 0.0010\n",
      "Epoch 12/50\n",
      "\u001B[1m394/394\u001B[0m \u001B[32m━━━━━━━━━━━━━━━━━━━━\u001B[0m\u001B[37m\u001B[0m \u001B[1m5s\u001B[0m 11ms/step - accuracy: 0.9901 - loss: 0.0295 - val_accuracy: 0.9914 - val_loss: 0.0286 - learning_rate: 1.0000e-04\n",
      "Epoch 13/50\n",
      "\u001B[1m394/394\u001B[0m \u001B[32m━━━━━━━━━━━━━━━━━━━━\u001B[0m\u001B[37m\u001B[0m \u001B[1m4s\u001B[0m 10ms/step - accuracy: 0.9906 - loss: 0.0274 - val_accuracy: 0.9908 - val_loss: 0.0282 - learning_rate: 1.0000e-04\n",
      "Epoch 14/50\n",
      "\u001B[1m394/394\u001B[0m \u001B[32m━━━━━━━━━━━━━━━━━━━━\u001B[0m\u001B[37m\u001B[0m \u001B[1m4s\u001B[0m 11ms/step - accuracy: 0.9916 - loss: 0.0271 - val_accuracy: 0.9911 - val_loss: 0.0264 - learning_rate: 1.0000e-04\n",
      "Epoch 15/50\n",
      "\u001B[1m394/394\u001B[0m \u001B[32m━━━━━━━━━━━━━━━━━━━━\u001B[0m\u001B[37m\u001B[0m \u001B[1m4s\u001B[0m 10ms/step - accuracy: 0.9918 - loss: 0.0221 - val_accuracy: 0.9914 - val_loss: 0.0263 - learning_rate: 1.0000e-04\n",
      "Epoch 16/50\n",
      "\u001B[1m394/394\u001B[0m \u001B[32m━━━━━━━━━━━━━━━━━━━━\u001B[0m\u001B[37m\u001B[0m \u001B[1m3s\u001B[0m 8ms/step - accuracy: 0.9935 - loss: 0.0199 - val_accuracy: 0.9905 - val_loss: 0.0249 - learning_rate: 1.0000e-04\n",
      "Epoch 17/50\n",
      "\u001B[1m390/394\u001B[0m \u001B[32m━━━━━━━━━━━━━━━━━━━\u001B[0m\u001B[37m━\u001B[0m \u001B[1m0s\u001B[0m 7ms/step - accuracy: 0.9952 - loss: 0.0174\n",
      "Epoch 17: ReduceLROnPlateau reducing learning rate to 1.0000000474974514e-05.\n",
      "\u001B[1m394/394\u001B[0m \u001B[32m━━━━━━━━━━━━━━━━━━━━\u001B[0m\u001B[37m\u001B[0m \u001B[1m3s\u001B[0m 8ms/step - accuracy: 0.9952 - loss: 0.0174 - val_accuracy: 0.9905 - val_loss: 0.0273 - learning_rate: 1.0000e-04\n",
      "Epoch 17: early stopping\n",
      "Restoring model weights from the end of the best epoch: 12.\n"
     ]
    },
    {
     "ename": "ValueError",
     "evalue": "as_list() is not defined on an unknown TensorShape.",
     "output_type": "error",
     "traceback": [
      "\u001B[0;31m---------------------------------------------------------------------------\u001B[0m",
      "\u001B[0;31mValueError\u001B[0m                                Traceback (most recent call last)",
      "Cell \u001B[0;32mIn[152], line 24\u001B[0m\n\u001B[1;32m     22\u001B[0m model_lenpt\u001B[38;5;241m.\u001B[39mcompile(loss\u001B[38;5;241m=\u001B[39m\u001B[38;5;124m'\u001B[39m\u001B[38;5;124mbinary_crossentropy\u001B[39m\u001B[38;5;124m'\u001B[39m, optimizer\u001B[38;5;241m=\u001B[39m\u001B[38;5;124m'\u001B[39m\u001B[38;5;124madam\u001B[39m\u001B[38;5;124m'\u001B[39m, metrics\u001B[38;5;241m=\u001B[39m[\u001B[38;5;124m'\u001B[39m\u001B[38;5;124maccuracy\u001B[39m\u001B[38;5;124m'\u001B[39m])\n\u001B[1;32m     23\u001B[0m history_ptb \u001B[38;5;241m=\u001B[39m model_lenpt\u001B[38;5;241m.\u001B[39mfit(X_train, y_train, epochs\u001B[38;5;241m=\u001B[39mepochs,callbacks\u001B[38;5;241m=\u001B[39m[early_stopping, reduce_learning_rate], batch_size\u001B[38;5;241m=\u001B[39m\u001B[38;5;241m32\u001B[39m,validation_split \u001B[38;5;241m=\u001B[39m \u001B[38;5;241m0.2\u001B[39m, verbose\u001B[38;5;241m=\u001B[39m\u001B[38;5;241m1\u001B[39m)\n\u001B[0;32m---> 24\u001B[0m _, mse, accuracy \u001B[38;5;241m=\u001B[39m model_lenpt\u001B[38;5;241m.\u001B[39mevaluate(X_test_cnn, y_test, batch_size\u001B[38;5;241m=\u001B[39mbatch_size, verbose\u001B[38;5;241m=\u001B[39m\u001B[38;5;241m1\u001B[39m)\n",
      "File \u001B[0;32m~/anaconda3/lib/python3.11/site-packages/keras/src/utils/traceback_utils.py:123\u001B[0m, in \u001B[0;36mfilter_traceback.<locals>.error_handler\u001B[0;34m(*args, **kwargs)\u001B[0m\n\u001B[1;32m    120\u001B[0m     filtered_tb \u001B[38;5;241m=\u001B[39m _process_traceback_frames(e\u001B[38;5;241m.\u001B[39m__traceback__)\n\u001B[1;32m    121\u001B[0m     \u001B[38;5;66;03m# To get the full stack trace, call:\u001B[39;00m\n\u001B[1;32m    122\u001B[0m     \u001B[38;5;66;03m# `keras.config.disable_traceback_filtering()`\u001B[39;00m\n\u001B[0;32m--> 123\u001B[0m     \u001B[38;5;28;01mraise\u001B[39;00m e\u001B[38;5;241m.\u001B[39mwith_traceback(filtered_tb) \u001B[38;5;28;01mfrom\u001B[39;00m \u001B[38;5;28;01mNone\u001B[39;00m\n\u001B[1;32m    124\u001B[0m \u001B[38;5;28;01mfinally\u001B[39;00m:\n\u001B[1;32m    125\u001B[0m     \u001B[38;5;28;01mdel\u001B[39;00m filtered_tb\n",
      "File \u001B[0;32m~/anaconda3/lib/python3.11/site-packages/keras/src/utils/traceback_utils.py:123\u001B[0m, in \u001B[0;36mfilter_traceback.<locals>.error_handler\u001B[0;34m(*args, **kwargs)\u001B[0m\n\u001B[1;32m    120\u001B[0m     filtered_tb \u001B[38;5;241m=\u001B[39m _process_traceback_frames(e\u001B[38;5;241m.\u001B[39m__traceback__)\n\u001B[1;32m    121\u001B[0m     \u001B[38;5;66;03m# To get the full stack trace, call:\u001B[39;00m\n\u001B[1;32m    122\u001B[0m     \u001B[38;5;66;03m# `keras.config.disable_traceback_filtering()`\u001B[39;00m\n\u001B[0;32m--> 123\u001B[0m     \u001B[38;5;28;01mraise\u001B[39;00m e\u001B[38;5;241m.\u001B[39mwith_traceback(filtered_tb) \u001B[38;5;28;01mfrom\u001B[39;00m \u001B[38;5;28;01mNone\u001B[39;00m\n\u001B[1;32m    124\u001B[0m \u001B[38;5;28;01mfinally\u001B[39;00m:\n\u001B[1;32m    125\u001B[0m     \u001B[38;5;28;01mdel\u001B[39;00m filtered_tb\n",
      "\u001B[0;31mValueError\u001B[0m: as_list() is not defined on an unknown TensorShape."
     ]
    }
   ],
   "source": [
    "inputs = Input(shape = (X_sm.shape[1],1), name = \"Input\")\n",
    "conv1_lenet = Conv1D(filters = 32, kernel_size = 5, padding = \"valid\", activation = \"relu\")\n",
    "pool1_lenet = MaxPooling1D(pool_size = 2)\n",
    "conv2_lenet = Conv1D(filters = 16, kernel_size = 3, padding = \"valid\", activation = \"relu\")\n",
    "pool2_lenet = MaxPooling1D(pool_size = 2)\n",
    "dropout_lenet = Dropout(rate=0.2)\n",
    "flatten_lenet = Flatten()\n",
    "dense1_lenet = Dense(units = 128, activation=\"relu\")\n",
    "dense2_lenet = Dense(units = 2, activation=\"softmax\")\n",
    "\n",
    "x = conv1_lenet(inputs)\n",
    "x = pool1_lenet(x)\n",
    "x = conv2_lenet(x)\n",
    "x = pool2_lenet(x)\n",
    "x = dropout_lenet(x)\n",
    "x = flatten_lenet(x)\n",
    "x = dense1_lenet(x)\n",
    "outputs = dense2_lenet(x)\n",
    "\n",
    "\n",
    "model_lenpt = Model(inputs = inputs, outputs = outputs)\n",
    "model_lenpt.compile(loss='binary_crossentropy', optimizer='adam', metrics=['accuracy'])\n",
    "history_ptb = model_lenpt.fit(X_train, y_train, epochs=epochs,callbacks=[early_stopping, reduce_learning_rate], batch_size=32,validation_split = 0.2, verbose=1)\n",
    "_, mse, accuracy = model_lenpt.evaluate(X_test_cnn, y_test, batch_size=batch_size, verbose=1)"
   ]
  },
  {
   "cell_type": "code",
   "execution_count": 153,
   "metadata": {
    "colab": {
     "base_uri": "https://localhost:8080/"
    },
    "id": "Dn3RxAcq8nOS",
    "outputId": "2125ac95-c81c-4b98-bc70-c9aa0f0eb1da",
    "ExecuteTime": {
     "end_time": "2024-03-15T06:55:50.592201Z",
     "start_time": "2024-03-15T06:55:49.278935Z"
    }
   },
   "outputs": [
    {
     "name": "stdout",
     "output_type": "stream",
     "text": [
      "accuracy: 0.9927232265472412\n",
      "\u001B[1m165/165\u001B[0m \u001B[32m━━━━━━━━━━━━━━━━━━━━\u001B[0m\u001B[37m\u001B[0m \u001B[1m1s\u001B[0m 4ms/step\n",
      "predict     0     1\n",
      "reel               \n",
      "0        2583    21\n",
      "1          32  2617\n",
      "                   pre       rec       spe        f1       geo       iba       sup\n",
      "\n",
      "          0       0.99      0.99      0.99      0.99      0.99      0.98      2604\n",
      "          1       0.99      0.99      0.99      0.99      0.99      0.98      2649\n",
      "\n",
      "avg / total       0.99      0.99      0.99      0.99      0.99      0.98      5253\n"
     ]
    }
   ],
   "source": [
    "print('accuracy:', accuracy)\n",
    "\n",
    "pred_class_9 = model_lenpt.predict(X_test).argmax(axis = 1)\n",
    "rounded_labels_9=np.argmax(y_test, axis=1)\n",
    "print(pd.crosstab(rounded_labels_9, pred_class_9, rownames = [\"reel\"], colnames = [\"predict\"]))\n",
    "print(classification_report_imbalanced(rounded_labels_9, pred_class_9))\n"
   ]
  },
  {
   "cell_type": "code",
   "execution_count": 154,
   "metadata": {
    "colab": {
     "base_uri": "https://localhost:8080/",
     "height": 591
    },
    "id": "7L5QPlbU8rIr",
    "outputId": "0a6cf799-1097-4b73-8ef1-2972a8a6c38b",
    "ExecuteTime": {
     "end_time": "2024-03-15T06:55:53.881080Z",
     "start_time": "2024-03-15T06:55:53.149719Z"
    }
   },
   "outputs": [
    {
     "name": "stdout",
     "output_type": "stream",
     "text": [
      "dict_keys(['accuracy', 'loss', 'val_accuracy', 'val_loss', 'learning_rate'])\n"
     ]
    },
    {
     "data": {
      "text/plain": "<Figure size 640x480 with 1 Axes>",
      "image/png": "[encoded data removed]"
     },
     "metadata": {},
     "output_type": "display_data"
    },
    {
     "data": {
      "text/plain": "<Figure size 640x480 with 1 Axes>",
      "image/png": "[encoded data removed]"
     },
     "metadata": {},
     "output_type": "display_data"
    }
   ],
   "source": [
    "print(history_ptb.history.keys())\n",
    "# summarize history for accuracy\n",
    "plt.plot(history_ptb.history['accuracy'])\n",
    "plt.plot(history_ptb.history['val_accuracy'])\n",
    "plt.title('model accuracy')\n",
    "plt.ylabel('accuracy')\n",
    "plt.xlabel('epoch')\n",
    "plt.legend(['train', 'test'], loc='upper left')\n",
    "plt.show()\n",
    "# summarize history for loss\n",
    "plt.plot(history_ptb.history['loss'])\n",
    "plt.plot(history_ptb.history['val_loss'])\n",
    "plt.title('model loss')\n",
    "plt.ylabel('loss')\n",
    "plt.xlabel('epoch')\n",
    "plt.legend(['train', 'test'], loc='upper left')\n",
    "plt.show()"
   ]
  },
  {
   "cell_type": "markdown",
   "metadata": {
    "id": "_Cq2XZnizLOr"
   },
   "source": [
    "# Réseau de Neurones Convolutifs"
   ]
  },
  {
   "cell_type": "markdown",
   "metadata": {
    "id": "nWbcv_L9zSPt"
   },
   "source": [
    "## appliqué au dataset mitibih"
   ]
  },
  {
   "cell_type": "markdown",
   "metadata": {
    "id": "6yg97K9aHBOu"
   },
   "source": [
    "## Reseau convolutif. Données augmentée avec les proéminences des pics en valeurs numériques"
   ]
  },
  {
   "cell_type": "code",
   "execution_count": 155,
   "metadata": {
    "id": "gxlJtpMjHG5l",
    "ExecuteTime": {
     "end_time": "2024-03-15T06:59:26.630630Z",
     "start_time": "2024-03-15T06:59:26.614770Z"
    }
   },
   "outputs": [],
   "source": [
    "X=df_a.iloc[:,:-1]\n",
    "x_state=X\n",
    "y=df_a.iloc[:,-1]"
   ]
  },
  {
   "cell_type": "code",
   "execution_count": 155,
   "metadata": {
    "ExecuteTime": {
     "end_time": "2024-03-15T06:59:28.600199Z",
     "start_time": "2024-03-15T06:59:28.594444Z"
    }
   },
   "outputs": [],
   "source": []
  },
  {
   "cell_type": "code",
   "execution_count": 155,
   "metadata": {
    "ExecuteTime": {
     "end_time": "2024-03-15T06:59:29.301326Z",
     "start_time": "2024-03-15T06:59:29.297538Z"
    }
   },
   "outputs": [],
   "source": []
  },
  {
   "cell_type": "code",
   "execution_count": 156,
   "metadata": {
    "id": "iZ1JMUUmL48G",
    "ExecuteTime": {
     "end_time": "2024-03-15T06:59:30.335218Z",
     "start_time": "2024-03-15T06:59:30.324070Z"
    }
   },
   "outputs": [],
   "source": [
    "from sklearn.model_selection import train_test_split,cross_val_score\n",
    "from sklearn.linear_model import LogisticRegression\n",
    "from sklearn.ensemble import RandomForestClassifier\n",
    "from sklearn.svm import SVC\n",
    "from sklearn.preprocessing import StandardScaler,MinMaxScaler\n",
    "from sklearn.metrics import confusion_matrix\n",
    "from sklearn.metrics import classification_report,accuracy_score,confusion_matrix"
   ]
  },
  {
   "cell_type": "code",
   "execution_count": 157,
   "metadata": {
    "ExecuteTime": {
     "end_time": "2024-03-15T06:59:36.642477Z",
     "start_time": "2024-03-15T06:59:31.431774Z"
    }
   },
   "outputs": [],
   "source": [
    "smote = SMOTE()\n",
    "X_sm, y_sm = smote.fit_resample(X, y)\n"
   ]
  },
  {
   "cell_type": "code",
   "execution_count": 158,
   "metadata": {
    "id": "2wcXaT_oIZDV",
    "ExecuteTime": {
     "end_time": "2024-03-15T06:59:36.649925Z",
     "start_time": "2024-03-15T06:59:36.644259Z"
    }
   },
   "outputs": [],
   "source": [
    "def distrib_proeminence(df):\n",
    "    prominences = []\n",
    "    for i in range (len(df)):\n",
    "        x=df.iloc[i,:]\n",
    "        peaks, _ = signal.find_peaks(x)\n",
    "        pro=signal.peak_prominences(x, peaks)[0]\n",
    "        prominences.append(pro)\n",
    "    pro_S = pd.DataFrame(prominences)\n",
    "    return pro_S"
   ]
  },
  {
   "cell_type": "code",
   "execution_count": 159,
   "metadata": {
    "id": "kFLY5Z8pIQId",
    "ExecuteTime": {
     "end_time": "2024-03-15T07:02:46.046967Z",
     "start_time": "2024-03-15T06:59:36.651569Z"
    }
   },
   "outputs": [],
   "source": [
    "df_proem = distrib_proeminence(X_sm)\n",
    "#df_drop_last = df_proem_test_train.iloc[:,-1]\n",
    "df_proem = df_proem.add_prefix('pro_')\n",
    "#df = pd.concat([df,pro_S], axis =1)\n",
    "X_sm = pd.concat([X_sm,df_proem], axis =1)"
   ]
  },
  {
   "cell_type": "code",
   "execution_count": 160,
   "metadata": {
    "colab": {
     "base_uri": "https://localhost:8080/"
    },
    "id": "AaGnR-jEIx88",
    "outputId": "0fee4d00-81a4-4e18-a59a-3232ac9295cd",
    "ExecuteTime": {
     "end_time": "2024-03-15T07:02:46.183946Z",
     "start_time": "2024-03-15T07:02:46.050288Z"
    }
   },
   "outputs": [
    {
     "name": "stdout",
     "output_type": "stream",
     "text": [
      "<class 'pandas.core.frame.DataFrame'>\n",
      "RangeIndex: 452945 entries, 0 to 452944\n",
      "Columns: 275 entries, 0 to pro_87\n",
      "dtypes: float64(275)\n",
      "memory usage: 950.3 MB\n"
     ]
    }
   ],
   "source": [
    "X_sm.info()\n",
    "def format_col(df):\n",
    "    list_int= [i for i in range(len(df.columns))]\n",
    "    df.columns=list_int\n",
    "    return df\n",
    "format_col(X)\n",
    "X=X.fillna(-0.15)"
   ]
  },
  {
   "cell_type": "code",
   "execution_count": 161,
   "metadata": {
    "ExecuteTime": {
     "end_time": "2024-03-15T07:02:47.029753Z",
     "start_time": "2024-03-15T07:02:46.185442Z"
    }
   },
   "outputs": [],
   "source": [
    "X_train, X_test, y_train, y_test = train_test_split(X_sm, y_sm, test_size=0.25, random_state=28)"
   ]
  },
  {
   "cell_type": "code",
   "execution_count": 162,
   "metadata": {
    "id": "dPFe9jEOMQBr",
    "ExecuteTime": {
     "end_time": "2024-03-15T07:02:47.035433Z",
     "start_time": "2024-03-15T07:02:47.031597Z"
    }
   },
   "outputs": [],
   "source": [
    "from tensorflow.keras.layers import Input, Dense, Dropout, Flatten, Conv1D, MaxPooling1D, GlobalAveragePooling1D, BatchNormalization, SpatialDropout1D, Reshape\n",
    "from tensorflow.keras.models import Model, Sequential\n",
    "from tensorflow.keras.utils import to_categorical\n",
    "from tensorflow.keras.callbacks import EarlyStopping, ReduceLROnPlateau"
   ]
  },
  {
   "cell_type": "code",
   "execution_count": 165,
   "metadata": {
    "id": "r5O4XwfoKYvZ",
    "ExecuteTime": {
     "end_time": "2024-03-15T07:05:38.886261Z",
     "start_time": "2024-03-15T07:05:38.695519Z"
    }
   },
   "outputs": [
    {
     "ename": "TypeError",
     "evalue": "Feature names are only supported if all input features have string names, but your input has ['int', 'str'] as feature name / column name types. If you want feature names to be stored and validated, you must convert them all to strings, by using X.columns = X.columns.astype(str) for example. Otherwise you can remove feature / column names from your input data, or convert them all to a non-string data type.",
     "output_type": "error",
     "traceback": [
      "\u001B[0;31m---------------------------------------------------------------------------\u001B[0m",
      "\u001B[0;31mTypeError\u001B[0m                                 Traceback (most recent call last)",
      "Cell \u001B[0;32mIn[165], line 4\u001B[0m\n\u001B[1;32m      1\u001B[0m \u001B[38;5;28;01mfrom\u001B[39;00m \u001B[38;5;21;01msklearn\u001B[39;00m\u001B[38;5;21;01m.\u001B[39;00m\u001B[38;5;21;01mpreprocessing\u001B[39;00m \u001B[38;5;28;01mimport\u001B[39;00m StandardScaler\n\u001B[1;32m      3\u001B[0m scaler \u001B[38;5;241m=\u001B[39m StandardScaler()\n\u001B[0;32m----> 4\u001B[0m X_train \u001B[38;5;241m=\u001B[39mscaler\u001B[38;5;241m.\u001B[39mfit_transform(X_train)\n\u001B[1;32m      5\u001B[0m X_test \u001B[38;5;241m=\u001B[39m scaler\u001B[38;5;241m.\u001B[39mtransform(X_test)\n",
      "File \u001B[0;32m~/anaconda3/lib/python3.11/site-packages/sklearn/utils/_set_output.py:140\u001B[0m, in \u001B[0;36m_wrap_method_output.<locals>.wrapped\u001B[0;34m(self, X, *args, **kwargs)\u001B[0m\n\u001B[1;32m    138\u001B[0m \u001B[38;5;129m@wraps\u001B[39m(f)\n\u001B[1;32m    139\u001B[0m \u001B[38;5;28;01mdef\u001B[39;00m \u001B[38;5;21mwrapped\u001B[39m(\u001B[38;5;28mself\u001B[39m, X, \u001B[38;5;241m*\u001B[39margs, \u001B[38;5;241m*\u001B[39m\u001B[38;5;241m*\u001B[39mkwargs):\n\u001B[0;32m--> 140\u001B[0m     data_to_wrap \u001B[38;5;241m=\u001B[39m f(\u001B[38;5;28mself\u001B[39m, X, \u001B[38;5;241m*\u001B[39margs, \u001B[38;5;241m*\u001B[39m\u001B[38;5;241m*\u001B[39mkwargs)\n\u001B[1;32m    141\u001B[0m     \u001B[38;5;28;01mif\u001B[39;00m \u001B[38;5;28misinstance\u001B[39m(data_to_wrap, \u001B[38;5;28mtuple\u001B[39m):\n\u001B[1;32m    142\u001B[0m         \u001B[38;5;66;03m# only wrap the first output for cross decomposition\u001B[39;00m\n\u001B[1;32m    143\u001B[0m         \u001B[38;5;28;01mreturn\u001B[39;00m (\n\u001B[1;32m    144\u001B[0m             _wrap_data_with_container(method, data_to_wrap[\u001B[38;5;241m0\u001B[39m], X, \u001B[38;5;28mself\u001B[39m),\n\u001B[1;32m    145\u001B[0m             \u001B[38;5;241m*\u001B[39mdata_to_wrap[\u001B[38;5;241m1\u001B[39m:],\n\u001B[1;32m    146\u001B[0m         )\n",
      "File \u001B[0;32m~/anaconda3/lib/python3.11/site-packages/sklearn/base.py:878\u001B[0m, in \u001B[0;36mTransformerMixin.fit_transform\u001B[0;34m(self, X, y, **fit_params)\u001B[0m\n\u001B[1;32m    874\u001B[0m \u001B[38;5;66;03m# non-optimized default implementation; override when a better\u001B[39;00m\n\u001B[1;32m    875\u001B[0m \u001B[38;5;66;03m# method is possible for a given clustering algorithm\u001B[39;00m\n\u001B[1;32m    876\u001B[0m \u001B[38;5;28;01mif\u001B[39;00m y \u001B[38;5;129;01mis\u001B[39;00m \u001B[38;5;28;01mNone\u001B[39;00m:\n\u001B[1;32m    877\u001B[0m     \u001B[38;5;66;03m# fit method of arity 1 (unsupervised transformation)\u001B[39;00m\n\u001B[0;32m--> 878\u001B[0m     \u001B[38;5;28;01mreturn\u001B[39;00m \u001B[38;5;28mself\u001B[39m\u001B[38;5;241m.\u001B[39mfit(X, \u001B[38;5;241m*\u001B[39m\u001B[38;5;241m*\u001B[39mfit_params)\u001B[38;5;241m.\u001B[39mtransform(X)\n\u001B[1;32m    879\u001B[0m \u001B[38;5;28;01melse\u001B[39;00m:\n\u001B[1;32m    880\u001B[0m     \u001B[38;5;66;03m# fit method of arity 2 (supervised transformation)\u001B[39;00m\n\u001B[1;32m    881\u001B[0m     \u001B[38;5;28;01mreturn\u001B[39;00m \u001B[38;5;28mself\u001B[39m\u001B[38;5;241m.\u001B[39mfit(X, y, \u001B[38;5;241m*\u001B[39m\u001B[38;5;241m*\u001B[39mfit_params)\u001B[38;5;241m.\u001B[39mtransform(X)\n",
      "File \u001B[0;32m~/anaconda3/lib/python3.11/site-packages/sklearn/preprocessing/_data.py:824\u001B[0m, in \u001B[0;36mStandardScaler.fit\u001B[0;34m(self, X, y, sample_weight)\u001B[0m\n\u001B[1;32m    822\u001B[0m \u001B[38;5;66;03m# Reset internal state before fitting\u001B[39;00m\n\u001B[1;32m    823\u001B[0m \u001B[38;5;28mself\u001B[39m\u001B[38;5;241m.\u001B[39m_reset()\n\u001B[0;32m--> 824\u001B[0m \u001B[38;5;28;01mreturn\u001B[39;00m \u001B[38;5;28mself\u001B[39m\u001B[38;5;241m.\u001B[39mpartial_fit(X, y, sample_weight)\n",
      "File \u001B[0;32m~/anaconda3/lib/python3.11/site-packages/sklearn/preprocessing/_data.py:861\u001B[0m, in \u001B[0;36mStandardScaler.partial_fit\u001B[0;34m(self, X, y, sample_weight)\u001B[0m\n\u001B[1;32m    858\u001B[0m \u001B[38;5;28mself\u001B[39m\u001B[38;5;241m.\u001B[39m_validate_params()\n\u001B[1;32m    860\u001B[0m first_call \u001B[38;5;241m=\u001B[39m \u001B[38;5;129;01mnot\u001B[39;00m \u001B[38;5;28mhasattr\u001B[39m(\u001B[38;5;28mself\u001B[39m, \u001B[38;5;124m\"\u001B[39m\u001B[38;5;124mn_samples_seen_\u001B[39m\u001B[38;5;124m\"\u001B[39m)\n\u001B[0;32m--> 861\u001B[0m X \u001B[38;5;241m=\u001B[39m \u001B[38;5;28mself\u001B[39m\u001B[38;5;241m.\u001B[39m_validate_data(\n\u001B[1;32m    862\u001B[0m     X,\n\u001B[1;32m    863\u001B[0m     accept_sparse\u001B[38;5;241m=\u001B[39m(\u001B[38;5;124m\"\u001B[39m\u001B[38;5;124mcsr\u001B[39m\u001B[38;5;124m\"\u001B[39m, \u001B[38;5;124m\"\u001B[39m\u001B[38;5;124mcsc\u001B[39m\u001B[38;5;124m\"\u001B[39m),\n\u001B[1;32m    864\u001B[0m     dtype\u001B[38;5;241m=\u001B[39mFLOAT_DTYPES,\n\u001B[1;32m    865\u001B[0m     force_all_finite\u001B[38;5;241m=\u001B[39m\u001B[38;5;124m\"\u001B[39m\u001B[38;5;124mallow-nan\u001B[39m\u001B[38;5;124m\"\u001B[39m,\n\u001B[1;32m    866\u001B[0m     reset\u001B[38;5;241m=\u001B[39mfirst_call,\n\u001B[1;32m    867\u001B[0m )\n\u001B[1;32m    868\u001B[0m n_features \u001B[38;5;241m=\u001B[39m X\u001B[38;5;241m.\u001B[39mshape[\u001B[38;5;241m1\u001B[39m]\n\u001B[1;32m    870\u001B[0m \u001B[38;5;28;01mif\u001B[39;00m sample_weight \u001B[38;5;129;01mis\u001B[39;00m \u001B[38;5;129;01mnot\u001B[39;00m \u001B[38;5;28;01mNone\u001B[39;00m:\n",
      "File \u001B[0;32m~/anaconda3/lib/python3.11/site-packages/sklearn/base.py:548\u001B[0m, in \u001B[0;36mBaseEstimator._validate_data\u001B[0;34m(self, X, y, reset, validate_separately, **check_params)\u001B[0m\n\u001B[1;32m    483\u001B[0m \u001B[38;5;28;01mdef\u001B[39;00m \u001B[38;5;21m_validate_data\u001B[39m(\n\u001B[1;32m    484\u001B[0m     \u001B[38;5;28mself\u001B[39m,\n\u001B[1;32m    485\u001B[0m     X\u001B[38;5;241m=\u001B[39m\u001B[38;5;124m\"\u001B[39m\u001B[38;5;124mno_validation\u001B[39m\u001B[38;5;124m\"\u001B[39m,\n\u001B[0;32m   (...)\u001B[0m\n\u001B[1;32m    489\u001B[0m     \u001B[38;5;241m*\u001B[39m\u001B[38;5;241m*\u001B[39mcheck_params,\n\u001B[1;32m    490\u001B[0m ):\n\u001B[1;32m    491\u001B[0m \u001B[38;5;250m    \u001B[39m\u001B[38;5;124;03m\"\"\"Validate input data and set or check the `n_features_in_` attribute.\u001B[39;00m\n\u001B[1;32m    492\u001B[0m \n\u001B[1;32m    493\u001B[0m \u001B[38;5;124;03m    Parameters\u001B[39;00m\n\u001B[0;32m   (...)\u001B[0m\n\u001B[1;32m    546\u001B[0m \u001B[38;5;124;03m        validated.\u001B[39;00m\n\u001B[1;32m    547\u001B[0m \u001B[38;5;124;03m    \"\"\"\u001B[39;00m\n\u001B[0;32m--> 548\u001B[0m     \u001B[38;5;28mself\u001B[39m\u001B[38;5;241m.\u001B[39m_check_feature_names(X, reset\u001B[38;5;241m=\u001B[39mreset)\n\u001B[1;32m    550\u001B[0m     \u001B[38;5;28;01mif\u001B[39;00m y \u001B[38;5;129;01mis\u001B[39;00m \u001B[38;5;28;01mNone\u001B[39;00m \u001B[38;5;129;01mand\u001B[39;00m \u001B[38;5;28mself\u001B[39m\u001B[38;5;241m.\u001B[39m_get_tags()[\u001B[38;5;124m\"\u001B[39m\u001B[38;5;124mrequires_y\u001B[39m\u001B[38;5;124m\"\u001B[39m]:\n\u001B[1;32m    551\u001B[0m         \u001B[38;5;28;01mraise\u001B[39;00m \u001B[38;5;167;01mValueError\u001B[39;00m(\n\u001B[1;32m    552\u001B[0m             \u001B[38;5;124mf\u001B[39m\u001B[38;5;124m\"\u001B[39m\u001B[38;5;124mThis \u001B[39m\u001B[38;5;132;01m{\u001B[39;00m\u001B[38;5;28mself\u001B[39m\u001B[38;5;241m.\u001B[39m\u001B[38;5;18m__class__\u001B[39m\u001B[38;5;241m.\u001B[39m\u001B[38;5;18m__name__\u001B[39m\u001B[38;5;132;01m}\u001B[39;00m\u001B[38;5;124m estimator \u001B[39m\u001B[38;5;124m\"\u001B[39m\n\u001B[1;32m    553\u001B[0m             \u001B[38;5;124m\"\u001B[39m\u001B[38;5;124mrequires y to be passed, but the target y is None.\u001B[39m\u001B[38;5;124m\"\u001B[39m\n\u001B[1;32m    554\u001B[0m         )\n",
      "File \u001B[0;32m~/anaconda3/lib/python3.11/site-packages/sklearn/base.py:415\u001B[0m, in \u001B[0;36mBaseEstimator._check_feature_names\u001B[0;34m(self, X, reset)\u001B[0m\n\u001B[1;32m    395\u001B[0m \u001B[38;5;250m\u001B[39m\u001B[38;5;124;03m\"\"\"Set or check the `feature_names_in_` attribute.\u001B[39;00m\n\u001B[1;32m    396\u001B[0m \n\u001B[1;32m    397\u001B[0m \u001B[38;5;124;03m.. versionadded:: 1.0\u001B[39;00m\n\u001B[0;32m   (...)\u001B[0m\n\u001B[1;32m    411\u001B[0m \u001B[38;5;124;03m       should set `reset=False`.\u001B[39;00m\n\u001B[1;32m    412\u001B[0m \u001B[38;5;124;03m\"\"\"\u001B[39;00m\n\u001B[1;32m    414\u001B[0m \u001B[38;5;28;01mif\u001B[39;00m reset:\n\u001B[0;32m--> 415\u001B[0m     feature_names_in \u001B[38;5;241m=\u001B[39m _get_feature_names(X)\n\u001B[1;32m    416\u001B[0m     \u001B[38;5;28;01mif\u001B[39;00m feature_names_in \u001B[38;5;129;01mis\u001B[39;00m \u001B[38;5;129;01mnot\u001B[39;00m \u001B[38;5;28;01mNone\u001B[39;00m:\n\u001B[1;32m    417\u001B[0m         \u001B[38;5;28mself\u001B[39m\u001B[38;5;241m.\u001B[39mfeature_names_in_ \u001B[38;5;241m=\u001B[39m feature_names_in\n",
      "File \u001B[0;32m~/anaconda3/lib/python3.11/site-packages/sklearn/utils/validation.py:1903\u001B[0m, in \u001B[0;36m_get_feature_names\u001B[0;34m(X)\u001B[0m\n\u001B[1;32m   1901\u001B[0m \u001B[38;5;66;03m# mixed type of string and non-string is not supported\u001B[39;00m\n\u001B[1;32m   1902\u001B[0m \u001B[38;5;28;01mif\u001B[39;00m \u001B[38;5;28mlen\u001B[39m(types) \u001B[38;5;241m>\u001B[39m \u001B[38;5;241m1\u001B[39m \u001B[38;5;129;01mand\u001B[39;00m \u001B[38;5;124m\"\u001B[39m\u001B[38;5;124mstr\u001B[39m\u001B[38;5;124m\"\u001B[39m \u001B[38;5;129;01min\u001B[39;00m types:\n\u001B[0;32m-> 1903\u001B[0m     \u001B[38;5;28;01mraise\u001B[39;00m \u001B[38;5;167;01mTypeError\u001B[39;00m(\n\u001B[1;32m   1904\u001B[0m         \u001B[38;5;124m\"\u001B[39m\u001B[38;5;124mFeature names are only supported if all input features have string names, \u001B[39m\u001B[38;5;124m\"\u001B[39m\n\u001B[1;32m   1905\u001B[0m         \u001B[38;5;124mf\u001B[39m\u001B[38;5;124m\"\u001B[39m\u001B[38;5;124mbut your input has \u001B[39m\u001B[38;5;132;01m{\u001B[39;00mtypes\u001B[38;5;132;01m}\u001B[39;00m\u001B[38;5;124m as feature name / column name types. \u001B[39m\u001B[38;5;124m\"\u001B[39m\n\u001B[1;32m   1906\u001B[0m         \u001B[38;5;124m\"\u001B[39m\u001B[38;5;124mIf you want feature names to be stored and validated, you must convert \u001B[39m\u001B[38;5;124m\"\u001B[39m\n\u001B[1;32m   1907\u001B[0m         \u001B[38;5;124m\"\u001B[39m\u001B[38;5;124mthem all to strings, by using X.columns = X.columns.astype(str) for \u001B[39m\u001B[38;5;124m\"\u001B[39m\n\u001B[1;32m   1908\u001B[0m         \u001B[38;5;124m\"\u001B[39m\u001B[38;5;124mexample. Otherwise you can remove feature / column names from your input \u001B[39m\u001B[38;5;124m\"\u001B[39m\n\u001B[1;32m   1909\u001B[0m         \u001B[38;5;124m\"\u001B[39m\u001B[38;5;124mdata, or convert them all to a non-string data type.\u001B[39m\u001B[38;5;124m\"\u001B[39m\n\u001B[1;32m   1910\u001B[0m     )\n\u001B[1;32m   1912\u001B[0m \u001B[38;5;66;03m# Only feature names of all strings are supported\u001B[39;00m\n\u001B[1;32m   1913\u001B[0m \u001B[38;5;28;01mif\u001B[39;00m \u001B[38;5;28mlen\u001B[39m(types) \u001B[38;5;241m==\u001B[39m \u001B[38;5;241m1\u001B[39m \u001B[38;5;129;01mand\u001B[39;00m types[\u001B[38;5;241m0\u001B[39m] \u001B[38;5;241m==\u001B[39m \u001B[38;5;124m\"\u001B[39m\u001B[38;5;124mstr\u001B[39m\u001B[38;5;124m\"\u001B[39m:\n",
      "\u001B[0;31mTypeError\u001B[0m: Feature names are only supported if all input features have string names, but your input has ['int', 'str'] as feature name / column name types. If you want feature names to be stored and validated, you must convert them all to strings, by using X.columns = X.columns.astype(str) for example. Otherwise you can remove feature / column names from your input data, or convert them all to a non-string data type."
     ]
    }
   ],
   "source": [
    "from sklearn.preprocessing import StandardScaler\n",
    "\n",
    "scaler = StandardScaler()\n",
    "X_train =scaler.fit_transform(X_train)\n",
    "X_test = scaler.transform(X_test)\n"
   ]
  },
  {
   "cell_type": "code",
   "execution_count": null,
   "metadata": {
    "id": "m5jtDrUOMhAh"
   },
   "outputs": [],
   "source": [
    "y_train = to_categorical(y_train)\n",
    "y_test = to_categorical(y_test)"
   ]
  },
  {
   "cell_type": "code",
   "execution_count": null,
   "metadata": {
    "id": "h8nYdc_iMoHQ"
   },
   "outputs": [],
   "source": [
    "X_train_cnn = np.reshape(X_sm, (X_sm.shape[0], X_sm.shape[1], 1))\n",
    "X_test_cnn = np.reshape(X_test, (X_test.shape[0], X_test.shape[1], 1))"
   ]
  },
  {
   "cell_type": "code",
   "execution_count": null,
   "metadata": {
    "id": "ebIzcLIIMsLc"
   },
   "outputs": [],
   "source": [
    "early_stopping = EarlyStopping(monitor = 'val_loss',\n",
    "                    min_delta = 0.01,\n",
    "                    patience = 5,\n",
    "                    verbose = 1,\n",
    "                    mode = 'min',\n",
    "                    restore_best_weights = True)\n",
    "\n",
    "reduce_learning_rate = ReduceLROnPlateau(monitor = 'val_loss',\n",
    "                        min_delta = 0.01,\n",
    "                        patience = 3,\n",
    "                        factor = 0.1,\n",
    "                        cooldown = 4,\n",
    "                        verbose = 1)"
   ]
  },
  {
   "cell_type": "code",
   "execution_count": null,
   "metadata": {
    "colab": {
     "base_uri": "https://localhost:8080/"
    },
    "id": "8U1R_czkM4tJ",
    "outputId": "52cec22b-6b70-47d9-fa61-5bef7e1b9c12"
   },
   "outputs": [],
   "source": [
    "verbose, epochs, batch_size = 1, 50 , 32\n",
    "n_timesteps, n_features, n_outputs =  X_train_cnn.shape[1],X_train_cnn.shape[2], y_sm.shape[1]\n",
    "model_a = Sequential()\n",
    "model_a.add(Conv1D(filters=64, kernel_size=5, activation='relu',input_shape=(n_timesteps,n_features)))\n",
    "model_a.add(Conv1D(filters=64, kernel_size=3, activation='relu'))\n",
    "model_a.add(BatchNormalization())\n",
    "model_a.add(MaxPooling1D(pool_size=2))\n",
    "model_a.add(Conv1D(filters=32, kernel_size=5, activation='relu'))\n",
    "model_a.add(Conv1D(filters=32, kernel_size=3, activation='relu'))\n",
    "model_a.add(BatchNormalization())\n",
    "model_a.add(MaxPooling1D(pool_size=2))\n",
    "model_a.add(Conv1D(filters=16, kernel_size=5, activation='relu'))\n",
    "model_a.add(Conv1D(filters=16, kernel_size=3, activation='relu'))\n",
    "model_a.add(BatchNormalization())\n",
    "model_a.add(MaxPooling1D(pool_size=2))\n",
    "model_a.add(Flatten())\n",
    "model_a.add(Dense(125, activation='relu'))\n",
    "model_a.add(Dense(n_outputs, activation='softmax'))\n",
    "model_a.compile(loss='categorical_crossentropy', optimizer='adam', metrics=['accuracy'])\n",
    "history_a = model_a.fit(X_sm, y_sm, epochs=epochs,callbacks=[early_stopping, reduce_learning_rate], batch_size=batch_size,validation_split = 0.2, verbose=verbose)\n",
    "model_a.save('/content/drive/MyDrive/heart_peak/model_mycnn_mitbih_2.h5')\n",
    "_, accuracy = model_a.evaluate(X_test, y_test, batch_size=batch_size, verbose=verbose)"
   ]
  },
  {
   "cell_type": "code",
   "execution_count": null,
   "metadata": {
    "id": "tpfQ9y-TVlKU"
   },
   "outputs": [],
   "source": [
    "\n"
   ]
  },
  {
   "cell_type": "code",
   "execution_count": null,
   "metadata": {
    "colab": {
     "base_uri": "https://localhost:8080/"
    },
    "id": "uNH-Zr_jNcZI",
    "outputId": "5413661d-3127-4f8d-e5a6-166ffa94c80f"
   },
   "outputs": [],
   "source": [
    "print('accuracy',accuracy )\n",
    "\n",
    "pred_class_a = model_a.predict(X_test).argmax(axis = 1)\n",
    "rounded_labels_a=np.argmax(y_test, axis=1)\n",
    "print(pd.crosstab(rounded_labels_a, pred_class_a, rownames = [\"reel\"], colnames = [\"predict\"]))\n",
    "print(classification_report_imbalanced(rounded_labels_a, pred_class_a))"
   ]
  },
  {
   "cell_type": "code",
   "execution_count": null,
   "metadata": {
    "colab": {
     "base_uri": "https://localhost:8080/",
     "height": 1000
    },
    "id": "way7Ibz6OQe3",
    "outputId": "a18fd5dd-ba43-4492-f3ae-89184f18b704"
   },
   "outputs": [],
   "source": [
    "print(history_a.history.keys())\n",
    "# summarize history for accuracy\n",
    "plt.plot(history_a.history['accuracy'])\n",
    "plt.plot(history_a.history['val_accuracy'])\n",
    "plt.title('model accuracy')\n",
    "plt.ylabel('accuracy')\n",
    "plt.xlabel('epoch')\n",
    "plt.legend(['train', 'test'], loc='upper left')\n",
    "plt.savefig('/content/drive/MyDrive/heart_peak/acc_model_a')\n",
    "plt.show()\n",
    "# summarize history for loss\n",
    "plt.plot(history_a.history['loss'])\n",
    "plt.plot(history_a.history['val_loss'])\n",
    "plt.title('model loss')\n",
    "plt.ylabel('loss')\n",
    "plt.xlabel('epoch')\n",
    "plt.legend(['train', 'test'], loc='upper left')\n",
    "plt.savefig('/content/drive/MyDrive/heart_peak/loss_model_a')\n",
    "plt.show()"
   ]
  },
  {
   "cell_type": "markdown",
   "metadata": {
    "id": "7Sfvak0UHCow"
   },
   "source": [
    "## Section sans augmentation d'information, recherche du meilleur modèle travaux préliminaire sans ajout de proéminences"
   ]
  },
  {
   "cell_type": "code",
   "execution_count": 166,
   "metadata": {
    "id": "T87Di4KAzc41",
    "ExecuteTime": {
     "end_time": "2024-03-15T07:06:26.678900Z",
     "start_time": "2024-03-15T07:06:26.667013Z"
    }
   },
   "outputs": [],
   "source": [
    "import pandas as pd\n",
    "import numpy as np\n",
    "from scipy.signal import find_peaks\n",
    "from sklearn.metrics import classification_report\n",
    "from imblearn.over_sampling import SMOTE\n",
    "from imblearn.metrics import classification_report_imbalanced, geometric_mean_score"
   ]
  },
  {
   "cell_type": "code",
   "execution_count": 167,
   "metadata": {
    "id": "9E6BwvgzC5J7",
    "ExecuteTime": {
     "end_time": "2024-03-15T07:06:28.541841Z",
     "start_time": "2024-03-15T07:06:28.231717Z"
    }
   },
   "outputs": [],
   "source": [
    "X=df_a.iloc[:,:-1]\n",
    "x_state=X\n",
    "y=df_a.iloc[:,-1]\n",
    "from sklearn.model_selection import train_test_split,cross_val_score\n",
    "from sklearn.linear_model import LogisticRegression\n",
    "from sklearn.ensemble import RandomForestClassifier\n",
    "from sklearn.svm import SVC\n",
    "from sklearn.preprocessing import StandardScaler\n",
    "from sklearn.metrics import confusion_matrix\n",
    "from sklearn.metrics import classification_report,accuracy_score,confusion_matrix\n",
    "X_train, X_test, y_train, y_test = train_test_split(X, y, test_size=0.25, random_state=28)"
   ]
  },
  {
   "cell_type": "code",
   "execution_count": 168,
   "metadata": {
    "ExecuteTime": {
     "end_time": "2024-03-15T07:06:34.791083Z",
     "start_time": "2024-03-15T07:06:29.326921Z"
    }
   },
   "outputs": [],
   "source": [
    "smote = SMOTE()\n",
    "X_sm, y_sm = smote.fit_resample(X, y)\n",
    "X_train, X_test, y_train, y_test = train_test_split(X_sm, y_sm, test_size=0.25, random_state=28)"
   ]
  },
  {
   "cell_type": "code",
   "execution_count": 169,
   "metadata": {
    "id": "J3GBWcLsC7Wp",
    "ExecuteTime": {
     "end_time": "2024-03-15T07:06:34.797328Z",
     "start_time": "2024-03-15T07:06:34.793331Z"
    }
   },
   "outputs": [],
   "source": [
    "from tensorflow.keras.layers import Input, Dense, Dropout, Flatten, Conv1D, MaxPooling1D, GlobalAveragePooling1D, BatchNormalization, SpatialDropout1D, Reshape\n",
    "from tensorflow.keras.models import Model, Sequential\n",
    "from tensorflow.keras.utils import to_categorical\n",
    "from tensorflow.keras.callbacks import EarlyStopping, ReduceLROnPlateau"
   ]
  },
  {
   "cell_type": "code",
   "execution_count": 170,
   "metadata": {
    "id": "RAEs7NjqDCJs",
    "ExecuteTime": {
     "end_time": "2024-03-15T07:06:36.254954Z",
     "start_time": "2024-03-15T07:06:34.798687Z"
    }
   },
   "outputs": [],
   "source": [
    "scaler = StandardScaler()\n",
    "X_train =scaler.fit_transform(X_train)\n",
    "X_test = scaler.transform(X_test)"
   ]
  },
  {
   "cell_type": "code",
   "execution_count": 171,
   "metadata": {
    "id": "oQccvERGDEYK",
    "ExecuteTime": {
     "end_time": "2024-03-15T07:06:36.268269Z",
     "start_time": "2024-03-15T07:06:36.257323Z"
    }
   },
   "outputs": [],
   "source": [
    "y_train = to_categorical(y_train)"
   ]
  },
  {
   "cell_type": "code",
   "execution_count": 172,
   "metadata": {
    "id": "ttr_dCSMDGjK",
    "ExecuteTime": {
     "end_time": "2024-03-15T07:06:36.275722Z",
     "start_time": "2024-03-15T07:06:36.269876Z"
    }
   },
   "outputs": [],
   "source": [
    "y_test = to_categorical(y_test)"
   ]
  },
  {
   "cell_type": "code",
   "execution_count": 173,
   "metadata": {
    "id": "rIsy1YBuDIsb",
    "ExecuteTime": {
     "end_time": "2024-03-15T07:06:36.281227Z",
     "start_time": "2024-03-15T07:06:36.277321Z"
    }
   },
   "outputs": [],
   "source": [
    "X_train_cnn = np.reshape(X_train, (X_train.shape[0], X_train.shape[1], 1))\n",
    "X_test_cnn = np.reshape(X_test, (X_test.shape[0], X_test.shape[1], 1))"
   ]
  },
  {
   "cell_type": "code",
   "execution_count": 174,
   "metadata": {
    "colab": {
     "base_uri": "https://localhost:8080/"
    },
    "id": "CVcS5NN4DN-b",
    "outputId": "b692772d-94fc-4b9d-8c80-bce047e612b7",
    "ExecuteTime": {
     "end_time": "2024-03-15T07:06:36.285973Z",
     "start_time": "2024-03-15T07:06:36.282750Z"
    }
   },
   "outputs": [
    {
     "name": "stdout",
     "output_type": "stream",
     "text": [
      "(339708, 187, 1) (339708, 5) (113237, 187, 1) (113237, 5)\n"
     ]
    }
   ],
   "source": [
    "print(X_train_cnn.shape, y_train.shape, X_test_cnn.shape, y_test.shape)\n"
   ]
  },
  {
   "cell_type": "code",
   "execution_count": 175,
   "metadata": {
    "id": "rzGKPbBUDQPB",
    "ExecuteTime": {
     "end_time": "2024-03-15T07:06:36.291193Z",
     "start_time": "2024-03-15T07:06:36.287346Z"
    }
   },
   "outputs": [],
   "source": [
    "early_stopping = EarlyStopping(monitor = 'val_loss',\n",
    "                    min_delta = 0.01,\n",
    "                    patience = 5,\n",
    "                    verbose = 1,\n",
    "                    mode = 'min',\n",
    "                    restore_best_weights = True)\n",
    "\n",
    "reduce_learning_rate = ReduceLROnPlateau(monitor = 'val_loss',\n",
    "                        min_delta = 0.01,\n",
    "                        patience = 3,\n",
    "                        factor = 0.1,\n",
    "                        cooldown = 4,\n",
    "                        verbose = 1)"
   ]
  },
  {
   "cell_type": "code",
   "execution_count": 176,
   "metadata": {
    "colab": {
     "base_uri": "https://localhost:8080/",
     "height": 723
    },
    "id": "CMpqjl1aDVO5",
    "outputId": "6a64c7ea-f605-4273-ba88-66f9ae0a08b5",
    "ExecuteTime": {
     "end_time": "2024-03-15T09:49:11.525253Z",
     "start_time": "2024-03-15T07:06:37.273777Z"
    }
   },
   "outputs": [
    {
     "name": "stderr",
     "output_type": "stream",
     "text": [
      "/home/blackswan/anaconda3/lib/python3.11/site-packages/keras/src/layers/convolutional/base_conv.py:99: UserWarning: Do not pass an `input_shape`/`input_dim` argument to a layer. When using Sequential models, prefer using an `Input(shape)` object as the first layer in the model instead.\n",
      "  super().__init__(\n"
     ]
    },
    {
     "name": "stdout",
     "output_type": "stream",
     "text": [
      "Epoch 1/50\n",
      "\u001B[1m8493/8493\u001B[0m \u001B[32m━━━━━━━━━━━━━━━━━━━━\u001B[0m\u001B[37m\u001B[0m \u001B[1m651s\u001B[0m 76ms/step - accuracy: 0.8892 - loss: 0.3063 - val_accuracy: 0.9610 - val_loss: 0.1132 - learning_rate: 0.0010\n",
      "Epoch 2/50\n",
      "\u001B[1m8493/8493\u001B[0m \u001B[32m━━━━━━━━━━━━━━━━━━━━\u001B[0m\u001B[37m\u001B[0m \u001B[1m660s\u001B[0m 78ms/step - accuracy: 0.9657 - loss: 0.0999 - val_accuracy: 0.9723 - val_loss: 0.0817 - learning_rate: 0.0010\n",
      "Epoch 3/50\n",
      "\u001B[1m8493/8493\u001B[0m \u001B[32m━━━━━━━━━━━━━━━━━━━━\u001B[0m\u001B[37m\u001B[0m \u001B[1m648s\u001B[0m 76ms/step - accuracy: 0.9779 - loss: 0.0652 - val_accuracy: 0.9839 - val_loss: 0.0500 - learning_rate: 0.0010\n",
      "Epoch 4/50\n",
      "\u001B[1m8493/8493\u001B[0m \u001B[32m━━━━━━━━━━━━━━━━━━━━\u001B[0m\u001B[37m\u001B[0m \u001B[1m630s\u001B[0m 74ms/step - accuracy: 0.9834 - loss: 0.0485 - val_accuracy: 0.9841 - val_loss: 0.0501 - learning_rate: 0.0010\n",
      "Epoch 5/50\n",
      "\u001B[1m8493/8493\u001B[0m \u001B[32m━━━━━━━━━━━━━━━━━━━━\u001B[0m\u001B[37m\u001B[0m \u001B[1m644s\u001B[0m 76ms/step - accuracy: 0.9866 - loss: 0.0402 - val_accuracy: 0.9868 - val_loss: 0.0397 - learning_rate: 0.0010\n",
      "Epoch 6/50\n",
      "\u001B[1m8493/8493\u001B[0m \u001B[32m━━━━━━━━━━━━━━━━━━━━\u001B[0m\u001B[37m\u001B[0m \u001B[1m643s\u001B[0m 76ms/step - accuracy: 0.9887 - loss: 0.0335 - val_accuracy: 0.9873 - val_loss: 0.0389 - learning_rate: 0.0010\n",
      "Epoch 7/50\n",
      "\u001B[1m8493/8493\u001B[0m \u001B[32m━━━━━━━━━━━━━━━━━━━━\u001B[0m\u001B[37m\u001B[0m \u001B[1m621s\u001B[0m 73ms/step - accuracy: 0.9902 - loss: 0.0291 - val_accuracy: 0.9873 - val_loss: 0.0385 - learning_rate: 0.0010\n",
      "Epoch 8/50\n",
      "\u001B[1m8493/8493\u001B[0m \u001B[32m━━━━━━━━━━━━━━━━━━━━\u001B[0m\u001B[37m\u001B[0m \u001B[1m645s\u001B[0m 76ms/step - accuracy: 0.9917 - loss: 0.0262 - val_accuracy: 0.9918 - val_loss: 0.0260 - learning_rate: 0.0010\n",
      "Epoch 9/50\n",
      "\u001B[1m8493/8493\u001B[0m \u001B[32m━━━━━━━━━━━━━━━━━━━━\u001B[0m\u001B[37m\u001B[0m \u001B[1m620s\u001B[0m 73ms/step - accuracy: 0.9924 - loss: 0.0226 - val_accuracy: 0.9913 - val_loss: 0.0296 - learning_rate: 0.0010\n",
      "Epoch 10/50\n",
      "\u001B[1m8493/8493\u001B[0m \u001B[32m━━━━━━━━━━━━━━━━━━━━\u001B[0m\u001B[37m\u001B[0m \u001B[1m614s\u001B[0m 72ms/step - accuracy: 0.9928 - loss: 0.0209 - val_accuracy: 0.9914 - val_loss: 0.0283 - learning_rate: 0.0010\n",
      "Epoch 11/50\n",
      "\u001B[1m8492/8493\u001B[0m \u001B[32m━━━━━━━━━━━━━━━━━━━\u001B[0m\u001B[37m━\u001B[0m \u001B[1m0s\u001B[0m 70ms/step - accuracy: 0.9938 - loss: 0.0187\n",
      "Epoch 11: ReduceLROnPlateau reducing learning rate to 0.00010000000474974513.\n",
      "\u001B[1m8493/8493\u001B[0m \u001B[32m━━━━━━━━━━━━━━━━━━━━\u001B[0m\u001B[37m\u001B[0m \u001B[1m636s\u001B[0m 75ms/step - accuracy: 0.9938 - loss: 0.0187 - val_accuracy: 0.9917 - val_loss: 0.0276 - learning_rate: 0.0010\n",
      "Epoch 12/50\n",
      "\u001B[1m8493/8493\u001B[0m \u001B[32m━━━━━━━━━━━━━━━━━━━━\u001B[0m\u001B[37m\u001B[0m \u001B[1m635s\u001B[0m 75ms/step - accuracy: 0.9970 - loss: 0.0092 - val_accuracy: 0.9960 - val_loss: 0.0132 - learning_rate: 1.0000e-04\n",
      "Epoch 13/50\n",
      "\u001B[1m8493/8493\u001B[0m \u001B[32m━━━━━━━━━━━━━━━━━━━━\u001B[0m\u001B[37m\u001B[0m \u001B[1m633s\u001B[0m 75ms/step - accuracy: 0.9987 - loss: 0.0045 - val_accuracy: 0.9965 - val_loss: 0.0122 - learning_rate: 1.0000e-04\n",
      "Epoch 14/50\n",
      "\u001B[1m8493/8493\u001B[0m \u001B[32m━━━━━━━━━━━━━━━━━━━━\u001B[0m\u001B[37m\u001B[0m \u001B[1m610s\u001B[0m 72ms/step - accuracy: 0.9991 - loss: 0.0031 - val_accuracy: 0.9966 - val_loss: 0.0124 - learning_rate: 1.0000e-04\n",
      "Epoch 15/50\n",
      "\u001B[1m8493/8493\u001B[0m \u001B[32m━━━━━━━━━━━━━━━━━━━━\u001B[0m\u001B[37m\u001B[0m \u001B[1m589s\u001B[0m 69ms/step - accuracy: 0.9993 - loss: 0.0026 - val_accuracy: 0.9967 - val_loss: 0.0123 - learning_rate: 1.0000e-04\n",
      "Epoch 16/50\n",
      "\u001B[1m4221/8493\u001B[0m \u001B[32m━━━━━━━━━\u001B[0m\u001B[37m━━━━━━━━━━━\u001B[0m \u001B[1m4:34\u001B[0m 64ms/step - accuracy: 0.9994 - loss: 0.0019"
     ]
    },
    {
     "ename": "KeyboardInterrupt",
     "evalue": "",
     "output_type": "error",
     "traceback": [
      "\u001B[0;31m---------------------------------------------------------------------------\u001B[0m",
      "\u001B[0;31mKeyboardInterrupt\u001B[0m                         Traceback (most recent call last)",
      "Cell \u001B[0;32mIn[176], line 24\u001B[0m\n\u001B[1;32m     22\u001B[0m model1\u001B[38;5;241m.\u001B[39madd(Dense(n_outputs, activation\u001B[38;5;241m=\u001B[39m\u001B[38;5;124m'\u001B[39m\u001B[38;5;124msoftmax\u001B[39m\u001B[38;5;124m'\u001B[39m))\n\u001B[1;32m     23\u001B[0m model1\u001B[38;5;241m.\u001B[39mcompile(loss\u001B[38;5;241m=\u001B[39m\u001B[38;5;124m'\u001B[39m\u001B[38;5;124mcategorical_crossentropy\u001B[39m\u001B[38;5;124m'\u001B[39m, optimizer\u001B[38;5;241m=\u001B[39m\u001B[38;5;124m'\u001B[39m\u001B[38;5;124madam\u001B[39m\u001B[38;5;124m'\u001B[39m, metrics\u001B[38;5;241m=\u001B[39m[\u001B[38;5;124m'\u001B[39m\u001B[38;5;124maccuracy\u001B[39m\u001B[38;5;124m'\u001B[39m])\n\u001B[0;32m---> 24\u001B[0m history_1 \u001B[38;5;241m=\u001B[39m model1\u001B[38;5;241m.\u001B[39mfit(X_train, y_train, epochs\u001B[38;5;241m=\u001B[39mepochs,callbacks\u001B[38;5;241m=\u001B[39m[early_stopping, reduce_learning_rate], batch_size\u001B[38;5;241m=\u001B[39mbatch_size,validation_split \u001B[38;5;241m=\u001B[39m \u001B[38;5;241m0.2\u001B[39m, verbose\u001B[38;5;241m=\u001B[39mverbose)\n\u001B[1;32m     25\u001B[0m model1\u001B[38;5;241m.\u001B[39msave(\u001B[38;5;124m'\u001B[39m\u001B[38;5;124m./model_mycnn_mitbih_modelbest_128.h5\u001B[39m\u001B[38;5;124m'\u001B[39m)\n\u001B[1;32m     26\u001B[0m _, accuracy \u001B[38;5;241m=\u001B[39m model1\u001B[38;5;241m.\u001B[39mevaluate(X_test, y_test, batch_size\u001B[38;5;241m=\u001B[39mbatch_size, verbose\u001B[38;5;241m=\u001B[39mverbose)\n",
      "File \u001B[0;32m~/anaconda3/lib/python3.11/site-packages/keras/src/utils/traceback_utils.py:118\u001B[0m, in \u001B[0;36mfilter_traceback.<locals>.error_handler\u001B[0;34m(*args, **kwargs)\u001B[0m\n\u001B[1;32m    116\u001B[0m filtered_tb \u001B[38;5;241m=\u001B[39m \u001B[38;5;28;01mNone\u001B[39;00m\n\u001B[1;32m    117\u001B[0m \u001B[38;5;28;01mtry\u001B[39;00m:\n\u001B[0;32m--> 118\u001B[0m     \u001B[38;5;28;01mreturn\u001B[39;00m fn(\u001B[38;5;241m*\u001B[39margs, \u001B[38;5;241m*\u001B[39m\u001B[38;5;241m*\u001B[39mkwargs)\n\u001B[1;32m    119\u001B[0m \u001B[38;5;28;01mexcept\u001B[39;00m \u001B[38;5;167;01mException\u001B[39;00m \u001B[38;5;28;01mas\u001B[39;00m e:\n\u001B[1;32m    120\u001B[0m     filtered_tb \u001B[38;5;241m=\u001B[39m _process_traceback_frames(e\u001B[38;5;241m.\u001B[39m__traceback__)\n",
      "File \u001B[0;32m~/anaconda3/lib/python3.11/site-packages/keras/src/backend/tensorflow/trainer.py:323\u001B[0m, in \u001B[0;36mTensorFlowTrainer.fit\u001B[0;34m(self, x, y, batch_size, epochs, verbose, callbacks, validation_split, validation_data, shuffle, class_weight, sample_weight, initial_epoch, steps_per_epoch, validation_steps, validation_batch_size, validation_freq)\u001B[0m\n\u001B[1;32m    321\u001B[0m \u001B[38;5;28;01mfor\u001B[39;00m step, iterator \u001B[38;5;129;01min\u001B[39;00m epoch_iterator\u001B[38;5;241m.\u001B[39menumerate_epoch():\n\u001B[1;32m    322\u001B[0m     callbacks\u001B[38;5;241m.\u001B[39mon_train_batch_begin(step)\n\u001B[0;32m--> 323\u001B[0m     logs \u001B[38;5;241m=\u001B[39m \u001B[38;5;28mself\u001B[39m\u001B[38;5;241m.\u001B[39mtrain_function(iterator)\n\u001B[1;32m    324\u001B[0m     callbacks\u001B[38;5;241m.\u001B[39mon_train_batch_end(\n\u001B[1;32m    325\u001B[0m         step, \u001B[38;5;28mself\u001B[39m\u001B[38;5;241m.\u001B[39m_pythonify_logs(logs)\n\u001B[1;32m    326\u001B[0m     )\n\u001B[1;32m    327\u001B[0m     \u001B[38;5;28;01mif\u001B[39;00m \u001B[38;5;28mself\u001B[39m\u001B[38;5;241m.\u001B[39mstop_training:\n",
      "File \u001B[0;32m~/anaconda3/lib/python3.11/site-packages/tensorflow/python/util/traceback_utils.py:150\u001B[0m, in \u001B[0;36mfilter_traceback.<locals>.error_handler\u001B[0;34m(*args, **kwargs)\u001B[0m\n\u001B[1;32m    148\u001B[0m filtered_tb \u001B[38;5;241m=\u001B[39m \u001B[38;5;28;01mNone\u001B[39;00m\n\u001B[1;32m    149\u001B[0m \u001B[38;5;28;01mtry\u001B[39;00m:\n\u001B[0;32m--> 150\u001B[0m   \u001B[38;5;28;01mreturn\u001B[39;00m fn(\u001B[38;5;241m*\u001B[39margs, \u001B[38;5;241m*\u001B[39m\u001B[38;5;241m*\u001B[39mkwargs)\n\u001B[1;32m    151\u001B[0m \u001B[38;5;28;01mexcept\u001B[39;00m \u001B[38;5;167;01mException\u001B[39;00m \u001B[38;5;28;01mas\u001B[39;00m e:\n\u001B[1;32m    152\u001B[0m   filtered_tb \u001B[38;5;241m=\u001B[39m _process_traceback_frames(e\u001B[38;5;241m.\u001B[39m__traceback__)\n",
      "File \u001B[0;32m~/anaconda3/lib/python3.11/site-packages/tensorflow/python/eager/polymorphic_function/polymorphic_function.py:833\u001B[0m, in \u001B[0;36mFunction.__call__\u001B[0;34m(self, *args, **kwds)\u001B[0m\n\u001B[1;32m    830\u001B[0m compiler \u001B[38;5;241m=\u001B[39m \u001B[38;5;124m\"\u001B[39m\u001B[38;5;124mxla\u001B[39m\u001B[38;5;124m\"\u001B[39m \u001B[38;5;28;01mif\u001B[39;00m \u001B[38;5;28mself\u001B[39m\u001B[38;5;241m.\u001B[39m_jit_compile \u001B[38;5;28;01melse\u001B[39;00m \u001B[38;5;124m\"\u001B[39m\u001B[38;5;124mnonXla\u001B[39m\u001B[38;5;124m\"\u001B[39m\n\u001B[1;32m    832\u001B[0m \u001B[38;5;28;01mwith\u001B[39;00m OptionalXlaContext(\u001B[38;5;28mself\u001B[39m\u001B[38;5;241m.\u001B[39m_jit_compile):\n\u001B[0;32m--> 833\u001B[0m   result \u001B[38;5;241m=\u001B[39m \u001B[38;5;28mself\u001B[39m\u001B[38;5;241m.\u001B[39m_call(\u001B[38;5;241m*\u001B[39margs, \u001B[38;5;241m*\u001B[39m\u001B[38;5;241m*\u001B[39mkwds)\n\u001B[1;32m    835\u001B[0m new_tracing_count \u001B[38;5;241m=\u001B[39m \u001B[38;5;28mself\u001B[39m\u001B[38;5;241m.\u001B[39mexperimental_get_tracing_count()\n\u001B[1;32m    836\u001B[0m without_tracing \u001B[38;5;241m=\u001B[39m (tracing_count \u001B[38;5;241m==\u001B[39m new_tracing_count)\n",
      "File \u001B[0;32m~/anaconda3/lib/python3.11/site-packages/tensorflow/python/eager/polymorphic_function/polymorphic_function.py:878\u001B[0m, in \u001B[0;36mFunction._call\u001B[0;34m(self, *args, **kwds)\u001B[0m\n\u001B[1;32m    875\u001B[0m \u001B[38;5;28mself\u001B[39m\u001B[38;5;241m.\u001B[39m_lock\u001B[38;5;241m.\u001B[39mrelease()\n\u001B[1;32m    876\u001B[0m \u001B[38;5;66;03m# In this case we have not created variables on the first call. So we can\u001B[39;00m\n\u001B[1;32m    877\u001B[0m \u001B[38;5;66;03m# run the first trace but we should fail if variables are created.\u001B[39;00m\n\u001B[0;32m--> 878\u001B[0m results \u001B[38;5;241m=\u001B[39m tracing_compilation\u001B[38;5;241m.\u001B[39mcall_function(\n\u001B[1;32m    879\u001B[0m     args, kwds, \u001B[38;5;28mself\u001B[39m\u001B[38;5;241m.\u001B[39m_variable_creation_config\n\u001B[1;32m    880\u001B[0m )\n\u001B[1;32m    881\u001B[0m \u001B[38;5;28;01mif\u001B[39;00m \u001B[38;5;28mself\u001B[39m\u001B[38;5;241m.\u001B[39m_created_variables:\n\u001B[1;32m    882\u001B[0m   \u001B[38;5;28;01mraise\u001B[39;00m \u001B[38;5;167;01mValueError\u001B[39;00m(\u001B[38;5;124m\"\u001B[39m\u001B[38;5;124mCreating variables on a non-first call to a function\u001B[39m\u001B[38;5;124m\"\u001B[39m\n\u001B[1;32m    883\u001B[0m                    \u001B[38;5;124m\"\u001B[39m\u001B[38;5;124m decorated with tf.function.\u001B[39m\u001B[38;5;124m\"\u001B[39m)\n",
      "File \u001B[0;32m~/anaconda3/lib/python3.11/site-packages/tensorflow/python/eager/polymorphic_function/tracing_compilation.py:139\u001B[0m, in \u001B[0;36mcall_function\u001B[0;34m(args, kwargs, tracing_options)\u001B[0m\n\u001B[1;32m    137\u001B[0m bound_args \u001B[38;5;241m=\u001B[39m function\u001B[38;5;241m.\u001B[39mfunction_type\u001B[38;5;241m.\u001B[39mbind(\u001B[38;5;241m*\u001B[39margs, \u001B[38;5;241m*\u001B[39m\u001B[38;5;241m*\u001B[39mkwargs)\n\u001B[1;32m    138\u001B[0m flat_inputs \u001B[38;5;241m=\u001B[39m function\u001B[38;5;241m.\u001B[39mfunction_type\u001B[38;5;241m.\u001B[39munpack_inputs(bound_args)\n\u001B[0;32m--> 139\u001B[0m \u001B[38;5;28;01mreturn\u001B[39;00m function\u001B[38;5;241m.\u001B[39m_call_flat(  \u001B[38;5;66;03m# pylint: disable=protected-access\u001B[39;00m\n\u001B[1;32m    140\u001B[0m     flat_inputs, captured_inputs\u001B[38;5;241m=\u001B[39mfunction\u001B[38;5;241m.\u001B[39mcaptured_inputs\n\u001B[1;32m    141\u001B[0m )\n",
      "File \u001B[0;32m~/anaconda3/lib/python3.11/site-packages/tensorflow/python/eager/polymorphic_function/concrete_function.py:1322\u001B[0m, in \u001B[0;36mConcreteFunction._call_flat\u001B[0;34m(self, tensor_inputs, captured_inputs)\u001B[0m\n\u001B[1;32m   1318\u001B[0m possible_gradient_type \u001B[38;5;241m=\u001B[39m gradients_util\u001B[38;5;241m.\u001B[39mPossibleTapeGradientTypes(args)\n\u001B[1;32m   1319\u001B[0m \u001B[38;5;28;01mif\u001B[39;00m (possible_gradient_type \u001B[38;5;241m==\u001B[39m gradients_util\u001B[38;5;241m.\u001B[39mPOSSIBLE_GRADIENT_TYPES_NONE\n\u001B[1;32m   1320\u001B[0m     \u001B[38;5;129;01mand\u001B[39;00m executing_eagerly):\n\u001B[1;32m   1321\u001B[0m   \u001B[38;5;66;03m# No tape is watching; skip to running the function.\u001B[39;00m\n\u001B[0;32m-> 1322\u001B[0m   \u001B[38;5;28;01mreturn\u001B[39;00m \u001B[38;5;28mself\u001B[39m\u001B[38;5;241m.\u001B[39m_inference_function\u001B[38;5;241m.\u001B[39mcall_preflattened(args)\n\u001B[1;32m   1323\u001B[0m forward_backward \u001B[38;5;241m=\u001B[39m \u001B[38;5;28mself\u001B[39m\u001B[38;5;241m.\u001B[39m_select_forward_and_backward_functions(\n\u001B[1;32m   1324\u001B[0m     args,\n\u001B[1;32m   1325\u001B[0m     possible_gradient_type,\n\u001B[1;32m   1326\u001B[0m     executing_eagerly)\n\u001B[1;32m   1327\u001B[0m forward_function, args_with_tangents \u001B[38;5;241m=\u001B[39m forward_backward\u001B[38;5;241m.\u001B[39mforward()\n",
      "File \u001B[0;32m~/anaconda3/lib/python3.11/site-packages/tensorflow/python/eager/polymorphic_function/atomic_function.py:216\u001B[0m, in \u001B[0;36mAtomicFunction.call_preflattened\u001B[0;34m(self, args)\u001B[0m\n\u001B[1;32m    214\u001B[0m \u001B[38;5;28;01mdef\u001B[39;00m \u001B[38;5;21mcall_preflattened\u001B[39m(\u001B[38;5;28mself\u001B[39m, args: Sequence[core\u001B[38;5;241m.\u001B[39mTensor]) \u001B[38;5;241m-\u001B[39m\u001B[38;5;241m>\u001B[39m Any:\n\u001B[1;32m    215\u001B[0m \u001B[38;5;250m  \u001B[39m\u001B[38;5;124;03m\"\"\"Calls with flattened tensor inputs and returns the structured output.\"\"\"\u001B[39;00m\n\u001B[0;32m--> 216\u001B[0m   flat_outputs \u001B[38;5;241m=\u001B[39m \u001B[38;5;28mself\u001B[39m\u001B[38;5;241m.\u001B[39mcall_flat(\u001B[38;5;241m*\u001B[39margs)\n\u001B[1;32m    217\u001B[0m   \u001B[38;5;28;01mreturn\u001B[39;00m \u001B[38;5;28mself\u001B[39m\u001B[38;5;241m.\u001B[39mfunction_type\u001B[38;5;241m.\u001B[39mpack_output(flat_outputs)\n",
      "File \u001B[0;32m~/anaconda3/lib/python3.11/site-packages/tensorflow/python/eager/polymorphic_function/atomic_function.py:251\u001B[0m, in \u001B[0;36mAtomicFunction.call_flat\u001B[0;34m(self, *args)\u001B[0m\n\u001B[1;32m    249\u001B[0m \u001B[38;5;28;01mwith\u001B[39;00m record\u001B[38;5;241m.\u001B[39mstop_recording():\n\u001B[1;32m    250\u001B[0m   \u001B[38;5;28;01mif\u001B[39;00m \u001B[38;5;28mself\u001B[39m\u001B[38;5;241m.\u001B[39m_bound_context\u001B[38;5;241m.\u001B[39mexecuting_eagerly():\n\u001B[0;32m--> 251\u001B[0m     outputs \u001B[38;5;241m=\u001B[39m \u001B[38;5;28mself\u001B[39m\u001B[38;5;241m.\u001B[39m_bound_context\u001B[38;5;241m.\u001B[39mcall_function(\n\u001B[1;32m    252\u001B[0m         \u001B[38;5;28mself\u001B[39m\u001B[38;5;241m.\u001B[39mname,\n\u001B[1;32m    253\u001B[0m         \u001B[38;5;28mlist\u001B[39m(args),\n\u001B[1;32m    254\u001B[0m         \u001B[38;5;28mlen\u001B[39m(\u001B[38;5;28mself\u001B[39m\u001B[38;5;241m.\u001B[39mfunction_type\u001B[38;5;241m.\u001B[39mflat_outputs),\n\u001B[1;32m    255\u001B[0m     )\n\u001B[1;32m    256\u001B[0m   \u001B[38;5;28;01melse\u001B[39;00m:\n\u001B[1;32m    257\u001B[0m     outputs \u001B[38;5;241m=\u001B[39m make_call_op_in_graph(\n\u001B[1;32m    258\u001B[0m         \u001B[38;5;28mself\u001B[39m,\n\u001B[1;32m    259\u001B[0m         \u001B[38;5;28mlist\u001B[39m(args),\n\u001B[1;32m    260\u001B[0m         \u001B[38;5;28mself\u001B[39m\u001B[38;5;241m.\u001B[39m_bound_context\u001B[38;5;241m.\u001B[39mfunction_call_options\u001B[38;5;241m.\u001B[39mas_attrs(),\n\u001B[1;32m    261\u001B[0m     )\n",
      "File \u001B[0;32m~/anaconda3/lib/python3.11/site-packages/tensorflow/python/eager/context.py:1500\u001B[0m, in \u001B[0;36mContext.call_function\u001B[0;34m(self, name, tensor_inputs, num_outputs)\u001B[0m\n\u001B[1;32m   1498\u001B[0m cancellation_context \u001B[38;5;241m=\u001B[39m cancellation\u001B[38;5;241m.\u001B[39mcontext()\n\u001B[1;32m   1499\u001B[0m \u001B[38;5;28;01mif\u001B[39;00m cancellation_context \u001B[38;5;129;01mis\u001B[39;00m \u001B[38;5;28;01mNone\u001B[39;00m:\n\u001B[0;32m-> 1500\u001B[0m   outputs \u001B[38;5;241m=\u001B[39m execute\u001B[38;5;241m.\u001B[39mexecute(\n\u001B[1;32m   1501\u001B[0m       name\u001B[38;5;241m.\u001B[39mdecode(\u001B[38;5;124m\"\u001B[39m\u001B[38;5;124mutf-8\u001B[39m\u001B[38;5;124m\"\u001B[39m),\n\u001B[1;32m   1502\u001B[0m       num_outputs\u001B[38;5;241m=\u001B[39mnum_outputs,\n\u001B[1;32m   1503\u001B[0m       inputs\u001B[38;5;241m=\u001B[39mtensor_inputs,\n\u001B[1;32m   1504\u001B[0m       attrs\u001B[38;5;241m=\u001B[39mattrs,\n\u001B[1;32m   1505\u001B[0m       ctx\u001B[38;5;241m=\u001B[39m\u001B[38;5;28mself\u001B[39m,\n\u001B[1;32m   1506\u001B[0m   )\n\u001B[1;32m   1507\u001B[0m \u001B[38;5;28;01melse\u001B[39;00m:\n\u001B[1;32m   1508\u001B[0m   outputs \u001B[38;5;241m=\u001B[39m execute\u001B[38;5;241m.\u001B[39mexecute_with_cancellation(\n\u001B[1;32m   1509\u001B[0m       name\u001B[38;5;241m.\u001B[39mdecode(\u001B[38;5;124m\"\u001B[39m\u001B[38;5;124mutf-8\u001B[39m\u001B[38;5;124m\"\u001B[39m),\n\u001B[1;32m   1510\u001B[0m       num_outputs\u001B[38;5;241m=\u001B[39mnum_outputs,\n\u001B[0;32m   (...)\u001B[0m\n\u001B[1;32m   1514\u001B[0m       cancellation_manager\u001B[38;5;241m=\u001B[39mcancellation_context,\n\u001B[1;32m   1515\u001B[0m   )\n",
      "File \u001B[0;32m~/anaconda3/lib/python3.11/site-packages/tensorflow/python/eager/execute.py:53\u001B[0m, in \u001B[0;36mquick_execute\u001B[0;34m(op_name, num_outputs, inputs, attrs, ctx, name)\u001B[0m\n\u001B[1;32m     51\u001B[0m \u001B[38;5;28;01mtry\u001B[39;00m:\n\u001B[1;32m     52\u001B[0m   ctx\u001B[38;5;241m.\u001B[39mensure_initialized()\n\u001B[0;32m---> 53\u001B[0m   tensors \u001B[38;5;241m=\u001B[39m pywrap_tfe\u001B[38;5;241m.\u001B[39mTFE_Py_Execute(ctx\u001B[38;5;241m.\u001B[39m_handle, device_name, op_name,\n\u001B[1;32m     54\u001B[0m                                       inputs, attrs, num_outputs)\n\u001B[1;32m     55\u001B[0m \u001B[38;5;28;01mexcept\u001B[39;00m core\u001B[38;5;241m.\u001B[39m_NotOkStatusException \u001B[38;5;28;01mas\u001B[39;00m e:\n\u001B[1;32m     56\u001B[0m   \u001B[38;5;28;01mif\u001B[39;00m name \u001B[38;5;129;01mis\u001B[39;00m \u001B[38;5;129;01mnot\u001B[39;00m \u001B[38;5;28;01mNone\u001B[39;00m:\n",
      "\u001B[0;31mKeyboardInterrupt\u001B[0m: "
     ]
    }
   ],
   "source": [
    "verbose, epochs, batch_size = 1, 50 , 32\n",
    "n_timesteps, n_features, n_outputs =  X_train_cnn.shape[1],X_train_cnn.shape[2], y_train.shape[1]\n",
    "model1 = Sequential()\n",
    "model1.add(Conv1D(filters=128, kernel_size=5, activation='relu',input_shape=(n_timesteps,n_features)))\n",
    "model1.add(Conv1D(filters=128, kernel_size=3, activation='relu'))\n",
    "model1.add(BatchNormalization())\n",
    "model1.add(MaxPooling1D(pool_size=2))\n",
    "model1.add(Conv1D(filters=64, kernel_size=5, activation='relu'))\n",
    "model1.add(Conv1D(filters=64, kernel_size=3, activation='relu'))\n",
    "model1.add(BatchNormalization())\n",
    "model1.add(MaxPooling1D(pool_size=2))\n",
    "model1.add(Conv1D(filters=32, kernel_size=5, activation='relu'))\n",
    "model1.add(Conv1D(filters=32, kernel_size=3, activation='relu'))\n",
    "model1.add(BatchNormalization())\n",
    "model1.add(MaxPooling1D(pool_size=2))\n",
    "model1.add(Conv1D(filters=16, kernel_size=5, activation='relu'))\n",
    "model1.add(Conv1D(filters=16, kernel_size=3, activation='relu'))\n",
    "model1.add(BatchNormalization())\n",
    "model1.add(MaxPooling1D(pool_size=2))\n",
    "model1.add(Flatten())\n",
    "model1.add(Dense(125, activation='relu'))\n",
    "model1.add(Dense(n_outputs, activation='softmax'))\n",
    "model1.compile(loss='categorical_crossentropy', optimizer='adam', metrics=['accuracy'])\n",
    "history_1 = model1.fit(X_train, y_train, epochs=epochs,callbacks=[early_stopping, reduce_learning_rate], batch_size=batch_size,validation_split = 0.2, verbose=verbose)\n",
    "model1.save('./model_mycnn_mitbih_modelbest_128.h5')\n",
    "_, accuracy = model1.evaluate(X_test, y_test, batch_size=batch_size, verbose=verbose)"
   ]
  },
  {
   "cell_type": "code",
   "execution_count": null,
   "metadata": {
    "colab": {
     "base_uri": "https://localhost:8080/"
    },
    "id": "PUz3lb53DWeq",
    "outputId": "45a3b33f-db73-48d3-8e93-924d675da9c2"
   },
   "outputs": [],
   "source": [
    "print('accuracy:',accuracy)\n",
    "\n",
    "pred_class_1 = model1.predict(X_test).argmax(axis = 1)\n",
    "rounded_labels_1=np.argmax(y_test, axis=1)\n",
    "print(pd.crosstab(rounded_labels_1, pred_class_1, rownames = [\"reel\"], colnames = [\"predict\"]))\n",
    "print(classification_report_imbalanced(rounded_labels_1, pred_class_1))"
   ]
  },
  {
   "cell_type": "code",
   "execution_count": null,
   "metadata": {
    "colab": {
     "base_uri": "https://localhost:8080/",
     "height": 591
    },
    "id": "iI2-VhFuDbZG",
    "outputId": "0d19da26-e171-45cf-ff79-10295171d5be"
   },
   "outputs": [],
   "source": [
    "print(history_1.history.keys())\n",
    "# summarize history for accuracy\n",
    "plt.plot(history_1.history['accuracy'])\n",
    "plt.plot(history_1.history['val_accuracy'])\n",
    "plt.title('model accuracy')\n",
    "plt.ylabel('accuracy')\n",
    "plt.xlabel('epoch')\n",
    "plt.legend(['train', 'test'], loc='upper left')\n",
    "plt.show()\n",
    "# summarize history for loss\n",
    "plt.plot(history_1.history['loss'])\n",
    "plt.plot(history_1.history['val_loss'])\n",
    "plt.title('model loss')\n",
    "plt.ylabel('loss')\n",
    "plt.xlabel('epoch')\n",
    "plt.legend(['train', 'test'], loc='upper left')\n",
    "plt.show()"
   ]
  },
  {
   "cell_type": "markdown",
   "metadata": {
    "id": "sGj7WmIu3VbE"
   },
   "source": [
    "### 256\n"
   ]
  },
  {
   "cell_type": "code",
   "execution_count": null,
   "metadata": {
    "colab": {
     "base_uri": "https://localhost:8080/"
    },
    "id": "IGfICgZ23C60",
    "outputId": "dc9b4ff7-15fb-443b-bc6c-e74c3bb75bd9"
   },
   "outputs": [],
   "source": [
    "verbose, epochs, batch_size = 1, 50 , 32\n",
    "n_timesteps, n_features, n_outputs =  X_train_cnn.shape[1],X_train_cnn.shape[2], y_train.shape[1]\n",
    "modelb = Sequential()\n",
    "modelb.add(Conv1D(filters=256, kernel_size=5, activation='relu',input_shape=(n_timesteps,n_features)))\n",
    "modelb.add(Conv1D(filters=256, kernel_size=3, activation='relu'))\n",
    "modelb.add(BatchNormalization())\n",
    "modelb.add(MaxPooling1D(pool_size=2))\n",
    "modelb.add(Conv1D(filters=128, kernel_size=5, activation='relu'))\n",
    "modelb.add(Conv1D(filters=128, kernel_size=3, activation='relu'))\n",
    "modelb.add(BatchNormalization())\n",
    "modelb.add(MaxPooling1D(pool_size=2))\n",
    "modelb.add(Conv1D(filters=64, kernel_size=5, activation='relu'))\n",
    "modelb.add(Conv1D(filters=64, kernel_size=3, activation='relu'))\n",
    "modelb.add(BatchNormalization())\n",
    "modelb.add(MaxPooling1D(pool_size=2))\n",
    "modelb.add(Conv1D(filters=32, kernel_size=5, activation='relu'))\n",
    "modelb.add(Conv1D(filters=32, kernel_size=3, activation='relu'))\n",
    "modelb.add(BatchNormalization())\n",
    "modelb.add(MaxPooling1D(pool_size=2))\n",
    "modelb.add(Flatten())\n",
    "modelb.add(Dense(125, activation='relu'))\n",
    "modelb.add(Dense(5, activation='softmax'))\n",
    "modelb.compile(loss='categorical_crossentropy', optimizer='adam', metrics=['accuracy'])\n",
    "history_b = modelb.fit(X_train, y_train, epochs=epochs,callbacks=[early_stopping, reduce_learning_rate], batch_size=batch_size,validation_split = 0.2, verbose=verbose)\n",
    "modelb.save('/content/drive/MyDrive/heart_peak/model_mycnn_mitbih_modelbest_256.h5')\n",
    "_, accuracy = modelb.evaluate(X_test, y_test, batch_size=batch_size, verbose=verbose)"
   ]
  },
  {
   "cell_type": "code",
   "execution_count": null,
   "metadata": {
    "colab": {
     "base_uri": "https://localhost:8080/"
    },
    "id": "VijiHOJz4hOc",
    "outputId": "bb7a9745-fbcc-4a0d-9e7c-bb47b917c5ec"
   },
   "outputs": [],
   "source": [
    "print('accuracy:', accuracy)\n",
    "\n",
    "pred_classb = modelb.predict(X_test).argmax(axis = 1)\n",
    "rounded_labelsb=np.argmax(y_test, axis=1)\n",
    "print(pd.crosstab(rounded_labelsb, pred_classb, rownames = [\"reel\"], colnames = [\"predict\"]))\n",
    "print(classification_report_imbalanced(rounded_labelsb, pred_classb))"
   ]
  },
  {
   "cell_type": "code",
   "execution_count": null,
   "metadata": {
    "id": "WEFN3hxl3ClT"
   },
   "outputs": [],
   "source": [
    "print(history_b.history.keys())\n",
    "# summarize history for accuracy\n",
    "plt.plot(history_b.history['accuracy'])\n",
    "plt.plot(history_b.history['val_accuracy'])\n",
    "plt.title('model accuracy')\n",
    "plt.ylabel('accuracy')\n",
    "plt.xlabel('epoch')\n",
    "plt.legend(['train', 'test'], loc='upper left')\n",
    "plt.show()\n",
    "# summarize history for loss\n",
    "plt.plot(history_b.history['loss'])\n",
    "plt.plot(history_b.history['val_loss'])\n",
    "plt.title('model loss')\n",
    "plt.ylabel('loss')\n",
    "plt.xlabel('epoch')\n",
    "plt.legend(['train', 'test'], loc='upper left')\n",
    "plt.show()"
   ]
  },
  {
   "cell_type": "markdown",
   "metadata": {
    "id": "6Pw_Rayj3CSE"
   },
   "source": []
  },
  {
   "cell_type": "code",
   "execution_count": null,
   "metadata": {
    "colab": {
     "base_uri": "https://localhost:8080/"
    },
    "id": "z5UK5fQQDd_h",
    "outputId": "bf437c6f-54ab-43d7-f26a-47e8ef945401"
   },
   "outputs": [],
   "source": [
    "verbose, epochs, batch_size = 1, 50 , 32\n",
    "n_timesteps, n_features, n_outputs =  X_train_cnn.shape[1],X_train_cnn.shape[2], y_sm.shape[1]\n",
    "model2 = Sequential()\n",
    "model2.add(Conv1D(filters=128, kernel_size=3, activation='relu',input_shape=(n_timesteps,n_features)))\n",
    "model2.add(Conv1D(filters=128, kernel_size=5, activation='relu'))\n",
    "model2.add(BatchNormalization())\n",
    "model2.add(MaxPooling1D(pool_size=2))\n",
    "model2.add(Conv1D(filters=64, kernel_size=3, activation='relu'))\n",
    "model2.add(Conv1D(filters=64, kernel_size=5, activation='relu'))\n",
    "model2.add(BatchNormalization())\n",
    "model2.add(MaxPooling1D(pool_size=2))\n",
    "model2.add(Conv1D(filters=32, kernel_size=3, activation='relu'))\n",
    "model2.add(Conv1D(filters=32, kernel_size=5, activation='relu'))\n",
    "model2.add(BatchNormalization())\n",
    "model2.add(MaxPooling1D(pool_size=2))\n",
    "model2.add(Conv1D(filters=16, kernel_size=3, activation='relu'))\n",
    "model2.add(Conv1D(filters=16, kernel_size=5, activation='relu'))\n",
    "model2.add(BatchNormalization())\n",
    "model2.add(MaxPooling1D(pool_size=2))\n",
    "model2.add(Flatten())\n",
    "model2.add(Dense(125, activation='relu'))\n",
    "model2.add(Dense(n_outputs, activation='softmax'))\n",
    "model2.compile(loss='categorical_crossentropy', optimizer='adam', metrics=['accuracy'])\n",
    "history_2 = model2.fit(X_train, y_train, epochs=epochs,callbacks=[early_stopping, reduce_learning_rate], batch_size=batch_size,validation_split = 0.2, verbose=verbose)\n",
    "_, accuracy = model2.evaluate(X_test, y_test, batch_size=batch_size, verbose=verbose)"
   ]
  },
  {
   "cell_type": "code",
   "execution_count": null,
   "metadata": {
    "colab": {
     "base_uri": "https://localhost:8080/"
    },
    "id": "B7nF71jzDhdT",
    "outputId": "947664f7-d5c4-4ee3-95a8-f9efecbe48a1"
   },
   "outputs": [],
   "source": [
    "print('accuracy:', accuracy)\n",
    "\n",
    "pred_class_2 = model2.predict(X_test).argmax(axis = 1)\n",
    "rounded_labels_2=np.argmax(y_test, axis=1)\n",
    "print(pd.crosstab(rounded_labels_2, pred_class_2, rownames = [\"reel\"], colnames = [\"predict\"]))\n",
    "print(classification_report_imbalanced(rounded_labels_2, pred_class_2))"
   ]
  },
  {
   "cell_type": "code",
   "execution_count": null,
   "metadata": {
    "colab": {
     "base_uri": "https://localhost:8080/",
     "height": 591
    },
    "id": "F4S9K8f1Dk6J",
    "outputId": "ccb2f9cd-bfb5-4d40-80a5-fb4280ccdb75"
   },
   "outputs": [],
   "source": [
    "print(history_2.history.keys())\n",
    "# summarize history for accuracy\n",
    "plt.plot(history_2.history['accuracy'])\n",
    "plt.plot(history_2.history['val_accuracy'])\n",
    "plt.title('model accuracy')\n",
    "plt.ylabel('accuracy')\n",
    "plt.xlabel('epoch')\n",
    "plt.legend(['train', 'test'], loc='upper left')\n",
    "plt.show()\n",
    "# summarize history for loss\n",
    "plt.plot(history_2.history['loss'])\n",
    "plt.plot(history_2.history['val_loss'])\n",
    "plt.title('model loss')\n",
    "plt.ylabel('loss')\n",
    "plt.xlabel('epoch')\n",
    "plt.legend(['train', 'test'], loc='upper left')\n",
    "plt.show()"
   ]
  },
  {
   "cell_type": "code",
   "execution_count": 177,
   "metadata": {
    "colab": {
     "base_uri": "https://localhost:8080/"
    },
    "id": "Q5xYAHmnDnrC",
    "outputId": "64687308-57a0-4734-9f5f-bff1b2aa3008",
    "ExecuteTime": {
     "end_time": "2024-03-15T10:13:41.997606Z",
     "start_time": "2024-03-15T09:49:42.371556Z"
    }
   },
   "outputs": [
    {
     "name": "stderr",
     "output_type": "stream",
     "text": [
      "/home/blackswan/anaconda3/lib/python3.11/site-packages/keras/src/layers/convolutional/base_conv.py:99: UserWarning: Do not pass an `input_shape`/`input_dim` argument to a layer. When using Sequential models, prefer using an `Input(shape)` object as the first layer in the model instead.\n",
      "  super().__init__(\n"
     ]
    },
    {
     "name": "stdout",
     "output_type": "stream",
     "text": [
      "Epoch 1/50\n",
      "\u001B[1m8493/8493\u001B[0m \u001B[32m━━━━━━━━━━━━━━━━━━━━\u001B[0m\u001B[37m\u001B[0m \u001B[1m299s\u001B[0m 34ms/step - accuracy: 0.9157 - loss: 0.2391 - val_accuracy: 0.9647 - val_loss: 0.1031 - learning_rate: 0.0010\n",
      "Epoch 2/50\n",
      "\u001B[1m8493/8493\u001B[0m \u001B[32m━━━━━━━━━━━━━━━━━━━━\u001B[0m\u001B[37m\u001B[0m \u001B[1m252s\u001B[0m 30ms/step - accuracy: 0.9776 - loss: 0.0668 - val_accuracy: 0.9844 - val_loss: 0.0489 - learning_rate: 0.0010\n",
      "Epoch 3/50\n",
      "\u001B[1m8493/8493\u001B[0m \u001B[32m━━━━━━━━━━━━━━━━━━━━\u001B[0m\u001B[37m\u001B[0m \u001B[1m265s\u001B[0m 31ms/step - accuracy: 0.9850 - loss: 0.0440 - val_accuracy: 0.9869 - val_loss: 0.0411 - learning_rate: 0.0010\n",
      "Epoch 4/50\n",
      "\u001B[1m8493/8493\u001B[0m \u001B[32m━━━━━━━━━━━━━━━━━━━━\u001B[0m\u001B[37m\u001B[0m \u001B[1m299s\u001B[0m 35ms/step - accuracy: 0.9886 - loss: 0.0341 - val_accuracy: 0.9858 - val_loss: 0.0428 - learning_rate: 0.0010\n",
      "Epoch 5/50\n",
      "\u001B[1m8493/8493\u001B[0m \u001B[32m━━━━━━━━━━━━━━━━━━━━\u001B[0m\u001B[37m\u001B[0m \u001B[1m0s\u001B[0m 31ms/step - accuracy: 0.9910 - loss: 0.0273\n",
      "Epoch 5: ReduceLROnPlateau reducing learning rate to 0.00010000000474974513.\n",
      "\u001B[1m8493/8493\u001B[0m \u001B[32m━━━━━━━━━━━━━━━━━━━━\u001B[0m\u001B[37m\u001B[0m \u001B[1m289s\u001B[0m 34ms/step - accuracy: 0.9910 - loss: 0.0273 - val_accuracy: 0.9865 - val_loss: 0.0436 - learning_rate: 0.0010\n",
      "Epoch 5: early stopping\n",
      "Restoring model weights from the end of the best epoch: 1.\n",
      "\u001B[1m3539/3539\u001B[0m \u001B[32m━━━━━━━━━━━━━━━━━━━━\u001B[0m\u001B[37m\u001B[0m \u001B[1m33s\u001B[0m 9ms/step - accuracy: 0.9651 - loss: 0.1025\n"
     ]
    }
   ],
   "source": [
    "verbose, epochs, batch_size = 1, 50 , 32\n",
    "n_timesteps, n_features, n_outputs =  X_train_cnn.shape[1],X_train_cnn.shape[2], y_train.shape[1]\n",
    "model3 = Sequential()\n",
    "model3.add(Conv1D(filters=64, kernel_size=5, activation='relu',input_shape=(n_timesteps,n_features)))\n",
    "model3.add(Conv1D(filters=64, kernel_size=3, activation='relu'))\n",
    "model3.add(BatchNormalization())\n",
    "model3.add(MaxPooling1D(pool_size=2))\n",
    "model3.add(Conv1D(filters=32, kernel_size=5, activation='relu'))\n",
    "model3.add(Conv1D(filters=32, kernel_size=3, activation='relu'))\n",
    "model3.add(BatchNormalization())\n",
    "model3.add(MaxPooling1D(pool_size=2))\n",
    "model3.add(Conv1D(filters=16, kernel_size=5, activation='relu'))\n",
    "model3.add(Conv1D(filters=16, kernel_size=3, activation='relu'))\n",
    "model3.add(BatchNormalization())\n",
    "model3.add(MaxPooling1D(pool_size=2))\n",
    "model3.add(Flatten())\n",
    "model3.add(Dense(125, activation='relu'))\n",
    "model3.add(Dense(n_outputs, activation='softmax'))\n",
    "model3.compile(loss='categorical_crossentropy', optimizer='adam', metrics=['accuracy'])\n",
    "history_3 = model3.fit(X_train, y_train, epochs=epochs,callbacks=[early_stopping, reduce_learning_rate], batch_size=batch_size,validation_split = 0.2, verbose=verbose)\n",
    "_, accuracy = model3.evaluate(X_test, y_test, batch_size=batch_size, verbose=verbose)"
   ]
  },
  {
   "cell_type": "code",
   "execution_count": 178,
   "metadata": {
    "ExecuteTime": {
     "end_time": "2024-03-15T10:13:42.069667Z",
     "start_time": "2024-03-15T10:13:42.001169Z"
    }
   },
   "outputs": [
    {
     "name": "stderr",
     "output_type": "stream",
     "text": [
      "WARNING:absl:You are saving your model as an HDF5 file via `model.save()` or `keras.saving.save_model(model)`. This file format is considered legacy. We recommend using instead the native Keras format, e.g. `model.save('my_model.keras')` or `keras.saving.save_model(model, 'my_model.keras')`. \n"
     ]
    }
   ],
   "source": [
    "model3.save('./model3.h5')"
   ]
  },
  {
   "cell_type": "code",
   "execution_count": 179,
   "metadata": {
    "colab": {
     "base_uri": "https://localhost:8080/"
    },
    "id": "XxKRKuHyDqR5",
    "outputId": "5be83eb8-7738-4a38-d019-b661a1cb5ea4",
    "ExecuteTime": {
     "end_time": "2024-03-15T10:14:24.083976Z",
     "start_time": "2024-03-15T10:13:42.071312Z"
    }
   },
   "outputs": [
    {
     "name": "stdout",
     "output_type": "stream",
     "text": [
      "accuracy: 0.9652851819992065\n",
      "\u001B[1m3539/3539\u001B[0m \u001B[32m━━━━━━━━━━━━━━━━━━━━\u001B[0m\u001B[37m\u001B[0m \u001B[1m39s\u001B[0m 11ms/step\n",
      "predict      0      1      2      3      4\n",
      "reel                                      \n",
      "0        21440    633    128    498     98\n",
      "1         1055  21519    117     43     12\n",
      "2          265    147  21521    510    111\n",
      "3           54     36     74  22254      0\n",
      "4           54     27     63      6  22572\n",
      "                   pre       rec       spe        f1       geo       iba       sup\n",
      "\n",
      "          0       0.94      0.94      0.98      0.94      0.96      0.92     22797\n",
      "          1       0.96      0.95      0.99      0.95      0.97      0.93     22746\n",
      "          2       0.98      0.95      1.00      0.97      0.97      0.95     22554\n",
      "          3       0.95      0.99      0.99      0.97      0.99      0.98     22418\n",
      "          4       0.99      0.99      1.00      0.99      1.00      0.99     22722\n",
      "\n",
      "avg / total       0.97      0.97      0.99      0.97      0.98      0.95    113237\n"
     ]
    }
   ],
   "source": [
    "print('accuracy:',accuracy)\n",
    "\n",
    "pred_class_3 = model3.predict(X_test).argmax(axis = 1)\n",
    "rounded_labels_3=np.argmax(y_test, axis=1)\n",
    "print(pd.crosstab(rounded_labels_3, pred_class_3, rownames = [\"reel\"], colnames = [\"predict\"]))\n",
    "print(classification_report_imbalanced(rounded_labels_3, pred_class_3))"
   ]
  },
  {
   "cell_type": "code",
   "execution_count": 180,
   "metadata": {
    "colab": {
     "base_uri": "https://localhost:8080/",
     "height": 869
    },
    "id": "KcSFBn0UDszp",
    "outputId": "fac44026-64b9-4d9a-bbbc-35a4bc63c5a3",
    "ExecuteTime": {
     "end_time": "2024-03-15T10:14:25.218162Z",
     "start_time": "2024-03-15T10:14:24.086628Z"
    }
   },
   "outputs": [
    {
     "name": "stdout",
     "output_type": "stream",
     "text": [
      "dict_keys(['accuracy', 'loss', 'val_accuracy', 'val_loss', 'learning_rate'])\n"
     ]
    },
    {
     "data": {
      "text/plain": "<Figure size 640x480 with 1 Axes>",
      "image/png": "[encoded data removed]"
     },
     "metadata": {},
     "output_type": "display_data"
    },
    {
     "data": {
      "text/plain": "<Figure size 640x480 with 1 Axes>",
      "image/png": "[encoded data removed]"
     },
     "metadata": {},
     "output_type": "display_data"
    }
   ],
   "source": [
    "print(history_3.history.keys())\n",
    "# summarize history for accuracy\n",
    "plt.plot(history_3.history['accuracy'])\n",
    "plt.plot(history_3.history['val_accuracy'])\n",
    "plt.title('model accuracy')\n",
    "plt.ylabel('accuracy')\n",
    "plt.xlabel('epoch')\n",
    "plt.legend(['train', 'test'], loc='upper left')\n",
    "plt.show()\n",
    "# summarize history for loss\n",
    "plt.plot(history_3.history['loss'])\n",
    "plt.plot(history_3.history['val_loss'])\n",
    "plt.title('model loss')\n",
    "plt.ylabel('loss')\n",
    "plt.xlabel('epoch')\n",
    "plt.legend(['train', 'test'], loc='upper left')\n",
    "plt.show()"
   ]
  },
  {
   "cell_type": "code",
   "execution_count": null,
   "metadata": {
    "id": "qBr01EXHDvrM"
   },
   "outputs": [],
   "source": [
    "early_stopping = EarlyStopping(monitor = 'val_loss',\n",
    "                    min_delta = 0.01,\n",
    "                    patience = 20,\n",
    "                    verbose = 1,\n",
    "                    mode = 'min',\n",
    "                    restore_best_weights = True)\n",
    "\n",
    "reduce_learning_rate = ReduceLROnPlateau(monitor = 'val_loss',\n",
    "                        min_delta = 0.01,\n",
    "                        patience = 3,\n",
    "                        factor = 0.1,\n",
    "                        cooldown = 4,\n",
    "                        verbose = 1)"
   ]
  },
  {
   "cell_type": "code",
   "execution_count": null,
   "metadata": {
    "colab": {
     "base_uri": "https://localhost:8080/"
    },
    "id": "gg5A2q56Dxqa",
    "outputId": "9cde6f9e-b815-41d4-e4bc-c27e2e136012"
   },
   "outputs": [],
   "source": [
    "verbose, epochs, batch_size = 1, 50 , 32\n",
    "n_timesteps, n_features, n_outputs =  X_train_cnn.shape[1],X_train_cnn.shape[2], y_sm.shape[1]\n",
    "model4 = Sequential()\n",
    "model4.add(Conv1D(filters=64, kernel_size=5, activation='relu',input_shape=(n_timesteps,n_features)))\n",
    "model4.add(Conv1D(filters=64, kernel_size=3, activation='relu'))\n",
    "model4.add(BatchNormalization())\n",
    "model4.add(MaxPooling1D(pool_size=2))\n",
    "model4.add(Conv1D(filters=32, kernel_size=5, activation='relu'))\n",
    "model4.add(Conv1D(filters=32, kernel_size=3, activation='relu'))\n",
    "model4.add(BatchNormalization())\n",
    "model4.add(MaxPooling1D(pool_size=2))\n",
    "model4.add(Conv1D(filters=16, kernel_size=5, activation='relu'))\n",
    "model4.add(Conv1D(filters=16, kernel_size=3, activation='relu'))\n",
    "model4.add(BatchNormalization())\n",
    "model4.add(MaxPooling1D(pool_size=2))\n",
    "model4.add(Flatten())\n",
    "model4.add(Dense(125, activation='relu'))\n",
    "model4.add(Dense(n_outputs, activation='softmax'))\n",
    "model4.compile(loss='categorical_crossentropy', optimizer='adam', metrics=['accuracy'])\n",
    "history_4 = model4.fit(X_train, y_train, epochs=epochs,callbacks=[early_stopping, reduce_learning_rate], batch_size=batch_size,validation_split = 0.2, verbose=verbose)\n",
    "model4.save('./model4.h5')"
   ]
  },
  {
   "cell_type": "code",
   "execution_count": null,
   "metadata": {
    "colab": {
     "base_uri": "https://localhost:8080/"
    },
    "id": "KtV0QWukD0qR",
    "outputId": "bb987e37-cafe-4785-e0b5-bc3faf70acf4"
   },
   "outputs": [],
   "source": [
    "_, accuracy = model4.evaluate(X_test, y_test, batch_size=batch_size, verbose=verbose)"
   ]
  },
  {
   "cell_type": "code",
   "execution_count": null,
   "metadata": {
    "colab": {
     "base_uri": "https://localhost:8080/"
    },
    "id": "pWKv6WtLD3Hq",
    "outputId": "33f16748-dba5-4896-a8ee-b78040869978"
   },
   "outputs": [],
   "source": [
    "print('accuracy:', accuracy )\n",
    "\n",
    "pred_class_4 = model4.predict(X_test).argmax(axis = 1)\n",
    "rounded_labels_4=np.argmax(y_test, axis=1)\n",
    "print(pd.crosstab(rounded_labels_4, pred_class_4, rownames = [\"reel\"], colnames = [\"predict\"]))\n",
    "print(classification_report_imbalanced(rounded_labels_4, pred_class_4))"
   ]
  },
  {
   "cell_type": "code",
   "execution_count": null,
   "metadata": {
    "colab": {
     "base_uri": "https://localhost:8080/",
     "height": 1000
    },
    "id": "xp34g3QlD53g",
    "outputId": "10181e6a-9a1d-48c6-e3a7-4b2e54a2d016"
   },
   "outputs": [],
   "source": [
    "print(history_4.history.keys())\n",
    "# summarize history for accuracy\n",
    "plt.plot(history_4.history['accuracy'])\n",
    "plt.plot(history_4.history['val_accuracy'])\n",
    "plt.title('model accuracy')\n",
    "plt.ylabel('accuracy')\n",
    "plt.xlabel('epoch')\n",
    "plt.legend(['train', 'test'], loc='upper left')\n",
    "plt.show()\n",
    "# summarize history for loss\n",
    "plt.plot(history_4.history['loss'])\n",
    "plt.plot(history_4.history['val_loss'])\n",
    "plt.title('model loss')\n",
    "plt.ylabel('loss')\n",
    "plt.xlabel('epoch')\n",
    "plt.legend(['train', 'test'], loc='upper left')\n",
    "plt.show()"
   ]
  },
  {
   "cell_type": "code",
   "execution_count": 181,
   "metadata": {
    "id": "6STStmqhD9aT",
    "ExecuteTime": {
     "end_time": "2024-03-15T10:14:25.225246Z",
     "start_time": "2024-03-15T10:14:25.220584Z"
    }
   },
   "outputs": [],
   "source": [
    "early_stopping = EarlyStopping(monitor = 'val_loss',\n",
    "                    min_delta = 0.01,\n",
    "                    patience = 10,\n",
    "                    verbose = 1,\n",
    "                    mode = 'min',\n",
    "                    restore_best_weights = True)\n",
    "\n",
    "reduce_learning_rate = ReduceLROnPlateau(monitor = 'val_loss',\n",
    "                        min_delta = 0.01,\n",
    "                        patience = 3,\n",
    "                        factor = 0.1,\n",
    "                        cooldown = 4,\n",
    "                        verbose = 1)"
   ]
  },
  {
   "cell_type": "code",
   "execution_count": 182,
   "metadata": {
    "colab": {
     "base_uri": "https://localhost:8080/"
    },
    "id": "P77d0Da0EAb0",
    "outputId": "25e04f6d-0c6d-47fb-dac4-c2d0fe5489a2",
    "ExecuteTime": {
     "end_time": "2024-03-15T11:04:22.127265Z",
     "start_time": "2024-03-15T10:14:25.226910Z"
    }
   },
   "outputs": [
    {
     "name": "stderr",
     "output_type": "stream",
     "text": [
      "/home/blackswan/anaconda3/lib/python3.11/site-packages/keras/src/layers/convolutional/base_conv.py:99: UserWarning: Do not pass an `input_shape`/`input_dim` argument to a layer. When using Sequential models, prefer using an `Input(shape)` object as the first layer in the model instead.\n",
      "  super().__init__(\n"
     ]
    },
    {
     "name": "stdout",
     "output_type": "stream",
     "text": [
      "Epoch 1/50\n",
      "\u001B[1m8493/8493\u001B[0m \u001B[32m━━━━━━━━━━━━━━━━━━━━\u001B[0m\u001B[37m\u001B[0m \u001B[1m203s\u001B[0m 24ms/step - accuracy: 0.9312 - loss: 0.2002 - val_accuracy: 0.9749 - val_loss: 0.0690 - learning_rate: 0.0010\n",
      "Epoch 2/50\n",
      "\u001B[1m8493/8493\u001B[0m \u001B[32m━━━━━━━━━━━━━━━━━━━━\u001B[0m\u001B[37m\u001B[0m \u001B[1m151s\u001B[0m 18ms/step - accuracy: 0.9856 - loss: 0.0439 - val_accuracy: 0.9877 - val_loss: 0.0373 - learning_rate: 0.0010\n",
      "Epoch 3/50\n",
      "\u001B[1m8493/8493\u001B[0m \u001B[32m━━━━━━━━━━━━━━━━━━━━\u001B[0m\u001B[37m\u001B[0m \u001B[1m148s\u001B[0m 17ms/step - accuracy: 0.9905 - loss: 0.0286 - val_accuracy: 0.9925 - val_loss: 0.0244 - learning_rate: 0.0010\n",
      "Epoch 4/50\n",
      "\u001B[1m8493/8493\u001B[0m \u001B[32m━━━━━━━━━━━━━━━━━━━━\u001B[0m\u001B[37m\u001B[0m \u001B[1m169s\u001B[0m 20ms/step - accuracy: 0.9933 - loss: 0.0210 - val_accuracy: 0.9852 - val_loss: 0.0443 - learning_rate: 0.0010\n",
      "Epoch 5/50\n",
      "\u001B[1m8493/8493\u001B[0m \u001B[32m━━━━━━━━━━━━━━━━━━━━\u001B[0m\u001B[37m\u001B[0m \u001B[1m156s\u001B[0m 18ms/step - accuracy: 0.9946 - loss: 0.0168 - val_accuracy: 0.9904 - val_loss: 0.0298 - learning_rate: 0.0010\n",
      "Epoch 6/50\n",
      "\u001B[1m8491/8493\u001B[0m \u001B[32m━━━━━━━━━━━━━━━━━━━\u001B[0m\u001B[37m━\u001B[0m \u001B[1m0s\u001B[0m 15ms/step - accuracy: 0.9955 - loss: 0.0139\n",
      "Epoch 6: ReduceLROnPlateau reducing learning rate to 0.00010000000474974513.\n",
      "\u001B[1m8493/8493\u001B[0m \u001B[32m━━━━━━━━━━━━━━━━━━━━\u001B[0m\u001B[37m\u001B[0m \u001B[1m143s\u001B[0m 17ms/step - accuracy: 0.9955 - loss: 0.0139 - val_accuracy: 0.9941 - val_loss: 0.0221 - learning_rate: 0.0010\n",
      "Epoch 7/50\n",
      "\u001B[1m8493/8493\u001B[0m \u001B[32m━━━━━━━━━━━━━━━━━━━━\u001B[0m\u001B[37m\u001B[0m \u001B[1m171s\u001B[0m 20ms/step - accuracy: 0.9984 - loss: 0.0054 - val_accuracy: 0.9970 - val_loss: 0.0118 - learning_rate: 1.0000e-04\n",
      "Epoch 8/50\n",
      "\u001B[1m8493/8493\u001B[0m \u001B[32m━━━━━━━━━━━━━━━━━━━━\u001B[0m\u001B[37m\u001B[0m \u001B[1m185s\u001B[0m 22ms/step - accuracy: 0.9995 - loss: 0.0021 - val_accuracy: 0.9974 - val_loss: 0.0110 - learning_rate: 1.0000e-04\n",
      "Epoch 9/50\n",
      "\u001B[1m8493/8493\u001B[0m \u001B[32m━━━━━━━━━━━━━━━━━━━━\u001B[0m\u001B[37m\u001B[0m \u001B[1m174s\u001B[0m 20ms/step - accuracy: 0.9997 - loss: 0.0013 - val_accuracy: 0.9975 - val_loss: 0.0111 - learning_rate: 1.0000e-04\n",
      "Epoch 10/50\n",
      "\u001B[1m8493/8493\u001B[0m \u001B[32m━━━━━━━━━━━━━━━━━━━━\u001B[0m\u001B[37m\u001B[0m \u001B[1m191s\u001B[0m 22ms/step - accuracy: 0.9998 - loss: 9.0867e-04 - val_accuracy: 0.9974 - val_loss: 0.0114 - learning_rate: 1.0000e-04\n",
      "Epoch 11/50\n",
      "\u001B[1m8493/8493\u001B[0m \u001B[32m━━━━━━━━━━━━━━━━━━━━\u001B[0m\u001B[37m\u001B[0m \u001B[1m194s\u001B[0m 23ms/step - accuracy: 0.9998 - loss: 7.4357e-04 - val_accuracy: 0.9976 - val_loss: 0.0119 - learning_rate: 1.0000e-04\n",
      "Epoch 12/50\n",
      "\u001B[1m8493/8493\u001B[0m \u001B[32m━━━━━━━━━━━━━━━━━━━━\u001B[0m\u001B[37m\u001B[0m \u001B[1m0s\u001B[0m 22ms/step - accuracy: 0.9999 - loss: 4.7018e-04\n",
      "Epoch 12: ReduceLROnPlateau reducing learning rate to 1.0000000474974514e-05.\n",
      "\u001B[1m8493/8493\u001B[0m \u001B[32m━━━━━━━━━━━━━━━━━━━━\u001B[0m\u001B[37m\u001B[0m \u001B[1m204s\u001B[0m 24ms/step - accuracy: 0.9999 - loss: 4.7019e-04 - val_accuracy: 0.9975 - val_loss: 0.0124 - learning_rate: 1.0000e-04\n",
      "Epoch 13/50\n",
      "\u001B[1m8493/8493\u001B[0m \u001B[32m━━━━━━━━━━━━━━━━━━━━\u001B[0m\u001B[37m\u001B[0m \u001B[1m166s\u001B[0m 20ms/step - accuracy: 1.0000 - loss: 3.1808e-04 - val_accuracy: 0.9975 - val_loss: 0.0125 - learning_rate: 1.0000e-05\n",
      "Epoch 14/50\n",
      "\u001B[1m8493/8493\u001B[0m \u001B[32m━━━━━━━━━━━━━━━━━━━━\u001B[0m\u001B[37m\u001B[0m \u001B[1m161s\u001B[0m 19ms/step - accuracy: 1.0000 - loss: 2.1379e-04 - val_accuracy: 0.9976 - val_loss: 0.0123 - learning_rate: 1.0000e-05\n",
      "Epoch 15/50\n",
      "\u001B[1m8493/8493\u001B[0m \u001B[32m━━━━━━━━━━━━━━━━━━━━\u001B[0m\u001B[37m\u001B[0m \u001B[1m193s\u001B[0m 23ms/step - accuracy: 1.0000 - loss: 2.4071e-04 - val_accuracy: 0.9977 - val_loss: 0.0121 - learning_rate: 1.0000e-05\n",
      "Epoch 16/50\n",
      "\u001B[1m8493/8493\u001B[0m \u001B[32m━━━━━━━━━━━━━━━━━━━━\u001B[0m\u001B[37m\u001B[0m \u001B[1m206s\u001B[0m 24ms/step - accuracy: 1.0000 - loss: 2.8284e-04 - val_accuracy: 0.9976 - val_loss: 0.0125 - learning_rate: 1.0000e-05\n",
      "Epoch 17/50\n",
      "\u001B[1m8493/8493\u001B[0m \u001B[32m━━━━━━━━━━━━━━━━━━━━\u001B[0m\u001B[37m\u001B[0m \u001B[1m160s\u001B[0m 19ms/step - accuracy: 1.0000 - loss: 1.9390e-04 - val_accuracy: 0.9976 - val_loss: 0.0124 - learning_rate: 1.0000e-05\n",
      "Epoch 17: early stopping\n",
      "Restoring model weights from the end of the best epoch: 7.\n",
      "\u001B[1m3539/3539\u001B[0m \u001B[32m━━━━━━━━━━━━━━━━━━━━\u001B[0m\u001B[37m\u001B[0m \u001B[1m20s\u001B[0m 6ms/step - accuracy: 0.9973 - loss: 0.0112\n"
     ]
    },
    {
     "name": "stderr",
     "output_type": "stream",
     "text": [
      "WARNING:absl:You are saving your model as an HDF5 file via `model.save()` or `keras.saving.save_model(model)`. This file format is considered legacy. We recommend using instead the native Keras format, e.g. `model.save('my_model.keras')` or `keras.saving.save_model(model, 'my_model.keras')`. \n"
     ]
    }
   ],
   "source": [
    "verbose, epochs, batch_size = 1, 50 , 32\n",
    "n_timesteps, n_features, n_outputs =  X_train_cnn.shape[1],X_train_cnn.shape[2], y_train.shape[1]\n",
    "model5 = Sequential()\n",
    "model5.add(Conv1D(filters=32, kernel_size=5, activation='relu',input_shape=(n_timesteps,n_features)))\n",
    "model5.add(Conv1D(filters=32, kernel_size=3, activation='relu'))\n",
    "model5.add(BatchNormalization())\n",
    "model5.add(MaxPooling1D(pool_size=2))\n",
    "model5.add(Conv1D(filters=16, kernel_size=5, activation='relu'))\n",
    "model5.add(Conv1D(filters=16, kernel_size=3, activation='relu'))\n",
    "model5.add(BatchNormalization())\n",
    "model5.add(MaxPooling1D(pool_size=2))\n",
    "model5.add(Flatten())\n",
    "model5.add(Dense(125, activation='relu'))\n",
    "model5.add(Dense(n_outputs, activation='softmax'))\n",
    "model5.compile(loss='categorical_crossentropy', optimizer='adam', metrics=['accuracy'])\n",
    "history_5 = model5.fit(X_train, y_train, epochs=epochs,callbacks=[early_stopping, reduce_learning_rate], batch_size=batch_size,validation_split = 0.2, verbose=verbose)\n",
    "_, accuracy = model5.evaluate(X_test, y_test, batch_size=batch_size, verbose=verbose)\n",
    "model5.save('./model5.h5')"
   ]
  },
  {
   "cell_type": "code",
   "execution_count": 183,
   "metadata": {
    "colab": {
     "base_uri": "https://localhost:8080/"
    },
    "id": "FYJaSEjOED1A",
    "outputId": "70d23062-dfe1-4328-cdbe-459586c97682",
    "ExecuteTime": {
     "end_time": "2024-03-15T11:04:40.475232Z",
     "start_time": "2024-03-15T11:04:22.133018Z"
    }
   },
   "outputs": [
    {
     "name": "stdout",
     "output_type": "stream",
     "text": [
      "accuracy: 0.9975361227989197\n",
      "\u001B[1m3539/3539\u001B[0m \u001B[32m━━━━━━━━━━━━━━━━━━━━\u001B[0m\u001B[37m\u001B[0m \u001B[1m15s\u001B[0m 4ms/step\n",
      "predict      0      1      2      3      4\n",
      "reel                                      \n",
      "0        22571    105     63     41     17\n",
      "1           12  22730      3      1      0\n",
      "2            8      2  22525     18      1\n",
      "3            0      0      0  22418      0\n",
      "4            7      0      1      0  22714\n",
      "                   pre       rec       spe        f1       geo       iba       sup\n",
      "\n",
      "          0       1.00      0.99      1.00      0.99      0.99      0.99     22797\n",
      "          1       1.00      1.00      1.00      1.00      1.00      1.00     22746\n",
      "          2       1.00      1.00      1.00      1.00      1.00      1.00     22554\n",
      "          3       1.00      1.00      1.00      1.00      1.00      1.00     22418\n",
      "          4       1.00      1.00      1.00      1.00      1.00      1.00     22722\n",
      "\n",
      "avg / total       1.00      1.00      1.00      1.00      1.00      1.00    113237\n"
     ]
    }
   ],
   "source": [
    "print('accuracy:', accuracy )\n",
    "\n",
    "pred_class_5 = model5.predict(X_test).argmax(axis = 1)\n",
    "rounded_labels_5=np.argmax(y_test, axis=1)\n",
    "print(pd.crosstab(rounded_labels_5, pred_class_5, rownames = [\"reel\"], colnames = [\"predict\"]))\n",
    "print(classification_report_imbalanced(rounded_labels_5, pred_class_5))"
   ]
  },
  {
   "cell_type": "code",
   "execution_count": 184,
   "metadata": {
    "colab": {
     "base_uri": "https://localhost:8080/",
     "height": 1000
    },
    "id": "mFaT3NmAEGKR",
    "outputId": "8b3644eb-cb3d-4d43-bfd6-7f7ca1d77351",
    "ExecuteTime": {
     "end_time": "2024-03-15T11:04:41.100739Z",
     "start_time": "2024-03-15T11:04:40.477202Z"
    }
   },
   "outputs": [
    {
     "name": "stdout",
     "output_type": "stream",
     "text": [
      "dict_keys(['accuracy', 'loss', 'val_accuracy', 'val_loss', 'learning_rate'])\n"
     ]
    },
    {
     "data": {
      "text/plain": "<Figure size 640x480 with 1 Axes>",
      "image/png": "[encoded data removed]"
     },
     "metadata": {},
     "output_type": "display_data"
    },
    {
     "data": {
      "text/plain": "<Figure size 640x480 with 1 Axes>",
      "image/png": "[encoded data removed]"
     },
     "metadata": {},
     "output_type": "display_data"
    }
   ],
   "source": [
    "print(history_5.history.keys())\n",
    "# summarize history for accuracy\n",
    "plt.plot(history_5.history['accuracy'])\n",
    "plt.plot(history_5.history['val_accuracy'])\n",
    "plt.title('model accuracy')\n",
    "plt.ylabel('accuracy')\n",
    "plt.xlabel('epoch')\n",
    "plt.legend(['train', 'test'], loc='upper left')\n",
    "plt.show()\n",
    "# summarize history for loss\n",
    "plt.plot(history_5.history['loss'])\n",
    "plt.plot(history_5.history['val_loss'])\n",
    "plt.title('model loss')\n",
    "plt.ylabel('loss')\n",
    "plt.xlabel('epoch')\n",
    "plt.legend(['train', 'test'], loc='upper left')\n",
    "plt.show()"
   ]
  },
  {
   "cell_type": "code",
   "execution_count": 185,
   "metadata": {
    "id": "GSI2Y19cEJzh",
    "ExecuteTime": {
     "end_time": "2024-03-15T11:04:41.107304Z",
     "start_time": "2024-03-15T11:04:41.102331Z"
    }
   },
   "outputs": [],
   "source": [
    "early_stopping = EarlyStopping(monitor = 'val_loss',\n",
    "                    min_delta = 0.01,\n",
    "                    patience = 5,\n",
    "                    verbose = 1,\n",
    "                    mode = 'min',\n",
    "                    restore_best_weights = True)\n",
    "\n",
    "reduce_learning_rate = ReduceLROnPlateau(monitor = 'val_loss',\n",
    "                        min_delta = 0.01,\n",
    "                        patience = 3,\n",
    "                        factor = 0.1,\n",
    "                        cooldown = 4,\n",
    "                        verbose = 1)"
   ]
  },
  {
   "cell_type": "code",
   "execution_count": null,
   "metadata": {
    "colab": {
     "base_uri": "https://localhost:8080/"
    },
    "id": "8aotckmzELgS",
    "outputId": "faf2be8f-d2c3-4ae5-a06c-4afbf13cd4f4"
   },
   "outputs": [],
   "source": [
    "verbose, epochs, batch_size = 1, 50 , 32\n",
    "n_timesteps, n_features, n_outputs =  X_train_cnn.shape[1],X_train_cnn.shape[2], y_sm.shape[1]\n",
    "model6 = Sequential()\n",
    "model6.add(Conv1D(filters=32, kernel_size=5, activation='relu',input_shape=(n_timesteps,n_features)))\n",
    "model6.add(Conv1D(filters=32, kernel_size=3, activation='relu'))\n",
    "model6.add(BatchNormalization())\n",
    "model6.add(MaxPooling1D(pool_size=2))\n",
    "model6.add(Conv1D(filters=16, kernel_size=5, activation='relu'))\n",
    "model6.add(Conv1D(filters=16, kernel_size=3, activation='relu'))\n",
    "model6.add(BatchNormalization())\n",
    "model6.add(MaxPooling1D(pool_size=2))\n",
    "model6.add(Flatten())\n",
    "model6.add(Dense(125, activation='relu'))\n",
    "model6.add(Dense(n_outputs, activation='softmax'))\n",
    "model6.compile(loss='categorical_crossentropy', optimizer='adam', metrics=['accuracy'])\n",
    "history_6 = model6.fit(X_train, y_train, epochs=epochs,callbacks=[early_stopping, reduce_learning_rate], batch_size=batch_size,validation_split = 0.2, verbose=verbose)\n",
    "_, accuracy = model6.evaluate(X_test, y_test, batch_size=batch_size, verbose=verbose)"
   ]
  },
  {
   "cell_type": "code",
   "execution_count": null,
   "metadata": {
    "colab": {
     "base_uri": "https://localhost:8080/"
    },
    "id": "sUzZHTbJEPrB",
    "outputId": "9d6e91ea-bd46-4882-bb8a-7a94d6d567b7"
   },
   "outputs": [],
   "source": [
    "print('accuracy:', accuracy )\n",
    "\n",
    "pred_class_6 = model6.predict(X_test).argmax(axis = 1)\n",
    "rounded_labels_6=np.argmax(y_test, axis=1)\n",
    "print(pd.crosstab(rounded_labels_6, pred_class_6, rownames = [\"reel\"], colnames = [\"predict\"]))\n",
    "print(classification_report_imbalanced(rounded_labels_6, pred_class_6))"
   ]
  },
  {
   "cell_type": "code",
   "execution_count": null,
   "metadata": {
    "colab": {
     "base_uri": "https://localhost:8080/",
     "height": 1000
    },
    "id": "QqP-9aBEEVRp",
    "outputId": "02f7b822-35db-40ed-e7f4-74a73a3c7b7a"
   },
   "outputs": [],
   "source": [
    "print(history_6.history.keys())\n",
    "# summarize history for accuracy\n",
    "plt.plot(history_6.history['accuracy'])\n",
    "plt.plot(history_6.history['val_accuracy'])\n",
    "plt.title('model accuracy')\n",
    "plt.ylabel('accuracy')\n",
    "plt.xlabel('epoch')\n",
    "plt.legend(['train', 'test'], loc='upper left')\n",
    "plt.show()\n",
    "# summarize history for loss\n",
    "plt.plot(history_6.history['loss'])\n",
    "plt.plot(history_6.history['val_loss'])\n",
    "plt.title('model loss')\n",
    "plt.ylabel('loss')\n",
    "plt.xlabel('epoch')\n",
    "plt.legend(['train', 'test'], loc='upper left')\n",
    "plt.show()"
   ]
  },
  {
   "cell_type": "code",
   "execution_count": null,
   "metadata": {
    "colab": {
     "base_uri": "https://localhost:8080/"
    },
    "id": "1eRw3VbQEYAh",
    "outputId": "5f29c1f9-af01-4c34-f4a1-438f57cece39"
   },
   "outputs": [],
   "source": [
    "verbose, epochs, batch_size = 1, 50 , 32\n",
    "n_timesteps, n_features, n_outputs =  X_train_cnn.shape[1],X_train_cnn.shape[2], y_sm.shape[1]\n",
    "model7 = Sequential()\n",
    "model7.add(Conv1D(filters=32, kernel_size=5, activation='relu',input_shape=(n_timesteps,n_features)))\n",
    "model7.add(Conv1D(filters=32, kernel_size=3, activation='relu'))\n",
    "model7.add(BatchNormalization())\n",
    "model7.add(MaxPooling1D(pool_size=2))\n",
    "model7.add(Conv1D(filters=16, kernel_size=5, activation='relu'))\n",
    "model7.add(Conv1D(filters=16, kernel_size=3, activation='relu'))\n",
    "model7.add(BatchNormalization())\n",
    "model7.add(MaxPooling1D(pool_size=2))\n",
    "model7.add(Flatten())\n",
    "model7.add(Dense(125, activation='relu'))\n",
    "model7.add(Dense(n_outputs, activation='softmax'))\n",
    "model7.compile(loss='categorical_crossentropy', optimizer='adam', metrics=['accuracy'])\n",
    "history_7 = model7.fit(X_train, y_train, epochs=epochs,callbacks=[early_stopping, reduce_learning_rate], batch_size=batch_size,validation_split = 0.2, verbose=verbose)\n",
    "_, accuracy= model7.evaluate(X_test, y_test, batch_size=batch_size, verbose=verbose)\n",
    "model7.save('/content/drive/MyDrive/heart_peak/model7')"
   ]
  },
  {
   "cell_type": "code",
   "execution_count": null,
   "metadata": {
    "colab": {
     "base_uri": "https://localhost:8080/"
    },
    "id": "B2OkTEBlEbGT",
    "outputId": "af4735d0-9489-4a7c-fcd6-5869c20be30b"
   },
   "outputs": [],
   "source": [
    "print('mae',  mae, accuracy )\n",
    "\n",
    "pred_class_7 = model7.predict(X_test).argmax(axis = 1)\n",
    "rounded_labels_7=np.argmax(y_test, axis=1)\n",
    "print(pd.crosstab(rounded_labels_7, pred_class_7, rownames = [\"reel\"], colnames = [\"predict\"]))\n",
    "print(classification_report_imbalanced(rounded_labels_7, pred_class_7))"
   ]
  },
  {
   "cell_type": "code",
   "execution_count": null,
   "metadata": {
    "colab": {
     "base_uri": "https://localhost:8080/",
     "height": 869
    },
    "id": "QZ9uuNQCEdwY",
    "outputId": "f15c4de6-f68b-4499-da4d-58be49104fd6"
   },
   "outputs": [],
   "source": [
    "print(history_7.history.keys())\n",
    "# summarize history for accuracy\n",
    "plt.plot(history_7.history['accuracy'])\n",
    "plt.plot(history_7.history['val_accuracy'])\n",
    "plt.title('model accuracy')\n",
    "plt.ylabel('accuracy')\n",
    "plt.xlabel('epoch')\n",
    "plt.legend(['train', 'test'], loc='upper left')\n",
    "plt.savefig('accuracy_model_anomalie')\n",
    "plt.show()\n",
    "# summarize history for loss\n",
    "plt.plot(history_7.history['loss'])\n",
    "plt.plot(history_7.history['val_loss'])\n",
    "plt.title('model loss')\n",
    "plt.ylabel('loss')\n",
    "plt.xlabel('epoch')\n",
    "plt.legend(['train', 'test'], loc='upper left')\n",
    "plt.savefig('loss_model_anomalie')\n",
    "plt.show()"
   ]
  },
  {
   "cell_type": "markdown",
   "metadata": {
    "id": "pRYx4p4yzgV1"
   },
   "source": [
    "## appliqué au dataset ptbdb meilleur modèle"
   ]
  },
  {
   "cell_type": "code",
   "execution_count": 186,
   "metadata": {
    "id": "xLqjkpio-ihR",
    "ExecuteTime": {
     "end_time": "2024-03-15T11:04:41.117045Z",
     "start_time": "2024-03-15T11:04:41.112120Z"
    }
   },
   "outputs": [],
   "source": [
    "import pandas as pd\n",
    "import numpy as np\n",
    "from scipy.signal import find_peaks\n",
    "from sklearn.metrics import classification_report\n",
    "from imblearn.over_sampling import SMOTE\n",
    "from imblearn.metrics import classification_report_imbalanced, geometric_mean_score"
   ]
  },
  {
   "cell_type": "code",
   "execution_count": 187,
   "metadata": {
    "id": "0Wntm3ag_AlC",
    "ExecuteTime": {
     "end_time": "2024-03-15T11:04:41.124057Z",
     "start_time": "2024-03-15T11:04:41.118692Z"
    }
   },
   "outputs": [],
   "source": [
    "X=df_i.iloc[:,:-1]\n",
    "y=df_i.iloc[:,-1]\n",
    "from sklearn.model_selection import train_test_split,cross_val_score\n",
    "from sklearn.linear_model import LogisticRegression\n",
    "from sklearn.ensemble import RandomForestClassifier\n",
    "from sklearn.svm import SVC\n",
    "from sklearn.metrics import classification_report,accuracy_score,confusion_matrix"
   ]
  },
  {
   "cell_type": "code",
   "execution_count": 188,
   "metadata": {
    "ExecuteTime": {
     "end_time": "2024-03-15T11:04:41.487479Z",
     "start_time": "2024-03-15T11:04:41.125699Z"
    }
   },
   "outputs": [],
   "source": [
    "smote = SMOTE()\n",
    "X_sm, y_sm = smote.fit_resample(X, y)\n",
    "X_train, X_test, y_train, y_test = train_test_split(X_sm, y_sm, test_size=0.25, random_state=28)"
   ]
  },
  {
   "cell_type": "code",
   "execution_count": 189,
   "metadata": {
    "id": "ljz_3MWo_JBI",
    "ExecuteTime": {
     "end_time": "2024-03-15T11:04:41.493311Z",
     "start_time": "2024-03-15T11:04:41.489167Z"
    }
   },
   "outputs": [],
   "source": [
    "from sklearn.preprocessing import StandardScaler\n",
    "from sklearn.metrics import confusion_matrix"
   ]
  },
  {
   "cell_type": "code",
   "execution_count": 190,
   "metadata": {
    "id": "kCiReGp__OWo",
    "ExecuteTime": {
     "end_time": "2024-03-15T11:04:41.607516Z",
     "start_time": "2024-03-15T11:04:41.495019Z"
    }
   },
   "outputs": [],
   "source": [
    "scaler = StandardScaler()\n",
    "X_train =scaler.fit_transform(X_train)\n",
    "X_test = scaler.transform(X_test)"
   ]
  },
  {
   "cell_type": "code",
   "execution_count": 191,
   "metadata": {
    "id": "qxAE4fWH_d04",
    "ExecuteTime": {
     "end_time": "2024-03-15T11:04:41.623486Z",
     "start_time": "2024-03-15T11:04:41.609450Z"
    }
   },
   "outputs": [],
   "source": [
    "y_train = to_categorical(y_train)\n",
    "y_test = to_categorical(y_test)\n",
    "X_train_cnn = np.reshape(X_sm, (X_sm.shape[0], X_sm.shape[1], 1))\n",
    "X_test_cnn = np.reshape(X_test, (X_test.shape[0], X_test.shape[1], 1))"
   ]
  },
  {
   "cell_type": "code",
   "execution_count": 192,
   "metadata": {
    "id": "L8vV87pZ7zD6",
    "ExecuteTime": {
     "end_time": "2024-03-15T11:04:41.629312Z",
     "start_time": "2024-03-15T11:04:41.625202Z"
    }
   },
   "outputs": [],
   "source": [
    "early_stopping = EarlyStopping(monitor = 'val_loss',\n",
    "                    min_delta = 0.01,\n",
    "                    patience = 10,\n",
    "                    verbose = 1,\n",
    "                    mode = 'min',\n",
    "                    restore_best_weights = True)\n",
    "\n",
    "reduce_learning_rate = ReduceLROnPlateau(monitor = 'val_loss',\n",
    "                        min_delta = 0.01,\n",
    "                        patience = 3,\n",
    "                        factor = 0.1,\n",
    "                        cooldown = 4,\n",
    "                        verbose = 1)"
   ]
  },
  {
   "cell_type": "code",
   "execution_count": 195,
   "metadata": {
    "colab": {
     "base_uri": "https://localhost:8080/"
    },
    "id": "tgQvEhVh7y86",
    "outputId": "bc3905b2-0fa9-474a-9aec-651205801a29",
    "ExecuteTime": {
     "end_time": "2024-03-15T11:31:25.068971Z",
     "start_time": "2024-03-15T11:28:20.528157Z"
    }
   },
   "outputs": [
    {
     "name": "stderr",
     "output_type": "stream",
     "text": [
      "/home/blackswan/anaconda3/lib/python3.11/site-packages/keras/src/layers/convolutional/base_conv.py:99: UserWarning: Do not pass an `input_shape`/`input_dim` argument to a layer. When using Sequential models, prefer using an `Input(shape)` object as the first layer in the model instead.\n",
      "  super().__init__(\n"
     ]
    },
    {
     "name": "stdout",
     "output_type": "stream",
     "text": [
      "Epoch 1/50\n",
      "\u001B[1m394/394\u001B[0m \u001B[32m━━━━━━━━━━━━━━━━━━━━\u001B[0m\u001B[37m\u001B[0m \u001B[1m12s\u001B[0m 22ms/step - accuracy: 0.8168 - loss: 0.4125 - val_accuracy: 0.9004 - val_loss: 0.2527 - learning_rate: 0.0010\n",
      "Epoch 2/50\n",
      "\u001B[1m394/394\u001B[0m \u001B[32m━━━━━━━━━━━━━━━━━━━━\u001B[0m\u001B[37m\u001B[0m \u001B[1m9s\u001B[0m 22ms/step - accuracy: 0.9339 - loss: 0.1762 - val_accuracy: 0.9540 - val_loss: 0.1346 - learning_rate: 0.0010\n",
      "Epoch 3/50\n",
      "\u001B[1m394/394\u001B[0m \u001B[32m━━━━━━━━━━━━━━━━━━━━\u001B[0m\u001B[37m\u001B[0m \u001B[1m9s\u001B[0m 23ms/step - accuracy: 0.9631 - loss: 0.0987 - val_accuracy: 0.9680 - val_loss: 0.0987 - learning_rate: 0.0010\n",
      "Epoch 4/50\n",
      "\u001B[1m394/394\u001B[0m \u001B[32m━━━━━━━━━━━━━━━━━━━━\u001B[0m\u001B[37m\u001B[0m \u001B[1m8s\u001B[0m 21ms/step - accuracy: 0.9759 - loss: 0.0705 - val_accuracy: 0.9819 - val_loss: 0.0569 - learning_rate: 0.0010\n",
      "Epoch 5/50\n",
      "\u001B[1m394/394\u001B[0m \u001B[32m━━━━━━━━━━━━━━━━━━━━\u001B[0m\u001B[37m\u001B[0m \u001B[1m8s\u001B[0m 21ms/step - accuracy: 0.9830 - loss: 0.0519 - val_accuracy: 0.9803 - val_loss: 0.0602 - learning_rate: 0.0010\n",
      "Epoch 6/50\n",
      "\u001B[1m394/394\u001B[0m \u001B[32m━━━━━━━━━━━━━━━━━━━━\u001B[0m\u001B[37m\u001B[0m \u001B[1m8s\u001B[0m 21ms/step - accuracy: 0.9873 - loss: 0.0422 - val_accuracy: 0.9883 - val_loss: 0.0458 - learning_rate: 0.0010\n",
      "Epoch 7/50\n",
      "\u001B[1m394/394\u001B[0m \u001B[32m━━━━━━━━━━━━━━━━━━━━\u001B[0m\u001B[37m\u001B[0m \u001B[1m9s\u001B[0m 23ms/step - accuracy: 0.9893 - loss: 0.0309 - val_accuracy: 0.9822 - val_loss: 0.0570 - learning_rate: 0.0010\n",
      "Epoch 8/50\n",
      "\u001B[1m394/394\u001B[0m \u001B[32m━━━━━━━━━━━━━━━━━━━━\u001B[0m\u001B[37m\u001B[0m \u001B[1m9s\u001B[0m 22ms/step - accuracy: 0.9915 - loss: 0.0277 - val_accuracy: 0.9841 - val_loss: 0.0501 - learning_rate: 0.0010\n",
      "Epoch 9/50\n",
      "\u001B[1m392/394\u001B[0m \u001B[32m━━━━━━━━━━━━━━━━━━━\u001B[0m\u001B[37m━\u001B[0m \u001B[1m0s\u001B[0m 22ms/step - accuracy: 0.9943 - loss: 0.0183\n",
      "Epoch 9: ReduceLROnPlateau reducing learning rate to 0.00010000000474974513.\n",
      "\u001B[1m394/394\u001B[0m \u001B[32m━━━━━━━━━━━━━━━━━━━━\u001B[0m\u001B[37m\u001B[0m \u001B[1m10s\u001B[0m 24ms/step - accuracy: 0.9943 - loss: 0.0183 - val_accuracy: 0.9772 - val_loss: 0.0662 - learning_rate: 0.0010\n",
      "Epoch 10/50\n",
      "\u001B[1m394/394\u001B[0m \u001B[32m━━━━━━━━━━━━━━━━━━━━\u001B[0m\u001B[37m\u001B[0m \u001B[1m10s\u001B[0m 24ms/step - accuracy: 0.9941 - loss: 0.0200 - val_accuracy: 0.9911 - val_loss: 0.0291 - learning_rate: 1.0000e-04\n",
      "Epoch 11/50\n",
      "\u001B[1m394/394\u001B[0m \u001B[32m━━━━━━━━━━━━━━━━━━━━\u001B[0m\u001B[37m\u001B[0m \u001B[1m11s\u001B[0m 27ms/step - accuracy: 0.9975 - loss: 0.0095 - val_accuracy: 0.9914 - val_loss: 0.0290 - learning_rate: 1.0000e-04\n",
      "Epoch 12/50\n",
      "\u001B[1m394/394\u001B[0m \u001B[32m━━━━━━━━━━━━━━━━━━━━\u001B[0m\u001B[37m\u001B[0m \u001B[1m10s\u001B[0m 25ms/step - accuracy: 0.9981 - loss: 0.0077 - val_accuracy: 0.9914 - val_loss: 0.0278 - learning_rate: 1.0000e-04\n",
      "Epoch 13/50\n",
      "\u001B[1m394/394\u001B[0m \u001B[32m━━━━━━━━━━━━━━━━━━━━\u001B[0m\u001B[37m\u001B[0m \u001B[1m9s\u001B[0m 22ms/step - accuracy: 0.9984 - loss: 0.0067 - val_accuracy: 0.9921 - val_loss: 0.0264 - learning_rate: 1.0000e-04\n",
      "Epoch 14/50\n",
      "\u001B[1m394/394\u001B[0m \u001B[32m━━━━━━━━━━━━━━━━━━━━\u001B[0m\u001B[37m\u001B[0m \u001B[1m9s\u001B[0m 23ms/step - accuracy: 0.9975 - loss: 0.0083 - val_accuracy: 0.9924 - val_loss: 0.0250 - learning_rate: 1.0000e-04\n",
      "Epoch 15/50\n",
      "\u001B[1m394/394\u001B[0m \u001B[32m━━━━━━━━━━━━━━━━━━━━\u001B[0m\u001B[37m\u001B[0m \u001B[1m0s\u001B[0m 20ms/step - accuracy: 0.9975 - loss: 0.0074\n",
      "Epoch 15: ReduceLROnPlateau reducing learning rate to 1.0000000474974514e-05.\n",
      "\u001B[1m394/394\u001B[0m \u001B[32m━━━━━━━━━━━━━━━━━━━━\u001B[0m\u001B[37m\u001B[0m \u001B[1m9s\u001B[0m 21ms/step - accuracy: 0.9975 - loss: 0.0074 - val_accuracy: 0.9918 - val_loss: 0.0273 - learning_rate: 1.0000e-04\n",
      "Epoch 16/50\n",
      "\u001B[1m394/394\u001B[0m \u001B[32m━━━━━━━━━━━━━━━━━━━━\u001B[0m\u001B[37m\u001B[0m \u001B[1m9s\u001B[0m 23ms/step - accuracy: 0.9991 - loss: 0.0044 - val_accuracy: 0.9927 - val_loss: 0.0257 - learning_rate: 1.0000e-05\n",
      "Epoch 17/50\n",
      "\u001B[1m394/394\u001B[0m \u001B[32m━━━━━━━━━━━━━━━━━━━━\u001B[0m\u001B[37m\u001B[0m \u001B[1m9s\u001B[0m 23ms/step - accuracy: 0.9984 - loss: 0.0065 - val_accuracy: 0.9930 - val_loss: 0.0249 - learning_rate: 1.0000e-05\n",
      "Epoch 18/50\n",
      "\u001B[1m394/394\u001B[0m \u001B[32m━━━━━━━━━━━━━━━━━━━━\u001B[0m\u001B[37m\u001B[0m \u001B[1m8s\u001B[0m 21ms/step - accuracy: 0.9986 - loss: 0.0049 - val_accuracy: 0.9930 - val_loss: 0.0253 - learning_rate: 1.0000e-05\n",
      "Epoch 19/50\n",
      "\u001B[1m394/394\u001B[0m \u001B[32m━━━━━━━━━━━━━━━━━━━━\u001B[0m\u001B[37m\u001B[0m \u001B[1m9s\u001B[0m 23ms/step - accuracy: 0.9990 - loss: 0.0050 - val_accuracy: 0.9927 - val_loss: 0.0255 - learning_rate: 1.0000e-05\n",
      "Epoch 20/50\n",
      "\u001B[1m394/394\u001B[0m \u001B[32m━━━━━━━━━━━━━━━━━━━━\u001B[0m\u001B[37m\u001B[0m \u001B[1m9s\u001B[0m 23ms/step - accuracy: 0.9985 - loss: 0.0057 - val_accuracy: 0.9930 - val_loss: 0.0247 - learning_rate: 1.0000e-05\n",
      "Epoch 20: early stopping\n",
      "Restoring model weights from the end of the best epoch: 10.\n"
     ]
    },
    {
     "name": "stderr",
     "output_type": "stream",
     "text": [
      "WARNING:absl:You are saving your model as an HDF5 file via `model.save()` or `keras.saving.save_model(model)`. This file format is considered legacy. We recommend using instead the native Keras format, e.g. `model.save('my_model.keras')` or `keras.saving.save_model(model, 'my_model.keras')`. \n"
     ]
    }
   ],
   "source": [
    "verbose, epochs, batch_size = 1, 50 , 32\n",
    "n_timesteps, n_features, n_outputs =  X_train_cnn.shape[1],X_train_cnn.shape[2], y_train.shape[1]\n",
    "model_11 = Sequential()\n",
    "model_11.add(Conv1D(filters=64, kernel_size=3, activation='relu', input_shape=(n_timesteps,n_features)))\n",
    "model_11.add(Conv1D(filters=64, kernel_size=3, activation='relu'))\n",
    "model_11.add(Dropout(0.5))\n",
    "model_11.add(MaxPooling1D(pool_size=2))\n",
    "model_11.add(Flatten())\n",
    "model_11.add(Dense(100, activation='relu'))\n",
    "model_11.add(Dense(2, activation='softmax'))\n",
    "model_11.compile(loss='binary_crossentropy', optimizer='adam', metrics=['accuracy'])\n",
    "history_11=model_11.fit(X_train, y_train, epochs=epochs,callbacks=[early_stopping, reduce_learning_rate], batch_size=batch_size,validation_split = 0.2, verbose=verbose)\n",
    "model_11.save('./model_mycnn_mitbih_2.h5')\n"
   ]
  },
  {
   "cell_type": "code",
   "execution_count": 196,
   "metadata": {
    "colab": {
     "base_uri": "https://localhost:8080/"
    },
    "id": "gqnWEZ_CmFTD",
    "outputId": "43331bc9-a3aa-4684-bbaa-d32a0ba1a783",
    "ExecuteTime": {
     "end_time": "2024-03-15T11:58:06.367466Z",
     "start_time": "2024-03-15T11:58:04.577905Z"
    }
   },
   "outputs": [
    {
     "name": "stdout",
     "output_type": "stream",
     "text": [
      "\u001B[1m165/165\u001B[0m \u001B[32m━━━━━━━━━━━━━━━━━━━━\u001B[0m\u001B[37m\u001B[0m \u001B[1m2s\u001B[0m 9ms/step - accuracy: 0.9903 - loss: 0.0308\n"
     ]
    }
   ],
   "source": [
    "_, accuracy = model_11.evaluate(X_test, y_test, batch_size=batch_size, verbose=1)"
   ]
  },
  {
   "cell_type": "code",
   "execution_count": 197,
   "metadata": {
    "colab": {
     "base_uri": "https://localhost:8080/"
    },
    "id": "9FwYSuF97y1a",
    "outputId": "b6b528e6-fbf0-4d37-b9bf-4e5b902b1833",
    "ExecuteTime": {
     "end_time": "2024-03-15T11:58:11.851376Z",
     "start_time": "2024-03-15T11:58:09.767226Z"
    }
   },
   "outputs": [
    {
     "name": "stdout",
     "output_type": "stream",
     "text": [
      " accuracy 0.9906719923019409\n",
      "\u001B[1m165/165\u001B[0m \u001B[32m━━━━━━━━━━━━━━━━━━━━\u001B[0m\u001B[37m\u001B[0m \u001B[1m2s\u001B[0m 8ms/step\n",
      "predict     0     1\n",
      "reel               \n",
      "0        2574    30\n",
      "1          19  2630\n",
      "                   pre       rec       spe        f1       geo       iba       sup\n",
      "\n",
      "          0       0.99      0.99      0.99      0.99      0.99      0.98      2604\n",
      "          1       0.99      0.99      0.99      0.99      0.99      0.98      2649\n",
      "\n",
      "avg / total       0.99      0.99      0.99      0.99      0.99      0.98      5253\n"
     ]
    }
   ],
   "source": [
    "print(' accuracy', accuracy )\n",
    "\n",
    "pred_class_11 = model_11.predict(X_test).argmax(axis = 1)\n",
    "rounded_labels_11=np.argmax(y_test, axis=1)\n",
    "print(pd.crosstab(rounded_labels_11, pred_class_11, rownames = [\"reel\"], colnames = [\"predict\"]))\n",
    "print(classification_report_imbalanced(rounded_labels_11, pred_class_11))"
   ]
  },
  {
   "cell_type": "code",
   "execution_count": 198,
   "metadata": {
    "colab": {
     "base_uri": "https://localhost:8080/",
     "height": 869
    },
    "id": "hwoiGl4TkD1g",
    "outputId": "fe45c5cc-f037-49d1-ba9b-135377bc8f4a",
    "ExecuteTime": {
     "end_time": "2024-03-15T11:58:23.976703Z",
     "start_time": "2024-03-15T11:58:22.500102Z"
    }
   },
   "outputs": [
    {
     "name": "stdout",
     "output_type": "stream",
     "text": [
      "dict_keys(['accuracy', 'loss', 'val_accuracy', 'val_loss', 'learning_rate'])\n"
     ]
    },
    {
     "data": {
      "text/plain": "<Figure size 640x480 with 1 Axes>",
      "image/png": "[encoded data removed]"
     },
     "metadata": {},
     "output_type": "display_data"
    },
    {
     "data": {
      "text/plain": "<Figure size 640x480 with 1 Axes>",
      "image/png": "[encoded data removed]"
     },
     "metadata": {},
     "output_type": "display_data"
    }
   ],
   "source": [
    "print(history_11.history.keys())\n",
    "# summarize history for accuracy\n",
    "plt.plot(history_11.history['accuracy'])\n",
    "plt.plot(history_11.history['val_accuracy'])\n",
    "plt.title('model accuracy')\n",
    "plt.ylabel('accuracy')\n",
    "plt.xlabel('epoch')\n",
    "plt.legend(['train', 'test'], loc='upper left')\n",
    "plt.savefig('./acc_model_ptb.png')\n",
    "plt.show()\n",
    "# summarize history for loss\n",
    "plt.plot(history_11.history['loss'])\n",
    "plt.plot(history_11.history['val_loss'])\n",
    "plt.title('model loss')\n",
    "plt.ylabel('loss')\n",
    "plt.xlabel('epoch')\n",
    "plt.legend(['train', 'test'], loc='upper left')\n",
    "plt.savefig('./loss_model_ptb.png')\n",
    "plt.show()"
   ]
  },
  {
   "cell_type": "markdown",
   "metadata": {
    "id": "Nhd8spzcN-UK"
   },
   "source": [
    "# *pipeline de transformation markov image pour conv2D*"
   ]
  },
  {
   "cell_type": "code",
   "execution_count": 199,
   "metadata": {
    "colab": {
     "base_uri": "https://localhost:8080/"
    },
    "id": "2-MqbIxoAQde",
    "outputId": "d4ff39b7-6ff2-42cf-c617-79d85e577ce7",
    "ExecuteTime": {
     "end_time": "2024-03-15T11:58:41.055480Z",
     "start_time": "2024-03-15T11:58:33.298738Z"
    }
   },
   "outputs": [
    {
     "name": "stdout",
     "output_type": "stream",
     "text": [
      "/bin/bash: warning: setlocale: LC_ALL: cannot change locale (en_US.UTF-8)\r\n",
      "Collecting pyts\r\n",
      "  Downloading pyts-0.13.0-py3-none-any.whl.metadata (10 kB)\r\n",
      "Requirement already satisfied: numpy>=1.22.4 in /home/blackswan/anaconda3/lib/python3.11/site-packages (from pyts) (1.23.5)\r\n",
      "Requirement already satisfied: scipy>=1.8.1 in /home/blackswan/anaconda3/lib/python3.11/site-packages (from pyts) (1.11.4)\r\n",
      "Requirement already satisfied: scikit-learn>=1.2.0 in /home/blackswan/anaconda3/lib/python3.11/site-packages (from pyts) (1.2.2)\r\n",
      "Requirement already satisfied: joblib>=1.1.1 in /home/blackswan/anaconda3/lib/python3.11/site-packages (from pyts) (1.2.0)\r\n",
      "Requirement already satisfied: numba>=0.55.2 in /home/blackswan/anaconda3/lib/python3.11/site-packages (from pyts) (0.59.0)\r\n",
      "Requirement already satisfied: llvmlite<0.43,>=0.42.0dev0 in /home/blackswan/anaconda3/lib/python3.11/site-packages (from numba>=0.55.2->pyts) (0.42.0)\r\n",
      "Requirement already satisfied: threadpoolctl>=2.0.0 in /home/blackswan/anaconda3/lib/python3.11/site-packages (from scikit-learn>=1.2.0->pyts) (2.2.0)\r\n",
      "Downloading pyts-0.13.0-py3-none-any.whl (2.5 MB)\r\n",
      "\u001B[2K   \u001B[90m━━━━━━━━━━━━━━━━━━━━━━━━━━━━━━━━━━━━━━━━\u001B[0m \u001B[32m2.5/2.5 MB\u001B[0m \u001B[31m47.6 MB/s\u001B[0m eta \u001B[36m0:00:00\u001B[0ma \u001B[36m0:00:01\u001B[0m\r\n",
      "\u001B[?25hInstalling collected packages: pyts\r\n",
      "Successfully installed pyts-0.13.0\r\n"
     ]
    }
   ],
   "source": [
    "!pip install pyts"
   ]
  },
  {
   "cell_type": "code",
   "execution_count": 200,
   "metadata": {
    "id": "mHWOxcQD7QH4",
    "ExecuteTime": {
     "end_time": "2024-03-15T11:58:44.044998Z",
     "start_time": "2024-03-15T11:58:41.059297Z"
    }
   },
   "outputs": [],
   "source": [
    "import pandas as pd\n",
    "from scipy import signal\n",
    "import numpy as np\n",
    "import tensorflow as tf\n",
    "from sklearn.model_selection import train_test_split,cross_val_score\n",
    "import matplotlib.pyplot as plt\n",
    "import seaborn as sns\n",
    "from pyts.image import GramianAngularField\n",
    "from tensorflow.keras.layers import Input, Dense, Dropout, Activation, Flatten, Conv2D, MaxPooling2D, GlobalAveragePooling1D, BatchNormalization, SpatialDropout1D, Reshape\n",
    "from tensorflow.keras.models import Model, Sequential\n",
    "from tensorflow.keras.utils import to_categorical\n",
    "from tensorflow.keras.callbacks import EarlyStopping, ReduceLROnPlateau\n",
    "from tensorflow.keras.preprocessing.image import ImageDataGenerator\n",
    "from keras.preprocessing import image\n",
    "import keras\n",
    "from PIL import Image\n",
    "from imblearn.over_sampling import SMOTE\n",
    "from imblearn.metrics import classification_report_imbalanced, geometric_mean_score"
   ]
  },
  {
   "cell_type": "code",
   "execution_count": 201,
   "metadata": {
    "id": "vGAfvAPd8i_E",
    "ExecuteTime": {
     "end_time": "2024-03-15T11:58:44.056880Z",
     "start_time": "2024-03-15T11:58:44.049104Z"
    }
   },
   "outputs": [],
   "source": [
    "from imblearn.under_sampling import NearMiss\n",
    "from sklearn.preprocessing import StandardScaler\n"
   ]
  },
  {
   "cell_type": "code",
   "execution_count": 202,
   "metadata": {
    "id": "Q7DeF2eK7AIk",
    "ExecuteTime": {
     "end_time": "2024-03-15T11:58:44.073898Z",
     "start_time": "2024-03-15T11:58:44.063671Z"
    }
   },
   "outputs": [],
   "source": [
    "X=df_a.iloc[:,:-1]\n",
    "y=df_a.iloc[:,-1]"
   ]
  },
  {
   "cell_type": "code",
   "execution_count": 203,
   "metadata": {
    "id": "GnuKxIF64wA5",
    "ExecuteTime": {
     "end_time": "2024-03-15T11:58:44.086108Z",
     "start_time": "2024-03-15T11:58:44.079251Z"
    }
   },
   "outputs": [],
   "source": [
    "smote = SMOTE()"
   ]
  },
  {
   "cell_type": "code",
   "execution_count": 204,
   "metadata": {
    "id": "-Mu2hW_g4yXo",
    "ExecuteTime": {
     "end_time": "2024-03-15T11:58:48.026175Z",
     "start_time": "2024-03-15T11:58:44.090451Z"
    }
   },
   "outputs": [],
   "source": [
    "X_rs, y_rs = smote.fit_resample(X, y)"
   ]
  },
  {
   "cell_type": "code",
   "execution_count": 205,
   "metadata": {
    "colab": {
     "base_uri": "https://localhost:8080/"
    },
    "id": "_X1D7LGyb8im",
    "outputId": "b40c144e-fe2d-4186-c9e4-32a1fed2285c",
    "ExecuteTime": {
     "end_time": "2024-03-15T11:58:48.033500Z",
     "start_time": "2024-03-15T11:58:48.028114Z"
    }
   },
   "outputs": [
    {
     "data": {
      "text/plain": "(452945,)"
     },
     "execution_count": 205,
     "metadata": {},
     "output_type": "execute_result"
    }
   ],
   "source": [
    "y_rs.shape\n"
   ]
  },
  {
   "cell_type": "code",
   "execution_count": 206,
   "metadata": {
    "id": "w7A8c0P97Ay1",
    "ExecuteTime": {
     "end_time": "2024-03-15T11:58:49.625852Z",
     "start_time": "2024-03-15T11:58:48.035123Z"
    }
   },
   "outputs": [],
   "source": [
    "X_train, X_test, y_train, y_test = train_test_split(X_rs, y_rs, test_size=0.20, random_state=321)"
   ]
  },
  {
   "cell_type": "code",
   "execution_count": 207,
   "metadata": {
    "colab": {
     "base_uri": "https://localhost:8080/"
    },
    "id": "buuOm3zq3U5N",
    "outputId": "610ed68b-ec03-4f94-f6c5-1d36aa348a00",
    "ExecuteTime": {
     "end_time": "2024-03-15T11:58:49.632876Z",
     "start_time": "2024-03-15T11:58:49.627478Z"
    }
   },
   "outputs": [
    {
     "data": {
      "text/plain": "(362356, 187)"
     },
     "execution_count": 207,
     "metadata": {},
     "output_type": "execute_result"
    }
   ],
   "source": [
    "X_train.shape"
   ]
  },
  {
   "cell_type": "code",
   "execution_count": 208,
   "metadata": {
    "id": "pt_XKO4F99v7",
    "ExecuteTime": {
     "end_time": "2024-03-15T11:58:49.652313Z",
     "start_time": "2024-03-15T11:58:49.636962Z"
    }
   },
   "outputs": [],
   "source": [
    "y_train = to_categorical(y_train, 5)\n",
    "y_test = to_categorical(y_test, 5)"
   ]
  },
  {
   "cell_type": "code",
   "execution_count": 213,
   "metadata": {
    "colab": {
     "base_uri": "https://localhost:8080/",
     "height": 265
    },
    "id": "MEgf9R1-6dDw",
    "outputId": "41411ab4-7c82-4a2c-c49b-7aadca9651f4",
    "ExecuteTime": {
     "end_time": "2024-03-15T12:05:39.962375Z",
     "start_time": "2024-03-15T12:05:30.518028Z"
    }
   },
   "outputs": [
    {
     "data": {
      "text/plain": "<Figure size 640x480 with 16 Axes>",
      "image/png": "[encoded data removed]"
     },
     "metadata": {},
     "output_type": "display_data"
    }
   ],
   "source": [
    "gaf = GramianAngularField(image_size=24)\n",
    "im_train = gaf.fit_transform(X_train)\n",
    "im_test = gaf.transform(X_test)\n",
    "\n",
    "# plot one image\n",
    "fig, axs = plt.subplots(4,4)\n",
    "fig.suptitle('Vertically stacked subplots')\n",
    "axs[0][0].imshow(im_test[0])\n",
    "axs[0][0].set_title(f'category {y_test[0]}')\n",
    "axs[0][1].imshow(im_test[10000])\n",
    "axs[0][1].set_title(f'category {y_test[10000]}')\n",
    "axs[0][2].imshow(im_test[30000])\n",
    "axs[0][2].set_title(f'category {y_test[30000]}')\n",
    "axs[0][3].imshow(im_test[40000])\n",
    "axs[0][3].set_title(f'category {y_test[40000]}')\n",
    "axs[1][0].imshow(im_test[50000])\n",
    "axs[1][0].set_title(f'category {y_test[50000]}')\n",
    "axs[1][1].imshow(im_test[60000])\n",
    "axs[1][1].set_title(f'category {y_test[60000]}')\n",
    "axs[1][2].imshow(im_test[70000])\n",
    "axs[1][2].set_title(f'category {y_test[70000]}')\n",
    "axs[1][3].imshow(im_test[80000])\n",
    "axs[1][3].set_title(f'category {y_test[80000]}')\n",
    "axs[2][0].imshow(im_test[90000])\n",
    "axs[2][0].set_title(f'category {y_test[90000]}')\n",
    "axs[2][1].imshow(im_test[30001])\n",
    "axs[2][1].set_title(f'category {y_test[30001]}')\n",
    "axs[2][2].imshow(im_test[40001])\n",
    "axs[2][2].set_title(f'category {y_test[40001]}')\n",
    "axs[2][3].imshow(im_test[50001])\n",
    "axs[2][3].set_title(f'category {y_test[50001]}')\n",
    "axs[3][0].imshow(im_test[60001])\n",
    "axs[3][0].set_title(f'category {y_test[60001]}')\n",
    "axs[3][1].imshow(im_test[70001])\n",
    "axs[3][1].set_title(f'category {y_test[70001]}')\n",
    "axs[3][2].imshow(im_test[80001])\n",
    "axs[3][2].set_title(f'category {y_test[80001]}')\n",
    "axs[3][3].imshow(im_test[90001])\n",
    "axs[3][3].set_title(f'category {y_test[90001]}')\n",
    "plt.show()\n"
   ]
  },
  {
   "cell_type": "code",
   "execution_count": 214,
   "metadata": {
    "colab": {
     "base_uri": "https://localhost:8080/"
    },
    "id": "dpuA9bRl7OEU",
    "outputId": "97aa69a3-60eb-4090-ee3a-cc81db7abb89",
    "ExecuteTime": {
     "end_time": "2024-03-15T12:06:19.265539Z",
     "start_time": "2024-03-15T12:06:19.253520Z"
    }
   },
   "outputs": [
    {
     "data": {
      "text/plain": "(362356, 24, 24)"
     },
     "execution_count": 214,
     "metadata": {},
     "output_type": "execute_result"
    }
   ],
   "source": [
    "im_train.shape"
   ]
  },
  {
   "cell_type": "code",
   "execution_count": 215,
   "metadata": {
    "colab": {
     "base_uri": "https://localhost:8080/"
    },
    "id": "ykLtVChTlhLO",
    "outputId": "befe107c-adb1-4a8d-918d-dd409d01f0a8",
    "ExecuteTime": {
     "end_time": "2024-03-15T12:06:20.430147Z",
     "start_time": "2024-03-15T12:06:20.424900Z"
    }
   },
   "outputs": [
    {
     "data": {
      "text/plain": "(90589, 24, 24)"
     },
     "execution_count": 215,
     "metadata": {},
     "output_type": "execute_result"
    }
   ],
   "source": [
    "im_test.shape"
   ]
  },
  {
   "cell_type": "code",
   "execution_count": 216,
   "metadata": {
    "id": "RQLHgHq0qtPp",
    "ExecuteTime": {
     "end_time": "2024-03-15T12:06:21.615892Z",
     "start_time": "2024-03-15T12:06:21.605663Z"
    }
   },
   "outputs": [],
   "source": [
    "def standardize(image_data):\n",
    "        image_data -= np.mean(image_data, axis=0)\n",
    "        image_data /= np.std(image_data, axis=0)\n",
    "        return image_data"
   ]
  },
  {
   "cell_type": "code",
   "execution_count": 217,
   "metadata": {
    "id": "ShC6bfJSZeOt",
    "ExecuteTime": {
     "end_time": "2024-03-15T12:06:25.143036Z",
     "start_time": "2024-03-15T12:06:22.818003Z"
    }
   },
   "outputs": [],
   "source": [
    "im_train = standardize(im_train)"
   ]
  },
  {
   "cell_type": "code",
   "execution_count": 218,
   "metadata": {
    "colab": {
     "base_uri": "https://localhost:8080/"
    },
    "id": "mSC6-VRIZ-mc",
    "outputId": "8c3cdab4-99ff-4a51-bacf-406c2dd8a964",
    "ExecuteTime": {
     "end_time": "2024-03-15T12:06:25.163627Z",
     "start_time": "2024-03-15T12:06:25.154344Z"
    }
   },
   "outputs": [
    {
     "data": {
      "text/plain": "(362356, 24, 24)"
     },
     "execution_count": 218,
     "metadata": {},
     "output_type": "execute_result"
    }
   ],
   "source": [
    "im_train.shape"
   ]
  },
  {
   "cell_type": "code",
   "execution_count": 219,
   "metadata": {
    "id": "2UqnU55xZqmp",
    "ExecuteTime": {
     "end_time": "2024-03-15T12:06:25.749790Z",
     "start_time": "2024-03-15T12:06:25.167656Z"
    }
   },
   "outputs": [],
   "source": [
    "im_test = standardize(im_test)"
   ]
  },
  {
   "cell_type": "code",
   "execution_count": 220,
   "metadata": {
    "id": "ZLlCDG_9kXFD",
    "ExecuteTime": {
     "end_time": "2024-03-15T12:06:26.498231Z",
     "start_time": "2024-03-15T12:06:26.488343Z"
    }
   },
   "outputs": [],
   "source": [
    "HEIGHT=12\n",
    "WIDTH=16"
   ]
  },
  {
   "cell_type": "code",
   "execution_count": 221,
   "metadata": {
    "id": "9qpDV4OSl2Ta",
    "ExecuteTime": {
     "end_time": "2024-03-15T12:06:26.907287Z",
     "start_time": "2024-03-15T12:06:26.899573Z"
    }
   },
   "outputs": [],
   "source": [
    "BATCH_SIZE = 32"
   ]
  },
  {
   "cell_type": "code",
   "execution_count": 222,
   "metadata": {
    "id": "_TYyYeclv5uk",
    "ExecuteTime": {
     "end_time": "2024-03-15T12:06:27.959513Z",
     "start_time": "2024-03-15T12:06:27.956312Z"
    }
   },
   "outputs": [],
   "source": [
    "channels=3"
   ]
  },
  {
   "cell_type": "code",
   "execution_count": 223,
   "metadata": {
    "colab": {
     "base_uri": "https://localhost:8080/"
    },
    "id": "zS_uxH54cpIg",
    "outputId": "707886c8-36ef-4ba6-812d-975db372a4c3",
    "ExecuteTime": {
     "end_time": "2024-03-15T12:06:28.828399Z",
     "start_time": "2024-03-15T12:06:28.822002Z"
    }
   },
   "outputs": [
    {
     "data": {
      "text/plain": "(362356, 12, 16, 3)"
     },
     "execution_count": 223,
     "metadata": {},
     "output_type": "execute_result"
    }
   ],
   "source": [
    "im_train= im_train.reshape(im_train.shape[0],HEIGHT,WIDTH,channels)\n",
    "im_test= im_test.reshape(im_test.shape[0],HEIGHT,WIDTH,channels)\n",
    "im_train.shape"
   ]
  },
  {
   "cell_type": "code",
   "execution_count": 224,
   "metadata": {
    "id": "VbW7hRB0600G",
    "ExecuteTime": {
     "end_time": "2024-03-15T12:06:29.487983Z",
     "start_time": "2024-03-15T12:06:29.483155Z"
    }
   },
   "outputs": [],
   "source": [
    "early_stopping = EarlyStopping(monitor = 'val_loss',\n",
    "                    min_delta = 0.01,\n",
    "                    patience = 5,\n",
    "                    verbose = 1,\n",
    "                    mode = 'min',\n",
    "                    restore_best_weights = True)\n",
    "\n",
    "reduce_learning_rate = ReduceLROnPlateau(monitor = 'val_loss',\n",
    "                        min_delta = 0.01,\n",
    "                        patience = 3,\n",
    "                        factor = 0.1,\n",
    "                        cooldown = 4,\n",
    "                        verbose = 1)"
   ]
  },
  {
   "cell_type": "code",
   "execution_count": null,
   "metadata": {
    "colab": {
     "base_uri": "https://localhost:8080/"
    },
    "id": "Ikuhhz-bCkUP",
    "outputId": "8839422e-0b32-47bb-8b23-adda230ed0b9",
    "is_executing": true,
    "ExecuteTime": {
     "start_time": "2024-03-16T08:08:30.766171Z"
    }
   },
   "outputs": [
    {
     "name": "stdout",
     "output_type": "stream",
     "text": [
      "Epoch 1/50\n",
      "\u001B[1m5662/5662\u001B[0m \u001B[32m━━━━━━━━━━━━━━━━━━━━\u001B[0m\u001B[37m\u001B[0m \u001B[1m620s\u001B[0m 109ms/step - accuracy: 0.8892 - loss: 0.3024 - val_accuracy: 0.9642 - val_loss: 0.1077 - learning_rate: 0.0010\n",
      "Epoch 2/50\n",
      "\u001B[1m3320/5662\u001B[0m \u001B[32m━━━━━━━━━━━\u001B[0m\u001B[37m━━━━━━━━━\u001B[0m \u001B[1m3:50\u001B[0m 98ms/step - accuracy: 0.9684 - loss: 0.0923"
     ]
    }
   ],
   "source": [
    "verbose, epochs, batch_size = 1, 50 ,64\n",
    "model=Sequential()\n",
    "model.add(Conv2D(32, (3, 3), padding=\"same\", activation=\"relu\"))\n",
    "model.add(Conv2D(32, (5, 5), padding=\"same\", activation=\"relu\"))\n",
    "model.add(MaxPooling2D(pool_size=(2, 2)))\n",
    "model.add(Conv2D(64, (3, 3), padding=\"same\", activation=\"relu\"))\n",
    "model.add(Conv2D(64, (5, 5), padding=\"same\", activation=\"relu\"))\n",
    "model.add(MaxPooling2D(pool_size=(2, 2)))\n",
    "model.add(Conv2D(128, (3, 3), padding=\"same\", activation=\"relu\"))\n",
    "model.add(Conv2D(128, (5, 5), padding=\"same\", activation=\"relu\"))\n",
    "model.add(MaxPooling2D(pool_size=(2, 2)))\n",
    "model.add(Flatten())\n",
    "model.add(Dense(125, activation='relu'))\n",
    "model.add(Dense(5, activation='softmax'))\n",
    "model.compile(loss='categorical_crossentropy', optimizer='adam', metrics=['accuracy'])\n",
    "history_a = model.fit(im_train, y_train, epochs=epochs,callbacks=[reduce_learning_rate, early_stopping],\n",
    "                      batch_size=batch_size,validation_data=(im_test, y_test), verbose=verbose)\n",
    "\n",
    "m_, accuracy = model.evaluate(im_test, y_test, batch_size=batch_size, verbose=verbose)\n",
    "accuracy"
   ]
  },
  {
   "cell_type": "code",
   "execution_count": null,
   "metadata": {
    "is_executing": true
   },
   "outputs": [],
   "source": [
    "model.save('./model_mycnn_markov.h5')"
   ]
  },
  {
   "cell_type": "code",
   "execution_count": null,
   "metadata": {
    "colab": {
     "base_uri": "https://localhost:8080/"
    },
    "id": "w6xjqf-8DbmX",
    "outputId": "bdb1bdbc-2e94-4f96-ee4d-c9b1e9eb38a0",
    "is_executing": true
   },
   "outputs": [],
   "source": [
    "model_b= keras.models.load_model('./model_mycnn_markov.h5')\n",
    "pred_class_a = model_b.predict(im_test).argmax(axis = 1)\n",
    "rounded_labels_a=np.argmax(y_test, axis=1)\n",
    "print(pd.crosstab(rounded_labels_a, pred_class_a, rownames = [\"reel\"], colnames = [\"predict\"]))\n",
    "print(classification_report_imbalanced(rounded_labels_a, pred_class_a))\n"
   ]
  },
  {
   "cell_type": "code",
   "execution_count": null,
   "metadata": {
    "is_executing": true
   },
   "outputs": [],
   "source": [
    "print(history_a.history.keys())\n",
    "# summarize history for accuracy\n",
    "plt.plot(history_a.history['accuracy'])\n",
    "plt.plot(history_a.history['val_accuracy'])\n",
    "plt.title('model accuracy')\n",
    "plt.ylabel('accuracy')\n",
    "plt.xlabel('epoch')\n",
    "plt.legend(['train', 'test'], loc='upper left')\n",
    "plt.savefig('./acc_model_markov.png')\n",
    "plt.show()\n",
    "# summarize history for loss\n",
    "plt.plot(history_a.history['loss'])\n",
    "plt.plot(history_a.history['val_loss'])\n",
    "plt.title('model loss')\n",
    "plt.ylabel('loss')\n",
    "plt.xlabel('epoch')\n",
    "plt.legend(['train', 'test'], loc='upper left')\n",
    "plt.savefig('./loss_model_markov.png')\n",
    "plt.show()"
   ]
  },
  {
   "cell_type": "code",
   "outputs": [],
   "source": [],
   "metadata": {
    "collapsed": false
   }
  }
 ],
 "metadata": {
  "accelerator": "GPU",
  "colab": {
   "include_colab_link": true,
   "machine_shape": "hm",
   "provenance": [],
   "toc_visible": true
  },
  "gpuClass": "standard",
  "kernelspec": {
   "display_name": "Python 3 (ipykernel)",
   "language": "python",
   "name": "python3"
  },
  "language_info": {
   "codemirror_mode": {
    "name": "ipython",
    "version": 3
   },
   "file_extension": ".py",
   "mimetype": "text/x-python",
   "name": "python",
   "nbconvert_exporter": "python",
   "pygments_lexer": "ipython3",
   "version": "3.9.2"
  }
 },
 "nbformat": 4,
 "nbformat_minor": 4
}
