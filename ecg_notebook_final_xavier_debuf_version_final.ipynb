{
 "cells": [
  {
   "cell_type": "markdown",
   "metadata": {
    "colab_type": "text",
    "id": "view-in-github"
   },
   "source": [
    "<a href=\"https://colab.research.google.com/github/XavierDebuf/DL_Heart_Disease/blob/main/ecg_notebook_final_xavier_debuf_version_final.ipynb\" target=\"_parent\"><img src=\"https://colab.research.google.com/assets/colab-badge.svg\" alt=\"Open In Colab\"/></a>"
   ]
  },
  {
   "cell_type": "code",
   "execution_count": 2,
   "metadata": {
    "id": "3sFCsq40xrgC"
   },
   "outputs": [],
   "source": [
    "import pandas as pd\n",
    "from scipy import signal\n",
    "import numpy as np\n",
    "from sklearn.metrics import classification_report\n",
    "from imblearn.over_sampling import SMOTE\n",
    "from imblearn.metrics import classification_report_imbalanced, geometric_mean_score"
   ]
  },
  {
   "cell_type": "code",
   "execution_count": 3,
   "metadata": {
    "id": "rv_KlIzj59Ez"
   },
   "outputs": [],
   "source": [
    "ptbdb_normal = pd.read_csv('./ecg/ptbdb_normal.csv',header=None)\n",
    "ptbdb_abnormal = pd.read_csv('./ecg/ptbdb_abnormal.csv',header=None)\n",
    "mitbih_test = pd.read_csv('./ecg/mitbih_test.csv',header=None)\n",
    "mitbih_train = pd.read_csv('./ecg/mitbih_train.csv',header=None)"
   ]
  },
  {
   "cell_type": "code",
   "execution_count": null,
   "metadata": {},
   "outputs": [],
   "source": [
    "import matplotlib.pyplot as plt\n",
    "import seaborn as sns\n",
    "\n",
    "df1=ptbdb_normal\n",
    "df2=ptbdb_abnormal\n",
    "\n",
    "\n",
    "df_i=pd.concat([df1,df2],ignore_index=True,sort=False)\n",
    "df_i.isnull().sum().sum()"
   ]
  },
  {
   "cell_type": "code",
   "execution_count": null,
   "metadata": {},
   "outputs": [],
   "source": [
    "import matplotlib.pyplot as plt\n",
    "import seaborn as sns\n",
    "\n",
    "df1=mitbih_test\n",
    "df2=mitbih_train\n",
    "\n",
    "\n",
    "df_a=pd.concat([df1,df2],ignore_index=True,sort=False)\n",
    "df_a.isnull().sum().sum()"
   ]
  },
  {
   "cell_type": "markdown",
   "metadata": {
    "id": "OAsShN1txx51"
   },
   "source": [
    "# MACHINE LEARNING"
   ]
  },
  {
   "cell_type": "code",
   "execution_count": 164,
   "metadata": {
    "id": "zMO_Wj087Rpa"
   },
   "outputs": [],
   "source": [
    "X=df_a.iloc[:,:-1]\n",
    "y=df_a.iloc[:,-1]\n",
    "from sklearn.model_selection import train_test_split,cross_val_score\n",
    "from sklearn.linear_model import LogisticRegression\n",
    "from sklearn.ensemble import RandomForestClassifier\n",
    "from sklearn.svm import SVC\n",
    "from sklearn.metrics import classification_report,accuracy_score,confusion_matrix"
   ]
  },
  {
   "cell_type": "code",
   "execution_count": 165,
   "metadata": {},
   "outputs": [
    {
     "data": {
      "text/plain": [
       "187\n",
       "0.0    90589\n",
       "1.0    90589\n",
       "2.0    90589\n",
       "3.0    90589\n",
       "4.0    90589\n",
       "Name: count, dtype: int64"
      ]
     },
     "execution_count": 165,
     "metadata": {},
     "output_type": "execute_result"
    }
   ],
   "source": [
    "import imblearn\n",
    "from imblearn.over_sampling import SMOTE\n",
    "\n",
    "# oversampling\n",
    "smote=SMOTE()\n",
    "X_oversampled,y_oversampled=smote.fit_resample(X,y)\n",
    "y_oversampled.value_counts()"
   ]
  },
  {
   "cell_type": "code",
   "execution_count": 166,
   "metadata": {},
   "outputs": [],
   "source": [
    "\n",
    "X_train, X_test, y_train, y_test = train_test_split(X_oversampled, y_oversampled, test_size=0.25, random_state=28)"
   ]
  },
  {
   "cell_type": "markdown",
   "metadata": {
    "id": "prvcf-sXx1xu"
   },
   "source": [
    "# regression logistique"
   ]
  },
  {
   "cell_type": "markdown",
   "metadata": {
    "id": "Olz7BSTw9a6N"
   },
   "source": [
    "## Anomalie cardiaque"
   ]
  },
  {
   "cell_type": "code",
   "execution_count": 167,
   "metadata": {
    "colab": {
     "base_uri": "https://localhost:8080/"
    },
    "id": "_waPNsk5yDCv",
    "outputId": "4fad257c-2873-4cf0-dfb9-58a39c084b67"
   },
   "outputs": [
    {
     "name": "stderr",
     "output_type": "stream",
     "text": [
      "/usr/local/lib/python3.9/dist-packages/sklearn/linear_model/_logistic.py:460: ConvergenceWarning: lbfgs failed to converge (status=1):\n",
      "STOP: TOTAL NO. of ITERATIONS REACHED LIMIT.\n",
      "\n",
      "Increase the number of iterations (max_iter) or scale the data as shown in:\n",
      "    https://scikit-learn.org/stable/modules/preprocessing.html\n",
      "Please also refer to the documentation for alternative solver options:\n",
      "    https://scikit-learn.org/stable/modules/linear_model.html#logistic-regression\n",
      "  n_iter_i = _check_optimize_result(\n"
     ]
    },
    {
     "data": {
      "text/html": [
       "<style>#sk-container-id-5 {color: black;}#sk-container-id-5 pre{padding: 0;}#sk-container-id-5 div.sk-toggleable {background-color: white;}#sk-container-id-5 label.sk-toggleable__label {cursor: pointer;display: block;width: 100%;margin-bottom: 0;padding: 0.3em;box-sizing: border-box;text-align: center;}#sk-container-id-5 label.sk-toggleable__label-arrow:before {content: \"▸\";float: left;margin-right: 0.25em;color: #696969;}#sk-container-id-5 label.sk-toggleable__label-arrow:hover:before {color: black;}#sk-container-id-5 div.sk-estimator:hover label.sk-toggleable__label-arrow:before {color: black;}#sk-container-id-5 div.sk-toggleable__content {max-height: 0;max-width: 0;overflow: hidden;text-align: left;background-color: #f0f8ff;}#sk-container-id-5 div.sk-toggleable__content pre {margin: 0.2em;color: black;border-radius: 0.25em;background-color: #f0f8ff;}#sk-container-id-5 input.sk-toggleable__control:checked~div.sk-toggleable__content {max-height: 200px;max-width: 100%;overflow: auto;}#sk-container-id-5 input.sk-toggleable__control:checked~label.sk-toggleable__label-arrow:before {content: \"▾\";}#sk-container-id-5 div.sk-estimator input.sk-toggleable__control:checked~label.sk-toggleable__label {background-color: #d4ebff;}#sk-container-id-5 div.sk-label input.sk-toggleable__control:checked~label.sk-toggleable__label {background-color: #d4ebff;}#sk-container-id-5 input.sk-hidden--visually {border: 0;clip: rect(1px 1px 1px 1px);clip: rect(1px, 1px, 1px, 1px);height: 1px;margin: -1px;overflow: hidden;padding: 0;position: absolute;width: 1px;}#sk-container-id-5 div.sk-estimator {font-family: monospace;background-color: #f0f8ff;border: 1px dotted black;border-radius: 0.25em;box-sizing: border-box;margin-bottom: 0.5em;}#sk-container-id-5 div.sk-estimator:hover {background-color: #d4ebff;}#sk-container-id-5 div.sk-parallel-item::after {content: \"\";width: 100%;border-bottom: 1px solid gray;flex-grow: 1;}#sk-container-id-5 div.sk-label:hover label.sk-toggleable__label {background-color: #d4ebff;}#sk-container-id-5 div.sk-serial::before {content: \"\";position: absolute;border-left: 1px solid gray;box-sizing: border-box;top: 0;bottom: 0;left: 50%;z-index: 0;}#sk-container-id-5 div.sk-serial {display: flex;flex-direction: column;align-items: center;background-color: white;padding-right: 0.2em;padding-left: 0.2em;position: relative;}#sk-container-id-5 div.sk-item {position: relative;z-index: 1;}#sk-container-id-5 div.sk-parallel {display: flex;align-items: stretch;justify-content: center;background-color: white;position: relative;}#sk-container-id-5 div.sk-item::before, #sk-container-id-5 div.sk-parallel-item::before {content: \"\";position: absolute;border-left: 1px solid gray;box-sizing: border-box;top: 0;bottom: 0;left: 50%;z-index: -1;}#sk-container-id-5 div.sk-parallel-item {display: flex;flex-direction: column;z-index: 1;position: relative;background-color: white;}#sk-container-id-5 div.sk-parallel-item:first-child::after {align-self: flex-end;width: 50%;}#sk-container-id-5 div.sk-parallel-item:last-child::after {align-self: flex-start;width: 50%;}#sk-container-id-5 div.sk-parallel-item:only-child::after {width: 0;}#sk-container-id-5 div.sk-dashed-wrapped {border: 1px dashed gray;margin: 0 0.4em 0.5em 0.4em;box-sizing: border-box;padding-bottom: 0.4em;background-color: white;}#sk-container-id-5 div.sk-label label {font-family: monospace;font-weight: bold;display: inline-block;line-height: 1.2em;}#sk-container-id-5 div.sk-label-container {text-align: center;}#sk-container-id-5 div.sk-container {/* jupyter's `normalize.less` sets `[hidden] { display: none; }` but bootstrap.min.css set `[hidden] { display: none !important; }` so we also need the `!important` here to be able to override the default hidden behavior on the sphinx rendered scikit-learn.org. See: https://github.com/scikit-learn/scikit-learn/issues/21755 */display: inline-block !important;position: relative;}#sk-container-id-5 div.sk-text-repr-fallback {display: none;}</style><div id=\"sk-container-id-5\" class=\"sk-top-container\"><div class=\"sk-text-repr-fallback\"><pre>LogisticRegression()</pre><b>In a Jupyter environment, please rerun this cell to show the HTML representation or trust the notebook. <br />On GitHub, the HTML representation is unable to render, please try loading this page with nbviewer.org.</b></div><div class=\"sk-container\" hidden><div class=\"sk-item\"><div class=\"sk-estimator sk-toggleable\"><input class=\"sk-toggleable__control sk-hidden--visually\" id=\"sk-estimator-id-5\" type=\"checkbox\" checked><label for=\"sk-estimator-id-5\" class=\"sk-toggleable__label sk-toggleable__label-arrow\">LogisticRegression</label><div class=\"sk-toggleable__content\"><pre>LogisticRegression()</pre></div></div></div></div></div>"
      ],
      "text/plain": [
       "LogisticRegression()"
      ]
     },
     "execution_count": 167,
     "metadata": {},
     "output_type": "execute_result"
    }
   ],
   "source": [
    "lr=LogisticRegression()\n",
    "lr.fit(X_train, y_train)"
   ]
  },
  {
   "cell_type": "code",
   "execution_count": 168,
   "metadata": {
    "id": "fyadeHIH7kwm"
   },
   "outputs": [],
   "source": [
    "y_pred=lr.predict(X_test)"
   ]
  },
  {
   "cell_type": "code",
   "execution_count": 169,
   "metadata": {
    "colab": {
     "base_uri": "https://localhost:8080/"
    },
    "id": "QRHxJnDM7ocp",
    "outputId": "614eef38-7388-4dd4-dc69-87d91cbbb5ac"
   },
   "outputs": [
    {
     "data": {
      "text/plain": [
       "0.7809108330316062"
      ]
     },
     "execution_count": 169,
     "metadata": {},
     "output_type": "execute_result"
    }
   ],
   "source": [
    "lr.score(X_test,y_test)"
   ]
  },
  {
   "cell_type": "code",
   "execution_count": 170,
   "metadata": {
    "colab": {
     "base_uri": "https://localhost:8080/"
    },
    "id": "NP9pMcKr7t3T",
    "outputId": "afe3f067-3dd1-414d-f269-bc724d39c116"
   },
   "outputs": [
    {
     "name": "stdout",
     "output_type": "stream",
     "text": [
      "              precision    recall  f1-score   support\n",
      "\n",
      "         0.0       0.61      0.63      0.62     22797\n",
      "         1.0       0.81      0.72      0.76     22746\n",
      "         2.0       0.74      0.77      0.75     22554\n",
      "         3.0       0.82      0.88      0.85     22418\n",
      "         4.0       0.93      0.92      0.93     22722\n",
      "\n",
      "    accuracy                           0.78    113237\n",
      "   macro avg       0.78      0.78      0.78    113237\n",
      "weighted avg       0.78      0.78      0.78    113237\n",
      "\n"
     ]
    }
   ],
   "source": [
    "print(classification_report(y_test, y_pred))"
   ]
  },
  {
   "cell_type": "code",
   "execution_count": null,
   "metadata": {
    "colab": {
     "base_uri": "https://localhost:8080/"
    },
    "id": "mcsj0upg7w_D",
    "outputId": "4997e796-6822-4ed2-9768-388474179791"
   },
   "outputs": [],
   "source": []
  },
  {
   "cell_type": "markdown",
   "metadata": {
    "id": "8Fo2MXVE8MJ5"
   },
   "source": [
    "### Infarctus du myocarde"
   ]
  },
  {
   "cell_type": "code",
   "execution_count": 171,
   "metadata": {
    "id": "6Cl33jQ58lKa"
   },
   "outputs": [],
   "source": [
    "X=df_i.iloc[:,:-1]\n",
    "y=df_i.iloc[:,-1]\n",
    "from sklearn.model_selection import train_test_split,cross_val_score\n",
    "from sklearn.linear_model import LogisticRegression\n",
    "from sklearn.ensemble import RandomForestClassifier\n",
    "from sklearn.svm import SVC\n",
    "from sklearn.metrics import classification_report,accuracy_score,confusion_matrix"
   ]
  },
  {
   "cell_type": "code",
   "execution_count": 172,
   "metadata": {
    "id": "vhecABmblCQ7"
   },
   "outputs": [
    {
     "data": {
      "text/plain": [
       "187\n",
       "0.0    10506\n",
       "1.0    10506\n",
       "Name: count, dtype: int64"
      ]
     },
     "execution_count": 172,
     "metadata": {},
     "output_type": "execute_result"
    }
   ],
   "source": [
    "import imblearn\n",
    "from imblearn.over_sampling import SMOTE\n",
    "\n",
    "# oversampling\n",
    "smote=SMOTE()\n",
    "X_oversampled,y_oversampled=smote.fit_resample(X,y)\n",
    "y_oversampled.value_counts()"
   ]
  },
  {
   "cell_type": "code",
   "execution_count": 173,
   "metadata": {},
   "outputs": [],
   "source": [
    "X_train, X_test, y_train, y_test = train_test_split(X_oversampled, y_oversampled, test_size=0.25, random_state=28)"
   ]
  },
  {
   "cell_type": "code",
   "execution_count": 174,
   "metadata": {
    "id": "tZtZgCZF8oEL"
   },
   "outputs": [
    {
     "name": "stderr",
     "output_type": "stream",
     "text": [
      "/usr/local/lib/python3.9/dist-packages/sklearn/linear_model/_logistic.py:460: ConvergenceWarning: lbfgs failed to converge (status=1):\n",
      "STOP: TOTAL NO. of ITERATIONS REACHED LIMIT.\n",
      "\n",
      "Increase the number of iterations (max_iter) or scale the data as shown in:\n",
      "    https://scikit-learn.org/stable/modules/preprocessing.html\n",
      "Please also refer to the documentation for alternative solver options:\n",
      "    https://scikit-learn.org/stable/modules/linear_model.html#logistic-regression\n",
      "  n_iter_i = _check_optimize_result(\n"
     ]
    },
    {
     "data": {
      "text/html": [
       "<style>#sk-container-id-6 {color: black;}#sk-container-id-6 pre{padding: 0;}#sk-container-id-6 div.sk-toggleable {background-color: white;}#sk-container-id-6 label.sk-toggleable__label {cursor: pointer;display: block;width: 100%;margin-bottom: 0;padding: 0.3em;box-sizing: border-box;text-align: center;}#sk-container-id-6 label.sk-toggleable__label-arrow:before {content: \"▸\";float: left;margin-right: 0.25em;color: #696969;}#sk-container-id-6 label.sk-toggleable__label-arrow:hover:before {color: black;}#sk-container-id-6 div.sk-estimator:hover label.sk-toggleable__label-arrow:before {color: black;}#sk-container-id-6 div.sk-toggleable__content {max-height: 0;max-width: 0;overflow: hidden;text-align: left;background-color: #f0f8ff;}#sk-container-id-6 div.sk-toggleable__content pre {margin: 0.2em;color: black;border-radius: 0.25em;background-color: #f0f8ff;}#sk-container-id-6 input.sk-toggleable__control:checked~div.sk-toggleable__content {max-height: 200px;max-width: 100%;overflow: auto;}#sk-container-id-6 input.sk-toggleable__control:checked~label.sk-toggleable__label-arrow:before {content: \"▾\";}#sk-container-id-6 div.sk-estimator input.sk-toggleable__control:checked~label.sk-toggleable__label {background-color: #d4ebff;}#sk-container-id-6 div.sk-label input.sk-toggleable__control:checked~label.sk-toggleable__label {background-color: #d4ebff;}#sk-container-id-6 input.sk-hidden--visually {border: 0;clip: rect(1px 1px 1px 1px);clip: rect(1px, 1px, 1px, 1px);height: 1px;margin: -1px;overflow: hidden;padding: 0;position: absolute;width: 1px;}#sk-container-id-6 div.sk-estimator {font-family: monospace;background-color: #f0f8ff;border: 1px dotted black;border-radius: 0.25em;box-sizing: border-box;margin-bottom: 0.5em;}#sk-container-id-6 div.sk-estimator:hover {background-color: #d4ebff;}#sk-container-id-6 div.sk-parallel-item::after {content: \"\";width: 100%;border-bottom: 1px solid gray;flex-grow: 1;}#sk-container-id-6 div.sk-label:hover label.sk-toggleable__label {background-color: #d4ebff;}#sk-container-id-6 div.sk-serial::before {content: \"\";position: absolute;border-left: 1px solid gray;box-sizing: border-box;top: 0;bottom: 0;left: 50%;z-index: 0;}#sk-container-id-6 div.sk-serial {display: flex;flex-direction: column;align-items: center;background-color: white;padding-right: 0.2em;padding-left: 0.2em;position: relative;}#sk-container-id-6 div.sk-item {position: relative;z-index: 1;}#sk-container-id-6 div.sk-parallel {display: flex;align-items: stretch;justify-content: center;background-color: white;position: relative;}#sk-container-id-6 div.sk-item::before, #sk-container-id-6 div.sk-parallel-item::before {content: \"\";position: absolute;border-left: 1px solid gray;box-sizing: border-box;top: 0;bottom: 0;left: 50%;z-index: -1;}#sk-container-id-6 div.sk-parallel-item {display: flex;flex-direction: column;z-index: 1;position: relative;background-color: white;}#sk-container-id-6 div.sk-parallel-item:first-child::after {align-self: flex-end;width: 50%;}#sk-container-id-6 div.sk-parallel-item:last-child::after {align-self: flex-start;width: 50%;}#sk-container-id-6 div.sk-parallel-item:only-child::after {width: 0;}#sk-container-id-6 div.sk-dashed-wrapped {border: 1px dashed gray;margin: 0 0.4em 0.5em 0.4em;box-sizing: border-box;padding-bottom: 0.4em;background-color: white;}#sk-container-id-6 div.sk-label label {font-family: monospace;font-weight: bold;display: inline-block;line-height: 1.2em;}#sk-container-id-6 div.sk-label-container {text-align: center;}#sk-container-id-6 div.sk-container {/* jupyter's `normalize.less` sets `[hidden] { display: none; }` but bootstrap.min.css set `[hidden] { display: none !important; }` so we also need the `!important` here to be able to override the default hidden behavior on the sphinx rendered scikit-learn.org. See: https://github.com/scikit-learn/scikit-learn/issues/21755 */display: inline-block !important;position: relative;}#sk-container-id-6 div.sk-text-repr-fallback {display: none;}</style><div id=\"sk-container-id-6\" class=\"sk-top-container\"><div class=\"sk-text-repr-fallback\"><pre>LogisticRegression()</pre><b>In a Jupyter environment, please rerun this cell to show the HTML representation or trust the notebook. <br />On GitHub, the HTML representation is unable to render, please try loading this page with nbviewer.org.</b></div><div class=\"sk-container\" hidden><div class=\"sk-item\"><div class=\"sk-estimator sk-toggleable\"><input class=\"sk-toggleable__control sk-hidden--visually\" id=\"sk-estimator-id-6\" type=\"checkbox\" checked><label for=\"sk-estimator-id-6\" class=\"sk-toggleable__label sk-toggleable__label-arrow\">LogisticRegression</label><div class=\"sk-toggleable__content\"><pre>LogisticRegression()</pre></div></div></div></div></div>"
      ],
      "text/plain": [
       "LogisticRegression()"
      ]
     },
     "execution_count": 174,
     "metadata": {},
     "output_type": "execute_result"
    }
   ],
   "source": [
    "lr=LogisticRegression()\n",
    "lr.fit(X_train, y_train)"
   ]
  },
  {
   "cell_type": "code",
   "execution_count": 175,
   "metadata": {
    "id": "kIwfYMWG8sa6"
   },
   "outputs": [],
   "source": [
    "y_pred=lr.predict(X_test)"
   ]
  },
  {
   "cell_type": "code",
   "execution_count": 176,
   "metadata": {
    "id": "4jaMvgb_8wMq"
   },
   "outputs": [
    {
     "data": {
      "text/plain": [
       "0.8166761850371217"
      ]
     },
     "execution_count": 176,
     "metadata": {},
     "output_type": "execute_result"
    }
   ],
   "source": [
    "lr.score(X_test,y_test)"
   ]
  },
  {
   "cell_type": "code",
   "execution_count": 177,
   "metadata": {
    "id": "l1wjugau80Xy"
   },
   "outputs": [
    {
     "name": "stdout",
     "output_type": "stream",
     "text": [
      "              precision    recall  f1-score   support\n",
      "\n",
      "         0.0       0.79      0.86      0.82      2604\n",
      "         1.0       0.85      0.78      0.81      2649\n",
      "\n",
      "    accuracy                           0.82      5253\n",
      "   macro avg       0.82      0.82      0.82      5253\n",
      "weighted avg       0.82      0.82      0.82      5253\n",
      "\n"
     ]
    }
   ],
   "source": [
    "print(classification_report(y_test, y_pred))"
   ]
  },
  {
   "cell_type": "markdown",
   "metadata": {
    "id": "lhUoBPudyGS5"
   },
   "source": [
    "# SVM\n"
   ]
  },
  {
   "cell_type": "markdown",
   "metadata": {
    "id": "1VZMs_FH9k6c"
   },
   "source": [
    "## Anomalie cardiaque"
   ]
  },
  {
   "cell_type": "code",
   "execution_count": 178,
   "metadata": {
    "id": "iC5xpoIL9IJZ"
   },
   "outputs": [],
   "source": [
    "X=df_a.iloc[:,:-1]\n",
    "y=df_a.iloc[:,-1]\n",
    "from sklearn.model_selection import train_test_split,cross_val_score\n",
    "from sklearn.linear_model import LogisticRegression\n",
    "from sklearn.ensemble import RandomForestClassifier\n",
    "from sklearn.svm import SVC\n",
    "from sklearn.metrics import classification_report,accuracy_score,confusion_matrix"
   ]
  },
  {
   "cell_type": "code",
   "execution_count": 179,
   "metadata": {},
   "outputs": [
    {
     "data": {
      "text/plain": [
       "187\n",
       "0.0    90589\n",
       "1.0    90589\n",
       "2.0    90589\n",
       "3.0    90589\n",
       "4.0    90589\n",
       "Name: count, dtype: int64"
      ]
     },
     "execution_count": 179,
     "metadata": {},
     "output_type": "execute_result"
    }
   ],
   "source": [
    "import imblearn\n",
    "from imblearn.over_sampling import SMOTE\n",
    "\n",
    "# oversampling\n",
    "smote=SMOTE()\n",
    "X_oversampled,y_oversampled=smote.fit_resample(X,y)\n",
    "y_oversampled.value_counts()"
   ]
  },
  {
   "cell_type": "code",
   "execution_count": 180,
   "metadata": {},
   "outputs": [],
   "source": [
    "X_train, X_test, y_train, y_test = train_test_split(X_oversampled, y_oversampled, test_size=0.25, random_state=28)"
   ]
  },
  {
   "cell_type": "code",
   "execution_count": 181,
   "metadata": {
    "id": "8N68l2gQ9Nba"
   },
   "outputs": [],
   "source": [
    "svc = SVC()"
   ]
  },
  {
   "cell_type": "code",
   "execution_count": 182,
   "metadata": {
    "colab": {
     "base_uri": "https://localhost:8080/"
    },
    "id": "adp_U_9c9PqK",
    "outputId": "8ac5e23c-0a6d-4af8-fd0f-469d50ef6d79"
   },
   "outputs": [
    {
     "data": {
      "text/html": [
       "<style>#sk-container-id-7 {color: black;}#sk-container-id-7 pre{padding: 0;}#sk-container-id-7 div.sk-toggleable {background-color: white;}#sk-container-id-7 label.sk-toggleable__label {cursor: pointer;display: block;width: 100%;margin-bottom: 0;padding: 0.3em;box-sizing: border-box;text-align: center;}#sk-container-id-7 label.sk-toggleable__label-arrow:before {content: \"▸\";float: left;margin-right: 0.25em;color: #696969;}#sk-container-id-7 label.sk-toggleable__label-arrow:hover:before {color: black;}#sk-container-id-7 div.sk-estimator:hover label.sk-toggleable__label-arrow:before {color: black;}#sk-container-id-7 div.sk-toggleable__content {max-height: 0;max-width: 0;overflow: hidden;text-align: left;background-color: #f0f8ff;}#sk-container-id-7 div.sk-toggleable__content pre {margin: 0.2em;color: black;border-radius: 0.25em;background-color: #f0f8ff;}#sk-container-id-7 input.sk-toggleable__control:checked~div.sk-toggleable__content {max-height: 200px;max-width: 100%;overflow: auto;}#sk-container-id-7 input.sk-toggleable__control:checked~label.sk-toggleable__label-arrow:before {content: \"▾\";}#sk-container-id-7 div.sk-estimator input.sk-toggleable__control:checked~label.sk-toggleable__label {background-color: #d4ebff;}#sk-container-id-7 div.sk-label input.sk-toggleable__control:checked~label.sk-toggleable__label {background-color: #d4ebff;}#sk-container-id-7 input.sk-hidden--visually {border: 0;clip: rect(1px 1px 1px 1px);clip: rect(1px, 1px, 1px, 1px);height: 1px;margin: -1px;overflow: hidden;padding: 0;position: absolute;width: 1px;}#sk-container-id-7 div.sk-estimator {font-family: monospace;background-color: #f0f8ff;border: 1px dotted black;border-radius: 0.25em;box-sizing: border-box;margin-bottom: 0.5em;}#sk-container-id-7 div.sk-estimator:hover {background-color: #d4ebff;}#sk-container-id-7 div.sk-parallel-item::after {content: \"\";width: 100%;border-bottom: 1px solid gray;flex-grow: 1;}#sk-container-id-7 div.sk-label:hover label.sk-toggleable__label {background-color: #d4ebff;}#sk-container-id-7 div.sk-serial::before {content: \"\";position: absolute;border-left: 1px solid gray;box-sizing: border-box;top: 0;bottom: 0;left: 50%;z-index: 0;}#sk-container-id-7 div.sk-serial {display: flex;flex-direction: column;align-items: center;background-color: white;padding-right: 0.2em;padding-left: 0.2em;position: relative;}#sk-container-id-7 div.sk-item {position: relative;z-index: 1;}#sk-container-id-7 div.sk-parallel {display: flex;align-items: stretch;justify-content: center;background-color: white;position: relative;}#sk-container-id-7 div.sk-item::before, #sk-container-id-7 div.sk-parallel-item::before {content: \"\";position: absolute;border-left: 1px solid gray;box-sizing: border-box;top: 0;bottom: 0;left: 50%;z-index: -1;}#sk-container-id-7 div.sk-parallel-item {display: flex;flex-direction: column;z-index: 1;position: relative;background-color: white;}#sk-container-id-7 div.sk-parallel-item:first-child::after {align-self: flex-end;width: 50%;}#sk-container-id-7 div.sk-parallel-item:last-child::after {align-self: flex-start;width: 50%;}#sk-container-id-7 div.sk-parallel-item:only-child::after {width: 0;}#sk-container-id-7 div.sk-dashed-wrapped {border: 1px dashed gray;margin: 0 0.4em 0.5em 0.4em;box-sizing: border-box;padding-bottom: 0.4em;background-color: white;}#sk-container-id-7 div.sk-label label {font-family: monospace;font-weight: bold;display: inline-block;line-height: 1.2em;}#sk-container-id-7 div.sk-label-container {text-align: center;}#sk-container-id-7 div.sk-container {/* jupyter's `normalize.less` sets `[hidden] { display: none; }` but bootstrap.min.css set `[hidden] { display: none !important; }` so we also need the `!important` here to be able to override the default hidden behavior on the sphinx rendered scikit-learn.org. See: https://github.com/scikit-learn/scikit-learn/issues/21755 */display: inline-block !important;position: relative;}#sk-container-id-7 div.sk-text-repr-fallback {display: none;}</style><div id=\"sk-container-id-7\" class=\"sk-top-container\"><div class=\"sk-text-repr-fallback\"><pre>SVC()</pre><b>In a Jupyter environment, please rerun this cell to show the HTML representation or trust the notebook. <br />On GitHub, the HTML representation is unable to render, please try loading this page with nbviewer.org.</b></div><div class=\"sk-container\" hidden><div class=\"sk-item\"><div class=\"sk-estimator sk-toggleable\"><input class=\"sk-toggleable__control sk-hidden--visually\" id=\"sk-estimator-id-7\" type=\"checkbox\" checked><label for=\"sk-estimator-id-7\" class=\"sk-toggleable__label sk-toggleable__label-arrow\">SVC</label><div class=\"sk-toggleable__content\"><pre>SVC()</pre></div></div></div></div></div>"
      ],
      "text/plain": [
       "SVC()"
      ]
     },
     "execution_count": 182,
     "metadata": {},
     "output_type": "execute_result"
    }
   ],
   "source": [
    "svc.fit(X_train, y_train)"
   ]
  },
  {
   "cell_type": "code",
   "execution_count": 183,
   "metadata": {
    "id": "puiYK0T39R7S"
   },
   "outputs": [],
   "source": [
    "y_pred_svc = svc.predict(X_test)"
   ]
  },
  {
   "cell_type": "code",
   "execution_count": 184,
   "metadata": {
    "colab": {
     "base_uri": "https://localhost:8080/"
    },
    "id": "PJ-e-G9T9Uqz",
    "outputId": "334811c0-8d6b-4796-b699-d511bef2a1a2"
   },
   "outputs": [
    {
     "data": {
      "text/plain": [
       "0.9685526815440183"
      ]
     },
     "execution_count": 184,
     "metadata": {},
     "output_type": "execute_result"
    }
   ],
   "source": [
    "svc.score(X_test,y_test)"
   ]
  },
  {
   "cell_type": "code",
   "execution_count": 185,
   "metadata": {
    "colab": {
     "base_uri": "https://localhost:8080/"
    },
    "id": "Bi7u-pZ_9Xp6",
    "outputId": "2b54ce33-6373-461e-f544-4517e34ec374"
   },
   "outputs": [
    {
     "name": "stdout",
     "output_type": "stream",
     "text": [
      "              precision    recall  f1-score   support\n",
      "\n",
      "         0.0       0.95      0.93      0.94     22797\n",
      "         1.0       0.96      0.96      0.96     22746\n",
      "         2.0       0.99      0.97      0.98     22554\n",
      "         3.0       0.95      1.00      0.97     22418\n",
      "         4.0       1.00      0.99      0.99     22722\n",
      "\n",
      "    accuracy                           0.97    113237\n",
      "   macro avg       0.97      0.97      0.97    113237\n",
      "weighted avg       0.97      0.97      0.97    113237\n",
      "\n"
     ]
    }
   ],
   "source": [
    "print(classification_report(y_test, y_pred_svc))"
   ]
  },
  {
   "cell_type": "markdown",
   "metadata": {
    "id": "Kjf1XxU89qaD"
   },
   "source": [
    "### Infarctus du myocarde"
   ]
  },
  {
   "cell_type": "code",
   "execution_count": 186,
   "metadata": {},
   "outputs": [],
   "source": [
    "X=df_i.iloc[:,:-1]\n",
    "y=df_i.iloc[:,-1]"
   ]
  },
  {
   "cell_type": "code",
   "execution_count": 187,
   "metadata": {},
   "outputs": [
    {
     "data": {
      "text/plain": [
       "187\n",
       "0.0    10506\n",
       "1.0    10506\n",
       "Name: count, dtype: int64"
      ]
     },
     "execution_count": 187,
     "metadata": {},
     "output_type": "execute_result"
    }
   ],
   "source": [
    "import imblearn\n",
    "from imblearn.over_sampling import SMOTE\n",
    "# oversampling\n",
    "smote=SMOTE()\n",
    "X_oversampled,y_oversampled=smote.fit_resample(X,y)\n",
    "y_oversampled.value_counts()"
   ]
  },
  {
   "cell_type": "code",
   "execution_count": 188,
   "metadata": {},
   "outputs": [],
   "source": [
    "X_train, X_test, y_train, y_test = train_test_split(X_oversampled, y_oversampled, test_size=0.25, random_state=28)"
   ]
  },
  {
   "cell_type": "code",
   "execution_count": 189,
   "metadata": {
    "id": "K25vXrXH-KP6"
   },
   "outputs": [],
   "source": [
    "svc = SVC()"
   ]
  },
  {
   "cell_type": "code",
   "execution_count": 190,
   "metadata": {
    "colab": {
     "base_uri": "https://localhost:8080/"
    },
    "id": "v-sq3aOF-Trq",
    "outputId": "e491667a-0c6c-449b-bc28-603ae7163db6"
   },
   "outputs": [
    {
     "data": {
      "text/html": [
       "<style>#sk-container-id-8 {color: black;}#sk-container-id-8 pre{padding: 0;}#sk-container-id-8 div.sk-toggleable {background-color: white;}#sk-container-id-8 label.sk-toggleable__label {cursor: pointer;display: block;width: 100%;margin-bottom: 0;padding: 0.3em;box-sizing: border-box;text-align: center;}#sk-container-id-8 label.sk-toggleable__label-arrow:before {content: \"▸\";float: left;margin-right: 0.25em;color: #696969;}#sk-container-id-8 label.sk-toggleable__label-arrow:hover:before {color: black;}#sk-container-id-8 div.sk-estimator:hover label.sk-toggleable__label-arrow:before {color: black;}#sk-container-id-8 div.sk-toggleable__content {max-height: 0;max-width: 0;overflow: hidden;text-align: left;background-color: #f0f8ff;}#sk-container-id-8 div.sk-toggleable__content pre {margin: 0.2em;color: black;border-radius: 0.25em;background-color: #f0f8ff;}#sk-container-id-8 input.sk-toggleable__control:checked~div.sk-toggleable__content {max-height: 200px;max-width: 100%;overflow: auto;}#sk-container-id-8 input.sk-toggleable__control:checked~label.sk-toggleable__label-arrow:before {content: \"▾\";}#sk-container-id-8 div.sk-estimator input.sk-toggleable__control:checked~label.sk-toggleable__label {background-color: #d4ebff;}#sk-container-id-8 div.sk-label input.sk-toggleable__control:checked~label.sk-toggleable__label {background-color: #d4ebff;}#sk-container-id-8 input.sk-hidden--visually {border: 0;clip: rect(1px 1px 1px 1px);clip: rect(1px, 1px, 1px, 1px);height: 1px;margin: -1px;overflow: hidden;padding: 0;position: absolute;width: 1px;}#sk-container-id-8 div.sk-estimator {font-family: monospace;background-color: #f0f8ff;border: 1px dotted black;border-radius: 0.25em;box-sizing: border-box;margin-bottom: 0.5em;}#sk-container-id-8 div.sk-estimator:hover {background-color: #d4ebff;}#sk-container-id-8 div.sk-parallel-item::after {content: \"\";width: 100%;border-bottom: 1px solid gray;flex-grow: 1;}#sk-container-id-8 div.sk-label:hover label.sk-toggleable__label {background-color: #d4ebff;}#sk-container-id-8 div.sk-serial::before {content: \"\";position: absolute;border-left: 1px solid gray;box-sizing: border-box;top: 0;bottom: 0;left: 50%;z-index: 0;}#sk-container-id-8 div.sk-serial {display: flex;flex-direction: column;align-items: center;background-color: white;padding-right: 0.2em;padding-left: 0.2em;position: relative;}#sk-container-id-8 div.sk-item {position: relative;z-index: 1;}#sk-container-id-8 div.sk-parallel {display: flex;align-items: stretch;justify-content: center;background-color: white;position: relative;}#sk-container-id-8 div.sk-item::before, #sk-container-id-8 div.sk-parallel-item::before {content: \"\";position: absolute;border-left: 1px solid gray;box-sizing: border-box;top: 0;bottom: 0;left: 50%;z-index: -1;}#sk-container-id-8 div.sk-parallel-item {display: flex;flex-direction: column;z-index: 1;position: relative;background-color: white;}#sk-container-id-8 div.sk-parallel-item:first-child::after {align-self: flex-end;width: 50%;}#sk-container-id-8 div.sk-parallel-item:last-child::after {align-self: flex-start;width: 50%;}#sk-container-id-8 div.sk-parallel-item:only-child::after {width: 0;}#sk-container-id-8 div.sk-dashed-wrapped {border: 1px dashed gray;margin: 0 0.4em 0.5em 0.4em;box-sizing: border-box;padding-bottom: 0.4em;background-color: white;}#sk-container-id-8 div.sk-label label {font-family: monospace;font-weight: bold;display: inline-block;line-height: 1.2em;}#sk-container-id-8 div.sk-label-container {text-align: center;}#sk-container-id-8 div.sk-container {/* jupyter's `normalize.less` sets `[hidden] { display: none; }` but bootstrap.min.css set `[hidden] { display: none !important; }` so we also need the `!important` here to be able to override the default hidden behavior on the sphinx rendered scikit-learn.org. See: https://github.com/scikit-learn/scikit-learn/issues/21755 */display: inline-block !important;position: relative;}#sk-container-id-8 div.sk-text-repr-fallback {display: none;}</style><div id=\"sk-container-id-8\" class=\"sk-top-container\"><div class=\"sk-text-repr-fallback\"><pre>SVC()</pre><b>In a Jupyter environment, please rerun this cell to show the HTML representation or trust the notebook. <br />On GitHub, the HTML representation is unable to render, please try loading this page with nbviewer.org.</b></div><div class=\"sk-container\" hidden><div class=\"sk-item\"><div class=\"sk-estimator sk-toggleable\"><input class=\"sk-toggleable__control sk-hidden--visually\" id=\"sk-estimator-id-8\" type=\"checkbox\" checked><label for=\"sk-estimator-id-8\" class=\"sk-toggleable__label sk-toggleable__label-arrow\">SVC</label><div class=\"sk-toggleable__content\"><pre>SVC()</pre></div></div></div></div></div>"
      ],
      "text/plain": [
       "SVC()"
      ]
     },
     "execution_count": 190,
     "metadata": {},
     "output_type": "execute_result"
    }
   ],
   "source": [
    "svc.fit(X_train, y_train)"
   ]
  },
  {
   "cell_type": "code",
   "execution_count": null,
   "metadata": {
    "id": "WXGN8T7Y-Woq"
   },
   "outputs": [],
   "source": [
    "y_pred_svc = svc.predict(X_test)"
   ]
  },
  {
   "cell_type": "code",
   "execution_count": null,
   "metadata": {
    "colab": {
     "base_uri": "https://localhost:8080/"
    },
    "id": "TOsIwWj9-Zg6",
    "outputId": "e2a57b9d-b152-4e1b-cd1b-55b165bd61c5"
   },
   "outputs": [],
   "source": [
    "print(classification_report(y_test, y_pred_svc))"
   ]
  },
  {
   "cell_type": "markdown",
   "metadata": {
    "id": "Cg-xxJJyyLT6"
   },
   "source": [
    "# DEEP LEARNING"
   ]
  },
  {
   "cell_type": "markdown",
   "metadata": {
    "id": "WRl1oMbSyVHS"
   },
   "source": [
    "# Réseau de neurones dense"
   ]
  },
  {
   "cell_type": "markdown",
   "metadata": {
    "id": "F177lcKmyd_E"
   },
   "source": [
    "## appliqués au dataset mitibih"
   ]
  },
  {
   "cell_type": "code",
   "execution_count": 46,
   "metadata": {
    "id": "OgJZhDi9yqnd"
   },
   "outputs": [],
   "source": [
    "import pandas as pd\n",
    "import numpy as np\n",
    "from scipy.signal import find_peaks\n",
    "from sklearn.metrics import classification_report\n",
    "from imblearn.over_sampling import SMOTE\n",
    "from imblearn.metrics import classification_report_imbalanced, geometric_mean_score"
   ]
  },
  {
   "cell_type": "code",
   "execution_count": null,
   "metadata": {},
   "outputs": [],
   "source": []
  },
  {
   "cell_type": "code",
   "execution_count": 47,
   "metadata": {
    "id": "DtN05DjR-vJJ"
   },
   "outputs": [],
   "source": [
    "X=df_a.iloc[:,:-1]\n",
    "y=df_a.iloc[:,-1]\n",
    "from sklearn.model_selection import train_test_split,cross_val_score\n",
    "from sklearn.linear_model import LogisticRegression\n",
    "from sklearn.ensemble import RandomForestClassifier\n",
    "from sklearn.svm import SVC\n",
    "from sklearn.preprocessing import StandardScaler\n",
    "from sklearn.metrics import confusion_matrix\n",
    "from sklearn.metrics import classification_report,accuracy_score,confusion_matrix"
   ]
  },
  {
   "cell_type": "code",
   "execution_count": 48,
   "metadata": {},
   "outputs": [],
   "source": [
    "smote = SMOTE()\n",
    "X_sm, y_sm = smote.fit_resample(X, y)\n",
    "X_train, X_test, y_train, y_test = train_test_split(X_sm, y_sm, test_size=0.25, random_state=28)"
   ]
  },
  {
   "cell_type": "code",
   "execution_count": null,
   "metadata": {},
   "outputs": [],
   "source": []
  },
  {
   "cell_type": "code",
   "execution_count": 49,
   "metadata": {
    "id": "eMMntnCd-xXZ"
   },
   "outputs": [],
   "source": [
    "from tensorflow.keras.layers import Input, Dense, Dropout, Flatten, Conv1D, MaxPooling1D, GlobalAveragePooling1D, BatchNormalization, SpatialDropout1D, Reshape\n",
    "from tensorflow.keras.models import Model, Sequential\n",
    "from tensorflow.keras.utils import to_categorical\n",
    "from tensorflow.keras.callbacks import EarlyStopping, ReduceLROnPlateau\n",
    "\n",
    "\n"
   ]
  },
  {
   "cell_type": "code",
   "execution_count": 50,
   "metadata": {
    "id": "C9SZJIwUhRII"
   },
   "outputs": [],
   "source": [
    "scaler = StandardScaler()\n",
    "X_train =scaler.fit_transform(X_train)\n",
    "X_test = scaler.transform(X_test)"
   ]
  },
  {
   "cell_type": "code",
   "execution_count": 51,
   "metadata": {
    "id": "lKeNntBw-9Cq"
   },
   "outputs": [],
   "source": [
    "early_stopping = EarlyStopping(monitor = 'val_loss',\n",
    "                    min_delta = 0.01,\n",
    "                    patience = 5,\n",
    "                    verbose = 1,\n",
    "                    mode = 'min',\n",
    "                    restore_best_weights = True)\n",
    "\n",
    "reduce_learning_rate = ReduceLROnPlateau(monitor = 'val_loss',\n",
    "                        min_delta = 0.01,\n",
    "                        patience = 3,\n",
    "                        factor = 0.1,\n",
    "                        cooldown = 4,\n",
    "                        verbose = 1)"
   ]
  },
  {
   "cell_type": "code",
   "execution_count": 52,
   "metadata": {
    "colab": {
     "base_uri": "https://localhost:8080/"
    },
    "id": "P7AdnkPX_FiZ",
    "outputId": "51c87cfa-463b-49f8-fb00-10bf595fca2b"
   },
   "outputs": [
    {
     "name": "stdout",
     "output_type": "stream",
     "text": [
      "Model: \"model_1\"\n",
      "_________________________________________________________________\n",
      " Layer (type)                Output Shape              Param #   \n",
      "=================================================================\n",
      " Input (InputLayer)          [(None, 187)]             0         \n",
      "                                                                 \n",
      " dense1 (Dense)              (None, 10)                1880      \n",
      "                                                                 \n",
      " dense2 (Dense)              (None, 8)                 88        \n",
      "                                                                 \n",
      " dense3 (Dense)              (None, 6)                 54        \n",
      "                                                                 \n",
      " dense4 (Dense)              (None, 5)                 35        \n",
      "                                                                 \n",
      "=================================================================\n",
      "Total params: 2057 (8.04 KB)\n",
      "Trainable params: 2057 (8.04 KB)\n",
      "Non-trainable params: 0 (0.00 Byte)\n",
      "_________________________________________________________________\n"
     ]
    }
   ],
   "source": [
    "batch_size = 32\n",
    "epochs = 30\n",
    "inputs = Input(shape = X_sm.shape[1], name = \"Input\")\n",
    "dense1 = Dense(units = 10, activation = \"tanh\", name = \"dense1\", kernel_initializer=\"normal\")\n",
    "dense2 = Dense(units = 8, activation = \"tanh\", name = \"dense2\", kernel_initializer=\"normal\")\n",
    "dense3 = Dense(units = 6, activation = \"tanh\", name = \"dense3\", kernel_initializer=\"normal\")\n",
    "dense4 = Dense(units = 5, activation = \"softmax\", name = \"dense4\", kernel_initializer=\"normal\")\n",
    "\n",
    "x = dense1(inputs)\n",
    "x = dense2(x)\n",
    "x = dense3(x)\n",
    "outputs = dense4(x)\n",
    "\n",
    "model_d = Model(inputs = inputs, outputs = outputs)\n",
    "model_d.summary()"
   ]
  },
  {
   "cell_type": "code",
   "execution_count": 53,
   "metadata": {
    "id": "ZGo5aC7y_Kz5"
   },
   "outputs": [],
   "source": [
    "model_d.compile(optimizer='adam', loss='SparseCategoricalCrossentropy', metrics=['accuracy'])"
   ]
  },
  {
   "cell_type": "code",
   "execution_count": null,
   "metadata": {
    "id": "v8QiaU6Dumdb"
   },
   "outputs": [],
   "source": []
  },
  {
   "cell_type": "code",
   "execution_count": 54,
   "metadata": {
    "colab": {
     "base_uri": "https://localhost:8080/"
    },
    "id": "FMZ4N_l7_OQy",
    "outputId": "bde7d403-3225-4f73-c13a-45b211679539"
   },
   "outputs": [
    {
     "name": "stdout",
     "output_type": "stream",
     "text": [
      "Epoch 1/30\n",
      "8493/8493 [==============================] - 38s 4ms/step - loss: 0.5541 - accuracy: 0.8037 - val_loss: 0.3826 - val_accuracy: 0.8771 - lr: 0.0010\n",
      "Epoch 2/30\n",
      "8493/8493 [==============================] - 38s 4ms/step - loss: 0.3513 - accuracy: 0.8851 - val_loss: 0.3449 - val_accuracy: 0.8888 - lr: 0.0010\n",
      "Epoch 3/30\n",
      "8493/8493 [==============================] - 37s 4ms/step - loss: 0.3250 - accuracy: 0.8944 - val_loss: 0.3266 - val_accuracy: 0.8946 - lr: 0.0010\n",
      "Epoch 4/30\n",
      "8493/8493 [==============================] - 38s 4ms/step - loss: 0.3113 - accuracy: 0.8993 - val_loss: 0.3208 - val_accuracy: 0.8943 - lr: 0.0010\n",
      "Epoch 5/30\n",
      "8493/8493 [==============================] - 39s 5ms/step - loss: 0.3014 - accuracy: 0.9020 - val_loss: 0.2983 - val_accuracy: 0.9018 - lr: 0.0010\n",
      "Epoch 6/30\n",
      "8493/8493 [==============================] - 35s 4ms/step - loss: 0.2944 - accuracy: 0.9042 - val_loss: 0.2932 - val_accuracy: 0.9032 - lr: 0.0010\n",
      "Epoch 7/30\n",
      "8493/8493 [==============================] - 37s 4ms/step - loss: 0.2872 - accuracy: 0.9059 - val_loss: 0.2868 - val_accuracy: 0.9053 - lr: 0.0010\n",
      "Epoch 8/30\n",
      "8493/8493 [==============================] - 37s 4ms/step - loss: 0.2806 - accuracy: 0.9081 - val_loss: 0.2909 - val_accuracy: 0.9044 - lr: 0.0010\n",
      "Epoch 9/30\n",
      "8493/8493 [==============================] - 38s 4ms/step - loss: 0.2751 - accuracy: 0.9096 - val_loss: 0.2811 - val_accuracy: 0.9073 - lr: 0.0010\n",
      "Epoch 10/30\n",
      "8490/8493 [============================>.] - ETA: 0s - loss: 0.2716 - accuracy: 0.9101\n",
      "Epoch 10: ReduceLROnPlateau reducing learning rate to 0.00010000000474974513.\n",
      "8493/8493 [==============================] - 35s 4ms/step - loss: 0.2716 - accuracy: 0.9101 - val_loss: 0.2802 - val_accuracy: 0.9061 - lr: 0.0010\n",
      "Epoch 11/30\n",
      "8493/8493 [==============================] - 36s 4ms/step - loss: 0.2494 - accuracy: 0.9183 - val_loss: 0.2551 - val_accuracy: 0.9171 - lr: 1.0000e-04\n",
      "Epoch 12/30\n",
      "8493/8493 [==============================] - 36s 4ms/step - loss: 0.2468 - accuracy: 0.9198 - val_loss: 0.2541 - val_accuracy: 0.9169 - lr: 1.0000e-04\n",
      "Epoch 13/30\n",
      "8493/8493 [==============================] - 36s 4ms/step - loss: 0.2455 - accuracy: 0.9203 - val_loss: 0.2530 - val_accuracy: 0.9171 - lr: 1.0000e-04\n",
      "Epoch 14/30\n",
      "8493/8493 [==============================] - 35s 4ms/step - loss: 0.2446 - accuracy: 0.9206 - val_loss: 0.2520 - val_accuracy: 0.9179 - lr: 1.0000e-04\n",
      "Epoch 15/30\n",
      "8493/8493 [==============================] - 37s 4ms/step - loss: 0.2439 - accuracy: 0.9209 - val_loss: 0.2515 - val_accuracy: 0.9175 - lr: 1.0000e-04\n",
      "Epoch 16/30\n",
      "8491/8493 [============================>.] - ETA: 0s - loss: 0.2432 - accuracy: 0.9211Restoring model weights from the end of the best epoch: 11.\n",
      "\n",
      "Epoch 16: ReduceLROnPlateau reducing learning rate to 1.0000000474974514e-05.\n",
      "8493/8493 [==============================] - 35s 4ms/step - loss: 0.2431 - accuracy: 0.9211 - val_loss: 0.2506 - val_accuracy: 0.9182 - lr: 1.0000e-04\n",
      "Epoch 16: early stopping\n"
     ]
    }
   ],
   "source": [
    "history = model_d.fit(X_train, y_train, epochs=epochs, validation_split = 0.2,callbacks=[early_stopping, reduce_learning_rate], batch_size=batch_size)"
   ]
  },
  {
   "cell_type": "code",
   "execution_count": 55,
   "metadata": {
    "id": "1DpIxq0buqVJ"
   },
   "outputs": [
    {
     "name": "stderr",
     "output_type": "stream",
     "text": [
      "/usr/local/lib/python3.9/dist-packages/keras/src/engine/training.py:3000: UserWarning: You are saving your model as an HDF5 file via `model.save()`. This file format is considered legacy. We recommend using instead the native Keras format, e.g. `model.save('my_model.keras')`.\n",
      "  saving_api.save_model(\n"
     ]
    }
   ],
   "source": [
    "\n",
    "model_d.save('./model_dense_mitbih.h5')"
   ]
  },
  {
   "cell_type": "code",
   "execution_count": null,
   "metadata": {
    "id": "uK-aKODdxHVh"
   },
   "outputs": [],
   "source": []
  },
  {
   "cell_type": "code",
   "execution_count": 56,
   "metadata": {
    "colab": {
     "base_uri": "https://localhost:8080/"
    },
    "id": "REPKBwsl_SAp",
    "outputId": "7d2ba58d-7fc0-4508-8dd0-ec3c70c82b83"
   },
   "outputs": [
    {
     "name": "stdout",
     "output_type": "stream",
     "text": [
      "3539/3539 [==============================] - 12s 3ms/step - loss: 0.2470 - accuracy: 0.9204\n"
     ]
    }
   ],
   "source": [
    "_ , accuracy= model_d.evaluate(X_test, y_test, batch_size=batch_size, verbose=1)"
   ]
  },
  {
   "cell_type": "code",
   "execution_count": 57,
   "metadata": {
    "colab": {
     "base_uri": "https://localhost:8080/"
    },
    "id": "N3WUXwcO_Vq7",
    "outputId": "5cacef7b-bc5e-4a52-c4f5-891d7676398f"
   },
   "outputs": [
    {
     "name": "stdout",
     "output_type": "stream",
     "text": [
      "accuracy 0.9204235076904297\n"
     ]
    }
   ],
   "source": [
    "print('accuracy', accuracy)"
   ]
  },
  {
   "cell_type": "code",
   "execution_count": 58,
   "metadata": {
    "colab": {
     "base_uri": "https://localhost:8080/",
     "height": 256
    },
    "id": "ejbdXs-0_ZF7",
    "outputId": "a1865793-2d16-4fa3-9c71-fe987d53fdf3"
   },
   "outputs": [
    {
     "name": "stdout",
     "output_type": "stream",
     "text": [
      "3539/3539 [==============================] - 10s 3ms/step\n"
     ]
    },
    {
     "data": {
      "text/html": [
       "<div>\n",
       "<style scoped>\n",
       "    .dataframe tbody tr th:only-of-type {\n",
       "        vertical-align: middle;\n",
       "    }\n",
       "\n",
       "    .dataframe tbody tr th {\n",
       "        vertical-align: top;\n",
       "    }\n",
       "\n",
       "    .dataframe thead th {\n",
       "        text-align: right;\n",
       "    }\n",
       "</style>\n",
       "<table border=\"1\" class=\"dataframe\">\n",
       "  <thead>\n",
       "    <tr style=\"text-align: right;\">\n",
       "      <th>predict</th>\n",
       "      <th>0</th>\n",
       "      <th>1</th>\n",
       "      <th>2</th>\n",
       "      <th>3</th>\n",
       "      <th>4</th>\n",
       "    </tr>\n",
       "    <tr>\n",
       "      <th>reel</th>\n",
       "      <th></th>\n",
       "      <th></th>\n",
       "      <th></th>\n",
       "      <th></th>\n",
       "      <th></th>\n",
       "    </tr>\n",
       "  </thead>\n",
       "  <tbody>\n",
       "    <tr>\n",
       "      <th>0.0</th>\n",
       "      <td>20132</td>\n",
       "      <td>1064</td>\n",
       "      <td>717</td>\n",
       "      <td>493</td>\n",
       "      <td>391</td>\n",
       "    </tr>\n",
       "    <tr>\n",
       "      <th>1.0</th>\n",
       "      <td>2295</td>\n",
       "      <td>20188</td>\n",
       "      <td>147</td>\n",
       "      <td>88</td>\n",
       "      <td>28</td>\n",
       "    </tr>\n",
       "    <tr>\n",
       "      <th>2.0</th>\n",
       "      <td>750</td>\n",
       "      <td>59</td>\n",
       "      <td>20960</td>\n",
       "      <td>641</td>\n",
       "      <td>144</td>\n",
       "    </tr>\n",
       "    <tr>\n",
       "      <th>3.0</th>\n",
       "      <td>930</td>\n",
       "      <td>50</td>\n",
       "      <td>570</td>\n",
       "      <td>20852</td>\n",
       "      <td>16</td>\n",
       "    </tr>\n",
       "    <tr>\n",
       "      <th>4.0</th>\n",
       "      <td>336</td>\n",
       "      <td>28</td>\n",
       "      <td>238</td>\n",
       "      <td>26</td>\n",
       "      <td>22094</td>\n",
       "    </tr>\n",
       "  </tbody>\n",
       "</table>\n",
       "</div>"
      ],
      "text/plain": [
       "predict      0      1      2      3      4\n",
       "reel                                      \n",
       "0.0      20132   1064    717    493    391\n",
       "1.0       2295  20188    147     88     28\n",
       "2.0        750     59  20960    641    144\n",
       "3.0        930     50    570  20852     16\n",
       "4.0        336     28    238     26  22094"
      ]
     },
     "execution_count": 58,
     "metadata": {},
     "output_type": "execute_result"
    }
   ],
   "source": [
    "test_pred_class = model_d.predict(X_test).argmax(axis = 1)\n",
    "pd.crosstab(y_test, test_pred_class, rownames = [\"reel\"], colnames = [\"predict\"])"
   ]
  },
  {
   "cell_type": "code",
   "execution_count": 59,
   "metadata": {
    "colab": {
     "base_uri": "https://localhost:8080/",
     "height": 889
    },
    "id": "_QsmZnE4_cL5",
    "outputId": "0ded750c-8e65-4779-c9f5-971983acb65c"
   },
   "outputs": [
    {
     "name": "stdout",
     "output_type": "stream",
     "text": [
      "dict_keys(['loss', 'accuracy', 'val_loss', 'val_accuracy', 'lr'])\n"
     ]
    },
    {
     "data": {
      "image/png": "[encoded data removed]",
      "text/plain": [
       "<Figure size 640x480 with 1 Axes>"
      ]
     },
     "metadata": {},
     "output_type": "display_data"
    },
    {
     "data": {
      "image/png": "[encoded data removed]",
      "text/plain": [
       "<Figure size 640x480 with 1 Axes>"
      ]
     },
     "metadata": {},
     "output_type": "display_data"
    }
   ],
   "source": [
    "print(history.history.keys())\n",
    "# summarize history for accuracy\n",
    "plt.plot(history.history['accuracy'])\n",
    "plt.plot(history.history['val_accuracy'])\n",
    "plt.title('model accuracy')\n",
    "plt.ylabel('accuracy')\n",
    "plt.xlabel('epoch')\n",
    "plt.legend(['train', 'test'], loc='upper left')\n",
    "plt.show()\n",
    "# summarize history for loss\n",
    "plt.plot(history.history['loss'])\n",
    "plt.plot(history.history['val_loss'])\n",
    "plt.title('model loss')\n",
    "plt.ylabel('loss')\n",
    "plt.xlabel('epoch')\n",
    "plt.legend(['train', 'test'], loc='upper left')\n",
    "plt.show()"
   ]
  },
  {
   "cell_type": "markdown",
   "metadata": {
    "id": "r01TOX5zywd5"
   },
   "source": [
    "## appliqués au dataset ptbdb"
   ]
  },
  {
   "cell_type": "code",
   "execution_count": null,
   "metadata": {
    "colab": {
     "base_uri": "https://localhost:8080/"
    },
    "id": "MHaxeF1cyz2V",
    "outputId": "c3f31f7a-3d1e-412e-aedb-4747188e3e44"
   },
   "outputs": [],
   "source": []
  },
  {
   "cell_type": "code",
   "execution_count": 60,
   "metadata": {
    "colab": {
     "base_uri": "https://localhost:8080/",
     "height": 243
    },
    "id": "_atSRv40P6m5",
    "outputId": "483c7fb0-a217-4571-ff11-0c8587f6ce9e"
   },
   "outputs": [],
   "source": [
    "early_stopping = EarlyStopping(monitor = 'val_loss',\n",
    "                    min_delta = 0.01,\n",
    "                    patience = 5,\n",
    "                    verbose = 1,\n",
    "                    mode = 'min',\n",
    "                    restore_best_weights = True)\n",
    "\n",
    "reduce_learning_rate = ReduceLROnPlateau(monitor = 'val_loss',\n",
    "                        min_delta = 0.01,\n",
    "                        patience = 3,\n",
    "                        factor = 0.1,\n",
    "                        cooldown = 4,\n",
    "                        verbose = 1)"
   ]
  },
  {
   "cell_type": "code",
   "execution_count": 61,
   "metadata": {
    "id": "qhRBd41V_zwR"
   },
   "outputs": [],
   "source": [
    "X=df_i.iloc[:,:-1]\n",
    "y=df_i.iloc[:,-1]\n",
    "from sklearn.model_selection import train_test_split,cross_val_score\n",
    "from sklearn.linear_model import LogisticRegression\n",
    "from sklearn.ensemble import RandomForestClassifier\n",
    "from sklearn.svm import SVC\n",
    "from sklearn.metrics import classification_report,accuracy_score,confusion_matrix"
   ]
  },
  {
   "cell_type": "code",
   "execution_count": 62,
   "metadata": {},
   "outputs": [],
   "source": [
    "smote = SMOTE()\n",
    "X_sm, y_sm = smote.fit_resample(X, y)\n",
    "X_train, X_test, y_train, y_test = train_test_split(X_sm, y_sm, test_size=0.25, random_state=28)"
   ]
  },
  {
   "cell_type": "code",
   "execution_count": 63,
   "metadata": {
    "id": "ffN7N3HC_8H5"
   },
   "outputs": [],
   "source": [
    "from tensorflow.keras.layers import Input, Dense, Dropout, Flatten, Conv1D, MaxPooling1D, GlobalAveragePooling1D\n",
    "from tensorflow.keras.models import Model, Sequential\n",
    "from tensorflow.keras.utils import to_categorical\n",
    "from tensorflow.keras.callbacks import EarlyStopping, ReduceLROnPlateau"
   ]
  },
  {
   "cell_type": "code",
   "execution_count": 64,
   "metadata": {
    "id": "GMRvQq5gSbKu"
   },
   "outputs": [],
   "source": [
    "batch_size = 32\n",
    "epochs = 30"
   ]
  },
  {
   "cell_type": "code",
   "execution_count": 65,
   "metadata": {
    "colab": {
     "base_uri": "https://localhost:8080/"
    },
    "id": "Jlf37U4BACEp",
    "outputId": "b0a00b94-665e-4528-d5c8-1b0eccdbd13f"
   },
   "outputs": [
    {
     "name": "stdout",
     "output_type": "stream",
     "text": [
      "Model: \"model_2\"\n",
      "_________________________________________________________________\n",
      " Layer (type)                Output Shape              Param #   \n",
      "=================================================================\n",
      " Input (InputLayer)          [(None, 187)]             0         \n",
      "                                                                 \n",
      " dense1 (Dense)              (None, 10)                1880      \n",
      "                                                                 \n",
      " dense2 (Dense)              (None, 8)                 88        \n",
      "                                                                 \n",
      " dense3 (Dense)              (None, 6)                 54        \n",
      "                                                                 \n",
      " dense4 (Dense)              (None, 2)                 14        \n",
      "                                                                 \n",
      "=================================================================\n",
      "Total params: 2036 (7.95 KB)\n",
      "Trainable params: 2036 (7.95 KB)\n",
      "Non-trainable params: 0 (0.00 Byte)\n",
      "_________________________________________________________________\n"
     ]
    }
   ],
   "source": [
    "inputs = Input(shape = X_train.shape[1], name = \"Input\")\n",
    "dense1 = Dense(units = 10, activation = \"tanh\", name = \"dense1\", kernel_initializer=\"normal\")\n",
    "dense2 = Dense(units = 8, activation = \"tanh\", name = \"dense2\", kernel_initializer=\"normal\")\n",
    "dense3 = Dense(units = 6, activation = \"tanh\", name = \"dense3\", kernel_initializer=\"normal\")\n",
    "dense4 = Dense(units = 2, activation = \"softmax\", name = \"dense4\", kernel_initializer=\"normal\")\n",
    "\n",
    "x = dense1(inputs)\n",
    "x = dense2(x)\n",
    "x = dense3(x)\n",
    "outputs = dense4(x)\n",
    "\n",
    "model_b = Model(inputs = inputs, outputs = outputs)\n",
    "model_b.summary()"
   ]
  },
  {
   "cell_type": "code",
   "execution_count": 66,
   "metadata": {
    "id": "HYG-bNjXAEoh"
   },
   "outputs": [],
   "source": [
    "model_b.compile(optimizer='adam', loss='BinaryCrossentropy', metrics='accuracy')"
   ]
  },
  {
   "cell_type": "code",
   "execution_count": 68,
   "metadata": {
    "colab": {
     "base_uri": "https://localhost:8080/"
    },
    "id": "1XtJnjCnAHF4",
    "outputId": "ec703efa-e792-4320-a54a-d44c2132687e"
   },
   "outputs": [
    {
     "name": "stdout",
     "output_type": "stream",
     "text": [
      "Epoch 1/30\n"
     ]
    },
    {
     "ename": "ValueError",
     "evalue": "in user code:\n\n    File \"/usr/local/lib/python3.9/dist-packages/keras/src/engine/training.py\", line 1338, in train_function  *\n        return step_function(self, iterator)\n    File \"/usr/local/lib/python3.9/dist-packages/keras/src/engine/training.py\", line 1322, in step_function  **\n        outputs = model.distribute_strategy.run(run_step, args=(data,))\n    File \"/usr/local/lib/python3.9/dist-packages/keras/src/engine/training.py\", line 1303, in run_step  **\n        outputs = model.train_step(data)\n    File \"/usr/local/lib/python3.9/dist-packages/keras/src/engine/training.py\", line 1081, in train_step\n        loss = self.compute_loss(x, y, y_pred, sample_weight)\n    File \"/usr/local/lib/python3.9/dist-packages/keras/src/engine/training.py\", line 1139, in compute_loss\n        return self.compiled_loss(\n    File \"/usr/local/lib/python3.9/dist-packages/keras/src/engine/compile_utils.py\", line 265, in __call__\n        loss_value = loss_obj(y_t, y_p, sample_weight=sw)\n    File \"/usr/local/lib/python3.9/dist-packages/keras/src/losses.py\", line 142, in __call__\n        losses = call_fn(y_true, y_pred)\n    File \"/usr/local/lib/python3.9/dist-packages/keras/src/losses.py\", line 268, in call  **\n        return ag_fn(y_true, y_pred, **self._fn_kwargs)\n    File \"/usr/local/lib/python3.9/dist-packages/keras/src/losses.py\", line 2432, in binary_crossentropy\n        backend.binary_crossentropy(y_true, y_pred, from_logits=from_logits),\n    File \"/usr/local/lib/python3.9/dist-packages/keras/src/backend.py\", line 5809, in binary_crossentropy\n        return tf.nn.sigmoid_cross_entropy_with_logits(\n\n    ValueError: `logits` and `labels` must have the same shape, received ((None, 2) vs (None, 1)).\n",
     "output_type": "error",
     "traceback": [
      "\u001b[0;31m---------------------------------------------------------------------------\u001b[0m",
      "\u001b[0;31mValueError\u001b[0m                                Traceback (most recent call last)",
      "Cell \u001b[0;32mIn[68], line 1\u001b[0m\n\u001b[0;32m----> 1\u001b[0m histo_dense \u001b[38;5;241m=\u001b[39m \u001b[43mmodel_b\u001b[49m\u001b[38;5;241;43m.\u001b[39;49m\u001b[43mfit\u001b[49m\u001b[43m(\u001b[49m\u001b[43mX_train\u001b[49m\u001b[43m,\u001b[49m\u001b[43m \u001b[49m\u001b[43my_train\u001b[49m\u001b[43m,\u001b[49m\u001b[43m \u001b[49m\u001b[43mepochs\u001b[49m\u001b[38;5;241;43m=\u001b[39;49m\u001b[43mepochs\u001b[49m\u001b[43m,\u001b[49m\u001b[43m \u001b[49m\u001b[43mvalidation_split\u001b[49m\u001b[43m \u001b[49m\u001b[38;5;241;43m=\u001b[39;49m\u001b[43m \u001b[49m\u001b[38;5;241;43m0.2\u001b[39;49m\u001b[43m,\u001b[49m\u001b[43mcallbacks\u001b[49m\u001b[38;5;241;43m=\u001b[39;49m\u001b[43m[\u001b[49m\u001b[43mearly_stopping\u001b[49m\u001b[43m,\u001b[49m\u001b[43m \u001b[49m\u001b[43mreduce_learning_rate\u001b[49m\u001b[43m]\u001b[49m\u001b[43m,\u001b[49m\u001b[43m \u001b[49m\u001b[43mbatch_size\u001b[49m\u001b[38;5;241;43m=\u001b[39;49m\u001b[43mbatch_size\u001b[49m\u001b[43m)\u001b[49m\n",
      "File \u001b[0;32m/usr/local/lib/python3.9/dist-packages/keras/src/utils/traceback_utils.py:70\u001b[0m, in \u001b[0;36mfilter_traceback.<locals>.error_handler\u001b[0;34m(*args, **kwargs)\u001b[0m\n\u001b[1;32m     67\u001b[0m     filtered_tb \u001b[38;5;241m=\u001b[39m _process_traceback_frames(e\u001b[38;5;241m.\u001b[39m__traceback__)\n\u001b[1;32m     68\u001b[0m     \u001b[38;5;66;03m# To get the full stack trace, call:\u001b[39;00m\n\u001b[1;32m     69\u001b[0m     \u001b[38;5;66;03m# `tf.debugging.disable_traceback_filtering()`\u001b[39;00m\n\u001b[0;32m---> 70\u001b[0m     \u001b[38;5;28;01mraise\u001b[39;00m e\u001b[38;5;241m.\u001b[39mwith_traceback(filtered_tb) \u001b[38;5;28;01mfrom\u001b[39;00m \u001b[38;5;28;01mNone\u001b[39;00m\n\u001b[1;32m     71\u001b[0m \u001b[38;5;28;01mfinally\u001b[39;00m:\n\u001b[1;32m     72\u001b[0m     \u001b[38;5;28;01mdel\u001b[39;00m filtered_tb\n",
      "File \u001b[0;32m/tmp/__autograph_generated_file6gufwoh3.py:15\u001b[0m, in \u001b[0;36mouter_factory.<locals>.inner_factory.<locals>.tf__train_function\u001b[0;34m(iterator)\u001b[0m\n\u001b[1;32m     13\u001b[0m \u001b[38;5;28;01mtry\u001b[39;00m:\n\u001b[1;32m     14\u001b[0m     do_return \u001b[38;5;241m=\u001b[39m \u001b[38;5;28;01mTrue\u001b[39;00m\n\u001b[0;32m---> 15\u001b[0m     retval_ \u001b[38;5;241m=\u001b[39m ag__\u001b[38;5;241m.\u001b[39mconverted_call(ag__\u001b[38;5;241m.\u001b[39mld(step_function), (ag__\u001b[38;5;241m.\u001b[39mld(\u001b[38;5;28mself\u001b[39m), ag__\u001b[38;5;241m.\u001b[39mld(iterator)), \u001b[38;5;28;01mNone\u001b[39;00m, fscope)\n\u001b[1;32m     16\u001b[0m \u001b[38;5;28;01mexcept\u001b[39;00m:\n\u001b[1;32m     17\u001b[0m     do_return \u001b[38;5;241m=\u001b[39m \u001b[38;5;28;01mFalse\u001b[39;00m\n",
      "\u001b[0;31mValueError\u001b[0m: in user code:\n\n    File \"/usr/local/lib/python3.9/dist-packages/keras/src/engine/training.py\", line 1338, in train_function  *\n        return step_function(self, iterator)\n    File \"/usr/local/lib/python3.9/dist-packages/keras/src/engine/training.py\", line 1322, in step_function  **\n        outputs = model.distribute_strategy.run(run_step, args=(data,))\n    File \"/usr/local/lib/python3.9/dist-packages/keras/src/engine/training.py\", line 1303, in run_step  **\n        outputs = model.train_step(data)\n    File \"/usr/local/lib/python3.9/dist-packages/keras/src/engine/training.py\", line 1081, in train_step\n        loss = self.compute_loss(x, y, y_pred, sample_weight)\n    File \"/usr/local/lib/python3.9/dist-packages/keras/src/engine/training.py\", line 1139, in compute_loss\n        return self.compiled_loss(\n    File \"/usr/local/lib/python3.9/dist-packages/keras/src/engine/compile_utils.py\", line 265, in __call__\n        loss_value = loss_obj(y_t, y_p, sample_weight=sw)\n    File \"/usr/local/lib/python3.9/dist-packages/keras/src/losses.py\", line 142, in __call__\n        losses = call_fn(y_true, y_pred)\n    File \"/usr/local/lib/python3.9/dist-packages/keras/src/losses.py\", line 268, in call  **\n        return ag_fn(y_true, y_pred, **self._fn_kwargs)\n    File \"/usr/local/lib/python3.9/dist-packages/keras/src/losses.py\", line 2432, in binary_crossentropy\n        backend.binary_crossentropy(y_true, y_pred, from_logits=from_logits),\n    File \"/usr/local/lib/python3.9/dist-packages/keras/src/backend.py\", line 5809, in binary_crossentropy\n        return tf.nn.sigmoid_cross_entropy_with_logits(\n\n    ValueError: `logits` and `labels` must have the same shape, received ((None, 2) vs (None, 1)).\n"
     ]
    }
   ],
   "source": [
    "histo_dense = model_b.fit(X_train, y_train, epochs=epochs, validation_split = 0.2,callbacks=[early_stopping, reduce_learning_rate], batch_size=batch_size)"
   ]
  },
  {
   "cell_type": "code",
   "execution_count": null,
   "metadata": {
    "id": "65XE-IIYxa0a"
   },
   "outputs": [],
   "source": [
    "model_b.save('./model_dense_ptbdb.h5')"
   ]
  },
  {
   "cell_type": "code",
   "execution_count": null,
   "metadata": {
    "colab": {
     "base_uri": "https://localhost:8080/",
     "height": 162
    },
    "id": "Jmo42f72x-RH",
    "outputId": "018c4808-1140-4618-f6c6-5841c984d1e2"
   },
   "outputs": [],
   "source": [
    "test_pred_class = model_b.predict(X_test).argmax(axis = 1)\n",
    "rounded_labels_b=np.argmax(y_test, axis=1)\n",
    "pd.crosstab(rounded_labels_b, test_pred_class, rownames = [\"reel\"], colnames = [\"predict\"])"
   ]
  },
  {
   "cell_type": "markdown",
   "metadata": {
    "id": "xVzIWjcry1Aw"
   },
   "source": [
    "# CONV_Net"
   ]
  },
  {
   "cell_type": "markdown",
   "metadata": {
    "id": "pRKqqNIpy6dh"
   },
   "source": [
    "## conv net apppliqué aux dataset mitbih"
   ]
  },
  {
   "cell_type": "code",
   "execution_count": 69,
   "metadata": {
    "id": "s-C0p77eAZRZ"
   },
   "outputs": [],
   "source": [
    "X=df_a.iloc[:,:-1]\n",
    "y=df_a.iloc[:,-1]\n",
    "from sklearn.model_selection import train_test_split,cross_val_score\n",
    "from sklearn.linear_model import LogisticRegression\n",
    "from sklearn.ensemble import RandomForestClassifier\n",
    "from sklearn.svm import SVC\n",
    "from sklearn.preprocessing import StandardScaler\n",
    "from sklearn.metrics import confusion_matrix\n",
    "from sklearn.metrics import classification_report,accuracy_score,confusion_matrix"
   ]
  },
  {
   "cell_type": "code",
   "execution_count": 70,
   "metadata": {},
   "outputs": [],
   "source": [
    "smote = SMOTE()\n",
    "X_sm, y_sm = smote.fit_resample(X, y)\n",
    "X_train, X_test, y_train, y_test = train_test_split(X_sm, y_sm, test_size=0.25, random_state=28)"
   ]
  },
  {
   "cell_type": "code",
   "execution_count": 71,
   "metadata": {
    "id": "BPRQH2K9AfZ0"
   },
   "outputs": [],
   "source": [
    "from tensorflow.keras.layers import Input, Dense, Dropout, Flatten, Conv1D, MaxPooling1D, GlobalAveragePooling1D, BatchNormalization, SpatialDropout1D, Reshape\n",
    "from tensorflow.keras.models import Model, Sequential\n",
    "from tensorflow.keras.utils import to_categorical\n",
    "from tensorflow.keras.callbacks import EarlyStopping, ReduceLROnPlateau\n"
   ]
  },
  {
   "cell_type": "code",
   "execution_count": 72,
   "metadata": {
    "id": "lc47XbYoAomT"
   },
   "outputs": [],
   "source": [
    "scaler = StandardScaler()\n",
    "X_train =scaler.fit_transform(X_train)\n",
    "X_test = scaler.transform(X_test)"
   ]
  },
  {
   "cell_type": "code",
   "execution_count": 73,
   "metadata": {
    "id": "q2W7d-5-As-p"
   },
   "outputs": [],
   "source": [
    "\n",
    "y_train = to_categorical(y_train)\n",
    "y_test = to_categorical(y_test)"
   ]
  },
  {
   "cell_type": "code",
   "execution_count": 74,
   "metadata": {
    "id": "w4JbxxRsAu_c"
   },
   "outputs": [],
   "source": [
    "X_train_cnn = np.reshape(X_sm, (X_sm.shape[0], X_sm.shape[1], 1))\n",
    "X_test_cnn = np.reshape(X_test, (X_test.shape[0], X_test.shape[1], 1))"
   ]
  },
  {
   "cell_type": "code",
   "execution_count": 75,
   "metadata": {
    "colab": {
     "base_uri": "https://localhost:8080/"
    },
    "id": "4Wsikn-SAywj",
    "outputId": "14be34d8-88b3-4ae5-82b0-057928a0c3f1"
   },
   "outputs": [
    {
     "name": "stdout",
     "output_type": "stream",
     "text": [
      "(452945, 187, 1) (452945,) (113237, 187, 1) (113237, 5)\n"
     ]
    }
   ],
   "source": [
    "print(X_train_cnn.shape, y_sm.shape, X_test_cnn.shape, y_test.shape)\n"
   ]
  },
  {
   "cell_type": "code",
   "execution_count": 76,
   "metadata": {
    "id": "0IiDEOLUA2vi"
   },
   "outputs": [],
   "source": [
    "early_stopping = EarlyStopping(monitor = 'val_loss',\n",
    "                    min_delta = 0.01,\n",
    "                    patience = 5,\n",
    "                    verbose = 1,\n",
    "                    mode = 'min',\n",
    "                    restore_best_weights = True)\n",
    "\n",
    "reduce_learning_rate = ReduceLROnPlateau(monitor = 'val_loss',\n",
    "                        min_delta = 0.01,\n",
    "                        patience = 3,\n",
    "                        factor = 0.1,\n",
    "                        cooldown = 4,\n",
    "                        verbose = 1)"
   ]
  },
  {
   "cell_type": "code",
   "execution_count": 77,
   "metadata": {
    "id": "Ka3wqijXA7BR"
   },
   "outputs": [],
   "source": [
    "batch_size=32\n",
    "verbose=1\n",
    "epochs = 50"
   ]
  },
  {
   "cell_type": "code",
   "execution_count": 78,
   "metadata": {
    "colab": {
     "base_uri": "https://localhost:8080/"
    },
    "id": "pECHDV3zA_Hx",
    "outputId": "20b014a5-70cb-40a3-e298-fdfd454e7314"
   },
   "outputs": [
    {
     "name": "stdout",
     "output_type": "stream",
     "text": [
      "Epoch 1/50\n"
     ]
    },
    {
     "ename": "ValueError",
     "evalue": "in user code:\n\n    File \"/usr/local/lib/python3.9/dist-packages/keras/src/engine/training.py\", line 1338, in train_function  *\n        return step_function(self, iterator)\n    File \"/usr/local/lib/python3.9/dist-packages/keras/src/engine/training.py\", line 1322, in step_function  **\n        outputs = model.distribute_strategy.run(run_step, args=(data,))\n    File \"/usr/local/lib/python3.9/dist-packages/keras/src/engine/training.py\", line 1303, in run_step  **\n        outputs = model.train_step(data)\n    File \"/usr/local/lib/python3.9/dist-packages/keras/src/engine/training.py\", line 1081, in train_step\n        loss = self.compute_loss(x, y, y_pred, sample_weight)\n    File \"/usr/local/lib/python3.9/dist-packages/keras/src/engine/training.py\", line 1139, in compute_loss\n        return self.compiled_loss(\n    File \"/usr/local/lib/python3.9/dist-packages/keras/src/engine/compile_utils.py\", line 265, in __call__\n        loss_value = loss_obj(y_t, y_p, sample_weight=sw)\n    File \"/usr/local/lib/python3.9/dist-packages/keras/src/losses.py\", line 142, in __call__\n        losses = call_fn(y_true, y_pred)\n    File \"/usr/local/lib/python3.9/dist-packages/keras/src/losses.py\", line 268, in call  **\n        return ag_fn(y_true, y_pred, **self._fn_kwargs)\n    File \"/usr/local/lib/python3.9/dist-packages/keras/src/losses.py\", line 2122, in categorical_crossentropy\n        return backend.categorical_crossentropy(\n    File \"/usr/local/lib/python3.9/dist-packages/keras/src/backend.py\", line 5560, in categorical_crossentropy\n        target.shape.assert_is_compatible_with(output.shape)\n\n    ValueError: Shapes (None, 1) and (None, 5) are incompatible\n",
     "output_type": "error",
     "traceback": [
      "\u001b[0;31m---------------------------------------------------------------------------\u001b[0m",
      "\u001b[0;31mValueError\u001b[0m                                Traceback (most recent call last)",
      "Cell \u001b[0;32mIn[78], line 23\u001b[0m\n\u001b[1;32m     21\u001b[0m model_lenet \u001b[38;5;241m=\u001b[39m Model(inputs \u001b[38;5;241m=\u001b[39m inputs, outputs \u001b[38;5;241m=\u001b[39m outputs)\n\u001b[1;32m     22\u001b[0m model_lenet\u001b[38;5;241m.\u001b[39mcompile(loss\u001b[38;5;241m=\u001b[39m\u001b[38;5;124m'\u001b[39m\u001b[38;5;124mcategorical_crossentropy\u001b[39m\u001b[38;5;124m'\u001b[39m, optimizer\u001b[38;5;241m=\u001b[39m\u001b[38;5;124m'\u001b[39m\u001b[38;5;124madam\u001b[39m\u001b[38;5;124m'\u001b[39m, metrics\u001b[38;5;241m=\u001b[39m[\u001b[38;5;124m'\u001b[39m\u001b[38;5;124maccuracy\u001b[39m\u001b[38;5;124m'\u001b[39m])\n\u001b[0;32m---> 23\u001b[0m history_1 \u001b[38;5;241m=\u001b[39m \u001b[43mmodel_lenet\u001b[49m\u001b[38;5;241;43m.\u001b[39;49m\u001b[43mfit\u001b[49m\u001b[43m(\u001b[49m\u001b[43mX_sm\u001b[49m\u001b[43m,\u001b[49m\u001b[43m \u001b[49m\u001b[43my_sm\u001b[49m\u001b[43m,\u001b[49m\u001b[43m \u001b[49m\u001b[43mepochs\u001b[49m\u001b[38;5;241;43m=\u001b[39;49m\u001b[43mepochs\u001b[49m\u001b[43m,\u001b[49m\u001b[43mcallbacks\u001b[49m\u001b[38;5;241;43m=\u001b[39;49m\u001b[43m[\u001b[49m\u001b[43mearly_stopping\u001b[49m\u001b[43m,\u001b[49m\u001b[43m \u001b[49m\u001b[43mreduce_learning_rate\u001b[49m\u001b[43m]\u001b[49m\u001b[43m,\u001b[49m\u001b[43m \u001b[49m\u001b[43mbatch_size\u001b[49m\u001b[38;5;241;43m=\u001b[39;49m\u001b[38;5;241;43m32\u001b[39;49m\u001b[43m,\u001b[49m\u001b[43mvalidation_split\u001b[49m\u001b[43m \u001b[49m\u001b[38;5;241;43m=\u001b[39;49m\u001b[43m \u001b[49m\u001b[38;5;241;43m0.2\u001b[39;49m\u001b[43m,\u001b[49m\u001b[43m \u001b[49m\u001b[43mverbose\u001b[49m\u001b[38;5;241;43m=\u001b[39;49m\u001b[38;5;241;43m1\u001b[39;49m\u001b[43m)\u001b[49m\n\u001b[1;32m     24\u001b[0m _, accuracy \u001b[38;5;241m=\u001b[39m model_lenet\u001b[38;5;241m.\u001b[39mevaluate(X_test, y_test, batch_size\u001b[38;5;241m=\u001b[39mbatch_size, verbose\u001b[38;5;241m=\u001b[39m\u001b[38;5;241m1\u001b[39m)\n",
      "File \u001b[0;32m/usr/local/lib/python3.9/dist-packages/keras/src/utils/traceback_utils.py:70\u001b[0m, in \u001b[0;36mfilter_traceback.<locals>.error_handler\u001b[0;34m(*args, **kwargs)\u001b[0m\n\u001b[1;32m     67\u001b[0m     filtered_tb \u001b[38;5;241m=\u001b[39m _process_traceback_frames(e\u001b[38;5;241m.\u001b[39m__traceback__)\n\u001b[1;32m     68\u001b[0m     \u001b[38;5;66;03m# To get the full stack trace, call:\u001b[39;00m\n\u001b[1;32m     69\u001b[0m     \u001b[38;5;66;03m# `tf.debugging.disable_traceback_filtering()`\u001b[39;00m\n\u001b[0;32m---> 70\u001b[0m     \u001b[38;5;28;01mraise\u001b[39;00m e\u001b[38;5;241m.\u001b[39mwith_traceback(filtered_tb) \u001b[38;5;28;01mfrom\u001b[39;00m \u001b[38;5;28;01mNone\u001b[39;00m\n\u001b[1;32m     71\u001b[0m \u001b[38;5;28;01mfinally\u001b[39;00m:\n\u001b[1;32m     72\u001b[0m     \u001b[38;5;28;01mdel\u001b[39;00m filtered_tb\n",
      "File \u001b[0;32m/tmp/__autograph_generated_file6gufwoh3.py:15\u001b[0m, in \u001b[0;36mouter_factory.<locals>.inner_factory.<locals>.tf__train_function\u001b[0;34m(iterator)\u001b[0m\n\u001b[1;32m     13\u001b[0m \u001b[38;5;28;01mtry\u001b[39;00m:\n\u001b[1;32m     14\u001b[0m     do_return \u001b[38;5;241m=\u001b[39m \u001b[38;5;28;01mTrue\u001b[39;00m\n\u001b[0;32m---> 15\u001b[0m     retval_ \u001b[38;5;241m=\u001b[39m ag__\u001b[38;5;241m.\u001b[39mconverted_call(ag__\u001b[38;5;241m.\u001b[39mld(step_function), (ag__\u001b[38;5;241m.\u001b[39mld(\u001b[38;5;28mself\u001b[39m), ag__\u001b[38;5;241m.\u001b[39mld(iterator)), \u001b[38;5;28;01mNone\u001b[39;00m, fscope)\n\u001b[1;32m     16\u001b[0m \u001b[38;5;28;01mexcept\u001b[39;00m:\n\u001b[1;32m     17\u001b[0m     do_return \u001b[38;5;241m=\u001b[39m \u001b[38;5;28;01mFalse\u001b[39;00m\n",
      "\u001b[0;31mValueError\u001b[0m: in user code:\n\n    File \"/usr/local/lib/python3.9/dist-packages/keras/src/engine/training.py\", line 1338, in train_function  *\n        return step_function(self, iterator)\n    File \"/usr/local/lib/python3.9/dist-packages/keras/src/engine/training.py\", line 1322, in step_function  **\n        outputs = model.distribute_strategy.run(run_step, args=(data,))\n    File \"/usr/local/lib/python3.9/dist-packages/keras/src/engine/training.py\", line 1303, in run_step  **\n        outputs = model.train_step(data)\n    File \"/usr/local/lib/python3.9/dist-packages/keras/src/engine/training.py\", line 1081, in train_step\n        loss = self.compute_loss(x, y, y_pred, sample_weight)\n    File \"/usr/local/lib/python3.9/dist-packages/keras/src/engine/training.py\", line 1139, in compute_loss\n        return self.compiled_loss(\n    File \"/usr/local/lib/python3.9/dist-packages/keras/src/engine/compile_utils.py\", line 265, in __call__\n        loss_value = loss_obj(y_t, y_p, sample_weight=sw)\n    File \"/usr/local/lib/python3.9/dist-packages/keras/src/losses.py\", line 142, in __call__\n        losses = call_fn(y_true, y_pred)\n    File \"/usr/local/lib/python3.9/dist-packages/keras/src/losses.py\", line 268, in call  **\n        return ag_fn(y_true, y_pred, **self._fn_kwargs)\n    File \"/usr/local/lib/python3.9/dist-packages/keras/src/losses.py\", line 2122, in categorical_crossentropy\n        return backend.categorical_crossentropy(\n    File \"/usr/local/lib/python3.9/dist-packages/keras/src/backend.py\", line 5560, in categorical_crossentropy\n        target.shape.assert_is_compatible_with(output.shape)\n\n    ValueError: Shapes (None, 1) and (None, 5) are incompatible\n"
     ]
    }
   ],
   "source": [
    "inputs = Input(shape = (X_sm.shape[1],1), name = \"Input\")\n",
    "conv1_lenet = Conv1D(filters = 32, kernel_size = 5, padding = \"valid\", activation = \"relu\")\n",
    "pool1_lenet = MaxPooling1D(pool_size = 2)\n",
    "conv2_lenet = Conv1D(filters = 16, kernel_size = 3, padding = \"valid\", activation = \"relu\")\n",
    "pool2_lenet = MaxPooling1D(pool_size = 2)\n",
    "dropout_lenet = Dropout(rate=0.2)\n",
    "flatten_lenet = Flatten()\n",
    "dense1_lenet = Dense(units = 128, activation=\"relu\")\n",
    "dense2_lenet = Dense(units = 5, activation=\"softmax\")\n",
    "\n",
    "x = conv1_lenet(inputs)\n",
    "x = pool1_lenet(x)\n",
    "x = conv2_lenet(x)\n",
    "x = pool2_lenet(x)\n",
    "x = dropout_lenet(x)\n",
    "x = flatten_lenet(x)\n",
    "x = dense1_lenet(x)\n",
    "outputs = dense2_lenet(x)\n",
    "\n",
    "\n",
    "model_lenet = Model(inputs = inputs, outputs = outputs)\n",
    "model_lenet.compile(loss='categorical_crossentropy', optimizer='adam', metrics=['accuracy'])\n",
    "history_1 = model_lenet.fit(X_sm, y_sm, epochs=epochs,callbacks=[early_stopping, reduce_learning_rate], batch_size=32,validation_split = 0.2, verbose=1)\n",
    "_, accuracy = model_lenet.evaluate(X_test, y_test, batch_size=batch_size, verbose=1)"
   ]
  },
  {
   "cell_type": "code",
   "execution_count": null,
   "metadata": {
    "colab": {
     "base_uri": "https://localhost:8080/"
    },
    "id": "CrwcB5hbBCYB",
    "outputId": "a9941be4-7fdf-4038-ed2d-9fc9e68c84a8"
   },
   "outputs": [],
   "source": [
    "accuracy\n"
   ]
  },
  {
   "cell_type": "code",
   "execution_count": null,
   "metadata": {
    "colab": {
     "base_uri": "https://localhost:8080/"
    },
    "id": "-IuM0iREGLUI",
    "outputId": "3a31a0f0-b6be-4698-99e0-3f9b1d2d3760"
   },
   "outputs": [],
   "source": [
    "pred_class_1 = model_lenet.predict(X_test).argmax(axis = 1)\n",
    "rounded_labels_1=np.argmax(y_test, axis=1)\n",
    "print(pd.crosstab(rounded_labels_1, pred_class_1, rownames = [\"reel\"], colnames = [\"predict\"]))\n",
    "print(classification_report_imbalanced(rounded_labels_1, pred_class_1))"
   ]
  },
  {
   "cell_type": "code",
   "execution_count": null,
   "metadata": {
    "id": "qyORxaHIGLR0"
   },
   "outputs": [],
   "source": []
  },
  {
   "cell_type": "code",
   "execution_count": null,
   "metadata": {
    "colab": {
     "base_uri": "https://localhost:8080/",
     "height": 591
    },
    "id": "B-3M-kMFBEga",
    "outputId": "a02200ee-071e-4339-9894-7323e3dc9163"
   },
   "outputs": [],
   "source": [
    "print(history_1.history.keys())\n",
    "# summarize history for accuracy\n",
    "plt.plot(history_1.history['accuracy'])\n",
    "plt.plot(history_1.history['val_accuracy'])\n",
    "plt.title('model accuracy')\n",
    "plt.ylabel('accuracy')\n",
    "plt.xlabel('epoch')\n",
    "plt.legend(['train', 'test'], loc='upper left')\n",
    "plt.show()\n",
    "# summarize history for loss\n",
    "plt.plot(history_1.history['loss'])\n",
    "plt.plot(history_1.history['val_loss'])\n",
    "plt.title('model loss')\n",
    "plt.ylabel('loss')\n",
    "plt.xlabel('epoch')\n",
    "plt.legend(['train', 'test'], loc='upper left')\n",
    "plt.show()"
   ]
  },
  {
   "cell_type": "markdown",
   "metadata": {
    "id": "TKJRQPuwzG2B"
   },
   "source": [
    "## conv net apppliqué aux dataset ptbdb"
   ]
  },
  {
   "cell_type": "code",
   "execution_count": null,
   "metadata": {
    "id": "2TeXeJg7F9kU"
   },
   "outputs": [],
   "source": [
    "import pandas as pd\n",
    "import numpy as np\n",
    "from scipy.signal import find_peaks\n",
    "from sklearn.metrics import classification_report\n",
    "from imblearn.over_sampling import SMOTE\n",
    "from imblearn.metrics import classification_report_imbalanced, geometric_mean_score"
   ]
  },
  {
   "cell_type": "code",
   "execution_count": null,
   "metadata": {
    "id": "OBNetPSl8MxL"
   },
   "outputs": [],
   "source": [
    "X=df_i.iloc[:,:-1]\n",
    "y=df_i.iloc[:,-1]\n",
    "from sklearn.model_selection import train_test_split,cross_val_score\n",
    "from sklearn.linear_model import LogisticRegression\n",
    "from sklearn.ensemble import RandomForestClassifier\n",
    "from sklearn.svm import SVC\n",
    "from sklearn.metrics import classification_report,accuracy_score,confusion_matrix"
   ]
  },
  {
   "cell_type": "code",
   "execution_count": null,
   "metadata": {},
   "outputs": [],
   "source": [
    "smote = SMOTE()\n",
    "X_sm, y_sm = smote.fit_resample(X, y)\n",
    "X_train, X_test, y_train, y_test = train_test_split(X_sm, y_sm, test_size=0.25, random_state=28)"
   ]
  },
  {
   "cell_type": "code",
   "execution_count": null,
   "metadata": {
    "id": "L_5qEwMH8Mr7"
   },
   "outputs": [],
   "source": [
    "from sklearn.preprocessing import StandardScaler\n",
    "from sklearn.metrics import confusion_matrix"
   ]
  },
  {
   "cell_type": "code",
   "execution_count": null,
   "metadata": {
    "id": "2lph8p3K8Mo6"
   },
   "outputs": [],
   "source": [
    "scaler = StandardScaler()\n",
    "X_train =scaler.fit_transform(X_train)\n",
    "X_test = scaler.transform(X_test)"
   ]
  },
  {
   "cell_type": "code",
   "execution_count": null,
   "metadata": {
    "id": "wZuWgV328Mlx"
   },
   "outputs": [],
   "source": [
    "y_train = to_categorical(y_train)"
   ]
  },
  {
   "cell_type": "code",
   "execution_count": null,
   "metadata": {
    "id": "43qtVJO28Mix"
   },
   "outputs": [],
   "source": [
    "y_test = to_categorical(y_test)\n",
    "y_train = to_categorical(y_train)"
   ]
  },
  {
   "cell_type": "code",
   "execution_count": null,
   "metadata": {
    "id": "P5-Q9se18Mfa"
   },
   "outputs": [],
   "source": [
    "X_train_cnn = np.reshape(X_sm, (X_sm.shape[0], X_sm.shape[1], 1))\n",
    "X_test_cnn = np.reshape(X_test, (X_test.shape[0], X_test.shape[1], 1))"
   ]
  },
  {
   "cell_type": "code",
   "execution_count": null,
   "metadata": {
    "id": "UWGJgRav8MZi"
   },
   "outputs": [],
   "source": [
    "early_stopping = EarlyStopping(monitor = 'val_loss',\n",
    "                    min_delta = 0.01,\n",
    "                    patience = 5,\n",
    "                    verbose = 1,\n",
    "                    mode = 'min',\n",
    "                    restore_best_weights = True)\n",
    "\n",
    "reduce_learning_rate = ReduceLROnPlateau(monitor = 'val_loss',\n",
    "                        min_delta = 0.01,\n",
    "                        patience = 3,\n",
    "                        factor = 0.1,\n",
    "                        cooldown = 4,\n",
    "                        verbose = 1)"
   ]
  },
  {
   "cell_type": "code",
   "execution_count": null,
   "metadata": {
    "colab": {
     "base_uri": "https://localhost:8080/"
    },
    "id": "ympgt9Nl8MSK",
    "outputId": "f40d5381-2766-45c4-9f5b-73de2a35355a"
   },
   "outputs": [],
   "source": [
    "inputs = Input(shape = (X_sm.shape[1],1), name = \"Input\")\n",
    "conv1_lenet = Conv1D(filters = 32, kernel_size = 5, padding = \"valid\", activation = \"relu\")\n",
    "pool1_lenet = MaxPooling1D(pool_size = 2)\n",
    "conv2_lenet = Conv1D(filters = 16, kernel_size = 3, padding = \"valid\", activation = \"relu\")\n",
    "pool2_lenet = MaxPooling1D(pool_size = 2)\n",
    "dropout_lenet = Dropout(rate=0.2)\n",
    "flatten_lenet = Flatten()\n",
    "dense1_lenet = Dense(units = 128, activation=\"relu\")\n",
    "dense2_lenet = Dense(units = 2, activation=\"softmax\")\n",
    "\n",
    "x = conv1_lenet(inputs)\n",
    "x = pool1_lenet(x)\n",
    "x = conv2_lenet(x)\n",
    "x = pool2_lenet(x)\n",
    "x = dropout_lenet(x)\n",
    "x = flatten_lenet(x)\n",
    "x = dense1_lenet(x)\n",
    "outputs = dense2_lenet(x)\n",
    "\n",
    "\n",
    "model_lenpt = Model(inputs = inputs, outputs = outputs)\n",
    "model_lenpt.compile(loss='BinaryCrossentropy', optimizer='adam', metrics=['accuracy'])\n",
    "history_ptb = model_lenpt.fit(X_sm, y_sm, epochs=epochs,callbacks=[early_stopping, reduce_learning_rate], batch_size=32,validation_split = 0.2, verbose=1)\n",
    "_, mse, accuracy = model_lenpt.evaluate(X_test, y_test, batch_size=batch_size, verbose=1)"
   ]
  },
  {
   "cell_type": "code",
   "execution_count": null,
   "metadata": {
    "colab": {
     "base_uri": "https://localhost:8080/"
    },
    "id": "Dn3RxAcq8nOS",
    "outputId": "2125ac95-c81c-4b98-bc70-c9aa0f0eb1da"
   },
   "outputs": [],
   "source": [
    "print('accuracy:', accuracy)\n",
    "\n",
    "pred_class_9 = model_lenpt.predict(X_test).argmax(axis = 1)\n",
    "rounded_labels_9=np.argmax(y_test, axis=1)\n",
    "print(pd.crosstab(rounded_labels_9, pred_class_9, rownames = [\"reel\"], colnames = [\"predict\"]))\n",
    "print(classification_report_imbalanced(rounded_labels_9, pred_class_9))\n"
   ]
  },
  {
   "cell_type": "code",
   "execution_count": null,
   "metadata": {
    "colab": {
     "base_uri": "https://localhost:8080/",
     "height": 591
    },
    "id": "7L5QPlbU8rIr",
    "outputId": "0a6cf799-1097-4b73-8ef1-2972a8a6c38b"
   },
   "outputs": [],
   "source": [
    "print(history_ptb.history.keys())\n",
    "# summarize history for accuracy\n",
    "plt.plot(history_ptb.history['accuracy'])\n",
    "plt.plot(history_ptb.history['val_accuracy'])\n",
    "plt.title('model accuracy')\n",
    "plt.ylabel('accuracy')\n",
    "plt.xlabel('epoch')\n",
    "plt.legend(['train', 'test'], loc='upper left')\n",
    "plt.show()\n",
    "# summarize history for loss\n",
    "plt.plot(history_ptb.history['loss'])\n",
    "plt.plot(history_ptb.history['val_loss'])\n",
    "plt.title('model loss')\n",
    "plt.ylabel('loss')\n",
    "plt.xlabel('epoch')\n",
    "plt.legend(['train', 'test'], loc='upper left')\n",
    "plt.show()"
   ]
  },
  {
   "cell_type": "markdown",
   "metadata": {
    "id": "_Cq2XZnizLOr"
   },
   "source": [
    "#Réseau de Neurones Convolutifs"
   ]
  },
  {
   "cell_type": "markdown",
   "metadata": {
    "id": "nWbcv_L9zSPt"
   },
   "source": [
    "## appliqué au dataset mitibih"
   ]
  },
  {
   "cell_type": "markdown",
   "metadata": {
    "id": "6yg97K9aHBOu"
   },
   "source": [
    "## Meilleur model  Reseau convolutif. Données augmentée avec les proéminences des pics en valeurs numériques"
   ]
  },
  {
   "cell_type": "code",
   "execution_count": 79,
   "metadata": {
    "id": "gxlJtpMjHG5l"
   },
   "outputs": [],
   "source": [
    "X=df_a.iloc[:,:-1]\n",
    "x_state=X\n",
    "y=df_a.iloc[:,-1]"
   ]
  },
  {
   "cell_type": "code",
   "execution_count": null,
   "metadata": {},
   "outputs": [],
   "source": []
  },
  {
   "cell_type": "code",
   "execution_count": null,
   "metadata": {},
   "outputs": [],
   "source": []
  },
  {
   "cell_type": "code",
   "execution_count": 89,
   "metadata": {
    "id": "iZ1JMUUmL48G"
   },
   "outputs": [],
   "source": [
    "from sklearn.model_selection import train_test_split,cross_val_score\n",
    "from sklearn.linear_model import LogisticRegression\n",
    "from sklearn.ensemble import RandomForestClassifier\n",
    "from sklearn.svm import SVC\n",
    "from sklearn.preprocessing import StandardScaler,MinMaxScaler\n",
    "from sklearn.metrics import confusion_matrix\n",
    "from sklearn.metrics import classification_report,accuracy_score,confusion_matrix"
   ]
  },
  {
   "cell_type": "code",
   "execution_count": 81,
   "metadata": {},
   "outputs": [],
   "source": [
    "smote = SMOTE()\n",
    "X_sm, y_sm = smote.fit_resample(X, y)\n"
   ]
  },
  {
   "cell_type": "code",
   "execution_count": 82,
   "metadata": {
    "id": "2wcXaT_oIZDV"
   },
   "outputs": [],
   "source": [
    "def distrib_proeminence(df):\n",
    "    prominences = []\n",
    "    for i in range (len(df)):\n",
    "        x=df.iloc[i,:]\n",
    "        peaks, _ = signal.find_peaks(x)\n",
    "        pro=signal.peak_prominences(x, peaks)[0]\n",
    "        prominences.append(pro)\n",
    "    pro_S = pd.DataFrame(prominences)\n",
    "    return pro_S"
   ]
  },
  {
   "cell_type": "code",
   "execution_count": 83,
   "metadata": {
    "id": "kFLY5Z8pIQId"
   },
   "outputs": [],
   "source": [
    "df_proem = distrib_proeminence(X_sm)\n",
    "#df_drop_last = df_proem_test_train.iloc[:,-1]\n",
    "df_proem = df_proem.add_prefix('pro_')\n",
    "#df = pd.concat([df,pro_S], axis =1)\n",
    "X_sm = pd.concat([X_sm,df_proem], axis =1)"
   ]
  },
  {
   "cell_type": "code",
   "execution_count": 84,
   "metadata": {
    "colab": {
     "base_uri": "https://localhost:8080/"
    },
    "id": "AaGnR-jEIx88",
    "outputId": "0fee4d00-81a4-4e18-a59a-3232ac9295cd"
   },
   "outputs": [
    {
     "name": "stdout",
     "output_type": "stream",
     "text": [
      "<class 'pandas.core.frame.DataFrame'>\n",
      "RangeIndex: 452945 entries, 0 to 452944\n",
      "Columns: 275 entries, 0 to pro_87\n",
      "dtypes: float64(275)\n",
      "memory usage: 950.3 MB\n"
     ]
    }
   ],
   "source": [
    "X_sm.info()\n",
    "def format_col(df):\n",
    "    list_int= [i for i in range(len(df.columns))]\n",
    "    df.columns=list_int\n",
    "    return df\n",
    "format_col(X)\n",
    "X=X.fillna(-0.15)"
   ]
  },
  {
   "cell_type": "code",
   "execution_count": 85,
   "metadata": {},
   "outputs": [],
   "source": [
    "X_train, X_test, y_train, y_test = train_test_split(X_sm, y_sm, test_size=0.25, random_state=28)"
   ]
  },
  {
   "cell_type": "code",
   "execution_count": 86,
   "metadata": {
    "id": "dPFe9jEOMQBr"
   },
   "outputs": [],
   "source": [
    "from tensorflow.keras.layers import Input, Dense, Dropout, Flatten, Conv1D, MaxPooling1D, GlobalAveragePooling1D, BatchNormalization, SpatialDropout1D, Reshape\n",
    "from tensorflow.keras.models import Model, Sequential\n",
    "from tensorflow.keras.utils import to_categorical\n",
    "from tensorflow.keras.callbacks import EarlyStopping, ReduceLROnPlateau"
   ]
  },
  {
   "cell_type": "code",
   "execution_count": 91,
   "metadata": {
    "id": "r5O4XwfoKYvZ"
   },
   "outputs": [
    {
     "ename": "TypeError",
     "evalue": "Feature names are only supported if all input features have string names, but your input has ['int', 'str'] as feature name / column name types. If you want feature names to be stored and validated, you must convert them all to strings, by using X.columns = X.columns.astype(str) for example. Otherwise you can remove feature / column names from your input data, or convert them all to a non-string data type.",
     "output_type": "error",
     "traceback": [
      "\u001b[0;31m---------------------------------------------------------------------------\u001b[0m",
      "\u001b[0;31mTypeError\u001b[0m                                 Traceback (most recent call last)",
      "Cell \u001b[0;32mIn[91], line 4\u001b[0m\n\u001b[1;32m      1\u001b[0m \u001b[38;5;28;01mfrom\u001b[39;00m \u001b[38;5;21;01msklearn\u001b[39;00m\u001b[38;5;21;01m.\u001b[39;00m\u001b[38;5;21;01mpreprocessing\u001b[39;00m \u001b[38;5;28;01mimport\u001b[39;00m StandardScaler\n\u001b[1;32m      3\u001b[0m scaler \u001b[38;5;241m=\u001b[39m MinMaxScaler()\n\u001b[0;32m----> 4\u001b[0m X_sm \u001b[38;5;241m=\u001b[39m\u001b[43mscaler\u001b[49m\u001b[38;5;241;43m.\u001b[39;49m\u001b[43mfit_transform\u001b[49m\u001b[43m(\u001b[49m\u001b[43mX_sm\u001b[49m\u001b[43m)\u001b[49m\n\u001b[1;32m      5\u001b[0m X_test \u001b[38;5;241m=\u001b[39m scaler\u001b[38;5;241m.\u001b[39mtransform(X_test)\n",
      "File \u001b[0;32m/usr/local/lib/python3.9/dist-packages/sklearn/utils/_set_output.py:140\u001b[0m, in \u001b[0;36m_wrap_method_output.<locals>.wrapped\u001b[0;34m(self, X, *args, **kwargs)\u001b[0m\n\u001b[1;32m    138\u001b[0m \u001b[38;5;129m@wraps\u001b[39m(f)\n\u001b[1;32m    139\u001b[0m \u001b[38;5;28;01mdef\u001b[39;00m \u001b[38;5;21mwrapped\u001b[39m(\u001b[38;5;28mself\u001b[39m, X, \u001b[38;5;241m*\u001b[39margs, \u001b[38;5;241m*\u001b[39m\u001b[38;5;241m*\u001b[39mkwargs):\n\u001b[0;32m--> 140\u001b[0m     data_to_wrap \u001b[38;5;241m=\u001b[39m \u001b[43mf\u001b[49m\u001b[43m(\u001b[49m\u001b[38;5;28;43mself\u001b[39;49m\u001b[43m,\u001b[49m\u001b[43m \u001b[49m\u001b[43mX\u001b[49m\u001b[43m,\u001b[49m\u001b[43m \u001b[49m\u001b[38;5;241;43m*\u001b[39;49m\u001b[43margs\u001b[49m\u001b[43m,\u001b[49m\u001b[43m \u001b[49m\u001b[38;5;241;43m*\u001b[39;49m\u001b[38;5;241;43m*\u001b[39;49m\u001b[43mkwargs\u001b[49m\u001b[43m)\u001b[49m\n\u001b[1;32m    141\u001b[0m     \u001b[38;5;28;01mif\u001b[39;00m \u001b[38;5;28misinstance\u001b[39m(data_to_wrap, \u001b[38;5;28mtuple\u001b[39m):\n\u001b[1;32m    142\u001b[0m         \u001b[38;5;66;03m# only wrap the first output for cross decomposition\u001b[39;00m\n\u001b[1;32m    143\u001b[0m         return_tuple \u001b[38;5;241m=\u001b[39m (\n\u001b[1;32m    144\u001b[0m             _wrap_data_with_container(method, data_to_wrap[\u001b[38;5;241m0\u001b[39m], X, \u001b[38;5;28mself\u001b[39m),\n\u001b[1;32m    145\u001b[0m             \u001b[38;5;241m*\u001b[39mdata_to_wrap[\u001b[38;5;241m1\u001b[39m:],\n\u001b[1;32m    146\u001b[0m         )\n",
      "File \u001b[0;32m/usr/local/lib/python3.9/dist-packages/sklearn/base.py:915\u001b[0m, in \u001b[0;36mTransformerMixin.fit_transform\u001b[0;34m(self, X, y, **fit_params)\u001b[0m\n\u001b[1;32m    911\u001b[0m \u001b[38;5;66;03m# non-optimized default implementation; override when a better\u001b[39;00m\n\u001b[1;32m    912\u001b[0m \u001b[38;5;66;03m# method is possible for a given clustering algorithm\u001b[39;00m\n\u001b[1;32m    913\u001b[0m \u001b[38;5;28;01mif\u001b[39;00m y \u001b[38;5;129;01mis\u001b[39;00m \u001b[38;5;28;01mNone\u001b[39;00m:\n\u001b[1;32m    914\u001b[0m     \u001b[38;5;66;03m# fit method of arity 1 (unsupervised transformation)\u001b[39;00m\n\u001b[0;32m--> 915\u001b[0m     \u001b[38;5;28;01mreturn\u001b[39;00m \u001b[38;5;28;43mself\u001b[39;49m\u001b[38;5;241;43m.\u001b[39;49m\u001b[43mfit\u001b[49m\u001b[43m(\u001b[49m\u001b[43mX\u001b[49m\u001b[43m,\u001b[49m\u001b[43m \u001b[49m\u001b[38;5;241;43m*\u001b[39;49m\u001b[38;5;241;43m*\u001b[39;49m\u001b[43mfit_params\u001b[49m\u001b[43m)\u001b[49m\u001b[38;5;241m.\u001b[39mtransform(X)\n\u001b[1;32m    916\u001b[0m \u001b[38;5;28;01melse\u001b[39;00m:\n\u001b[1;32m    917\u001b[0m     \u001b[38;5;66;03m# fit method of arity 2 (supervised transformation)\u001b[39;00m\n\u001b[1;32m    918\u001b[0m     \u001b[38;5;28;01mreturn\u001b[39;00m \u001b[38;5;28mself\u001b[39m\u001b[38;5;241m.\u001b[39mfit(X, y, \u001b[38;5;241m*\u001b[39m\u001b[38;5;241m*\u001b[39mfit_params)\u001b[38;5;241m.\u001b[39mtransform(X)\n",
      "File \u001b[0;32m/usr/local/lib/python3.9/dist-packages/sklearn/preprocessing/_data.py:434\u001b[0m, in \u001b[0;36mMinMaxScaler.fit\u001b[0;34m(self, X, y)\u001b[0m\n\u001b[1;32m    432\u001b[0m \u001b[38;5;66;03m# Reset internal state before fitting\u001b[39;00m\n\u001b[1;32m    433\u001b[0m \u001b[38;5;28mself\u001b[39m\u001b[38;5;241m.\u001b[39m_reset()\n\u001b[0;32m--> 434\u001b[0m \u001b[38;5;28;01mreturn\u001b[39;00m \u001b[38;5;28;43mself\u001b[39;49m\u001b[38;5;241;43m.\u001b[39;49m\u001b[43mpartial_fit\u001b[49m\u001b[43m(\u001b[49m\u001b[43mX\u001b[49m\u001b[43m,\u001b[49m\u001b[43m \u001b[49m\u001b[43my\u001b[49m\u001b[43m)\u001b[49m\n",
      "File \u001b[0;32m/usr/local/lib/python3.9/dist-packages/sklearn/base.py:1151\u001b[0m, in \u001b[0;36m_fit_context.<locals>.decorator.<locals>.wrapper\u001b[0;34m(estimator, *args, **kwargs)\u001b[0m\n\u001b[1;32m   1144\u001b[0m     estimator\u001b[38;5;241m.\u001b[39m_validate_params()\n\u001b[1;32m   1146\u001b[0m \u001b[38;5;28;01mwith\u001b[39;00m config_context(\n\u001b[1;32m   1147\u001b[0m     skip_parameter_validation\u001b[38;5;241m=\u001b[39m(\n\u001b[1;32m   1148\u001b[0m         prefer_skip_nested_validation \u001b[38;5;129;01mor\u001b[39;00m global_skip_validation\n\u001b[1;32m   1149\u001b[0m     )\n\u001b[1;32m   1150\u001b[0m ):\n\u001b[0;32m-> 1151\u001b[0m     \u001b[38;5;28;01mreturn\u001b[39;00m \u001b[43mfit_method\u001b[49m\u001b[43m(\u001b[49m\u001b[43mestimator\u001b[49m\u001b[43m,\u001b[49m\u001b[43m \u001b[49m\u001b[38;5;241;43m*\u001b[39;49m\u001b[43margs\u001b[49m\u001b[43m,\u001b[49m\u001b[43m \u001b[49m\u001b[38;5;241;43m*\u001b[39;49m\u001b[38;5;241;43m*\u001b[39;49m\u001b[43mkwargs\u001b[49m\u001b[43m)\u001b[49m\n",
      "File \u001b[0;32m/usr/local/lib/python3.9/dist-packages/sklearn/preprocessing/_data.py:472\u001b[0m, in \u001b[0;36mMinMaxScaler.partial_fit\u001b[0;34m(self, X, y)\u001b[0m\n\u001b[1;32m    466\u001b[0m     \u001b[38;5;28;01mraise\u001b[39;00m \u001b[38;5;167;01mTypeError\u001b[39;00m(\n\u001b[1;32m    467\u001b[0m         \u001b[38;5;124m\"\u001b[39m\u001b[38;5;124mMinMaxScaler does not support sparse input. \u001b[39m\u001b[38;5;124m\"\u001b[39m\n\u001b[1;32m    468\u001b[0m         \u001b[38;5;124m\"\u001b[39m\u001b[38;5;124mConsider using MaxAbsScaler instead.\u001b[39m\u001b[38;5;124m\"\u001b[39m\n\u001b[1;32m    469\u001b[0m     )\n\u001b[1;32m    471\u001b[0m first_pass \u001b[38;5;241m=\u001b[39m \u001b[38;5;129;01mnot\u001b[39;00m \u001b[38;5;28mhasattr\u001b[39m(\u001b[38;5;28mself\u001b[39m, \u001b[38;5;124m\"\u001b[39m\u001b[38;5;124mn_samples_seen_\u001b[39m\u001b[38;5;124m\"\u001b[39m)\n\u001b[0;32m--> 472\u001b[0m X \u001b[38;5;241m=\u001b[39m \u001b[38;5;28;43mself\u001b[39;49m\u001b[38;5;241;43m.\u001b[39;49m\u001b[43m_validate_data\u001b[49m\u001b[43m(\u001b[49m\n\u001b[1;32m    473\u001b[0m \u001b[43m    \u001b[49m\u001b[43mX\u001b[49m\u001b[43m,\u001b[49m\n\u001b[1;32m    474\u001b[0m \u001b[43m    \u001b[49m\u001b[43mreset\u001b[49m\u001b[38;5;241;43m=\u001b[39;49m\u001b[43mfirst_pass\u001b[49m\u001b[43m,\u001b[49m\n\u001b[1;32m    475\u001b[0m \u001b[43m    \u001b[49m\u001b[43mdtype\u001b[49m\u001b[38;5;241;43m=\u001b[39;49m\u001b[43mFLOAT_DTYPES\u001b[49m\u001b[43m,\u001b[49m\n\u001b[1;32m    476\u001b[0m \u001b[43m    \u001b[49m\u001b[43mforce_all_finite\u001b[49m\u001b[38;5;241;43m=\u001b[39;49m\u001b[38;5;124;43m\"\u001b[39;49m\u001b[38;5;124;43mallow-nan\u001b[39;49m\u001b[38;5;124;43m\"\u001b[39;49m\u001b[43m,\u001b[49m\n\u001b[1;32m    477\u001b[0m \u001b[43m\u001b[49m\u001b[43m)\u001b[49m\n\u001b[1;32m    479\u001b[0m data_min \u001b[38;5;241m=\u001b[39m np\u001b[38;5;241m.\u001b[39mnanmin(X, axis\u001b[38;5;241m=\u001b[39m\u001b[38;5;241m0\u001b[39m)\n\u001b[1;32m    480\u001b[0m data_max \u001b[38;5;241m=\u001b[39m np\u001b[38;5;241m.\u001b[39mnanmax(X, axis\u001b[38;5;241m=\u001b[39m\u001b[38;5;241m0\u001b[39m)\n",
      "File \u001b[0;32m/usr/local/lib/python3.9/dist-packages/sklearn/base.py:579\u001b[0m, in \u001b[0;36mBaseEstimator._validate_data\u001b[0;34m(self, X, y, reset, validate_separately, cast_to_ndarray, **check_params)\u001b[0m\n\u001b[1;32m    508\u001b[0m \u001b[38;5;28;01mdef\u001b[39;00m \u001b[38;5;21m_validate_data\u001b[39m(\n\u001b[1;32m    509\u001b[0m     \u001b[38;5;28mself\u001b[39m,\n\u001b[1;32m    510\u001b[0m     X\u001b[38;5;241m=\u001b[39m\u001b[38;5;124m\"\u001b[39m\u001b[38;5;124mno_validation\u001b[39m\u001b[38;5;124m\"\u001b[39m,\n\u001b[0;32m   (...)\u001b[0m\n\u001b[1;32m    515\u001b[0m     \u001b[38;5;241m*\u001b[39m\u001b[38;5;241m*\u001b[39mcheck_params,\n\u001b[1;32m    516\u001b[0m ):\n\u001b[1;32m    517\u001b[0m \u001b[38;5;250m    \u001b[39m\u001b[38;5;124;03m\"\"\"Validate input data and set or check the `n_features_in_` attribute.\u001b[39;00m\n\u001b[1;32m    518\u001b[0m \n\u001b[1;32m    519\u001b[0m \u001b[38;5;124;03m    Parameters\u001b[39;00m\n\u001b[0;32m   (...)\u001b[0m\n\u001b[1;32m    577\u001b[0m \u001b[38;5;124;03m        validated.\u001b[39;00m\n\u001b[1;32m    578\u001b[0m \u001b[38;5;124;03m    \"\"\"\u001b[39;00m\n\u001b[0;32m--> 579\u001b[0m     \u001b[38;5;28;43mself\u001b[39;49m\u001b[38;5;241;43m.\u001b[39;49m\u001b[43m_check_feature_names\u001b[49m\u001b[43m(\u001b[49m\u001b[43mX\u001b[49m\u001b[43m,\u001b[49m\u001b[43m \u001b[49m\u001b[43mreset\u001b[49m\u001b[38;5;241;43m=\u001b[39;49m\u001b[43mreset\u001b[49m\u001b[43m)\u001b[49m\n\u001b[1;32m    581\u001b[0m     \u001b[38;5;28;01mif\u001b[39;00m y \u001b[38;5;129;01mis\u001b[39;00m \u001b[38;5;28;01mNone\u001b[39;00m \u001b[38;5;129;01mand\u001b[39;00m \u001b[38;5;28mself\u001b[39m\u001b[38;5;241m.\u001b[39m_get_tags()[\u001b[38;5;124m\"\u001b[39m\u001b[38;5;124mrequires_y\u001b[39m\u001b[38;5;124m\"\u001b[39m]:\n\u001b[1;32m    582\u001b[0m         \u001b[38;5;28;01mraise\u001b[39;00m \u001b[38;5;167;01mValueError\u001b[39;00m(\n\u001b[1;32m    583\u001b[0m             \u001b[38;5;124mf\u001b[39m\u001b[38;5;124m\"\u001b[39m\u001b[38;5;124mThis \u001b[39m\u001b[38;5;132;01m{\u001b[39;00m\u001b[38;5;28mself\u001b[39m\u001b[38;5;241m.\u001b[39m\u001b[38;5;18m__class__\u001b[39m\u001b[38;5;241m.\u001b[39m\u001b[38;5;18m__name__\u001b[39m\u001b[38;5;132;01m}\u001b[39;00m\u001b[38;5;124m estimator \u001b[39m\u001b[38;5;124m\"\u001b[39m\n\u001b[1;32m    584\u001b[0m             \u001b[38;5;124m\"\u001b[39m\u001b[38;5;124mrequires y to be passed, but the target y is None.\u001b[39m\u001b[38;5;124m\"\u001b[39m\n\u001b[1;32m    585\u001b[0m         )\n",
      "File \u001b[0;32m/usr/local/lib/python3.9/dist-packages/sklearn/base.py:440\u001b[0m, in \u001b[0;36mBaseEstimator._check_feature_names\u001b[0;34m(self, X, reset)\u001b[0m\n\u001b[1;32m    420\u001b[0m \u001b[38;5;250m\u001b[39m\u001b[38;5;124;03m\"\"\"Set or check the `feature_names_in_` attribute.\u001b[39;00m\n\u001b[1;32m    421\u001b[0m \n\u001b[1;32m    422\u001b[0m \u001b[38;5;124;03m.. versionadded:: 1.0\u001b[39;00m\n\u001b[0;32m   (...)\u001b[0m\n\u001b[1;32m    436\u001b[0m \u001b[38;5;124;03m       should set `reset=False`.\u001b[39;00m\n\u001b[1;32m    437\u001b[0m \u001b[38;5;124;03m\"\"\"\u001b[39;00m\n\u001b[1;32m    439\u001b[0m \u001b[38;5;28;01mif\u001b[39;00m reset:\n\u001b[0;32m--> 440\u001b[0m     feature_names_in \u001b[38;5;241m=\u001b[39m \u001b[43m_get_feature_names\u001b[49m\u001b[43m(\u001b[49m\u001b[43mX\u001b[49m\u001b[43m)\u001b[49m\n\u001b[1;32m    441\u001b[0m     \u001b[38;5;28;01mif\u001b[39;00m feature_names_in \u001b[38;5;129;01mis\u001b[39;00m \u001b[38;5;129;01mnot\u001b[39;00m \u001b[38;5;28;01mNone\u001b[39;00m:\n\u001b[1;32m    442\u001b[0m         \u001b[38;5;28mself\u001b[39m\u001b[38;5;241m.\u001b[39mfeature_names_in_ \u001b[38;5;241m=\u001b[39m feature_names_in\n",
      "File \u001b[0;32m/usr/local/lib/python3.9/dist-packages/sklearn/utils/validation.py:2021\u001b[0m, in \u001b[0;36m_get_feature_names\u001b[0;34m(X)\u001b[0m\n\u001b[1;32m   2019\u001b[0m \u001b[38;5;66;03m# mixed type of string and non-string is not supported\u001b[39;00m\n\u001b[1;32m   2020\u001b[0m \u001b[38;5;28;01mif\u001b[39;00m \u001b[38;5;28mlen\u001b[39m(types) \u001b[38;5;241m>\u001b[39m \u001b[38;5;241m1\u001b[39m \u001b[38;5;129;01mand\u001b[39;00m \u001b[38;5;124m\"\u001b[39m\u001b[38;5;124mstr\u001b[39m\u001b[38;5;124m\"\u001b[39m \u001b[38;5;129;01min\u001b[39;00m types:\n\u001b[0;32m-> 2021\u001b[0m     \u001b[38;5;28;01mraise\u001b[39;00m \u001b[38;5;167;01mTypeError\u001b[39;00m(\n\u001b[1;32m   2022\u001b[0m         \u001b[38;5;124m\"\u001b[39m\u001b[38;5;124mFeature names are only supported if all input features have string names, \u001b[39m\u001b[38;5;124m\"\u001b[39m\n\u001b[1;32m   2023\u001b[0m         \u001b[38;5;124mf\u001b[39m\u001b[38;5;124m\"\u001b[39m\u001b[38;5;124mbut your input has \u001b[39m\u001b[38;5;132;01m{\u001b[39;00mtypes\u001b[38;5;132;01m}\u001b[39;00m\u001b[38;5;124m as feature name / column name types. \u001b[39m\u001b[38;5;124m\"\u001b[39m\n\u001b[1;32m   2024\u001b[0m         \u001b[38;5;124m\"\u001b[39m\u001b[38;5;124mIf you want feature names to be stored and validated, you must convert \u001b[39m\u001b[38;5;124m\"\u001b[39m\n\u001b[1;32m   2025\u001b[0m         \u001b[38;5;124m\"\u001b[39m\u001b[38;5;124mthem all to strings, by using X.columns = X.columns.astype(str) for \u001b[39m\u001b[38;5;124m\"\u001b[39m\n\u001b[1;32m   2026\u001b[0m         \u001b[38;5;124m\"\u001b[39m\u001b[38;5;124mexample. Otherwise you can remove feature / column names from your input \u001b[39m\u001b[38;5;124m\"\u001b[39m\n\u001b[1;32m   2027\u001b[0m         \u001b[38;5;124m\"\u001b[39m\u001b[38;5;124mdata, or convert them all to a non-string data type.\u001b[39m\u001b[38;5;124m\"\u001b[39m\n\u001b[1;32m   2028\u001b[0m     )\n\u001b[1;32m   2030\u001b[0m \u001b[38;5;66;03m# Only feature names of all strings are supported\u001b[39;00m\n\u001b[1;32m   2031\u001b[0m \u001b[38;5;28;01mif\u001b[39;00m \u001b[38;5;28mlen\u001b[39m(types) \u001b[38;5;241m==\u001b[39m \u001b[38;5;241m1\u001b[39m \u001b[38;5;129;01mand\u001b[39;00m types[\u001b[38;5;241m0\u001b[39m] \u001b[38;5;241m==\u001b[39m \u001b[38;5;124m\"\u001b[39m\u001b[38;5;124mstr\u001b[39m\u001b[38;5;124m\"\u001b[39m:\n",
      "\u001b[0;31mTypeError\u001b[0m: Feature names are only supported if all input features have string names, but your input has ['int', 'str'] as feature name / column name types. If you want feature names to be stored and validated, you must convert them all to strings, by using X.columns = X.columns.astype(str) for example. Otherwise you can remove feature / column names from your input data, or convert them all to a non-string data type."
     ]
    }
   ],
   "source": [
    "from sklearn.preprocessing import StandardScaler\n",
    "\n",
    "scaler = MinMaxScaler()\n",
    "X_train =scaler.fit_transform(X_train)\n",
    "X_test = scaler.transform(X_test)\n"
   ]
  },
  {
   "cell_type": "code",
   "execution_count": null,
   "metadata": {
    "id": "m5jtDrUOMhAh"
   },
   "outputs": [],
   "source": [
    "y_train = to_categorical(y_train)\n",
    "y_test = to_categorical(y_test)"
   ]
  },
  {
   "cell_type": "code",
   "execution_count": null,
   "metadata": {
    "id": "h8nYdc_iMoHQ"
   },
   "outputs": [],
   "source": [
    "X_train_cnn = np.reshape(X_sm, (X_sm.shape[0], X_sm.shape[1], 1))\n",
    "X_test_cnn = np.reshape(X_test, (X_test.shape[0], X_test.shape[1], 1))"
   ]
  },
  {
   "cell_type": "code",
   "execution_count": null,
   "metadata": {
    "id": "ebIzcLIIMsLc"
   },
   "outputs": [],
   "source": [
    "early_stopping = EarlyStopping(monitor = 'val_loss',\n",
    "                    min_delta = 0.01,\n",
    "                    patience = 5,\n",
    "                    verbose = 1,\n",
    "                    mode = 'min',\n",
    "                    restore_best_weights = True)\n",
    "\n",
    "reduce_learning_rate = ReduceLROnPlateau(monitor = 'val_loss',\n",
    "                        min_delta = 0.01,\n",
    "                        patience = 3,\n",
    "                        factor = 0.1,\n",
    "                        cooldown = 4,\n",
    "                        verbose = 1)"
   ]
  },
  {
   "cell_type": "code",
   "execution_count": null,
   "metadata": {
    "colab": {
     "base_uri": "https://localhost:8080/"
    },
    "id": "8U1R_czkM4tJ",
    "outputId": "52cec22b-6b70-47d9-fa61-5bef7e1b9c12"
   },
   "outputs": [],
   "source": [
    "verbose, epochs, batch_size = 1, 50 , 32\n",
    "n_timesteps, n_features, n_outputs =  X_train_cnn.shape[1],X_train_cnn.shape[2], y_sm.shape[1]\n",
    "model_a = Sequential()\n",
    "model_a.add(Conv1D(filters=64, kernel_size=5, activation='relu',input_shape=(n_timesteps,n_features)))\n",
    "model_a.add(Conv1D(filters=64, kernel_size=3, activation='relu'))\n",
    "model_a.add(BatchNormalization())\n",
    "model_a.add(MaxPooling1D(pool_size=2))\n",
    "model_a.add(Conv1D(filters=32, kernel_size=5, activation='relu'))\n",
    "model_a.add(Conv1D(filters=32, kernel_size=3, activation='relu'))\n",
    "model_a.add(BatchNormalization())\n",
    "model_a.add(MaxPooling1D(pool_size=2))\n",
    "model_a.add(Conv1D(filters=16, kernel_size=5, activation='relu'))\n",
    "model_a.add(Conv1D(filters=16, kernel_size=3, activation='relu'))\n",
    "model_a.add(BatchNormalization())\n",
    "model_a.add(MaxPooling1D(pool_size=2))\n",
    "model_a.add(Flatten())\n",
    "model_a.add(Dense(125, activation='relu'))\n",
    "model_a.add(Dense(n_outputs, activation='softmax'))\n",
    "model_a.compile(loss='categorical_crossentropy', optimizer='adam', metrics=['accuracy'])\n",
    "history_a = model_a.fit(X_sm, y_sm, epochs=epochs,callbacks=[early_stopping, reduce_learning_rate], batch_size=batch_size,validation_split = 0.2, verbose=verbose)\n",
    "model_a.save('/content/drive/MyDrive/heart_peak/model_mycnn_mitbih_2.h5')\n",
    "_, accuracy = model_a.evaluate(X_test, y_test, batch_size=batch_size, verbose=verbose)"
   ]
  },
  {
   "cell_type": "code",
   "execution_count": null,
   "metadata": {
    "id": "tpfQ9y-TVlKU"
   },
   "outputs": [],
   "source": [
    "\n"
   ]
  },
  {
   "cell_type": "code",
   "execution_count": null,
   "metadata": {
    "colab": {
     "base_uri": "https://localhost:8080/"
    },
    "id": "uNH-Zr_jNcZI",
    "outputId": "5413661d-3127-4f8d-e5a6-166ffa94c80f"
   },
   "outputs": [],
   "source": [
    "print('accuracy',accuracy )\n",
    "\n",
    "pred_class_a = model_a.predict(X_test).argmax(axis = 1)\n",
    "rounded_labels_a=np.argmax(y_test, axis=1)\n",
    "print(pd.crosstab(rounded_labels_a, pred_class_a, rownames = [\"reel\"], colnames = [\"predict\"]))\n",
    "print(classification_report_imbalanced(rounded_labels_a, pred_class_a))"
   ]
  },
  {
   "cell_type": "code",
   "execution_count": null,
   "metadata": {
    "colab": {
     "base_uri": "https://localhost:8080/",
     "height": 1000
    },
    "id": "way7Ibz6OQe3",
    "outputId": "a18fd5dd-ba43-4492-f3ae-89184f18b704"
   },
   "outputs": [],
   "source": [
    "print(history_a.history.keys())\n",
    "# summarize history for accuracy\n",
    "plt.plot(history_a.history['accuracy'])\n",
    "plt.plot(history_a.history['val_accuracy'])\n",
    "plt.title('model accuracy')\n",
    "plt.ylabel('accuracy')\n",
    "plt.xlabel('epoch')\n",
    "plt.legend(['train', 'test'], loc='upper left')\n",
    "plt.savefig('/content/drive/MyDrive/heart_peak/acc_model_a')\n",
    "plt.show()\n",
    "# summarize history for loss\n",
    "plt.plot(history_a.history['loss'])\n",
    "plt.plot(history_a.history['val_loss'])\n",
    "plt.title('model loss')\n",
    "plt.ylabel('loss')\n",
    "plt.xlabel('epoch')\n",
    "plt.legend(['train', 'test'], loc='upper left')\n",
    "plt.savefig('/content/drive/MyDrive/heart_peak/loss_model_a')\n",
    "plt.show()"
   ]
  },
  {
   "cell_type": "markdown",
   "metadata": {
    "id": "7Sfvak0UHCow"
   },
   "source": [
    "## Section sans augmentation d'information, recherche du meilleur modèle travaux prélimnaire sans ajout de proéminences"
   ]
  },
  {
   "cell_type": "code",
   "execution_count": 92,
   "metadata": {
    "id": "T87Di4KAzc41"
   },
   "outputs": [],
   "source": [
    "import pandas as pd\n",
    "import numpy as np\n",
    "from scipy.signal import find_peaks\n",
    "from sklearn.metrics import classification_report\n",
    "from imblearn.over_sampling import SMOTE\n",
    "from imblearn.metrics import classification_report_imbalanced, geometric_mean_score"
   ]
  },
  {
   "cell_type": "code",
   "execution_count": 93,
   "metadata": {
    "id": "9E6BwvgzC5J7"
   },
   "outputs": [],
   "source": [
    "X=df_a.iloc[:,:-1]\n",
    "x_state=X\n",
    "y=df_a.iloc[:,-1]\n",
    "from sklearn.model_selection import train_test_split,cross_val_score\n",
    "from sklearn.linear_model import LogisticRegression\n",
    "from sklearn.ensemble import RandomForestClassifier\n",
    "from sklearn.svm import SVC\n",
    "from sklearn.preprocessing import StandardScaler\n",
    "from sklearn.metrics import confusion_matrix\n",
    "from sklearn.metrics import classification_report,accuracy_score,confusion_matrix\n",
    "X_train, X_test, y_train, y_test = train_test_split(X, y, test_size=0.25, random_state=28)"
   ]
  },
  {
   "cell_type": "code",
   "execution_count": 94,
   "metadata": {},
   "outputs": [],
   "source": [
    "smote = SMOTE()\n",
    "X_sm, y_sm = smote.fit_resample(X, y)\n",
    "X_train, X_test, y_train, y_test = train_test_split(X_sm, y_sm, test_size=0.25, random_state=28)"
   ]
  },
  {
   "cell_type": "code",
   "execution_count": 95,
   "metadata": {
    "id": "J3GBWcLsC7Wp"
   },
   "outputs": [],
   "source": [
    "from tensorflow.keras.layers import Input, Dense, Dropout, Flatten, Conv1D, MaxPooling1D, GlobalAveragePooling1D, BatchNormalization, SpatialDropout1D, Reshape\n",
    "from tensorflow.keras.models import Model, Sequential\n",
    "from tensorflow.keras.utils import to_categorical\n",
    "from tensorflow.keras.callbacks import EarlyStopping, ReduceLROnPlateau"
   ]
  },
  {
   "cell_type": "code",
   "execution_count": 96,
   "metadata": {
    "id": "RAEs7NjqDCJs"
   },
   "outputs": [],
   "source": [
    "scaler = StandardScaler()\n",
    "X_train =scaler.fit_transform(X_train)\n",
    "X_test = scaler.transform(X_test)"
   ]
  },
  {
   "cell_type": "code",
   "execution_count": 97,
   "metadata": {
    "id": "oQccvERGDEYK"
   },
   "outputs": [],
   "source": [
    "y_train = to_categorical(y_train)"
   ]
  },
  {
   "cell_type": "code",
   "execution_count": 98,
   "metadata": {
    "id": "ttr_dCSMDGjK"
   },
   "outputs": [],
   "source": [
    "y_test = to_categorical(y_test)"
   ]
  },
  {
   "cell_type": "code",
   "execution_count": 109,
   "metadata": {
    "id": "rIsy1YBuDIsb"
   },
   "outputs": [],
   "source": [
    "X_train_cnn = np.reshape(X_train, (X_train.shape[0], X_train.shape[1], 1))\n",
    "X_test_cnn = np.reshape(X_test, (X_test.shape[0], X_test.shape[1], 1))"
   ]
  },
  {
   "cell_type": "code",
   "execution_count": 110,
   "metadata": {
    "colab": {
     "base_uri": "https://localhost:8080/"
    },
    "id": "CVcS5NN4DN-b",
    "outputId": "b692772d-94fc-4b9d-8c80-bce047e612b7"
   },
   "outputs": [
    {
     "name": "stdout",
     "output_type": "stream",
     "text": [
      "(339708, 187, 1) (339708, 5) (113237, 187, 1) (113237, 5)\n"
     ]
    }
   ],
   "source": [
    "print(X_train_cnn.shape, y_train.shape, X_test_cnn.shape, y_test.shape)\n"
   ]
  },
  {
   "cell_type": "code",
   "execution_count": 111,
   "metadata": {
    "id": "rzGKPbBUDQPB"
   },
   "outputs": [],
   "source": [
    "early_stopping = EarlyStopping(monitor = 'val_loss',\n",
    "                    min_delta = 0.01,\n",
    "                    patience = 5,\n",
    "                    verbose = 1,\n",
    "                    mode = 'min',\n",
    "                    restore_best_weights = True)\n",
    "\n",
    "reduce_learning_rate = ReduceLROnPlateau(monitor = 'val_loss',\n",
    "                        min_delta = 0.01,\n",
    "                        patience = 3,\n",
    "                        factor = 0.1,\n",
    "                        cooldown = 4,\n",
    "                        verbose = 1)"
   ]
  },
  {
   "cell_type": "code",
   "execution_count": 113,
   "metadata": {
    "colab": {
     "base_uri": "https://localhost:8080/",
     "height": 723
    },
    "id": "CMpqjl1aDVO5",
    "outputId": "6a64c7ea-f605-4273-ba88-66f9ae0a08b5"
   },
   "outputs": [
    {
     "name": "stdout",
     "output_type": "stream",
     "text": [
      "Epoch 1/50\n",
      "8493/8493 [==============================] - 497s 58ms/step - loss: 0.2000 - accuracy: 0.9298 - val_loss: 0.1147 - val_accuracy: 0.9619 - lr: 0.0010\n",
      "Epoch 2/50\n",
      "8493/8493 [==============================] - 466s 55ms/step - loss: 0.0964 - accuracy: 0.9664 - val_loss: 0.0949 - val_accuracy: 0.9664 - lr: 0.0010\n",
      "Epoch 3/50\n",
      "8493/8493 [==============================] - 460s 54ms/step - loss: 0.0660 - accuracy: 0.9775 - val_loss: 0.0539 - val_accuracy: 0.9822 - lr: 0.0010\n",
      "Epoch 4/50\n",
      "8493/8493 [==============================] - 438s 52ms/step - loss: 0.0503 - accuracy: 0.9829 - val_loss: 0.0456 - val_accuracy: 0.9850 - lr: 0.0010\n",
      "Epoch 5/50\n",
      "8493/8493 [==============================] - 423s 50ms/step - loss: 0.0406 - accuracy: 0.9863 - val_loss: 0.0424 - val_accuracy: 0.9860 - lr: 0.0010\n",
      "Epoch 6/50\n",
      "8493/8493 [==============================] - 433s 51ms/step - loss: 0.0348 - accuracy: 0.9886 - val_loss: 0.0321 - val_accuracy: 0.9904 - lr: 0.0010\n",
      "Epoch 7/50\n",
      "8493/8493 [==============================] - 410s 48ms/step - loss: 0.0300 - accuracy: 0.9899 - val_loss: 0.0331 - val_accuracy: 0.9896 - lr: 0.0010\n",
      "Epoch 8/50\n",
      "8493/8493 [==============================] - 407s 48ms/step - loss: 0.0271 - accuracy: 0.9910 - val_loss: 0.0313 - val_accuracy: 0.9904 - lr: 0.0010\n",
      "Epoch 9/50\n",
      "8493/8493 [==============================] - ETA: 0s - loss: 0.0238 - accuracy: 0.9920\n",
      "Epoch 9: ReduceLROnPlateau reducing learning rate to 0.00010000000474974513.\n",
      "8493/8493 [==============================] - 383s 45ms/step - loss: 0.0238 - accuracy: 0.9920 - val_loss: 0.0327 - val_accuracy: 0.9903 - lr: 0.0010\n",
      "Epoch 10/50\n",
      "8493/8493 [==============================] - 370s 44ms/step - loss: 0.0091 - accuracy: 0.9972 - val_loss: 0.0146 - val_accuracy: 0.9958 - lr: 1.0000e-04\n",
      "Epoch 11/50\n",
      "8493/8493 [==============================] - 378s 45ms/step - loss: 0.0055 - accuracy: 0.9984 - val_loss: 0.0138 - val_accuracy: 0.9962 - lr: 1.0000e-04\n",
      "Epoch 12/50\n",
      "8493/8493 [==============================] - 382s 45ms/step - loss: 0.0042 - accuracy: 0.9989 - val_loss: 0.0135 - val_accuracy: 0.9965 - lr: 1.0000e-04\n",
      "Epoch 13/50\n",
      "8493/8493 [==============================] - 392s 46ms/step - loss: 0.0034 - accuracy: 0.9991 - val_loss: 0.0138 - val_accuracy: 0.9964 - lr: 1.0000e-04\n",
      "Epoch 14/50\n",
      "8493/8493 [==============================] - 385s 45ms/step - loss: 0.0028 - accuracy: 0.9993 - val_loss: 0.0146 - val_accuracy: 0.9964 - lr: 1.0000e-04\n",
      "Epoch 15/50\n",
      "8493/8493 [==============================] - ETA: 0s - loss: 0.0024 - accuracy: 0.9993Restoring model weights from the end of the best epoch: 10.\n",
      "\n",
      "Epoch 15: ReduceLROnPlateau reducing learning rate to 1.0000000474974514e-05.\n",
      "8493/8493 [==============================] - 385s 45ms/step - loss: 0.0024 - accuracy: 0.9993 - val_loss: 0.0136 - val_accuracy: 0.9968 - lr: 1.0000e-04\n",
      "Epoch 15: early stopping\n"
     ]
    },
    {
     "name": "stderr",
     "output_type": "stream",
     "text": [
      "/usr/local/lib/python3.9/dist-packages/keras/src/engine/training.py:3000: UserWarning: You are saving your model as an HDF5 file via `model.save()`. This file format is considered legacy. We recommend using instead the native Keras format, e.g. `model.save('my_model.keras')`.\n",
      "  saving_api.save_model(\n"
     ]
    },
    {
     "name": "stdout",
     "output_type": "stream",
     "text": [
      "3539/3539 [==============================] - 57s 16ms/step - loss: 0.0137 - accuracy: 0.9962\n"
     ]
    }
   ],
   "source": [
    "verbose, epochs, batch_size = 1, 50 , 32\n",
    "n_timesteps, n_features, n_outputs =  X_train_cnn.shape[1],X_train_cnn.shape[2], y_train.shape[1]\n",
    "model1 = Sequential()\n",
    "model1.add(Conv1D(filters=128, kernel_size=5, activation='relu',input_shape=(n_timesteps,n_features)))\n",
    "model1.add(Conv1D(filters=128, kernel_size=3, activation='relu'))\n",
    "model1.add(BatchNormalization())\n",
    "model1.add(MaxPooling1D(pool_size=2))\n",
    "model1.add(Conv1D(filters=64, kernel_size=5, activation='relu'))\n",
    "model1.add(Conv1D(filters=64, kernel_size=3, activation='relu'))\n",
    "model1.add(BatchNormalization())\n",
    "model1.add(MaxPooling1D(pool_size=2))\n",
    "model1.add(Conv1D(filters=32, kernel_size=5, activation='relu'))\n",
    "model1.add(Conv1D(filters=32, kernel_size=3, activation='relu'))\n",
    "model1.add(BatchNormalization())\n",
    "model1.add(MaxPooling1D(pool_size=2))\n",
    "model1.add(Conv1D(filters=16, kernel_size=5, activation='relu'))\n",
    "model1.add(Conv1D(filters=16, kernel_size=3, activation='relu'))\n",
    "model1.add(BatchNormalization())\n",
    "model1.add(MaxPooling1D(pool_size=2))\n",
    "model1.add(Flatten())\n",
    "model1.add(Dense(125, activation='relu'))\n",
    "model1.add(Dense(n_outputs, activation='softmax'))\n",
    "model1.compile(loss='categorical_crossentropy', optimizer='adam', metrics=['accuracy'])\n",
    "history_1 = model1.fit(X_train, y_train, epochs=epochs,callbacks=[early_stopping, reduce_learning_rate], batch_size=batch_size,validation_split = 0.2, verbose=verbose)\n",
    "model1.save('./model_mycnn_mitbih_modelbest_128.h5')\n",
    "_, accuracy = model1.evaluate(X_test, y_test, batch_size=batch_size, verbose=verbose)"
   ]
  },
  {
   "cell_type": "code",
   "execution_count": 141,
   "metadata": {
    "colab": {
     "base_uri": "https://localhost:8080/"
    },
    "id": "PUz3lb53DWeq",
    "outputId": "45a3b33f-db73-48d3-8e93-924d675da9c2"
   },
   "outputs": [
    {
     "name": "stdout",
     "output_type": "stream",
     "text": [
      "accuracy: 0.9961761832237244\n",
      "2831/2831 [==============================] - 58s 20ms/step\n",
      "predict      0      1      2     3     4\n",
      "reel                                    \n",
      "0         3328   4264   9938   632   100\n",
      "1          901  10254   5997   688     3\n",
      "2         1165   1945  12606  2143   142\n",
      "3        10641    794   5171  1669     1\n",
      "4          147    125   7816   722  9397\n",
      "                   pre       rec       spe        f1       geo       iba       sup\n",
      "\n",
      "          0       0.21      0.18      0.82      0.19      0.39      0.14     18262\n",
      "          1       0.59      0.57      0.90      0.58      0.72      0.50     17843\n",
      "          2       0.30      0.70      0.60      0.42      0.65      0.43     18001\n",
      "          3       0.29      0.09      0.94      0.14      0.29      0.08     18276\n",
      "          4       0.97      0.52      1.00      0.67      0.72      0.49     18207\n",
      "\n",
      "avg / total       0.47      0.41      0.85      0.40      0.55      0.33     90589\n",
      "\n"
     ]
    }
   ],
   "source": [
    "print('accuracy:',accuracy)\n",
    "\n",
    "pred_class_1 = model1.predict(X_test).argmax(axis = 1)\n",
    "rounded_labels_1=np.argmax(y_test, axis=1)\n",
    "print(pd.crosstab(rounded_labels_1, pred_class_1, rownames = [\"reel\"], colnames = [\"predict\"]))\n",
    "print(classification_report_imbalanced(rounded_labels_1, pred_class_1))"
   ]
  },
  {
   "cell_type": "code",
   "execution_count": 142,
   "metadata": {
    "colab": {
     "base_uri": "https://localhost:8080/",
     "height": 591
    },
    "id": "iI2-VhFuDbZG",
    "outputId": "0d19da26-e171-45cf-ff79-10295171d5be"
   },
   "outputs": [
    {
     "name": "stdout",
     "output_type": "stream",
     "text": [
      "dict_keys(['loss', 'accuracy', 'val_loss', 'val_accuracy', 'lr'])\n"
     ]
    },
    {
     "data": {
      "image/png": "[encoded data removed]",
      "text/plain": [
       "<Figure size 640x480 with 1 Axes>"
      ]
     },
     "metadata": {},
     "output_type": "display_data"
    },
    {
     "data": {
      "image/png": "[encoded data removed]",
      "text/plain": [
       "<Figure size 640x480 with 1 Axes>"
      ]
     },
     "metadata": {},
     "output_type": "display_data"
    }
   ],
   "source": [
    "print(history_1.history.keys())\n",
    "# summarize history for accuracy\n",
    "plt.plot(history_1.history['accuracy'])\n",
    "plt.plot(history_1.history['val_accuracy'])\n",
    "plt.title('model accuracy')\n",
    "plt.ylabel('accuracy')\n",
    "plt.xlabel('epoch')\n",
    "plt.legend(['train', 'test'], loc='upper left')\n",
    "plt.show()\n",
    "# summarize history for loss\n",
    "plt.plot(history_1.history['loss'])\n",
    "plt.plot(history_1.history['val_loss'])\n",
    "plt.title('model loss')\n",
    "plt.ylabel('loss')\n",
    "plt.xlabel('epoch')\n",
    "plt.legend(['train', 'test'], loc='upper left')\n",
    "plt.show()"
   ]
  },
  {
   "cell_type": "markdown",
   "metadata": {
    "id": "sGj7WmIu3VbE"
   },
   "source": [
    "### 256\n"
   ]
  },
  {
   "cell_type": "code",
   "execution_count": null,
   "metadata": {
    "colab": {
     "base_uri": "https://localhost:8080/"
    },
    "id": "IGfICgZ23C60",
    "outputId": "dc9b4ff7-15fb-443b-bc6c-e74c3bb75bd9"
   },
   "outputs": [],
   "source": [
    "verbose, epochs, batch_size = 1, 50 , 32\n",
    "n_timesteps, n_features, n_outputs =  X_train_cnn.shape[1],X_train_cnn.shape[2], y_train.shape[1]\n",
    "modelb = Sequential()\n",
    "modelb.add(Conv1D(filters=256, kernel_size=5, activation='relu',input_shape=(n_timesteps,n_features)))\n",
    "modelb.add(Conv1D(filters=256, kernel_size=3, activation='relu'))\n",
    "modelb.add(BatchNormalization())\n",
    "modelb.add(MaxPooling1D(pool_size=2))\n",
    "modelb.add(Conv1D(filters=128, kernel_size=5, activation='relu'))\n",
    "modelb.add(Conv1D(filters=128, kernel_size=3, activation='relu'))\n",
    "modelb.add(BatchNormalization())\n",
    "modelb.add(MaxPooling1D(pool_size=2))\n",
    "modelb.add(Conv1D(filters=64, kernel_size=5, activation='relu'))\n",
    "modelb.add(Conv1D(filters=64, kernel_size=3, activation='relu'))\n",
    "modelb.add(BatchNormalization())\n",
    "modelb.add(MaxPooling1D(pool_size=2))\n",
    "modelb.add(Conv1D(filters=32, kernel_size=5, activation='relu'))\n",
    "modelb.add(Conv1D(filters=32, kernel_size=3, activation='relu'))\n",
    "modelb.add(BatchNormalization())\n",
    "modelb.add(MaxPooling1D(pool_size=2))\n",
    "modelb.add(Flatten())\n",
    "modelb.add(Dense(125, activation='relu'))\n",
    "modelb.add(Dense(5, activation='softmax'))\n",
    "modelb.compile(loss='categorical_crossentropy', optimizer='adam', metrics=['accuracy'])\n",
    "history_b = modelb.fit(X_train, y_train, epochs=epochs,callbacks=[early_stopping, reduce_learning_rate], batch_size=batch_size,validation_split = 0.2, verbose=verbose)\n",
    "modelb.save('/content/drive/MyDrive/heart_peak/model_mycnn_mitbih_modelbest_256.h5')\n",
    "_, accuracy = modelb.evaluate(X_test, y_test, batch_size=batch_size, verbose=verbose)"
   ]
  },
  {
   "cell_type": "code",
   "execution_count": null,
   "metadata": {
    "colab": {
     "base_uri": "https://localhost:8080/"
    },
    "id": "VijiHOJz4hOc",
    "outputId": "bb7a9745-fbcc-4a0d-9e7c-bb47b917c5ec"
   },
   "outputs": [],
   "source": [
    "print(accuracy:', mse, accuracy)\n",
    "\n",
    "pred_classb = modelb.predict(X_test).argmax(axis = 1)\n",
    "rounded_labelsb=np.argmax(y_test, axis=1)\n",
    "print(pd.crosstab(rounded_labelsb, pred_classb, rownames = [\"reel\"], colnames = [\"predict\"]))\n",
    "print(classification_report_imbalanced(rounded_labelsb, pred_classb))"
   ]
  },
  {
   "cell_type": "code",
   "execution_count": null,
   "metadata": {
    "id": "WEFN3hxl3ClT"
   },
   "outputs": [],
   "source": [
    "print(history_b.history.keys())\n",
    "# summarize history for accuracy\n",
    "plt.plot(history_b.history['accuracy'])\n",
    "plt.plot(history_b.history['val_accuracy'])\n",
    "plt.title('model accuracy')\n",
    "plt.ylabel('accuracy')\n",
    "plt.xlabel('epoch')\n",
    "plt.legend(['train', 'test'], loc='upper left')\n",
    "plt.show()\n",
    "# summarize history for loss\n",
    "plt.plot(history_b.history['loss'])\n",
    "plt.plot(history_b.history['val_loss'])\n",
    "plt.title('model loss')\n",
    "plt.ylabel('loss')\n",
    "plt.xlabel('epoch')\n",
    "plt.legend(['train', 'test'], loc='upper left')\n",
    "plt.show()"
   ]
  },
  {
   "cell_type": "markdown",
   "metadata": {
    "id": "6Pw_Rayj3CSE"
   },
   "source": []
  },
  {
   "cell_type": "code",
   "execution_count": null,
   "metadata": {
    "colab": {
     "base_uri": "https://localhost:8080/"
    },
    "id": "z5UK5fQQDd_h",
    "outputId": "bf437c6f-54ab-43d7-f26a-47e8ef945401"
   },
   "outputs": [],
   "source": [
    "verbose, epochs, batch_size = 1, 50 , 32\n",
    "n_timesteps, n_features, n_outputs =  X_train_cnn.shape[1],X_train_cnn.shape[2], y_sm.shape[1]\n",
    "model2 = Sequential()\n",
    "model2.add(Conv1D(filters=128, kernel_size=3, activation='relu',input_shape=(n_timesteps,n_features)))\n",
    "model2.add(Conv1D(filters=128, kernel_size=5, activation='relu'))\n",
    "model2.add(BatchNormalization())\n",
    "model2.add(MaxPooling1D(pool_size=2))\n",
    "model2.add(Conv1D(filters=64, kernel_size=3, activation='relu'))\n",
    "model2.add(Conv1D(filters=64, kernel_size=5, activation='relu'))\n",
    "model2.add(BatchNormalization())\n",
    "model2.add(MaxPooling1D(pool_size=2))\n",
    "model2.add(Conv1D(filters=32, kernel_size=3, activation='relu'))\n",
    "model2.add(Conv1D(filters=32, kernel_size=5, activation='relu'))\n",
    "model2.add(BatchNormalization())\n",
    "model2.add(MaxPooling1D(pool_size=2))\n",
    "model2.add(Conv1D(filters=16, kernel_size=3, activation='relu'))\n",
    "model2.add(Conv1D(filters=16, kernel_size=5, activation='relu'))\n",
    "model2.add(BatchNormalization())\n",
    "model2.add(MaxPooling1D(pool_size=2))\n",
    "model2.add(Flatten())\n",
    "model2.add(Dense(125, activation='relu'))\n",
    "model2.add(Dense(n_outputs, activation='softmax'))\n",
    "model2.compile(loss='categorical_crossentropy', optimizer='adam', metrics=['accuracy'])\n",
    "history_2 = model2.fit(X_train, y_train, epochs=epochs,callbacks=[early_stopping, reduce_learning_rate], batch_size=batch_size,validation_split = 0.2, verbose=verbose)\n",
    "_, accuracy = model2.evaluate(X_test, y_test, batch_size=batch_size, verbose=verbose)"
   ]
  },
  {
   "cell_type": "code",
   "execution_count": null,
   "metadata": {
    "colab": {
     "base_uri": "https://localhost:8080/"
    },
    "id": "B7nF71jzDhdT",
    "outputId": "947664f7-d5c4-4ee3-95a8-f9efecbe48a1"
   },
   "outputs": [],
   "source": [
    "print('accuracy:', accuracy)\n",
    "\n",
    "pred_class_2 = model2.predict(X_test).argmax(axis = 1)\n",
    "rounded_labels_2=np.argmax(y_test, axis=1)\n",
    "print(pd.crosstab(rounded_labels_2, pred_class_2, rownames = [\"reel\"], colnames = [\"predict\"]))\n",
    "print(classification_report_imbalanced(rounded_labels_2, pred_class_2))"
   ]
  },
  {
   "cell_type": "code",
   "execution_count": null,
   "metadata": {
    "colab": {
     "base_uri": "https://localhost:8080/",
     "height": 591
    },
    "id": "F4S9K8f1Dk6J",
    "outputId": "ccb2f9cd-bfb5-4d40-80a5-fb4280ccdb75"
   },
   "outputs": [],
   "source": [
    "print(history_2.history.keys())\n",
    "# summarize history for accuracy\n",
    "plt.plot(history_2.history['accuracy'])\n",
    "plt.plot(history_2.history['val_accuracy'])\n",
    "plt.title('model accuracy')\n",
    "plt.ylabel('accuracy')\n",
    "plt.xlabel('epoch')\n",
    "plt.legend(['train', 'test'], loc='upper left')\n",
    "plt.show()\n",
    "# summarize history for loss\n",
    "plt.plot(history_2.history['loss'])\n",
    "plt.plot(history_2.history['val_loss'])\n",
    "plt.title('model loss')\n",
    "plt.ylabel('loss')\n",
    "plt.xlabel('epoch')\n",
    "plt.legend(['train', 'test'], loc='upper left')\n",
    "plt.show()"
   ]
  },
  {
   "cell_type": "code",
   "execution_count": 143,
   "metadata": {
    "colab": {
     "base_uri": "https://localhost:8080/"
    },
    "id": "Q5xYAHmnDnrC",
    "outputId": "64687308-57a0-4734-9f5f-bff1b2aa3008"
   },
   "outputs": [
    {
     "name": "stdout",
     "output_type": "stream",
     "text": [
      "Epoch 1/50\n",
      "9059/9059 [==============================] - 350s 38ms/step - loss: 0.1355 - accuracy: 0.9529 - val_loss: 0.2067 - val_accuracy: 0.9301 - lr: 0.0010\n",
      "Epoch 2/50\n",
      "9059/9059 [==============================] - 396s 44ms/step - loss: 0.0550 - accuracy: 0.9817 - val_loss: 0.0484 - val_accuracy: 0.9837 - lr: 0.0010\n",
      "Epoch 3/50\n",
      "9059/9059 [==============================] - 392s 43ms/step - loss: 0.0388 - accuracy: 0.9869 - val_loss: 0.0467 - val_accuracy: 0.9852 - lr: 0.0010\n",
      "Epoch 4/50\n",
      "9059/9059 [==============================] - 396s 44ms/step - loss: 0.0307 - accuracy: 0.9898 - val_loss: 0.0411 - val_accuracy: 0.9864 - lr: 0.0010\n",
      "Epoch 5/50\n",
      "9058/9059 [============================>.] - ETA: 0s - loss: 0.0249 - accuracy: 0.9917\n",
      "Epoch 5: ReduceLROnPlateau reducing learning rate to 0.00010000000474974513.\n",
      "9059/9059 [==============================] - 385s 43ms/step - loss: 0.0249 - accuracy: 0.9917 - val_loss: 0.0468 - val_accuracy: 0.9843 - lr: 0.0010\n",
      "Epoch 6/50\n",
      "9059/9059 [==============================] - 370s 41ms/step - loss: 0.0092 - accuracy: 0.9973 - val_loss: 0.0130 - val_accuracy: 0.9964 - lr: 1.0000e-04\n",
      "Epoch 7/50\n",
      "9059/9059 [==============================] - 364s 40ms/step - loss: 0.0060 - accuracy: 0.9983 - val_loss: 0.0118 - val_accuracy: 0.9967 - lr: 1.0000e-04\n",
      "Epoch 8/50\n",
      "9059/9059 [==============================] - 354s 39ms/step - loss: 0.0047 - accuracy: 0.9987 - val_loss: 0.0118 - val_accuracy: 0.9967 - lr: 1.0000e-04\n",
      "Epoch 9/50\n",
      "9059/9059 [==============================] - 338s 37ms/step - loss: 0.0040 - accuracy: 0.9989 - val_loss: 0.0105 - val_accuracy: 0.9973 - lr: 1.0000e-04\n",
      "Epoch 10/50\n",
      "9059/9059 [==============================] - 325s 36ms/step - loss: 0.0034 - accuracy: 0.9991 - val_loss: 0.0108 - val_accuracy: 0.9972 - lr: 1.0000e-04\n",
      "Epoch 11/50\n",
      "9059/9059 [==============================] - ETA: 0s - loss: 0.0028 - accuracy: 0.9993Restoring model weights from the end of the best epoch: 6.\n",
      "\n",
      "Epoch 11: ReduceLROnPlateau reducing learning rate to 1.0000000474974514e-05.\n",
      "9059/9059 [==============================] - 322s 36ms/step - loss: 0.0028 - accuracy: 0.9993 - val_loss: 0.0105 - val_accuracy: 0.9972 - lr: 1.0000e-04\n",
      "Epoch 11: early stopping\n",
      "2831/2831 [==============================] - 28s 10ms/step - loss: 0.0126 - accuracy: 0.9962\n"
     ]
    }
   ],
   "source": [
    "verbose, epochs, batch_size = 1, 50 , 32\n",
    "n_timesteps, n_features, n_outputs =  X_train_cnn.shape[1],X_train_cnn.shape[2], y_train.shape[1]\n",
    "model3 = Sequential()\n",
    "model3.add(Conv1D(filters=64, kernel_size=5, activation='relu',input_shape=(n_timesteps,n_features)))\n",
    "model3.add(Conv1D(filters=64, kernel_size=3, activation='relu'))\n",
    "model3.add(BatchNormalization())\n",
    "model3.add(MaxPooling1D(pool_size=2))\n",
    "model3.add(Conv1D(filters=32, kernel_size=5, activation='relu'))\n",
    "model3.add(Conv1D(filters=32, kernel_size=3, activation='relu'))\n",
    "model3.add(BatchNormalization())\n",
    "model3.add(MaxPooling1D(pool_size=2))\n",
    "model3.add(Conv1D(filters=16, kernel_size=5, activation='relu'))\n",
    "model3.add(Conv1D(filters=16, kernel_size=3, activation='relu'))\n",
    "model3.add(BatchNormalization())\n",
    "model3.add(MaxPooling1D(pool_size=2))\n",
    "model3.add(Flatten())\n",
    "model3.add(Dense(125, activation='relu'))\n",
    "model3.add(Dense(n_outputs, activation='softmax'))\n",
    "model3.compile(loss='categorical_crossentropy', optimizer='adam', metrics=['accuracy'])\n",
    "history_3 = model3.fit(X_train, y_train, epochs=epochs,callbacks=[early_stopping, reduce_learning_rate], batch_size=batch_size,validation_split = 0.2, verbose=verbose)\n",
    "_, accuracy = model3.evaluate(X_test, y_test, batch_size=batch_size, verbose=verbose)"
   ]
  },
  {
   "cell_type": "code",
   "execution_count": 145,
   "metadata": {},
   "outputs": [
    {
     "name": "stderr",
     "output_type": "stream",
     "text": [
      "/usr/local/lib/python3.9/dist-packages/keras/src/engine/training.py:3000: UserWarning: You are saving your model as an HDF5 file via `model.save()`. This file format is considered legacy. We recommend using instead the native Keras format, e.g. `model.save('my_model.keras')`.\n",
      "  saving_api.save_model(\n"
     ]
    }
   ],
   "source": [
    "model3.save('./model3.h5')"
   ]
  },
  {
   "cell_type": "code",
   "execution_count": 146,
   "metadata": {
    "colab": {
     "base_uri": "https://localhost:8080/"
    },
    "id": "XxKRKuHyDqR5",
    "outputId": "5be83eb8-7738-4a38-d019-b661a1cb5ea4"
   },
   "outputs": [
    {
     "name": "stdout",
     "output_type": "stream",
     "text": [
      "accuracy: 0.996235728263855\n",
      "2831/2831 [==============================] - 35s 12ms/step\n",
      "predict      0      1      2      3      4\n",
      "reel                                      \n",
      "0        18049     97     52     46     18\n",
      "1           22  17820      0      0      1\n",
      "2           15      7  17916     62      1\n",
      "3            5      0      0  18271      0\n",
      "4            8      0      4      3  18192\n",
      "                   pre       rec       spe        f1       geo       iba       sup\n",
      "\n",
      "          0       1.00      0.99      1.00      0.99      0.99      0.99     18262\n",
      "          1       0.99      1.00      1.00      1.00      1.00      1.00     17843\n",
      "          2       1.00      1.00      1.00      1.00      1.00      0.99     18001\n",
      "          3       0.99      1.00      1.00      1.00      1.00      1.00     18276\n",
      "          4       1.00      1.00      1.00      1.00      1.00      1.00     18207\n",
      "\n",
      "avg / total       1.00      1.00      1.00      1.00      1.00      1.00     90589\n",
      "\n"
     ]
    }
   ],
   "source": [
    "print('accuracy:',accuracy)\n",
    "\n",
    "pred_class_3 = model3.predict(X_test).argmax(axis = 1)\n",
    "rounded_labels_3=np.argmax(y_test, axis=1)\n",
    "print(pd.crosstab(rounded_labels_3, pred_class_3, rownames = [\"reel\"], colnames = [\"predict\"]))\n",
    "print(classification_report_imbalanced(rounded_labels_3, pred_class_3))"
   ]
  },
  {
   "cell_type": "code",
   "execution_count": 152,
   "metadata": {
    "colab": {
     "base_uri": "https://localhost:8080/",
     "height": 869
    },
    "id": "KcSFBn0UDszp",
    "outputId": "fac44026-64b9-4d9a-bbbc-35a4bc63c5a3"
   },
   "outputs": [
    {
     "name": "stdout",
     "output_type": "stream",
     "text": [
      "dict_keys(['loss', 'accuracy', 'val_loss', 'val_accuracy', 'lr'])\n"
     ]
    },
    {
     "data": {
      "image/png": "[encoded data removed]",
      "text/plain": [
       "<Figure size 640x480 with 1 Axes>"
      ]
     },
     "metadata": {},
     "output_type": "display_data"
    },
    {
     "data": {
      "image/png": "[encoded data removed]",
      "text/plain": [
       "<Figure size 640x480 with 1 Axes>"
      ]
     },
     "metadata": {},
     "output_type": "display_data"
    }
   ],
   "source": [
    "print(history_3.history.keys())\n",
    "# summarize history for accuracy\n",
    "plt.plot(history_3.history['accuracy'])\n",
    "plt.plot(history_3.history['val_accuracy'])\n",
    "plt.title('model accuracy')\n",
    "plt.ylabel('accuracy')\n",
    "plt.xlabel('epoch')\n",
    "plt.legend(['train', 'test'], loc='upper left')\n",
    "plt.show()\n",
    "# summarize history for loss\n",
    "plt.plot(history_3.history['loss'])\n",
    "plt.plot(history_3.history['val_loss'])\n",
    "plt.title('model loss')\n",
    "plt.ylabel('loss')\n",
    "plt.xlabel('epoch')\n",
    "plt.legend(['train', 'test'], loc='upper left')\n",
    "plt.show()"
   ]
  },
  {
   "cell_type": "code",
   "execution_count": null,
   "metadata": {
    "id": "qBr01EXHDvrM"
   },
   "outputs": [],
   "source": [
    "early_stopping = EarlyStopping(monitor = 'val_loss',\n",
    "                    min_delta = 0.01,\n",
    "                    patience = 20,\n",
    "                    verbose = 1,\n",
    "                    mode = 'min',\n",
    "                    restore_best_weights = True)\n",
    "\n",
    "reduce_learning_rate = ReduceLROnPlateau(monitor = 'val_loss',\n",
    "                        min_delta = 0.01,\n",
    "                        patience = 3,\n",
    "                        factor = 0.1,\n",
    "                        cooldown = 4,\n",
    "                        verbose = 1)"
   ]
  },
  {
   "cell_type": "code",
   "execution_count": null,
   "metadata": {
    "colab": {
     "base_uri": "https://localhost:8080/"
    },
    "id": "gg5A2q56Dxqa",
    "outputId": "9cde6f9e-b815-41d4-e4bc-c27e2e136012"
   },
   "outputs": [],
   "source": [
    "verbose, epochs, batch_size = 1, 50 , 32\n",
    "n_timesteps, n_features, n_outputs =  X_train_cnn.shape[1],X_train_cnn.shape[2], y_sm.shape[1]\n",
    "model4 = Sequential()\n",
    "model4.add(Conv1D(filters=64, kernel_size=5, activation='relu',input_shape=(n_timesteps,n_features)))\n",
    "model4.add(Conv1D(filters=64, kernel_size=3, activation='relu'))\n",
    "model4.add(BatchNormalization())\n",
    "model4.add(MaxPooling1D(pool_size=2))\n",
    "model4.add(Conv1D(filters=32, kernel_size=5, activation='relu'))\n",
    "model4.add(Conv1D(filters=32, kernel_size=3, activation='relu'))\n",
    "model4.add(BatchNormalization())\n",
    "model4.add(MaxPooling1D(pool_size=2))\n",
    "model4.add(Conv1D(filters=16, kernel_size=5, activation='relu'))\n",
    "model4.add(Conv1D(filters=16, kernel_size=3, activation='relu'))\n",
    "model4.add(BatchNormalization())\n",
    "model4.add(MaxPooling1D(pool_size=2))\n",
    "model4.add(Flatten())\n",
    "model4.add(Dense(125, activation='relu'))\n",
    "model4.add(Dense(n_outputs, activation='softmax'))\n",
    "model4.compile(loss='categorical_crossentropy', optimizer='adam', metrics=['accuracy'])\n",
    "history_4 = model4.fit(X_train, y_train, epochs=epochs,callbacks=[early_stopping, reduce_learning_rate], batch_size=batch_size,validation_split = 0.2, verbose=verbose)\n",
    "model4.save('./model4.h5')"
   ]
  },
  {
   "cell_type": "code",
   "execution_count": null,
   "metadata": {
    "colab": {
     "base_uri": "https://localhost:8080/"
    },
    "id": "KtV0QWukD0qR",
    "outputId": "bb987e37-cafe-4785-e0b5-bc3faf70acf4"
   },
   "outputs": [],
   "source": [
    "_, accuracy = model4.evaluate(X_test, y_test, batch_size=batch_size, verbose=verbose)"
   ]
  },
  {
   "cell_type": "code",
   "execution_count": null,
   "metadata": {
    "colab": {
     "base_uri": "https://localhost:8080/"
    },
    "id": "pWKv6WtLD3Hq",
    "outputId": "33f16748-dba5-4896-a8ee-b78040869978"
   },
   "outputs": [],
   "source": [
    "print('accuracy:', accuracy )\n",
    "\n",
    "pred_class_4 = model4.predict(X_test).argmax(axis = 1)\n",
    "rounded_labels_4=np.argmax(y_test, axis=1)\n",
    "print(pd.crosstab(rounded_labels_4, pred_class_4, rownames = [\"reel\"], colnames = [\"predict\"]))\n",
    "print(classification_report_imbalanced(rounded_labels_4, pred_class_4))"
   ]
  },
  {
   "cell_type": "code",
   "execution_count": null,
   "metadata": {
    "colab": {
     "base_uri": "https://localhost:8080/",
     "height": 1000
    },
    "id": "xp34g3QlD53g",
    "outputId": "10181e6a-9a1d-48c6-e3a7-4b2e54a2d016"
   },
   "outputs": [],
   "source": [
    "print(history_4.history.keys())\n",
    "# summarize history for accuracy\n",
    "plt.plot(history_4.history['accuracy'])\n",
    "plt.plot(history_4.history['val_accuracy'])\n",
    "plt.title('model accuracy')\n",
    "plt.ylabel('accuracy')\n",
    "plt.xlabel('epoch')\n",
    "plt.legend(['train', 'test'], loc='upper left')\n",
    "plt.show()\n",
    "# summarize history for loss\n",
    "plt.plot(history_4.history['loss'])\n",
    "plt.plot(history_4.history['val_loss'])\n",
    "plt.title('model loss')\n",
    "plt.ylabel('loss')\n",
    "plt.xlabel('epoch')\n",
    "plt.legend(['train', 'test'], loc='upper left')\n",
    "plt.show()"
   ]
  },
  {
   "cell_type": "code",
   "execution_count": 147,
   "metadata": {
    "id": "6STStmqhD9aT"
   },
   "outputs": [],
   "source": [
    "early_stopping = EarlyStopping(monitor = 'val_loss',\n",
    "                    min_delta = 0.01,\n",
    "                    patience = 10,\n",
    "                    verbose = 1,\n",
    "                    mode = 'min',\n",
    "                    restore_best_weights = True)\n",
    "\n",
    "reduce_learning_rate = ReduceLROnPlateau(monitor = 'val_loss',\n",
    "                        min_delta = 0.01,\n",
    "                        patience = 3,\n",
    "                        factor = 0.1,\n",
    "                        cooldown = 4,\n",
    "                        verbose = 1)"
   ]
  },
  {
   "cell_type": "code",
   "execution_count": 148,
   "metadata": {
    "colab": {
     "base_uri": "https://localhost:8080/"
    },
    "id": "P77d0Da0EAb0",
    "outputId": "25e04f6d-0c6d-47fb-dac4-c2d0fe5489a2"
   },
   "outputs": [
    {
     "name": "stdout",
     "output_type": "stream",
     "text": [
      "Epoch 1/50\n",
      "9059/9059 [==============================] - 206s 23ms/step - loss: 0.1123 - accuracy: 0.9613 - val_loss: 0.1253 - val_accuracy: 0.9543 - lr: 0.0010\n",
      "Epoch 2/50\n",
      "9059/9059 [==============================] - 224s 25ms/step - loss: 0.0415 - accuracy: 0.9862 - val_loss: 0.0348 - val_accuracy: 0.9889 - lr: 0.0010\n",
      "Epoch 3/50\n",
      "9059/9059 [==============================] - 232s 26ms/step - loss: 0.0284 - accuracy: 0.9909 - val_loss: 0.0274 - val_accuracy: 0.9917 - lr: 0.0010\n",
      "Epoch 4/50\n",
      "9059/9059 [==============================] - 237s 26ms/step - loss: 0.0229 - accuracy: 0.9927 - val_loss: 0.0286 - val_accuracy: 0.9913 - lr: 0.0010\n",
      "Epoch 5/50\n",
      "9057/9059 [============================>.] - ETA: 0s - loss: 0.0172 - accuracy: 0.9947\n",
      "Epoch 5: ReduceLROnPlateau reducing learning rate to 0.00010000000474974513.\n",
      "9059/9059 [==============================] - 231s 26ms/step - loss: 0.0172 - accuracy: 0.9947 - val_loss: 0.0322 - val_accuracy: 0.9904 - lr: 0.0010\n",
      "Epoch 6/50\n",
      "9059/9059 [==============================] - 227s 25ms/step - loss: 0.0061 - accuracy: 0.9983 - val_loss: 0.0122 - val_accuracy: 0.9970 - lr: 1.0000e-04\n",
      "Epoch 7/50\n",
      "9059/9059 [==============================] - 225s 25ms/step - loss: 0.0039 - accuracy: 0.9990 - val_loss: 0.0116 - val_accuracy: 0.9971 - lr: 1.0000e-04\n",
      "Epoch 8/50\n",
      "9059/9059 [==============================] - 220s 24ms/step - loss: 0.0030 - accuracy: 0.9992 - val_loss: 0.0108 - val_accuracy: 0.9977 - lr: 1.0000e-04\n",
      "Epoch 9/50\n",
      "9059/9059 [==============================] - 222s 25ms/step - loss: 0.0024 - accuracy: 0.9995 - val_loss: 0.0110 - val_accuracy: 0.9977 - lr: 1.0000e-04\n",
      "Epoch 10/50\n",
      "9059/9059 [==============================] - 210s 23ms/step - loss: 0.0020 - accuracy: 0.9996 - val_loss: 0.0115 - val_accuracy: 0.9976 - lr: 1.0000e-04\n",
      "Epoch 11/50\n",
      "9056/9059 [============================>.] - ETA: 0s - loss: 0.0017 - accuracy: 0.9996\n",
      "Epoch 11: ReduceLROnPlateau reducing learning rate to 1.0000000474974514e-05.\n",
      "9059/9059 [==============================] - 215s 24ms/step - loss: 0.0017 - accuracy: 0.9996 - val_loss: 0.0123 - val_accuracy: 0.9975 - lr: 1.0000e-04\n",
      "Epoch 12/50\n",
      "9059/9059 [==============================] - 210s 23ms/step - loss: 0.0012 - accuracy: 0.9997 - val_loss: 0.0109 - val_accuracy: 0.9978 - lr: 1.0000e-05\n",
      "Epoch 13/50\n",
      "9059/9059 [==============================] - 208s 23ms/step - loss: 0.0011 - accuracy: 0.9998 - val_loss: 0.0108 - val_accuracy: 0.9979 - lr: 1.0000e-05\n",
      "Epoch 14/50\n",
      "9059/9059 [==============================] - 205s 23ms/step - loss: 9.9987e-04 - accuracy: 0.9998 - val_loss: 0.0109 - val_accuracy: 0.9979 - lr: 1.0000e-05\n",
      "Epoch 15/50\n",
      "9059/9059 [==============================] - 211s 23ms/step - loss: 9.5783e-04 - accuracy: 0.9998 - val_loss: 0.0111 - val_accuracy: 0.9978 - lr: 1.0000e-05\n",
      "Epoch 16/50\n",
      "9058/9059 [============================>.] - ETA: 0s - loss: 9.3973e-04 - accuracy: 0.9998Restoring model weights from the end of the best epoch: 6.\n",
      "9059/9059 [==============================] - 205s 23ms/step - loss: 9.3966e-04 - accuracy: 0.9998 - val_loss: 0.0110 - val_accuracy: 0.9979 - lr: 1.0000e-05\n",
      "Epoch 16: early stopping\n",
      "2831/2831 [==============================] - 22s 8ms/step - loss: 0.0121 - accuracy: 0.9969\n"
     ]
    },
    {
     "name": "stderr",
     "output_type": "stream",
     "text": [
      "/usr/local/lib/python3.9/dist-packages/keras/src/engine/training.py:3000: UserWarning: You are saving your model as an HDF5 file via `model.save()`. This file format is considered legacy. We recommend using instead the native Keras format, e.g. `model.save('my_model.keras')`.\n",
      "  saving_api.save_model(\n"
     ]
    }
   ],
   "source": [
    "verbose, epochs, batch_size = 1, 50 , 32\n",
    "n_timesteps, n_features, n_outputs =  X_train_cnn.shape[1],X_train_cnn.shape[2], y_train.shape[1]\n",
    "model5 = Sequential()\n",
    "model5.add(Conv1D(filters=32, kernel_size=5, activation='relu',input_shape=(n_timesteps,n_features)))\n",
    "model5.add(Conv1D(filters=32, kernel_size=3, activation='relu'))\n",
    "model5.add(BatchNormalization())\n",
    "model5.add(MaxPooling1D(pool_size=2))\n",
    "model5.add(Conv1D(filters=16, kernel_size=5, activation='relu'))\n",
    "model5.add(Conv1D(filters=16, kernel_size=3, activation='relu'))\n",
    "model5.add(BatchNormalization())\n",
    "model5.add(MaxPooling1D(pool_size=2))\n",
    "model5.add(Flatten())\n",
    "model5.add(Dense(125, activation='relu'))\n",
    "model5.add(Dense(n_outputs, activation='softmax'))\n",
    "model5.compile(loss='categorical_crossentropy', optimizer='adam', metrics=['accuracy'])\n",
    "history_5 = model5.fit(X_train, y_train, epochs=epochs,callbacks=[early_stopping, reduce_learning_rate], batch_size=batch_size,validation_split = 0.2, verbose=verbose)\n",
    "_, accuracy = model5.evaluate(X_test, y_test, batch_size=batch_size, verbose=verbose)\n",
    "model5.save('./model5.h5')"
   ]
  },
  {
   "cell_type": "code",
   "execution_count": 149,
   "metadata": {
    "colab": {
     "base_uri": "https://localhost:8080/"
    },
    "id": "FYJaSEjOED1A",
    "outputId": "70d23062-dfe1-4328-cdbe-459586c97682"
   },
   "outputs": [
    {
     "name": "stdout",
     "output_type": "stream",
     "text": [
      "accuracy: 0.9968980550765991\n",
      "2831/2831 [==============================] - 25s 9ms/step\n",
      "predict      0      1      2      3      4\n",
      "reel                                      \n",
      "0        18085     85     39     35     18\n",
      "1           15  17827      0      1      0\n",
      "2           15      0  17925     60      1\n",
      "3            0      0      2  18274      0\n",
      "4            8      0      1      1  18197\n",
      "                   pre       rec       spe        f1       geo       iba       sup\n",
      "\n",
      "          0       1.00      0.99      1.00      0.99      0.99      0.99     18262\n",
      "          1       1.00      1.00      1.00      1.00      1.00      1.00     17843\n",
      "          2       1.00      1.00      1.00      1.00      1.00      0.99     18001\n",
      "          3       0.99      1.00      1.00      1.00      1.00      1.00     18276\n",
      "          4       1.00      1.00      1.00      1.00      1.00      1.00     18207\n",
      "\n",
      "avg / total       1.00      1.00      1.00      1.00      1.00      1.00     90589\n",
      "\n"
     ]
    }
   ],
   "source": [
    "print('accuracy:', accuracy )\n",
    "\n",
    "pred_class_5 = model5.predict(X_test).argmax(axis = 1)\n",
    "rounded_labels_5=np.argmax(y_test, axis=1)\n",
    "print(pd.crosstab(rounded_labels_5, pred_class_5, rownames = [\"reel\"], colnames = [\"predict\"]))\n",
    "print(classification_report_imbalanced(rounded_labels_5, pred_class_5))"
   ]
  },
  {
   "cell_type": "code",
   "execution_count": 150,
   "metadata": {
    "colab": {
     "base_uri": "https://localhost:8080/",
     "height": 1000
    },
    "id": "mFaT3NmAEGKR",
    "outputId": "8b3644eb-cb3d-4d43-bfd6-7f7ca1d77351"
   },
   "outputs": [
    {
     "name": "stdout",
     "output_type": "stream",
     "text": [
      "dict_keys(['loss', 'accuracy', 'val_loss', 'val_accuracy', 'lr'])\n"
     ]
    },
    {
     "data": {
      "image/png": "[encoded data removed]",
      "text/plain": [
       "<Figure size 640x480 with 1 Axes>"
      ]
     },
     "metadata": {},
     "output_type": "display_data"
    },
    {
     "data": {
      "image/png": "[encoded data removed]",
      "text/plain": [
       "<Figure size 640x480 with 1 Axes>"
      ]
     },
     "metadata": {},
     "output_type": "display_data"
    }
   ],
   "source": [
    "print(history_5.history.keys())\n",
    "# summarize history for accuracy\n",
    "plt.plot(history_5.history['accuracy'])\n",
    "plt.plot(history_5.history['val_accuracy'])\n",
    "plt.title('model accuracy')\n",
    "plt.ylabel('accuracy')\n",
    "plt.xlabel('epoch')\n",
    "plt.legend(['train', 'test'], loc='upper left')\n",
    "plt.show()\n",
    "# summarize history for loss\n",
    "plt.plot(history_5.history['loss'])\n",
    "plt.plot(history_5.history['val_loss'])\n",
    "plt.title('model loss')\n",
    "plt.ylabel('loss')\n",
    "plt.xlabel('epoch')\n",
    "plt.legend(['train', 'test'], loc='upper left')\n",
    "plt.show()"
   ]
  },
  {
   "cell_type": "code",
   "execution_count": null,
   "metadata": {
    "id": "GSI2Y19cEJzh"
   },
   "outputs": [],
   "source": [
    "early_stopping = EarlyStopping(monitor = 'val_loss',\n",
    "                    min_delta = 0.01,\n",
    "                    patience = 5,\n",
    "                    verbose = 1,\n",
    "                    mode = 'min',\n",
    "                    restore_best_weights = True)\n",
    "\n",
    "reduce_learning_rate = ReduceLROnPlateau(monitor = 'val_loss',\n",
    "                        min_delta = 0.01,\n",
    "                        patience = 3,\n",
    "                        factor = 0.1,\n",
    "                        cooldown = 4,\n",
    "                        verbose = 1)"
   ]
  },
  {
   "cell_type": "code",
   "execution_count": null,
   "metadata": {
    "colab": {
     "base_uri": "https://localhost:8080/"
    },
    "id": "8aotckmzELgS",
    "outputId": "faf2be8f-d2c3-4ae5-a06c-4afbf13cd4f4"
   },
   "outputs": [],
   "source": [
    "verbose, epochs, batch_size = 1, 50 , 32\n",
    "n_timesteps, n_features, n_outputs =  X_train_cnn.shape[1],X_train_cnn.shape[2], y_sm.shape[1]\n",
    "model6 = Sequential()\n",
    "model6.add(Conv1D(filters=32, kernel_size=5, activation='relu',input_shape=(n_timesteps,n_features)))\n",
    "model6.add(Conv1D(filters=32, kernel_size=3, activation='relu'))\n",
    "model6.add(BatchNormalization())\n",
    "model6.add(MaxPooling1D(pool_size=2))\n",
    "model6.add(Conv1D(filters=16, kernel_size=5, activation='relu'))\n",
    "model6.add(Conv1D(filters=16, kernel_size=3, activation='relu'))\n",
    "model6.add(BatchNormalization())\n",
    "model6.add(MaxPooling1D(pool_size=2))\n",
    "model6.add(Flatten())\n",
    "model6.add(Dense(125, activation='relu'))\n",
    "model6.add(Dense(n_outputs, activation='softmax'))\n",
    "model6.compile(loss='categorical_crossentropy', optimizer='adam', metrics=['accuracy'])\n",
    "history_6 = model6.fit(X_train, y_train, epochs=epochs,callbacks=[early_stopping, reduce_learning_rate], batch_size=batch_size,validation_split = 0.2, verbose=verbose)\n",
    "_, accuracy = model6.evaluate(X_test, y_test, batch_size=batch_size, verbose=verbose)"
   ]
  },
  {
   "cell_type": "code",
   "execution_count": null,
   "metadata": {
    "colab": {
     "base_uri": "https://localhost:8080/"
    },
    "id": "sUzZHTbJEPrB",
    "outputId": "9d6e91ea-bd46-4882-bb8a-7a94d6d567b7"
   },
   "outputs": [],
   "source": [
    "print('accuracy:', accuracy )\n",
    "\n",
    "pred_class_6 = model6.predict(X_test).argmax(axis = 1)\n",
    "rounded_labels_6=np.argmax(y_test, axis=1)\n",
    "print(pd.crosstab(rounded_labels_6, pred_class_6, rownames = [\"reel\"], colnames = [\"predict\"]))\n",
    "print(classification_report_imbalanced(rounded_labels_6, pred_class_6))"
   ]
  },
  {
   "cell_type": "code",
   "execution_count": null,
   "metadata": {
    "colab": {
     "base_uri": "https://localhost:8080/",
     "height": 1000
    },
    "id": "QqP-9aBEEVRp",
    "outputId": "02f7b822-35db-40ed-e7f4-74a73a3c7b7a"
   },
   "outputs": [],
   "source": [
    "print(history_6.history.keys())\n",
    "# summarize history for accuracy\n",
    "plt.plot(history_6.history['accuracy'])\n",
    "plt.plot(history_6.history['val_accuracy'])\n",
    "plt.title('model accuracy')\n",
    "plt.ylabel('accuracy')\n",
    "plt.xlabel('epoch')\n",
    "plt.legend(['train', 'test'], loc='upper left')\n",
    "plt.show()\n",
    "# summarize history for loss\n",
    "plt.plot(history_6.history['loss'])\n",
    "plt.plot(history_6.history['val_loss'])\n",
    "plt.title('model loss')\n",
    "plt.ylabel('loss')\n",
    "plt.xlabel('epoch')\n",
    "plt.legend(['train', 'test'], loc='upper left')\n",
    "plt.show()"
   ]
  },
  {
   "cell_type": "code",
   "execution_count": null,
   "metadata": {
    "colab": {
     "base_uri": "https://localhost:8080/"
    },
    "id": "1eRw3VbQEYAh",
    "outputId": "5f29c1f9-af01-4c34-f4a1-438f57cece39"
   },
   "outputs": [],
   "source": [
    "verbose, epochs, batch_size = 1, 50 , 32\n",
    "n_timesteps, n_features, n_outputs =  X_train_cnn.shape[1],X_train_cnn.shape[2], y_sm.shape[1]\n",
    "model7 = Sequential()\n",
    "model7.add(Conv1D(filters=32, kernel_size=5, activation='relu',input_shape=(n_timesteps,n_features)))\n",
    "model7.add(Conv1D(filters=32, kernel_size=3, activation='relu'))\n",
    "model7.add(BatchNormalization())\n",
    "model7.add(MaxPooling1D(pool_size=2))\n",
    "model7.add(Conv1D(filters=16, kernel_size=5, activation='relu'))\n",
    "model7.add(Conv1D(filters=16, kernel_size=3, activation='relu'))\n",
    "model7.add(BatchNormalization())\n",
    "model7.add(MaxPooling1D(pool_size=2))\n",
    "model7.add(Flatten())\n",
    "model7.add(Dense(125, activation='relu'))\n",
    "model7.add(Dense(n_outputs, activation='softmax'))\n",
    "model7.compile(loss='categorical_crossentropy', optimizer='adam', metrics=['accuracy'])\n",
    "history_7 = model7.fit(X_train, y_train, epochs=epochs,callbacks=[early_stopping, reduce_learning_rate], batch_size=batch_size,validation_split = 0.2, verbose=verbose)\n",
    "_, accuracy= model7.evaluate(X_test, y_test, batch_size=batch_size, verbose=verbose)\n",
    "model7.save('/content/drive/MyDrive/heart_peak/model7')"
   ]
  },
  {
   "cell_type": "code",
   "execution_count": null,
   "metadata": {
    "colab": {
     "base_uri": "https://localhost:8080/"
    },
    "id": "B2OkTEBlEbGT",
    "outputId": "af4735d0-9489-4a7c-fcd6-5869c20be30b"
   },
   "outputs": [],
   "source": [
    "print('mae',  mae, accuracy )\n",
    "\n",
    "pred_class_7 = model7.predict(X_test).argmax(axis = 1)\n",
    "rounded_labels_7=np.argmax(y_test, axis=1)\n",
    "print(pd.crosstab(rounded_labels_7, pred_class_7, rownames = [\"reel\"], colnames = [\"predict\"]))\n",
    "print(classification_report_imbalanced(rounded_labels_7, pred_class_7))"
   ]
  },
  {
   "cell_type": "code",
   "execution_count": null,
   "metadata": {
    "colab": {
     "base_uri": "https://localhost:8080/",
     "height": 869
    },
    "id": "QZ9uuNQCEdwY",
    "outputId": "f15c4de6-f68b-4499-da4d-58be49104fd6"
   },
   "outputs": [],
   "source": [
    "print(history_7.history.keys())\n",
    "# summarize history for accuracy\n",
    "plt.plot(history_7.history['accuracy'])\n",
    "plt.plot(history_7.history['val_accuracy'])\n",
    "plt.title('model accuracy')\n",
    "plt.ylabel('accuracy')\n",
    "plt.xlabel('epoch')\n",
    "plt.legend(['train', 'test'], loc='upper left')\n",
    "plt.savefig('accuracy_model_anomalie')\n",
    "plt.show()\n",
    "# summarize history for loss\n",
    "plt.plot(history_7.history['loss'])\n",
    "plt.plot(history_7.history['val_loss'])\n",
    "plt.title('model loss')\n",
    "plt.ylabel('loss')\n",
    "plt.xlabel('epoch')\n",
    "plt.legend(['train', 'test'], loc='upper left')\n",
    "plt.savefig('loss_model_anomalie')\n",
    "plt.show()"
   ]
  },
  {
   "cell_type": "markdown",
   "metadata": {
    "id": "pRYx4p4yzgV1"
   },
   "source": [
    "## appliqué au dataset ptbdb meilleur modèle"
   ]
  },
  {
   "cell_type": "code",
   "execution_count": 153,
   "metadata": {
    "id": "xLqjkpio-ihR"
   },
   "outputs": [],
   "source": [
    "import pandas as pd\n",
    "import numpy as np\n",
    "from scipy.signal import find_peaks\n",
    "from sklearn.metrics import classification_report\n",
    "from imblearn.over_sampling import SMOTE\n",
    "from imblearn.metrics import classification_report_imbalanced, geometric_mean_score"
   ]
  },
  {
   "cell_type": "code",
   "execution_count": 154,
   "metadata": {
    "id": "0Wntm3ag_AlC"
   },
   "outputs": [],
   "source": [
    "X=df_i.iloc[:,:-1]\n",
    "y=df_i.iloc[:,-1]\n",
    "from sklearn.model_selection import train_test_split,cross_val_score\n",
    "from sklearn.linear_model import LogisticRegression\n",
    "from sklearn.ensemble import RandomForestClassifier\n",
    "from sklearn.svm import SVC\n",
    "from sklearn.metrics import classification_report,accuracy_score,confusion_matrix"
   ]
  },
  {
   "cell_type": "code",
   "execution_count": 155,
   "metadata": {},
   "outputs": [],
   "source": [
    "smote = SMOTE()\n",
    "X_sm, y_sm = smote.fit_resample(X, y)\n",
    "X_train, X_test, y_train, y_test = train_test_split(X_sm, y_sm, test_size=0.25, random_state=28)"
   ]
  },
  {
   "cell_type": "code",
   "execution_count": 156,
   "metadata": {
    "id": "ljz_3MWo_JBI"
   },
   "outputs": [],
   "source": [
    "from sklearn.preprocessing import StandardScaler\n",
    "from sklearn.metrics import confusion_matrix"
   ]
  },
  {
   "cell_type": "code",
   "execution_count": 157,
   "metadata": {
    "id": "kCiReGp__OWo"
   },
   "outputs": [],
   "source": [
    "scaler = StandardScaler()\n",
    "X_train =scaler.fit_transform(X_train)\n",
    "X_test = scaler.transform(X_test)"
   ]
  },
  {
   "cell_type": "code",
   "execution_count": 158,
   "metadata": {
    "id": "qxAE4fWH_d04"
   },
   "outputs": [],
   "source": [
    "y_train = to_categorical(y_train)\n",
    "y_test = to_categorical(y_test)\n",
    "X_train_cnn = np.reshape(X_sm, (X_sm.shape[0], X_sm.shape[1], 1))\n",
    "X_test_cnn = np.reshape(X_test, (X_test.shape[0], X_test.shape[1], 1))"
   ]
  },
  {
   "cell_type": "code",
   "execution_count": 159,
   "metadata": {
    "id": "L8vV87pZ7zD6"
   },
   "outputs": [],
   "source": [
    "early_stopping = EarlyStopping(monitor = 'val_loss',\n",
    "                    min_delta = 0.01,\n",
    "                    patience = 10,\n",
    "                    verbose = 1,\n",
    "                    mode = 'min',\n",
    "                    restore_best_weights = True)\n",
    "\n",
    "reduce_learning_rate = ReduceLROnPlateau(monitor = 'val_loss',\n",
    "                        min_delta = 0.01,\n",
    "                        patience = 3,\n",
    "                        factor = 0.1,\n",
    "                        cooldown = 4,\n",
    "                        verbose = 1)"
   ]
  },
  {
   "cell_type": "code",
   "execution_count": 160,
   "metadata": {
    "colab": {
     "base_uri": "https://localhost:8080/"
    },
    "id": "tgQvEhVh7y86",
    "outputId": "bc3905b2-0fa9-474a-9aec-651205801a29"
   },
   "outputs": [
    {
     "name": "stdout",
     "output_type": "stream",
     "text": [
      "Epoch 1/50\n",
      "394/394 [==============================] - 11s 24ms/step - loss: 0.3139 - accuracy: 0.8654 - val_loss: 0.1898 - val_accuracy: 0.9324 - lr: 0.0010\n",
      "Epoch 2/50\n",
      "394/394 [==============================] - 11s 28ms/step - loss: 0.1529 - accuracy: 0.9438 - val_loss: 0.1318 - val_accuracy: 0.9575 - lr: 0.0010\n",
      "Epoch 3/50\n",
      "394/394 [==============================] - 10s 26ms/step - loss: 0.0983 - accuracy: 0.9667 - val_loss: 0.0862 - val_accuracy: 0.9746 - lr: 0.0010\n",
      "Epoch 4/50\n",
      "394/394 [==============================] - 10s 25ms/step - loss: 0.0684 - accuracy: 0.9760 - val_loss: 0.0622 - val_accuracy: 0.9797 - lr: 0.0010\n",
      "Epoch 5/50\n",
      "394/394 [==============================] - 10s 26ms/step - loss: 0.0511 - accuracy: 0.9810 - val_loss: 0.0579 - val_accuracy: 0.9816 - lr: 0.0010\n",
      "Epoch 6/50\n",
      "394/394 [==============================] - 10s 25ms/step - loss: 0.0386 - accuracy: 0.9864 - val_loss: 0.0404 - val_accuracy: 0.9883 - lr: 0.0010\n",
      "Epoch 7/50\n",
      "394/394 [==============================] - 9s 22ms/step - loss: 0.0313 - accuracy: 0.9884 - val_loss: 0.0398 - val_accuracy: 0.9898 - lr: 0.0010\n",
      "Epoch 8/50\n",
      "394/394 [==============================] - 8s 21ms/step - loss: 0.0275 - accuracy: 0.9907 - val_loss: 0.0454 - val_accuracy: 0.9854 - lr: 0.0010\n",
      "Epoch 9/50\n",
      "392/394 [============================>.] - ETA: 0s - loss: 0.0203 - accuracy: 0.9924\n",
      "Epoch 9: ReduceLROnPlateau reducing learning rate to 0.00010000000474974513.\n",
      "394/394 [==============================] - 10s 27ms/step - loss: 0.0202 - accuracy: 0.9925 - val_loss: 0.0489 - val_accuracy: 0.9860 - lr: 0.0010\n",
      "Epoch 10/50\n",
      "394/394 [==============================] - 11s 27ms/step - loss: 0.0115 - accuracy: 0.9971 - val_loss: 0.0327 - val_accuracy: 0.9898 - lr: 1.0000e-04\n",
      "Epoch 11/50\n",
      "394/394 [==============================] - 11s 27ms/step - loss: 0.0075 - accuracy: 0.9979 - val_loss: 0.0339 - val_accuracy: 0.9902 - lr: 1.0000e-04\n",
      "Epoch 12/50\n",
      "394/394 [==============================] - 8s 21ms/step - loss: 0.0079 - accuracy: 0.9975 - val_loss: 0.0289 - val_accuracy: 0.9918 - lr: 1.0000e-04\n",
      "Epoch 13/50\n",
      "394/394 [==============================] - 8s 20ms/step - loss: 0.0059 - accuracy: 0.9987 - val_loss: 0.0334 - val_accuracy: 0.9905 - lr: 1.0000e-04\n",
      "Epoch 14/50\n",
      "394/394 [==============================] - 8s 20ms/step - loss: 0.0062 - accuracy: 0.9985 - val_loss: 0.0354 - val_accuracy: 0.9898 - lr: 1.0000e-04\n",
      "Epoch 15/50\n",
      "393/394 [============================>.] - ETA: 0s - loss: 0.0054 - accuracy: 0.9986\n",
      "Epoch 15: ReduceLROnPlateau reducing learning rate to 1.0000000474974514e-05.\n",
      "394/394 [==============================] - 8s 20ms/step - loss: 0.0056 - accuracy: 0.9986 - val_loss: 0.0347 - val_accuracy: 0.9905 - lr: 1.0000e-04\n",
      "Epoch 16/50\n",
      "394/394 [==============================] - 7s 19ms/step - loss: 0.0047 - accuracy: 0.9986 - val_loss: 0.0319 - val_accuracy: 0.9905 - lr: 1.0000e-05\n",
      "Epoch 17/50\n",
      "394/394 [==============================] - 8s 20ms/step - loss: 0.0044 - accuracy: 0.9989 - val_loss: 0.0327 - val_accuracy: 0.9905 - lr: 1.0000e-05\n",
      "Epoch 18/50\n",
      "394/394 [==============================] - 7s 18ms/step - loss: 0.0050 - accuracy: 0.9988 - val_loss: 0.0329 - val_accuracy: 0.9902 - lr: 1.0000e-05\n",
      "Epoch 19/50\n",
      "394/394 [==============================] - 7s 18ms/step - loss: 0.0045 - accuracy: 0.9990 - val_loss: 0.0324 - val_accuracy: 0.9902 - lr: 1.0000e-05\n",
      "Epoch 20/50\n",
      "394/394 [==============================] - 8s 21ms/step - loss: 0.0044 - accuracy: 0.9987 - val_loss: 0.0319 - val_accuracy: 0.9905 - lr: 1.0000e-05\n",
      "Epoch 21/50\n",
      "391/394 [============================>.] - ETA: 0s - loss: 0.0041 - accuracy: 0.9992\n",
      "Epoch 21: ReduceLROnPlateau reducing learning rate to 1.0000000656873453e-06.\n",
      "394/394 [==============================] - 8s 19ms/step - loss: 0.0041 - accuracy: 0.9992 - val_loss: 0.0319 - val_accuracy: 0.9905 - lr: 1.0000e-05\n",
      "Epoch 22/50\n",
      "394/394 [==============================] - ETA: 0s - loss: 0.0049 - accuracy: 0.9984Restoring model weights from the end of the best epoch: 12.\n",
      "394/394 [==============================] - 8s 20ms/step - loss: 0.0049 - accuracy: 0.9984 - val_loss: 0.0321 - val_accuracy: 0.9905 - lr: 1.0000e-06\n",
      "Epoch 22: early stopping\n"
     ]
    },
    {
     "name": "stderr",
     "output_type": "stream",
     "text": [
      "/usr/local/lib/python3.9/dist-packages/keras/src/engine/training.py:3000: UserWarning: You are saving your model as an HDF5 file via `model.save()`. This file format is considered legacy. We recommend using instead the native Keras format, e.g. `model.save('my_model.keras')`.\n",
      "  saving_api.save_model(\n"
     ]
    }
   ],
   "source": [
    "verbose, epochs, batch_size = 1, 50 , 32\n",
    "n_timesteps, n_features, n_outputs =  X_train_cnn.shape[1],X_train_cnn.shape[2], y_train.shape[1]\n",
    "model_11 = Sequential()\n",
    "model_11.add(Conv1D(filters=64, kernel_size=3, activation='relu', input_shape=(n_timesteps,n_features)))\n",
    "model_11.add(Conv1D(filters=64, kernel_size=3, activation='relu'))\n",
    "model_11.add(Dropout(0.5))\n",
    "model_11.add(MaxPooling1D(pool_size=2))\n",
    "model_11.add(Flatten())\n",
    "model_11.add(Dense(100, activation='relu'))\n",
    "model_11.add(Dense(2, activation='softmax'))\n",
    "model_11.compile(loss='BinaryCrossentropy', optimizer='adam', metrics=['accuracy'])\n",
    "history_11=model_11.fit(X_train, y_train, epochs=epochs,callbacks=[early_stopping, reduce_learning_rate], batch_size=batch_size,validation_split = 0.2, verbose=verbose)\n",
    "model_11.save('./model_mycnn_mitbih_2.h5')\n"
   ]
  },
  {
   "cell_type": "code",
   "execution_count": 161,
   "metadata": {
    "colab": {
     "base_uri": "https://localhost:8080/"
    },
    "id": "gqnWEZ_CmFTD",
    "outputId": "43331bc9-a3aa-4684-bbaa-d32a0ba1a783"
   },
   "outputs": [
    {
     "name": "stdout",
     "output_type": "stream",
     "text": [
      "165/165 [==============================] - 2s 12ms/step - loss: 0.0274 - accuracy: 0.9914\n"
     ]
    }
   ],
   "source": [
    "_, accuracy = model_11.evaluate(X_test, y_test, batch_size=batch_size, verbose=1)"
   ]
  },
  {
   "cell_type": "code",
   "execution_count": 162,
   "metadata": {
    "colab": {
     "base_uri": "https://localhost:8080/"
    },
    "id": "9FwYSuF97y1a",
    "outputId": "b6b528e6-fbf0-4d37-b9bf-4e5b902b1833"
   },
   "outputs": [
    {
     "name": "stdout",
     "output_type": "stream",
     "text": [
      " accuracy 0.9914334416389465\n",
      "165/165 [==============================] - 2s 10ms/step\n",
      "predict     0     1\n",
      "reel               \n",
      "0        2575    29\n",
      "1          16  2633\n",
      "                   pre       rec       spe        f1       geo       iba       sup\n",
      "\n",
      "          0       0.99      0.99      0.99      0.99      0.99      0.98      2604\n",
      "          1       0.99      0.99      0.99      0.99      0.99      0.98      2649\n",
      "\n",
      "avg / total       0.99      0.99      0.99      0.99      0.99      0.98      5253\n",
      "\n"
     ]
    }
   ],
   "source": [
    "print(' accuracy', accuracy )\n",
    "\n",
    "pred_class_11 = model_11.predict(X_test).argmax(axis = 1)\n",
    "rounded_labels_11=np.argmax(y_test, axis=1)\n",
    "print(pd.crosstab(rounded_labels_11, pred_class_11, rownames = [\"reel\"], colnames = [\"predict\"]))\n",
    "print(classification_report_imbalanced(rounded_labels_11, pred_class_11))"
   ]
  },
  {
   "cell_type": "code",
   "execution_count": 163,
   "metadata": {
    "colab": {
     "base_uri": "https://localhost:8080/",
     "height": 869
    },
    "id": "hwoiGl4TkD1g",
    "outputId": "fe45c5cc-f037-49d1-ba9b-135377bc8f4a"
   },
   "outputs": [
    {
     "name": "stdout",
     "output_type": "stream",
     "text": [
      "dict_keys(['loss', 'accuracy', 'val_loss', 'val_accuracy', 'lr'])\n"
     ]
    },
    {
     "data": {
      "image/png": "[encoded data removed]",
      "text/plain": [
       "<Figure size 640x480 with 1 Axes>"
      ]
     },
     "metadata": {},
     "output_type": "display_data"
    },
    {
     "data": {
      "image/png": "[encoded data removed]",
      "text/plain": [
       "<Figure size 640x480 with 1 Axes>"
      ]
     },
     "metadata": {},
     "output_type": "display_data"
    }
   ],
   "source": [
    "print(history_11.history.keys())\n",
    "# summarize history for accuracy\n",
    "plt.plot(history_11.history['accuracy'])\n",
    "plt.plot(history_11.history['val_accuracy'])\n",
    "plt.title('model accuracy')\n",
    "plt.ylabel('accuracy')\n",
    "plt.xlabel('epoch')\n",
    "plt.legend(['train', 'test'], loc='upper left')\n",
    "plt.savefig('./acc_model_ptb.png')\n",
    "plt.show()\n",
    "# summarize history for loss\n",
    "plt.plot(history_11.history['loss'])\n",
    "plt.plot(history_11.history['val_loss'])\n",
    "plt.title('model loss')\n",
    "plt.ylabel('loss')\n",
    "plt.xlabel('epoch')\n",
    "plt.legend(['train', 'test'], loc='upper left')\n",
    "plt.savefig('./loss_model_ptb.png')\n",
    "plt.show()"
   ]
  },
  {
   "cell_type": "markdown",
   "metadata": {
    "id": "Nhd8spzcN-UK"
   },
   "source": [
    "# *pipeline de transformation markov image pour conv2D*"
   ]
  },
  {
   "cell_type": "code",
   "execution_count": 114,
   "metadata": {
    "colab": {
     "base_uri": "https://localhost:8080/"
    },
    "id": "2-MqbIxoAQde",
    "outputId": "d4ff39b7-6ff2-42cf-c617-79d85e577ce7"
   },
   "outputs": [
    {
     "name": "stdout",
     "output_type": "stream",
     "text": [
      "Collecting pyts\n",
      "  Downloading pyts-0.13.0-py3-none-any.whl (2.5 MB)\n",
      "\u001b[K     |████████████████████████████████| 2.5 MB 9.0 MB/s eta 0:00:01\n",
      "\u001b[?25hCollecting numba>=0.55.2\n",
      "  Downloading numba-0.57.1-cp39-cp39-manylinux2014_x86_64.manylinux_2_17_x86_64.whl (3.6 MB)\n",
      "\u001b[K     |████████████████████████████████| 3.6 MB 46.8 MB/s eta 0:00:01██▌             | 2.1 MB 46.8 MB/s eta 0:00:01\n",
      "\u001b[?25hRequirement already satisfied: scikit-learn>=1.2.0 in /usr/local/lib/python3.9/dist-packages (from pyts) (1.3.0)\n",
      "Requirement already satisfied: scipy>=1.8.1 in /usr/local/lib/python3.9/dist-packages (from pyts) (1.11.2)\n",
      "Requirement already satisfied: joblib>=1.1.1 in /usr/local/lib/python3.9/dist-packages (from pyts) (1.3.2)\n",
      "Requirement already satisfied: numpy>=1.22.4 in /usr/local/lib/python3.9/dist-packages (from pyts) (1.24.3)\n",
      "Collecting llvmlite<0.41,>=0.40.0dev0\n",
      "  Downloading llvmlite-0.40.1-cp39-cp39-manylinux_2_17_x86_64.manylinux2014_x86_64.whl (42.1 MB)\n",
      "\u001b[K     |████████████████████████████████| 42.1 MB 53 kB/s s eta 0:00:01\n",
      "\u001b[?25hRequirement already satisfied: threadpoolctl>=2.0.0 in /usr/local/lib/python3.9/dist-packages (from scikit-learn>=1.2.0->pyts) (3.2.0)\n",
      "Installing collected packages: llvmlite, numba, pyts\n",
      "Successfully installed llvmlite-0.40.1 numba-0.57.1 pyts-0.13.0\n",
      "Note: you may need to restart the kernel to use updated packages.\n"
     ]
    }
   ],
   "source": [
    "pip install pyts"
   ]
  },
  {
   "cell_type": "code",
   "execution_count": 116,
   "metadata": {
    "id": "mHWOxcQD7QH4"
   },
   "outputs": [],
   "source": [
    "import pandas as pd\n",
    "from scipy import signal\n",
    "import numpy as np\n",
    "import tensorflow as tf\n",
    "from sklearn.model_selection import train_test_split,cross_val_score\n",
    "import matplotlib.pyplot as plt\n",
    "import seaborn as sns\n",
    "from pyts.image import GramianAngularField\n",
    "from tensorflow.keras.layers import Input, Dense, Dropout, Activation, Flatten, Conv2D, MaxPooling2D, GlobalAveragePooling1D, BatchNormalization, SpatialDropout1D, Reshape\n",
    "from tensorflow.keras.models import Model, Sequential\n",
    "from tensorflow.keras.utils import to_categorical\n",
    "from tensorflow.keras.callbacks import EarlyStopping, ReduceLROnPlateau\n",
    "from tensorflow.keras.preprocessing.image import ImageDataGenerator\n",
    "from keras.preprocessing import image\n",
    "import keras\n",
    "from PIL import Image\n",
    "from imblearn.over_sampling import SMOTE\n",
    "from imblearn.metrics import classification_report_imbalanced, geometric_mean_score"
   ]
  },
  {
   "cell_type": "code",
   "execution_count": 117,
   "metadata": {
    "id": "vGAfvAPd8i_E"
   },
   "outputs": [],
   "source": [
    "from imblearn.under_sampling import NearMiss\n",
    "from sklearn.preprocessing import StandardScaler\n"
   ]
  },
  {
   "cell_type": "code",
   "execution_count": 118,
   "metadata": {
    "id": "Q7DeF2eK7AIk"
   },
   "outputs": [],
   "source": [
    "X=df_a.iloc[:,:-1]\n",
    "y=df_a.iloc[:,-1]"
   ]
  },
  {
   "cell_type": "code",
   "execution_count": 119,
   "metadata": {
    "id": "GnuKxIF64wA5"
   },
   "outputs": [],
   "source": [
    "smote = SMOTE()"
   ]
  },
  {
   "cell_type": "code",
   "execution_count": 120,
   "metadata": {
    "id": "-Mu2hW_g4yXo"
   },
   "outputs": [],
   "source": [
    "X_rs, y_rs = smote.fit_resample(X, y)"
   ]
  },
  {
   "cell_type": "code",
   "execution_count": 121,
   "metadata": {
    "colab": {
     "base_uri": "https://localhost:8080/"
    },
    "id": "_X1D7LGyb8im",
    "outputId": "b40c144e-fe2d-4186-c9e4-32a1fed2285c"
   },
   "outputs": [
    {
     "data": {
      "text/plain": [
       "(452945,)"
      ]
     },
     "execution_count": 121,
     "metadata": {},
     "output_type": "execute_result"
    }
   ],
   "source": [
    "y_rs.shape\n"
   ]
  },
  {
   "cell_type": "code",
   "execution_count": 122,
   "metadata": {
    "id": "w7A8c0P97Ay1"
   },
   "outputs": [],
   "source": [
    "X_train, X_test, y_train, y_test = train_test_split(X_rs, y_rs, test_size=0.20, random_state=321)"
   ]
  },
  {
   "cell_type": "code",
   "execution_count": 123,
   "metadata": {
    "colab": {
     "base_uri": "https://localhost:8080/"
    },
    "id": "buuOm3zq3U5N",
    "outputId": "610ed68b-ec03-4f94-f6c5-1d36aa348a00"
   },
   "outputs": [
    {
     "data": {
      "text/plain": [
       "(362356, 187)"
      ]
     },
     "execution_count": 123,
     "metadata": {},
     "output_type": "execute_result"
    }
   ],
   "source": [
    "X_train.shape"
   ]
  },
  {
   "cell_type": "code",
   "execution_count": 124,
   "metadata": {
    "id": "pt_XKO4F99v7"
   },
   "outputs": [],
   "source": [
    "y_train = to_categorical(y_train, 5)\n",
    "y_test = to_categorical(y_test, 5)"
   ]
  },
  {
   "cell_type": "code",
   "execution_count": 126,
   "metadata": {
    "colab": {
     "base_uri": "https://localhost:8080/",
     "height": 265
    },
    "id": "MEgf9R1-6dDw",
    "outputId": "41411ab4-7c82-4a2c-c49b-7aadca9651f4"
   },
   "outputs": [
    {
     "data": {
      "image/png": "[encoded data removed]",
      "text/plain": [
       "<Figure size 640x480 with 1 Axes>"
      ]
     },
     "metadata": {},
     "output_type": "display_data"
    }
   ],
   "source": [
    "gaf = GramianAngularField(image_size=24)\n",
    "im_train = gaf.fit_transform(X_train)\n",
    "im_test = gaf.transform(X_test)\n",
    "\n",
    "# plot one image\n",
    "\n",
    "plt.imshow(im_test[0])\n",
    "\n",
    "plt.savefig('./img/markov_0.png')\n",
    "\n",
    "plt.imshow(im_test[10000])\n",
    "plt.savefig('./img/markov_10000.png')\n",
    "plt.imshow(im_test[30000])\n",
    "plt.savefig('./img/markov_30000.png')\n",
    "plt.imshow(im_test[40000])\n",
    "plt.savefig('./img/markov_40000.png')\n",
    "plt.imshow(im_test[50000])\n",
    "plt.savefig('./img/markov_50000.png')\n",
    "plt.imshow(im_test[60000])\n",
    "plt.savefig('./img/markov_60000.png')\n",
    "plt.imshow(im_test[70000])\n",
    "plt.savefig('./img/markov_70000.png')\n",
    "plt.imshow(im_test[80000])\n",
    "plt.savefig('./img/markov_80000.png')\n",
    "plt.imshow(im_test[90000])\n",
    "plt.savefig('./img/markov_90000.png')\n",
    "plt.imshow(im_test[30001])\n",
    "plt.savefig('./img/markov_30001.png')\n",
    "plt.imshow(im_test[40001])\n",
    "plt.savefig('./img/markov_40001.png')\n",
    "plt.imshow(im_test[50001])\n",
    "plt.savefig('./img/markov_50001.png')\n",
    "plt.imshow(im_test[60001])\n",
    "plt.savefig('./img/markov_60001.png')\n",
    "plt.imshow(im_test[70001])\n",
    "plt.savefig('./img/markov_70001.png')\n",
    "plt.imshow(im_test[80001])\n",
    "plt.savefig('./img/markov_80001.png')\n",
    "plt.imshow(im_test[90001])\n",
    "plt.savefig('./img/markov_90001.png')\n"
   ]
  },
  {
   "cell_type": "code",
   "execution_count": 127,
   "metadata": {
    "colab": {
     "base_uri": "https://localhost:8080/"
    },
    "id": "dpuA9bRl7OEU",
    "outputId": "97aa69a3-60eb-4090-ee3a-cc81db7abb89"
   },
   "outputs": [
    {
     "data": {
      "text/plain": [
       "(362356, 24, 24)"
      ]
     },
     "execution_count": 127,
     "metadata": {},
     "output_type": "execute_result"
    }
   ],
   "source": [
    "im_train.shape"
   ]
  },
  {
   "cell_type": "code",
   "execution_count": 128,
   "metadata": {
    "colab": {
     "base_uri": "https://localhost:8080/"
    },
    "id": "ykLtVChTlhLO",
    "outputId": "befe107c-adb1-4a8d-918d-dd409d01f0a8"
   },
   "outputs": [
    {
     "data": {
      "text/plain": [
       "(90589, 24, 24)"
      ]
     },
     "execution_count": 128,
     "metadata": {},
     "output_type": "execute_result"
    }
   ],
   "source": [
    "im_test.shape"
   ]
  },
  {
   "cell_type": "code",
   "execution_count": 129,
   "metadata": {
    "id": "RQLHgHq0qtPp"
   },
   "outputs": [],
   "source": [
    "def standardize(image_data):\n",
    "        image_data -= np.mean(image_data, axis=0)\n",
    "        image_data /= np.std(image_data, axis=0)\n",
    "        return image_data"
   ]
  },
  {
   "cell_type": "code",
   "execution_count": 130,
   "metadata": {
    "id": "ShC6bfJSZeOt"
   },
   "outputs": [],
   "source": [
    "im_train = standardize(im_train)"
   ]
  },
  {
   "cell_type": "code",
   "execution_count": 131,
   "metadata": {
    "colab": {
     "base_uri": "https://localhost:8080/"
    },
    "id": "mSC6-VRIZ-mc",
    "outputId": "8c3cdab4-99ff-4a51-bacf-406c2dd8a964"
   },
   "outputs": [
    {
     "data": {
      "text/plain": [
       "(362356, 24, 24)"
      ]
     },
     "execution_count": 131,
     "metadata": {},
     "output_type": "execute_result"
    }
   ],
   "source": [
    "im_train.shape"
   ]
  },
  {
   "cell_type": "code",
   "execution_count": 132,
   "metadata": {
    "id": "2UqnU55xZqmp"
   },
   "outputs": [],
   "source": [
    "im_test = standardize(im_test)"
   ]
  },
  {
   "cell_type": "code",
   "execution_count": 133,
   "metadata": {
    "id": "ZLlCDG_9kXFD"
   },
   "outputs": [],
   "source": [
    "HEIGHT=12\n",
    "WIDTH=16"
   ]
  },
  {
   "cell_type": "code",
   "execution_count": 134,
   "metadata": {
    "id": "9qpDV4OSl2Ta"
   },
   "outputs": [],
   "source": [
    "BATCH_SIZE = 32"
   ]
  },
  {
   "cell_type": "code",
   "execution_count": 135,
   "metadata": {
    "id": "_TYyYeclv5uk"
   },
   "outputs": [],
   "source": [
    "channels=3"
   ]
  },
  {
   "cell_type": "code",
   "execution_count": 136,
   "metadata": {
    "colab": {
     "base_uri": "https://localhost:8080/"
    },
    "id": "zS_uxH54cpIg",
    "outputId": "707886c8-36ef-4ba6-812d-975db372a4c3"
   },
   "outputs": [
    {
     "data": {
      "text/plain": [
       "(362356, 12, 16, 3)"
      ]
     },
     "execution_count": 136,
     "metadata": {},
     "output_type": "execute_result"
    }
   ],
   "source": [
    "im_train= im_train.reshape(im_train.shape[0],HEIGHT,WIDTH,channels)\n",
    "im_test= im_test.reshape(im_test.shape[0],HEIGHT,WIDTH,channels)\n",
    "im_train.shape"
   ]
  },
  {
   "cell_type": "code",
   "execution_count": 137,
   "metadata": {
    "id": "VbW7hRB0600G"
   },
   "outputs": [],
   "source": [
    "early_stopping = EarlyStopping(monitor = 'val_loss',\n",
    "                    min_delta = 0.01,\n",
    "                    patience = 5,\n",
    "                    verbose = 1,\n",
    "                    mode = 'min',\n",
    "                    restore_best_weights = True)\n",
    "\n",
    "reduce_learning_rate = ReduceLROnPlateau(monitor = 'val_loss',\n",
    "                        min_delta = 0.01,\n",
    "                        patience = 3,\n",
    "                        factor = 0.1,\n",
    "                        cooldown = 4,\n",
    "                        verbose = 1)"
   ]
  },
  {
   "cell_type": "code",
   "execution_count": 138,
   "metadata": {
    "colab": {
     "base_uri": "https://localhost:8080/"
    },
    "id": "Ikuhhz-bCkUP",
    "outputId": "8839422e-0b32-47bb-8b23-adda230ed0b9"
   },
   "outputs": [
    {
     "name": "stdout",
     "output_type": "stream",
     "text": [
      "Epoch 1/50\n",
      "11324/11324 [==============================] - 461s 41ms/step - loss: 0.1812 - accuracy: 0.9372 - val_loss: 0.1232 - val_accuracy: 0.9579 - lr: 0.0010\n",
      "Epoch 2/50\n",
      "11324/11324 [==============================] - 452s 40ms/step - loss: 0.0947 - accuracy: 0.9684 - val_loss: 0.0899 - val_accuracy: 0.9704 - lr: 0.0010\n",
      "Epoch 3/50\n",
      "11324/11324 [==============================] - 456s 40ms/step - loss: 0.0756 - accuracy: 0.9756 - val_loss: 0.0648 - val_accuracy: 0.9781 - lr: 0.0010\n",
      "Epoch 4/50\n",
      "11324/11324 [==============================] - 428s 38ms/step - loss: 0.0649 - accuracy: 0.9792 - val_loss: 0.0710 - val_accuracy: 0.9788 - lr: 0.0010\n",
      "Epoch 5/50\n",
      "11324/11324 [==============================] - 435s 38ms/step - loss: 0.0566 - accuracy: 0.9822 - val_loss: 0.0591 - val_accuracy: 0.9817 - lr: 0.0010\n",
      "Epoch 6/50\n",
      "11324/11324 [==============================] - 428s 38ms/step - loss: 0.0525 - accuracy: 0.9839 - val_loss: 0.0547 - val_accuracy: 0.9832 - lr: 0.0010\n",
      "Epoch 7/50\n",
      "11324/11324 [==============================] - 424s 37ms/step - loss: 0.0504 - accuracy: 0.9848 - val_loss: 0.0476 - val_accuracy: 0.9855 - lr: 0.0010\n",
      "Epoch 8/50\n",
      "11324/11324 [==============================] - 429s 38ms/step - loss: 0.0453 - accuracy: 0.9863 - val_loss: 0.0684 - val_accuracy: 0.9787 - lr: 0.0010\n",
      "Epoch 9/50\n",
      "11324/11324 [==============================] - 420s 37ms/step - loss: 0.0500 - accuracy: 0.9860 - val_loss: 0.0436 - val_accuracy: 0.9877 - lr: 0.0010\n",
      "Epoch 10/50\n",
      "11324/11324 [==============================] - 402s 36ms/step - loss: 0.0484 - accuracy: 0.9862 - val_loss: 0.0543 - val_accuracy: 0.9840 - lr: 0.0010\n",
      "Epoch 11/50\n",
      "11324/11324 [==============================] - 423s 37ms/step - loss: 0.0386 - accuracy: 0.9887 - val_loss: 0.0539 - val_accuracy: 0.9870 - lr: 0.0010\n",
      "Epoch 12/50\n",
      "11324/11324 [==============================] - ETA: 0s - loss: 0.0423 - accuracy: 0.9881\n",
      "Epoch 12: ReduceLROnPlateau reducing learning rate to 0.00010000000474974513.\n",
      "11324/11324 [==============================] - 418s 37ms/step - loss: 0.0423 - accuracy: 0.9881 - val_loss: 0.0708 - val_accuracy: 0.9780 - lr: 0.0010\n",
      "Epoch 13/50\n",
      "11324/11324 [==============================] - 414s 37ms/step - loss: 0.0183 - accuracy: 0.9944 - val_loss: 0.0287 - val_accuracy: 0.9934 - lr: 1.0000e-04\n",
      "Epoch 14/50\n",
      "11324/11324 [==============================] - 411s 36ms/step - loss: 0.0085 - accuracy: 0.9976 - val_loss: 0.0432 - val_accuracy: 0.9942 - lr: 1.0000e-04\n",
      "Epoch 15/50\n",
      "11324/11324 [==============================] - 413s 36ms/step - loss: 0.0058 - accuracy: 0.9984 - val_loss: 0.0378 - val_accuracy: 0.9946 - lr: 1.0000e-04\n",
      "Epoch 16/50\n",
      "11324/11324 [==============================] - 440s 39ms/step - loss: 0.0043 - accuracy: 0.9988 - val_loss: 0.0702 - val_accuracy: 0.9945 - lr: 1.0000e-04\n",
      "Epoch 17/50\n",
      "11324/11324 [==============================] - 445s 39ms/step - loss: 0.0033 - accuracy: 0.9991 - val_loss: 0.0665 - val_accuracy: 0.9949 - lr: 1.0000e-04\n",
      "Epoch 18/50\n",
      "11323/11324 [============================>.] - ETA: 0s - loss: 0.0030 - accuracy: 0.9992\n",
      "Epoch 18: ReduceLROnPlateau reducing learning rate to 1.0000000474974514e-05.\n",
      "Restoring model weights from the end of the best epoch: 13.\n",
      "11324/11324 [==============================] - 435s 38ms/step - loss: 0.0030 - accuracy: 0.9992 - val_loss: 0.0616 - val_accuracy: 0.9949 - lr: 1.0000e-04\n",
      "Epoch 18: early stopping\n"
     ]
    },
    {
     "name": "stderr",
     "output_type": "stream",
     "text": [
      "/usr/local/lib/python3.9/dist-packages/keras/src/engine/training.py:3000: UserWarning: You are saving your model as an HDF5 file via `model.save()`. This file format is considered legacy. We recommend using instead the native Keras format, e.g. `model.save('my_model.keras')`.\n",
      "  saving_api.save_model(\n"
     ]
    },
    {
     "ename": "PermissionDeniedError",
     "evalue": "/content; Permission denied",
     "output_type": "error",
     "traceback": [
      "\u001b[0;31m---------------------------------------------------------------------------\u001b[0m",
      "\u001b[0;31mPermissionDeniedError\u001b[0m                     Traceback (most recent call last)",
      "Cell \u001b[0;32mIn[138], line 18\u001b[0m\n\u001b[1;32m     15\u001b[0m model\u001b[38;5;241m.\u001b[39mcompile(loss\u001b[38;5;241m=\u001b[39m\u001b[38;5;124m'\u001b[39m\u001b[38;5;124mcategorical_crossentropy\u001b[39m\u001b[38;5;124m'\u001b[39m, optimizer\u001b[38;5;241m=\u001b[39m\u001b[38;5;124m'\u001b[39m\u001b[38;5;124madam\u001b[39m\u001b[38;5;124m'\u001b[39m, metrics\u001b[38;5;241m=\u001b[39m[\u001b[38;5;124m'\u001b[39m\u001b[38;5;124maccuracy\u001b[39m\u001b[38;5;124m'\u001b[39m])\n\u001b[1;32m     16\u001b[0m history_a \u001b[38;5;241m=\u001b[39m model\u001b[38;5;241m.\u001b[39mfit(im_train, y_train, epochs\u001b[38;5;241m=\u001b[39mepochs,callbacks\u001b[38;5;241m=\u001b[39m[reduce_learning_rate, early_stopping],\n\u001b[1;32m     17\u001b[0m                       batch_size\u001b[38;5;241m=\u001b[39mbatch_size,validation_data\u001b[38;5;241m=\u001b[39m(im_test, y_test), verbose\u001b[38;5;241m=\u001b[39mverbose)\n\u001b[0;32m---> 18\u001b[0m \u001b[43mmodel\u001b[49m\u001b[38;5;241;43m.\u001b[39;49m\u001b[43msave\u001b[49m\u001b[43m(\u001b[49m\u001b[38;5;124;43m'\u001b[39;49m\u001b[38;5;124;43m/content/drive/MyDrive/www_u/model_mycnn_markov.h5\u001b[39;49m\u001b[38;5;124;43m'\u001b[39;49m\u001b[43m)\u001b[49m\n\u001b[1;32m     19\u001b[0m m_, accuracy \u001b[38;5;241m=\u001b[39m model\u001b[38;5;241m.\u001b[39mevaluate(im_test, y_test, batch_size\u001b[38;5;241m=\u001b[39mbatch_size, verbose\u001b[38;5;241m=\u001b[39mverbose)\n\u001b[1;32m     20\u001b[0m accuracy\n",
      "File \u001b[0;32m/usr/local/lib/python3.9/dist-packages/keras/src/utils/traceback_utils.py:70\u001b[0m, in \u001b[0;36mfilter_traceback.<locals>.error_handler\u001b[0;34m(*args, **kwargs)\u001b[0m\n\u001b[1;32m     67\u001b[0m     filtered_tb \u001b[38;5;241m=\u001b[39m _process_traceback_frames(e\u001b[38;5;241m.\u001b[39m__traceback__)\n\u001b[1;32m     68\u001b[0m     \u001b[38;5;66;03m# To get the full stack trace, call:\u001b[39;00m\n\u001b[1;32m     69\u001b[0m     \u001b[38;5;66;03m# `tf.debugging.disable_traceback_filtering()`\u001b[39;00m\n\u001b[0;32m---> 70\u001b[0m     \u001b[38;5;28;01mraise\u001b[39;00m e\u001b[38;5;241m.\u001b[39mwith_traceback(filtered_tb) \u001b[38;5;28;01mfrom\u001b[39;00m \u001b[38;5;28;01mNone\u001b[39;00m\n\u001b[1;32m     71\u001b[0m \u001b[38;5;28;01mfinally\u001b[39;00m:\n\u001b[1;32m     72\u001b[0m     \u001b[38;5;28;01mdel\u001b[39;00m filtered_tb\n",
      "File \u001b[0;32m/usr/local/lib/python3.9/dist-packages/tensorflow/python/lib/io/file_io.py:513\u001b[0m, in \u001b[0;36mrecursive_create_dir_v2\u001b[0;34m(path)\u001b[0m\n\u001b[1;32m    501\u001b[0m \u001b[38;5;129m@tf_export\u001b[39m(\u001b[38;5;124m\"\u001b[39m\u001b[38;5;124mio.gfile.makedirs\u001b[39m\u001b[38;5;124m\"\u001b[39m)\n\u001b[1;32m    502\u001b[0m \u001b[38;5;28;01mdef\u001b[39;00m \u001b[38;5;21mrecursive_create_dir_v2\u001b[39m(path):\n\u001b[1;32m    503\u001b[0m \u001b[38;5;250m  \u001b[39m\u001b[38;5;124;03m\"\"\"Creates a directory and all parent/intermediate directories.\u001b[39;00m\n\u001b[1;32m    504\u001b[0m \n\u001b[1;32m    505\u001b[0m \u001b[38;5;124;03m  It succeeds if path already exists and is writable.\u001b[39;00m\n\u001b[0;32m   (...)\u001b[0m\n\u001b[1;32m    511\u001b[0m \u001b[38;5;124;03m    errors.OpError: If the operation fails.\u001b[39;00m\n\u001b[1;32m    512\u001b[0m \u001b[38;5;124;03m  \"\"\"\u001b[39;00m\n\u001b[0;32m--> 513\u001b[0m   \u001b[43m_pywrap_file_io\u001b[49m\u001b[38;5;241;43m.\u001b[39;49m\u001b[43mRecursivelyCreateDir\u001b[49m\u001b[43m(\u001b[49m\u001b[43mcompat\u001b[49m\u001b[38;5;241;43m.\u001b[39;49m\u001b[43mpath_to_bytes\u001b[49m\u001b[43m(\u001b[49m\u001b[43mpath\u001b[49m\u001b[43m)\u001b[49m\u001b[43m)\u001b[49m\n",
      "\u001b[0;31mPermissionDeniedError\u001b[0m: /content; Permission denied"
     ]
    }
   ],
   "source": [
    "verbose, epochs, batch_size = 1, 50 , 32\n",
    "model=Sequential()\n",
    "model.add(Conv2D(32, (3, 3), padding=\"same\", activation=\"relu\"))\n",
    "model.add(Conv2D(32, (5, 5), padding=\"same\", activation=\"relu\"))\n",
    "model.add(MaxPooling2D(pool_size=(2, 2)))\n",
    "model.add(Conv2D(64, (3, 3), padding=\"same\", activation=\"relu\"))\n",
    "model.add(Conv2D(64, (5, 5), padding=\"same\", activation=\"relu\"))\n",
    "model.add(MaxPooling2D(pool_size=(2, 2)))\n",
    "model.add(Conv2D(128, (3, 3), padding=\"same\", activation=\"relu\"))\n",
    "model.add(Conv2D(128, (5, 5), padding=\"same\", activation=\"relu\"))\n",
    "model.add(MaxPooling2D(pool_size=(2, 2)))\n",
    "model.add(Flatten())\n",
    "model.add(Dense(125, activation='relu'))\n",
    "model.add(Dense(5, activation='softmax'))\n",
    "model.compile(loss='categorical_crossentropy', optimizer='adam', metrics=['accuracy'])\n",
    "history_a = model.fit(im_train, y_train, epochs=epochs,callbacks=[reduce_learning_rate, early_stopping],\n",
    "                      batch_size=batch_size,validation_data=(im_test, y_test), verbose=verbose)\n",
    "\n",
    "m_, accuracy = model.evaluate(im_test, y_test, batch_size=batch_size, verbose=verbose)\n",
    "accuracy"
   ]
  },
  {
   "cell_type": "code",
   "execution_count": 139,
   "metadata": {},
   "outputs": [],
   "source": [
    "model.save('./model_mycnn_markov.h5')"
   ]
  },
  {
   "cell_type": "code",
   "execution_count": 140,
   "metadata": {
    "colab": {
     "base_uri": "https://localhost:8080/"
    },
    "id": "w6xjqf-8DbmX",
    "outputId": "bdb1bdbc-2e94-4f96-ee4d-c9b1e9eb38a0"
   },
   "outputs": [
    {
     "name": "stdout",
     "output_type": "stream",
     "text": [
      "2831/2831 [==============================] - 52s 18ms/step\n",
      "predict      0      1      2      3      4\n",
      "reel                                      \n",
      "0        17951    145     78     52     36\n",
      "1           82  17749      7      2      3\n",
      "2           62      6  17888     45      0\n",
      "3           30      0      5  18241      0\n",
      "4           32      4      6      0  18165\n",
      "                   pre       rec       spe        f1       geo       iba       sup\n",
      "\n",
      "          0       0.99      0.98      1.00      0.99      0.99      0.98     18262\n",
      "          1       0.99      0.99      1.00      0.99      1.00      0.99     17843\n",
      "          2       0.99      0.99      1.00      0.99      1.00      0.99     18001\n",
      "          3       0.99      1.00      1.00      1.00      1.00      1.00     18276\n",
      "          4       1.00      1.00      1.00      1.00      1.00      1.00     18207\n",
      "\n",
      "avg / total       0.99      0.99      1.00      0.99      1.00      0.99     90589\n",
      "\n"
     ]
    }
   ],
   "source": [
    "model_b= keras.models.load_model('./model_mycnn_markov.h5')\n",
    "pred_class_a = model_b.predict(im_test).argmax(axis = 1)\n",
    "rounded_labels_a=np.argmax(y_test, axis=1)\n",
    "print(pd.crosstab(rounded_labels_a, pred_class_a, rownames = [\"reel\"], colnames = [\"predict\"]))\n",
    "print(classification_report_imbalanced(rounded_labels_a, pred_class_a))\n"
   ]
  },
  {
   "cell_type": "code",
   "execution_count": null,
   "metadata": {},
   "outputs": [],
   "source": [
    "print(history_a.history.keys())\n",
    "# summarize history for accuracy\n",
    "plt.plot(history_a.history['accuracy'])\n",
    "plt.plot(history_a.history['val_accuracy'])\n",
    "plt.title('model accuracy')\n",
    "plt.ylabel('accuracy')\n",
    "plt.xlabel('epoch')\n",
    "plt.legend(['train', 'test'], loc='upper left')\n",
    "plt.savefig('./acc_model_markov.png')\n",
    "plt.show()\n",
    "# summarize history for loss\n",
    "plt.plot(history_a.history['loss'])\n",
    "plt.plot(history_a.history['val_loss'])\n",
    "plt.title('model loss')\n",
    "plt.ylabel('loss')\n",
    "plt.xlabel('epoch')\n",
    "plt.legend(['train', 'test'], loc='upper left')\n",
    "plt.savefig('./loss_model_markov.png')\n",
    "plt.show()"
   ]
  },
  {
   "cell_type": "code",
   "execution_count": null,
   "metadata": {},
   "outputs": [],
   "source": []
  }
 ],
 "metadata": {
  "accelerator": "GPU",
  "colab": {
   "include_colab_link": true,
   "machine_shape": "hm",
   "provenance": [],
   "toc_visible": true
  },
  "gpuClass": "standard",
  "kernelspec": {
   "display_name": "Python 3 (ipykernel)",
   "language": "python",
   "name": "python3"
  },
  "language_info": {
   "codemirror_mode": {
    "name": "ipython",
    "version": 3
   },
   "file_extension": ".py",
   "mimetype": "text/x-python",
   "name": "python",
   "nbconvert_exporter": "python",
   "pygments_lexer": "ipython3",
   "version": "3.9.2"
  }
 },
 "nbformat": 4,
 "nbformat_minor": 4
}
